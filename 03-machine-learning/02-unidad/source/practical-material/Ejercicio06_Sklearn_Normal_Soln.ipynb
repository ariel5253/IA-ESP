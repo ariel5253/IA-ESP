{
  "metadata": {
    "kernelspec": {
      "name": "python",
      "display_name": "Python (Pyodide)",
      "language": "python"
    },
    "language_info": {
      "codemirror_mode": {
        "name": "python",
        "version": 3
      },
      "file_extension": ".py",
      "mimetype": "text/x-python",
      "name": "python",
      "nbconvert_exporter": "python",
      "pygments_lexer": "ipython3",
      "version": "3.8"
    }
  },
  "nbformat_minor": 5,
  "nbformat": 4,
  "cells": [
    {
      "id": "93841b15-9a46-44d5-b934-51c11990f8f2",
      "cell_type": "markdown",
      "source": "# Ejercicio: Regresión Lineal usando Scikit-Learn",
      "metadata": {}
    },
    {
      "id": "b2093ee1-4411-4596-92f7-c8212cd2c597",
      "cell_type": "markdown",
      "source": "Existe una herramienta de aprendizaje automático de código abierto y de uso comercial llamada [scikit-learn](https://scikit-learn.org/stable/index.html). Este toolkit contiene implementaciones de muchos de los algoritmos que trabajarás en este curso.",
      "metadata": {}
    },
    {
      "id": "64adbfe0-bcac-4176-a919-6d497f062240",
      "cell_type": "markdown",
      "source": "## Objetivos\nEn este ejercicio usted:\n- Utilizará scikit-learn para implementar regresión lineal usando una solución de forma cerrada basada en la ecuación normal",
      "metadata": {}
    },
    {
      "id": "df061fac-059e-44bb-b600-c39dfd24cbc7",
      "cell_type": "markdown",
      "source": "## Herramientas\nUtilizará funciones de scikit-learn así como matplotlib y NumPy.",
      "metadata": {}
    },
    {
      "id": "6f7f0fc4-776a-45e2-8388-5595ee87eeec",
      "cell_type": "code",
      "source": "import numpy as np\nimport matplotlib.pyplot as plt\nfrom sklearn.linear_model import LinearRegression\nfrom ejerc_utils_multi import load_house_data\nplt.style.use('./deeplearning.mplstyle')\nnp.set_printoptions(precision=2)",
      "metadata": {
        "trusted": true
      },
      "outputs": [],
      "execution_count": null
    },
    {
      "id": "9691c9f2-8188-4fad-9c34-3f524b2c5f73",
      "cell_type": "markdown",
      "source": "<a name=\"toc_40291_2\"></a>\n# Regresión Lineal, solución de forma cerrada\nScikit-learn tiene el [modelo de regresión lineal](https://scikit-learn.org/stable/modules/generated/sklearn.linear_model.LinearRegression.html#sklearn.linear_model.LinearRegression) que implementa una regresión lineal de forma cerrada.\n\nVamos a usar los datos de los primeros ejercicios: una casa de 1000 metros cuadrados se vendió por $300,000 y una casa de 2000 metros cuadrados se vendió por $500,000.\n\n| Tamaño (1000 metros cuadrados) | Precio (miles de dólares) |\n|-------------------------------|--------------------------|\n| 1                             | 300                      |\n| 2                             | 500                      |",
      "metadata": {}
    },
    {
      "id": "2deb9785-2b72-45a9-899e-1a9eb5bd0a15",
      "cell_type": "markdown",
      "source": "### Cargar el conjunto de datos",
      "metadata": {}
    },
    {
      "id": "50ae919b-fc1e-4961-9146-bea42dd77d10",
      "cell_type": "code",
      "source": "X_train = np.array([1.0, 2.0])   # entradas (características)\ny_train = np.array([300, 500])   # valor objetivo",
      "metadata": {
        "trusted": true
      },
      "outputs": [],
      "execution_count": null
    },
    {
      "id": "fd4eda5e-8cd7-4da0-9233-586452b3c173",
      "cell_type": "markdown",
      "source": "### Crear y ajustar el modelo\nEl siguiente código realiza la regresión usando scikit-learn.\nEl primer paso crea un objeto de regresión.\nEl segundo paso utiliza uno de los métodos asociados al objeto, `fit`. Esto realiza la regresión, ajustando los parámetros a los datos de entrada. La herramienta espera una matriz X de dos dimensiones.",
      "metadata": {}
    },
    {
      "id": "72d06a32-6e85-4490-ba33-dcc1eb834fa8",
      "cell_type": "code",
      "source": "linear_model = LinearRegression()\n# X debe ser una matriz 2-D\nlinear_model.fit(X_train.reshape(-1, 1), y_train) ",
      "metadata": {
        "trusted": true
      },
      "outputs": [],
      "execution_count": null
    },
    {
      "id": "300f7443-abb8-44c3-89ef-48d8cf23026c",
      "cell_type": "markdown",
      "source": "### Ver Parámetros\nLos parámetros $\\mathbf{w}$ y $\\mathbf{b}$ se denominan 'coeficientes' e 'intercepto' en scikit-learn.",
      "metadata": {}
    },
    {
      "id": "51e746e6-5397-4b8c-91af-22b57f6752dc",
      "cell_type": "code",
      "source": "b = linear_model.intercept_\nw = linear_model.coef_\nprint(f\"w = {w:}, b = {b:0.2f}\")\nprint(f\"predicción 'manual': f_wb = wx+b : {1200*w + b}\")",
      "metadata": {
        "trusted": true
      },
      "outputs": [],
      "execution_count": null
    },
    {
      "id": "56d7208e-40c6-4e6c-8d91-c521f3497ebe",
      "cell_type": "markdown",
      "source": "### Realizar Predicciones\n\nLlamar a la función `predict` genera predicciones.",
      "metadata": {}
    },
    {
      "id": "eecb0430-4de2-4c7d-a01d-84cb16e335f5",
      "cell_type": "code",
      "source": "y_pred = linear_model.predict(X_train.reshape(-1, 1))\n\nprint(\"Predicción en el conjunto de entrenamiento:\", y_pred)\n\nX_test = np.array([[1200]])\nprint(f\"Predicción para una casa de 1200 metros cuadrados: ${linear_model.predict(X_test)[0]:0.2f}\")",
      "metadata": {
        "trusted": true
      },
      "outputs": [],
      "execution_count": null
    },
    {
      "id": "b4bed0db-5637-48e3-b250-8bf09145c49d",
      "cell_type": "markdown",
      "source": "## Segundo Ejemplo\nEl segundo ejemplo es de un ejercicio anterior con múltiples X entradas (características). Los valores finales de los parámetros y las predicciones son muy cercanos a los resultados de la ejecución sin normalizar ('long-run') de ese ejercicio. Esa ejecución sin normalizar tomó horas en producir resultados, mientras que esto es casi instantáneo. La solución de forma cerrada funciona bien en conjuntos de datos pequeños como estos, pero puede ser computacionalmente exigente en conjuntos de datos grandes.\n\n>La solución de forma cerrada no requiere normalización.",
      "metadata": {}
    },
    {
      "id": "df8bc562-7ae1-49ba-925f-b1cf7b64469f",
      "cell_type": "code",
      "source": "# cargar el conjunto de datos\nX_train, y_train = load_house_data()\nX_features = ['tamaño(metros²)','habitaciones','pisos','antigüedad']",
      "metadata": {
        "trusted": true
      },
      "outputs": [],
      "execution_count": null
    },
    {
      "id": "a7714753-8bd6-452e-9f3a-3df7832e6fa8",
      "cell_type": "code",
      "source": "linear_model = LinearRegression()\nlinear_model.fit(X_train, y_train) ",
      "metadata": {
        "trusted": true
      },
      "outputs": [],
      "execution_count": null
    },
    {
      "id": "f9322251-064b-4c08-b0d0-2ecfc4495945",
      "cell_type": "code",
      "source": "b = linear_model.intercept_\nw = linear_model.coef_\nprint(f\"w = {w:}, b = {b:0.2f}\")",
      "metadata": {
        "trusted": true
      },
      "outputs": [],
      "execution_count": null
    },
    {
      "id": "8ad6a6b8-8abb-4df2-bd44-23c5cbcfe4a1",
      "cell_type": "code",
      "source": "print(f\"Predicción en el conjunto de entrenamiento:\\n {linear_model.predict(X_train)[:4]}\" )\nprint(f\"predicción usando w,b:\\n {(X_train @ w + b)[:4]}\")\nprint(f\"Valores objetivo \\n {y_train[:4]}\")\n\nx_house = np.array([1200, 3,1, 40]).reshape(-1,4)\nx_house_predict = linear_model.predict(x_house)[0]\nprint(f\" precio predicho de una casa con 1200 metros cuadrados, 3 habitaciones, 1 piso, 40 años de antigüedad = ${x_house_predict*1000:0.2f}\")",
      "metadata": {
        "trusted": true
      },
      "outputs": [],
      "execution_count": null
    },
    {
      "id": "e2ed33e5-f301-45ba-b14a-2b158982f0a6",
      "cell_type": "markdown",
      "source": "## ¡Felicitaciones!\nEn este ejercicio usted:\n- utilizó una herramienta de aprendizaje automático de código abierto, scikit-learn\n- implementó regresión lineal usando una solución de forma cerrada con esa herramienta",
      "metadata": {}
    },
    {
      "id": "eb8a4162-ec79-45a7-b091-34210fbe00f4",
      "cell_type": "code",
      "source": "",
      "metadata": {
        "trusted": true
      },
      "outputs": [],
      "execution_count": null
    }
  ]
}