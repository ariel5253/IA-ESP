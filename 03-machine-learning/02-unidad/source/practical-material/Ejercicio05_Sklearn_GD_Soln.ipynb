{
  "metadata": {
    "kernelspec": {
      "name": "python",
      "display_name": "Python (Pyodide)",
      "language": "python"
    },
    "language_info": {
      "codemirror_mode": {
        "name": "python",
        "version": 3
      },
      "file_extension": ".py",
      "mimetype": "text/x-python",
      "name": "python",
      "nbconvert_exporter": "python",
      "pygments_lexer": "ipython3",
      "version": "3.8"
    }
  },
  "nbformat_minor": 5,
  "nbformat": 4,
  "cells": [
    {
      "id": "fda8b497-10a2-436e-a756-4f684ca4a76b",
      "cell_type": "markdown",
      "source": "# Ejercicio: Regresión Lineal usando Scikit-Learn",
      "metadata": {}
    },
    {
      "id": "268514a1-a306-4e15-8952-043d7a9f5f81",
      "cell_type": "markdown",
      "source": "Existe una herramienta de código abierto y de uso comercial llamada [scikit-learn](https://scikit-learn.org/stable/index.html). Este toolkit contiene implementaciones de muchos de los algoritmos que trabajarás en este curso.",
      "metadata": {}
    },
    {
      "id": "e82daea0-f6b5-454f-a4b5-85f38d81376c",
      "cell_type": "markdown",
      "source": "## Objetivos\nEn este ejercicio usted:\n- Utilizará scikit-learn para implementar regresión lineal usando Gradiente de Descenso",
      "metadata": {}
    },
    {
      "id": "0cce81e9-b764-4cfd-828a-9a220fea3ae3",
      "cell_type": "markdown",
      "source": "## Herramientas\nUtilizará funciones de scikit-learn así como matplotlib y NumPy.",
      "metadata": {}
    },
    {
      "id": "98c6d79f-b77d-478c-a799-ddd2eb4c7ce7",
      "cell_type": "code",
      "source": "import numpy as np\nimport matplotlib.pyplot as plt\nfrom sklearn.linear_model import SGDRegressor\nfrom sklearn.preprocessing import StandardScaler\nfrom ejerc_utils_multi import  load_house_data\nfrom ejerc_utils_common import dlc\nnp.set_printoptions(precision=2)\nplt.style.use('./deeplearning.mplstyle')",
      "metadata": {
        "trusted": true
      },
      "outputs": [],
      "execution_count": null
    },
    {
      "id": "77e2696c-f757-47be-bb52-a457cfb17e0f",
      "cell_type": "markdown",
      "source": "# Gradiente Descendente\nScikit-learn tiene un modelo de regresión por gradiente descenso [sklearn.linear_model.SGDRegressor](https://scikit-learn.org/stable/modules/generated/sklearn.linear_model.SGDRegressor.html#examples-using-sklearn-linear-model-sgdregressor). Al igual que su implementación previa de gradiente descenso, este modelo funciona mejor con entradas normalizadas. [sklearn.preprocessing.StandardScaler](https://scikit-learn.org/stable/modules/generated/sklearn.preprocessing.StandardScaler.html#sklearn.preprocessing.StandardScaler) realizará la normalización z-score como en un ejercicio anterior. Aquí se le llama 'puntuación estándar'.",
      "metadata": {}
    },
    {
      "id": "a804723d-ea04-4bf9-9fc4-1eb9a827bf3c",
      "cell_type": "markdown",
      "source": "### Cargar el conjunto de datos",
      "metadata": {}
    },
    {
      "id": "cff48e60-12ed-4817-bcf7-3e7297b63482",
      "cell_type": "code",
      "source": "X_train, y_train = load_house_data()\nX_features = ['size(sqft)','bedrooms','floors','age']",
      "metadata": {
        "trusted": true
      },
      "outputs": [],
      "execution_count": null
    },
    {
      "id": "465ec6c4-3837-419f-b87e-da238366cf74",
      "cell_type": "markdown",
      "source": "### Escalar/normalizar los datos de entrenamiento",
      "metadata": {}
    },
    {
      "id": "17bad6da-b243-4624-8300-55c25c6b7261",
      "cell_type": "code",
      "source": "scaler = StandardScaler()\nX_norm = scaler.fit_transform(X_train)\nprint(f\"Rango máximo a mínimo por columna en X cruda       :{np.ptp(X_train,axis=0)}\")   \nprint(f\"Rango máximo a mínimo por columna en X normalizada :{np.ptp(X_norm,axis=0)}\")",
      "metadata": {
        "trusted": true
      },
      "outputs": [],
      "execution_count": null
    },
    {
      "id": "ca8543bb-0b40-4373-b903-24fea67632ad",
      "cell_type": "markdown",
      "source": "### Crear y ajustar el modelo de regresión",
      "metadata": {}
    },
    {
      "id": "8141c0f4-aa36-4e92-8a2b-9b7ea59657cb",
      "cell_type": "code",
      "source": "sgdr = SGDRegressor(max_iter=1000)\nsgdr.fit(X_norm, y_train)\nprint(sgdr)\nprint(f\"número de iteraciones completadas: {sgdr.n_iter_}, número de actualizaciones de pesos: {sgdr.t_}\")",
      "metadata": {
        "trusted": true
      },
      "outputs": [],
      "execution_count": null
    },
    {
      "id": "c3f3e12b-ed64-4fca-b610-df133d51826e",
      "cell_type": "markdown",
      "source": "### Ver parámetros\nNota: los parámetros están asociados con los datos de entrada *normalizados*. Los parámetros ajustados son muy similares a los encontrados en el ejercicio anterior con estos datos.",
      "metadata": {}
    },
    {
      "id": "c36b0103-bccc-4158-b1ca-d2b96208aa65",
      "cell_type": "code",
      "source": "b_norm = sgdr.intercept_\nw_norm = sgdr.coef_\nprint(f\"parámetros del modelo:                   w: {w_norm}, b:{b_norm}\")\nprint( \"parámetros del modelo del ejercicio anterior: w: [110.56 -21.27 -32.71 -37.97], b: 363.16\")",
      "metadata": {
        "trusted": true
      },
      "outputs": [],
      "execution_count": null
    },
    {
      "id": "42454dff-c8ca-4ffb-a7c2-63f5be436434",
      "cell_type": "markdown",
      "source": "### Realizar predicciones\nPrediga los valores objetivo de los datos de entrenamiento. Use tanto la rutina `predict` como el cálculo usando $w$ y $b$.",
      "metadata": {}
    },
    {
      "id": "cde69fc5-9d37-418c-b40a-e9f3b70992d6",
      "cell_type": "code",
      "source": "# hacer una predicción usando sgdr.predict()\ny_pred_sgd = sgdr.predict(X_norm)\n# hacer una predicción usando w,b. \ny_pred = np.dot(X_norm, w_norm) + b_norm  \nprint(f\"la predicción usando np.dot() y sgdr.predict coincide: {(y_pred == y_pred_sgd).all()}\")\n\nprint(f\"Predicción en el conjunto de entrenamiento:\\n{y_pred[:4]}\" )\nprint(f\"Valores objetivo \\n{y_train[:4]}\")",
      "metadata": {
        "trusted": true
      },
      "outputs": [],
      "execution_count": null
    },
    {
      "id": "93320e25-dd40-42ef-a934-8fde27689725",
      "cell_type": "markdown",
      "source": "### Graficar Resultados\nVamos a graficar las predicciones versus los valores objetivo.",
      "metadata": {}
    },
    {
      "id": "85eaef64-90f3-4a5c-ab9a-9336b6f2d783",
      "cell_type": "code",
      "source": "# graficar predicciones y valores objetivo vs X entradas (características) originales    \nfig,ax=plt.subplots(1,4,figsize=(12,3),sharey=True)\nfor i in range(len(ax)):\n    ax[i].scatter(X_train[:,i],y_train, label = 'objetivo')\n    ax[i].set_xlabel(X_features[i])\n    ax[i].scatter(X_train[:,i],y_pred,color=dlc[\"dlorange\"], label = 'predicción')\nax[0].set_ylabel(\"Precio\"); ax[0].legend();\nfig.suptitle(\"objetivo versus predicción usando modelo normalizado z-score\")\nplt.show()",
      "metadata": {
        "trusted": true
      },
      "outputs": [],
      "execution_count": null
    },
    {
      "id": "0fb9b3bb-835b-4b26-b174-e3af7ed0d07d",
      "cell_type": "markdown",
      "source": "## ¡Felicitaciones!\nEn este ejercicio usted:\n- utilizó una herramienta de aprendizaje automático de código abierto, scikit-learn\n- implementó regresión lineal usando gradiente descendente y normalización de X entradas (características) con esa herramienta",
      "metadata": {}
    },
    {
      "id": "4cbb5a91-3b65-4c00-a37b-7bb1cc540182",
      "cell_type": "code",
      "source": "",
      "metadata": {
        "trusted": true
      },
      "outputs": [],
      "execution_count": null
    }
  ]
}