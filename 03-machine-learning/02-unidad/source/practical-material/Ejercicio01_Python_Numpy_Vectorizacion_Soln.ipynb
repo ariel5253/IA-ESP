{
  "metadata": {
    "kernelspec": {
      "name": "xpython",
      "display_name": "Python 3.13 (XPython)",
      "language": "python"
    },
    "language_info": {
      "file_extension": ".py",
      "mimetype": "text/x-python",
      "name": "python",
      "version": "3.13.1"
    },
    "dl_toc_settings": {
      "rndtag": "40015"
    },
    "toc-autonumbering": false
  },
  "nbformat_minor": 4,
  "nbformat": 4,
  "cells": [
    {
      "cell_type": "markdown",
      "source": "# Ejercicio: Python, NumPy y Vectorización\nUna breve introducción a algunos de los conceptos de computación científica utilizados en este curso. En particular, el paquete de computación científica NumPy y su uso con Python.\n\n# Contenido\n- [&nbsp;&nbsp;1.1 Objetivos](#toc_40015_1.1)\n- [&nbsp;&nbsp;1.2 Referencias Útiles](#toc_40015_1.2)\n- [2 Python y NumPy <a name='Python and NumPy'></a>](#toc_40015_2)\n- [3 Vectores](#toc_40015_3)\n- [&nbsp;&nbsp;3.1 Resumen](#toc_40015_3.1)\n- [&nbsp;&nbsp;3.2 Arreglos de NumPy](#toc_40015_3.2)\n- [&nbsp;&nbsp;3.3 Creación de Vectores](#toc_40015_3.3)\n- [&nbsp;&nbsp;3.4 Operaciones con Vectores](#toc_40015_3.4)\n- [4 Matrices](#toc_40015_4)\n- [&nbsp;&nbsp;4.1 Resumen](#toc_40015_4.1)\n- [&nbsp;&nbsp;4.2 Arreglos de NumPy](#toc_40015_4.2)\n- [&nbsp;&nbsp;4.3 Creación de Matrices](#toc_40015_4.3)\n- [&nbsp;&nbsp;4.4 Operaciones con Matrices](#toc_40015_4.4)\n",
      "metadata": {}
    },
    {
      "cell_type": "code",
      "source": "import numpy as np    # es un estándar no oficial usar np para numpy\nimport time",
      "metadata": {
        "trusted": true
      },
      "outputs": [],
      "execution_count": null
    },
    {
      "cell_type": "markdown",
      "source": "<a name=\"toc_40015_1.1\"></a>\n## 1.1 Objetivos\nEn este ejercicio, usted:\n- Repasará las características de NumPy y Python que se utilizan en el Curso 1",
      "metadata": {}
    },
    {
      "cell_type": "markdown",
      "source": "<a name=\"toc_40015_1.2\"></a>\n## 1.2 Referencias Útiles\n- Documentación de NumPy incluyendo una introducción básica: [NumPy.org](https://NumPy.org/doc/stable/)\n- Un tema desafiante: [NumPy Broadcasting](https://NumPy.org/doc/stable/user/basics.broadcasting.html)\n",
      "metadata": {}
    },
    {
      "cell_type": "markdown",
      "source": "<a name=\"toc_40015_2\"></a>\n# 2 Python y NumPy <a name='Python and NumPy'></a>\nPython es el lenguaje de programación que utilizaremos en este curso. Tiene un conjunto de tipos de datos numéricos y operaciones aritméticas. NumPy es una biblioteca que extiende las capacidades básicas de Python para agregar un conjunto más rico de tipos numéricos, vectores, matrices y muchas funciones de matrices. NumPy y Python trabajan juntos de manera bastante fluida. Los operadores aritméticos de Python funcionan con los tipos de datos de NumPy y muchas funciones de NumPy aceptan tipos de datos de Python.\n",
      "metadata": {}
    },
    {
      "cell_type": "markdown",
      "source": "<a name=\"toc_40015_3\"></a>\n# 3 Vectores\n<a name=\"toc_40015_3.1\"></a>\n## 3.1 Resumen\n![C1_W2_Lab04_Vectors.PNG](attachment:a644cb7b-d1d5-44c0-9d87-5187d7781d3b.PNG)Los vectores, como los usará en este curso, son arreglos ordenados de números. En notación, los vectores se denotan con letras minúsculas en negrita como $\\mathbf{x}$. Los elementos de un vector son todos del mismo tipo. Un vector no contiene, por ejemplo, tanto caracteres como números. El número de elementos en el arreglo a menudo se denomina *dimensión*, aunque los matemáticos pueden preferir *rango*. El vector mostrado tiene una dimensión de $n$. Los elementos de un vector pueden ser referenciados con un índice. En matemáticas, los índices suelen ir de 1 a n. En ciencias de la computación y en estos ejercicios, la indexación suele ir de 0 a n-1. En notación, los elementos de un vector, cuando se referencian individualmente, indicarán el índice en un subíndice, por ejemplo, el elemento $0^{th}$ del vector $\\mathbf{x}$ es $x_0$. Nota, la x no está en negrita en este caso.\n",
      "metadata": {},
      "attachments": {
        "a644cb7b-d1d5-44c0-9d87-5187d7781d3b.PNG": {
          "image/png": "[encoded data removed]"
        }
      }
    },
    {
      "cell_type": "markdown",
      "source": "<a name=\"toc_40015_3.2\"></a>\n## 3.2 Arreglos de NumPy\n\nLa estructura de datos básica de NumPy es un *arreglo* indexable y n-dimensional que contiene elementos del mismo tipo (`dtype`). De inmediato, puede notar que hemos sobrecargado el término 'dimensión'. Arriba, era el número de elementos en el vector, aquí, dimensión se refiere al número de índices de un arreglo. Un arreglo unidimensional o 1-D tiene un índice. En el Curso 1, representaremos los vectores como arreglos 1-D de NumPy.\n\n - Arreglo 1-D, forma (n,): n elementos indexados de [0] a [n-1]\n ",
      "metadata": {}
    },
    {
      "cell_type": "markdown",
      "source": "<a name=\"toc_40015_3.3\"></a>\n## 3.3 Creación de Vectores\n",
      "metadata": {}
    },
    {
      "cell_type": "markdown",
      "source": "Las rutinas de creación de datos en NumPy generalmente tienen como primer parámetro la forma del objeto. Esto puede ser un solo valor para un resultado 1-D o una tupla (n,m,...) especificando la forma del resultado. A continuación se muestran ejemplos de cómo crear vectores usando estas rutinas.",
      "metadata": {}
    },
    {
      "cell_type": "code",
      "source": "# Rutinas de NumPy que asignan memoria y llenan arreglos con un valor\n# forma = shape\na = np.zeros(4);                print(f\"np.zeros(4) :   a = {a}, forma de a = {a.shape}, Tipo(type) de dato a = {a.dtype}\")\na = np.zeros((4,));             print(f\"np.zeros(4,) :  a = {a}, forma de a = {a.shape}, Tipo(type) de dato a = {a.dtype}\")\na = np.random.random_sample(4); print(f\"np.random.random_sample(4): a = {a}, forma de a = {a.shape}, Tipo(type) de dato a = {a.dtype}\")",
      "metadata": {
        "trusted": true
      },
      "outputs": [],
      "execution_count": null
    },
    {
      "cell_type": "markdown",
      "source": "Algunas rutinas de creación de datos no aceptan una tupla de forma:",
      "metadata": {}
    },
    {
      "cell_type": "code",
      "source": "# Rutinas de NumPy que asignan memoria y llenan arreglos con un valor pero no aceptan la forma como argumento de entrada\n# forma = shape\na = np.arange(4.);              print(f\"np.arange(4.):     a = {a}, forma de a = {a.shape}, Tipo(type) de dato a = {a.dtype}\")\na = np.random.rand(4);          print(f\"np.random.rand(4): a = {a}, forma de a = {a.shape}, Tipo(type) de dato a = {a.dtype}\")",
      "metadata": {
        "trusted": true
      },
      "outputs": [],
      "execution_count": null
    },
    {
      "cell_type": "markdown",
      "source": "Los valores también pueden ser especificados manualmente. ",
      "metadata": {}
    },
    {
      "cell_type": "code",
      "source": "# Rutinas de NumPy que asignan memoria y llenan con valores especificados por el usuario\n# forma = shape\na = np.array([5,4,3,2]);  print(f\"np.array([5,4,3,2]):  a = {a}, forma de a = {a.shape}, Tipo(type) de dato a = {a.dtype}\")\na = np.array([5.,4,3,2]); print(f\"np.array([5.,4,3,2]): a = {a}, forma de a = {a.shape}, Tipo(type) de dato a = {a.dtype}\")",
      "metadata": {
        "trusted": true
      },
      "outputs": [],
      "execution_count": null
    },
    {
      "cell_type": "markdown",
      "source": "Todos estos han creado un vector unidimensional `a` con cuatro elementos. `a.shape` devuelve las dimensiones. Aquí vemos a.shape = `(4,)` indicando un arreglo 1-D con 4 elementos.  ",
      "metadata": {}
    },
    {
      "cell_type": "markdown",
      "source": "<a name=\"toc_40015_3.4\"></a>\n## 3.4 Operaciones con Vectores\nExploremos algunas operaciones usando vectores.\n<a name=\"toc_40015_3.4.1\"></a>\n### 3.4.1 Indexación\nLos elementos de los vectores pueden ser accedidos mediante indexación y segmentación (slicing). NumPy proporciona un conjunto muy completo de capacidades de indexación y segmentación. Aquí exploraremos solo lo básico necesario para el curso. Consulte [Slicing and Indexing](https://NumPy.org/doc/stable/reference/arrays.indexing.html) para más detalles.\n**Indexación** significa referirse a *un elemento* de un arreglo por su posición dentro del arreglo.\n**Segmentación** significa obtener un *subconjunto* de elementos de un arreglo según sus índices.\nNumPy comienza la indexación en cero, así que el tercer elemento de un vector $\\mathbf{a}$ es `a[2]`.",
      "metadata": {}
    },
    {
      "cell_type": "code",
      "source": "# operaciones de indexación de vectores en vectores 1-D\na = np.arange(10)\nprint(a)\n\n# acceder a un elemento\nprint(f\"a[2].shape: {a[2].shape} a[2]  = {a[2]}, Accediendo un elemento retorna un scalar\")\n\n# acceder al último elemento, los índices negativos cuentan desde el final\nprint(f\"a[-1] = {a[-1]}\")\n\n# los índices deben estar dentro del rango del vector o producirán un error\ntry:\n    c = a[10]\nexcept Exception as e:\n    print(\"El mensaje de error que verá es:\")\n    print(e)",
      "metadata": {
        "trusted": true
      },
      "outputs": [],
      "execution_count": null
    },
    {
      "cell_type": "markdown",
      "source": "<a name=\"toc_40015_3.4.2\"></a>\n### 3.4.2 Segmentación (Slicing)\nLa segmentación crea un arreglo de índices usando un conjunto de tres valores (`inicio:fin:paso`). También es válido un subconjunto de valores. Su uso se explica mejor con ejemplos:",
      "metadata": {}
    },
    {
      "cell_type": "code",
      "source": "# operaciones de segmentación de vectores\na = np.arange(10)\nprint(f\"a         = {a}\")\n\n# acceder a 5 elementos consecutivos (inicio:fin:paso)\nc = a[2:7:1];     print(\"a[2:7:1] = \", c)\n\n# acceder a 3 elementos separados por dos\nc = a[2:7:2];     print(\"a[2:7:2] = \", c)\n\n# acceder a todos los elementos desde el índice 3 en adelante\nc = a[3:];        print(\"a[3:]    = \", c)\n\n# acceder a todos los elementos antes del índice 3\nc = a[:3];        print(\"a[:3]    = \", c)\n\n# acceder a todos los elementos\nc = a[:];         print(\"a[:]     = \", c)",
      "metadata": {
        "trusted": true
      },
      "outputs": [],
      "execution_count": null
    },
    {
      "cell_type": "markdown",
      "source": "<a name=\"toc_40015_3.4.3\"></a>\n### 3.4.3 Operaciones sobre un solo vector\nHay varias operaciones útiles que involucran operaciones sobre un solo vector.",
      "metadata": {}
    },
    {
      "cell_type": "code",
      "source": "a = np.array([1,2,3,4])\nprint(f\"a             : {a}\")\n# negar los elementos de a\nb = -a \nprint(f\"b = -a        : {b}\")\n\n# sumar todos los elementos de a, devuelve un escalar\nb = np.sum(a) \nprint(f\"b = np.sum(a) : {b}\")\n\nb = np.mean(a)\nprint(f\"b = np.mean(a): {b}\")\n\nb = a**2\nprint(f\"b = a**2      : {b}\")",
      "metadata": {
        "trusted": true
      },
      "outputs": [],
      "execution_count": null
    },
    {
      "cell_type": "markdown",
      "source": "<a name=\"toc_40015_3.4.4\"></a>\n### 3.4.4 Operaciones elemento a elemento entre vectores\nLa mayoría de las operaciones aritméticas, lógicas y de comparación de NumPy también se aplican a los vectores. Estos operadores funcionan elemento a elemento. Por ejemplo \n$$ c_i = a_i + b_i $$",
      "metadata": {}
    },
    {
      "cell_type": "code",
      "source": "a = np.array([ 1, 2, 3, 4])\nb = np.array([-1,-2, 3, 4])\nprint(f\"Los operadores binarios funcionan elemento por elemento: {a + b}\")",
      "metadata": {
        "trusted": true
      },
      "outputs": [],
      "execution_count": null
    },
    {
      "cell_type": "markdown",
      "source": "Por supuesto, para que esto funcione correctamente, los vectores deben ser del mismo tamaño:",
      "metadata": {}
    },
    {
      "cell_type": "code",
      "source": "# probar una operación de vectores con tamaños diferentes\nc = np.array([1, 2])\ntry:\n    d = a + c\nexcept Exception as e:\n    print(\"El mensaje de error que verá es:\")\n    print(e)",
      "metadata": {
        "trusted": true
      },
      "outputs": [],
      "execution_count": null
    },
    {
      "cell_type": "markdown",
      "source": "<a name=\"toc_40015_3.4.5\"></a>\n### 3.4.5 Operaciones escalar-vector\nLos vectores pueden ser 'escalados' por valores escalares. Un valor escalar es simplemente un número. El escalar multiplica todos los elementos del vector.",
      "metadata": {}
    },
    {
      "cell_type": "code",
      "source": "a = np.array([1, 2, 3, 4])\n\n# multiplicar a por un escalar\nb = 5 * a \nprint(f\"b = 5 * a : {b}\")",
      "metadata": {
        "trusted": true
      },
      "outputs": [],
      "execution_count": null
    },
    {
      "cell_type": "markdown",
      "source": "<a name=\"toc_40015_3.4.6\"></a>\n### 3.4.6 Producto punto entre vectores\nEl producto punto es fundamental en Álgebra Lineal y en NumPy. Es una operación utilizada extensamente en este curso y debe ser bien comprendida. El producto punto se muestra a continuación.",
      "metadata": {}
    },
    {
      "cell_type": "markdown",
      "source": "![C1_W2_Lab04_dot_notrans.gif](attachment:109bff40-d003-4099-9c08-378f28ae3710.gif) ",
      "metadata": {},
      "attachments": {
        "109bff40-d003-4099-9c08-378f28ae3710.gif": {
          "image/gif": "[encoded data removed]"
        }
      }
    },
    {
      "cell_type": "markdown",
      "source": "El producto punto multiplica los valores de dos vectores elemento a elemento y luego suma el resultado.\nEl producto punto de vectores requiere que las dimensiones de ambos vectores sean iguales. ",
      "metadata": {}
    },
    {
      "cell_type": "markdown",
      "source": "Implementemos nuestra propia versión del producto punto a continuación:\n\n**Usando un ciclo for**, implemente una función que retorne el producto punto de dos vectores. La función debe retornar, dados los insumos $a$ y $b$:\n$$ x = \\sum_{i=0}^{n-1} a_i b_i $$\nSuponga que tanto `a` como `b` tienen la misma forma.",
      "metadata": {}
    },
    {
      "cell_type": "code",
      "source": "def my_dot(a, b): \n    \"\"\"\n   Calcule el producto entre dos vectores\n \n    Argumentos:\n      a (ndarray (n,)):  Vector de entrada \n      b (ndarray (n,)):  Vector de entrada con la misma dimensión de 'a'\n    \n    Retorna:\n      x (scalar): \n    \"\"\"\n    x=0\n    for i in range(a.shape[0]):\n        x = x + a[i] * b[i]\n    return x",
      "metadata": {
        "trusted": true
      },
      "outputs": [],
      "execution_count": null
    },
    {
      "cell_type": "code",
      "source": "# test 1-D\na = np.array([1, 2, 3, 4])\nb = np.array([-1, 4, 3, 2])\nprint(f\"my_dot(a, b) = {my_dot(a, b)}\")",
      "metadata": {
        "trusted": true
      },
      "outputs": [],
      "execution_count": null
    },
    {
      "cell_type": "markdown",
      "source": "Nota, se espera que el producto punto retorne un valor escalar. \n\nProbemos las mismas operaciones usando `np.dot`.  ",
      "metadata": {}
    },
    {
      "cell_type": "code",
      "source": "# test 1-D\n# shape = forma\na = np.array([1, 2, 3, 4])\nb = np.array([-1, 4, 3, 2])\nc = np.dot(a, b)\nprint(f\"NumPy 1-D np.dot(a, b) = {c}, np.dot(a, b).shape = {c.shape} \") \nc = np.dot(b, a)\nprint(f\"NumPy 1-D np.dot(b, a) = {c}, np.dot(a, b).shape = {c.shape} \")\n",
      "metadata": {
        "trusted": true
      },
      "outputs": [],
      "execution_count": null
    },
    {
      "cell_type": "markdown",
      "source": "Arriba, notará que los resultados para 1-D coinciden con nuestra implementación.",
      "metadata": {}
    },
    {
      "cell_type": "markdown",
      "source": "<a name=\"toc_40015_3.4.7\"></a>\n### 3.4.7 La necesidad de velocidad: vectorización vs ciclo for\nUtilizamos la biblioteca NumPy porque mejora la velocidad y la eficiencia de memoria. Demostremos esto:",
      "metadata": {}
    },
    {
      "cell_type": "code",
      "source": "np.random.seed(1)\na = np.random.rand(10000000)  # arreglos muy grandes\nb = np.random.rand(10000000)\n\ntic = time.time()  # capturar tiempo de inicio\nc = np.dot(a, b)\ntoc = time.time()  # capturar tiempo de fin\n\nprint(f\"np.dot(a, b) =  {c:.4f}\")\nprint(f\"Duración de la versión vectorizada: {1000*(toc-tic):.4f} ms \")\n\ntic = time.time()  # capturar tiempo de inicio\nc = my_dot(a,b)\ntoc = time.time()  # capturar tiempo de fin\n\nprint(f\"my_dot(a, b) =  {c:.4f}\")\nprint(f\"Duración de la versión en bucle: {1000*(toc-tic):.4f} ms \")\n\ndel(a);del(b)  # eliminar estos grandes arreglos de la memoria",
      "metadata": {
        "trusted": true
      },
      "outputs": [],
      "execution_count": null
    },
    {
      "cell_type": "markdown",
      "source": "Así, la vectorización proporciona una gran aceleración en este ejemplo. Esto se debe a que NumPy hace mejor uso del paralelismo de datos disponible en el hardware subyacente. Las GPU y las CPU modernas implementan canalizaciones SIMD (Single Instruction, Multiple Data) que permiten emitir múltiples operaciones en paralelo. Esto es fundamental en Machine Learning donde los conjuntos de datos suelen ser muy grandes.",
      "metadata": {}
    },
    {
      "cell_type": "markdown",
      "source": "<a name=\"toc_12345_3.4.8\"></a>\n### 3.4.8 Operaciones vector-vector en el Curso 1\nLas operaciones vector-vector aparecerán frecuentemente en el curso 1. Aquí está el porqué:\n- En adelante, nuestros ejemplos se almacenarán en un arreglo, `X_train` de dimensión (m,n). Esto se explicará más adelante en contexto, pero aquí es importante notar que es un arreglo o matriz bidimensional (ver la siguiente sección sobre matrices).\n- `w` será un vector unidimensional de forma (n,).\n- realizaremos operaciones recorriendo los ejemplos, extrayendo cada ejemplo para trabajar individualmente mediante la indexación de X. Por ejemplo: `X[i]`\n- `X[i]` retorna un valor de forma (n,), un vector unidimensional. Por lo tanto, las operaciones que involucran `X[i]` suelen ser vector-vector.  \n\nEsa es una explicación algo extensa, pero alinear y entender las formas de sus operandos es importante al realizar operaciones vectoriales.",
      "metadata": {}
    },
    {
      "cell_type": "code",
      "source": "# mostrar ejemplo común del Curso 1\nX = np.array([[1],[2],[3],[4]])\nw = np.array([2])\nc = np.dot(X[1], w)\n\nprint(f\"X[1] tiene forma/shape {X[1].shape}\")\nprint(f\"w tiene forma/shape {w.shape}\")\nprint(f\"c tiene forma/shape {c.shape}\")",
      "metadata": {
        "trusted": true
      },
      "outputs": [],
      "execution_count": null
    },
    {
      "cell_type": "markdown",
      "source": "<a name=\"toc_40015_4\"></a>\n# 4 Matrices\n",
      "metadata": {}
    },
    {
      "cell_type": "markdown",
      "source": "<a name=\"toc_40015_4.1\"></a>\n## 4.1 Resumen\nLas matrices son arreglos bidimensionales. Los elementos de una matriz son todos del mismo tipo. En notación, las matrices se denotan con letras mayúsculas en negrita como $\\mathbf{X}$. En este y otros ejercicios, `m` suele ser el número de filas y `n` el número de columnas. Los elementos de una matriz pueden ser referenciados con un índice bidimensional. En matemáticas, los números en el índice suelen ir de 1 a n. En ciencias de la computación y en estos ejercicios, la indexación irá de 0 a n-1.  \n![C1_W2_Lab04_Matrices.PNG](attachment:a41b2450-76ac-4f49-9a7b-c34b296fc9b7.PNG)\n\nNotación genérica de matrices, el primer índice es la fila, el segundo es la columna",
      "metadata": {},
      "attachments": {
        "a41b2450-76ac-4f49-9a7b-c34b296fc9b7.PNG": {
          "image/png": "[encoded data removed]"
        }
      }
    },
    {
      "cell_type": "markdown",
      "source": "<a name=\"toc_40015_4.2\"></a>\n## 4.2 Arreglos de NumPy\n\nLa estructura de datos básica de NumPy es un *arreglo* indexable y n-dimensional que contiene elementos del mismo tipo (`dtype`). Esto se describió anteriormente. Las matrices tienen un índice bidimensional (2-D) [m,n].\n\nEn el Curso 1, las matrices 2-D se usan para almacenar datos de entrenamiento. Los datos de entrenamiento son $m$ ejemplos por $n$ características, creando un arreglo (m,n). El Curso 1 no realiza operaciones directamente sobre matrices, sino que típicamente extrae un ejemplo como vector y opera sobre él. A continuación revisará: \n- creación de datos\n- segmentación e indexación",
      "metadata": {}
    },
    {
      "cell_type": "markdown",
      "source": "<a name=\"toc_40015_4.3\"></a>\n## 4.3 Creación de Matrices\nLas mismas funciones que crearon vectores 1-D crearán arreglos 2-D o n-D. Aquí algunos ejemplos\n",
      "metadata": {}
    },
    {
      "cell_type": "markdown",
      "source": "A continuación, se proporciona la tupla de forma para lograr un resultado 2-D. Observe cómo NumPy usa corchetes para denotar cada dimensión. Además, observe que NumPy, al imprimir, mostrará una fila por línea.\n",
      "metadata": {}
    },
    {
      "cell_type": "code",
      "source": "# shape = forma\na = np.zeros((1, 5))                                       \nprint(f\"a shape = {a.shape}, a = {a}\")                     \n\na = np.zeros((2, 1))                                                                   \nprint(f\"a shape = {a.shape}, a = {a}\") \n\na = np.random.random_sample((1, 1))  \nprint(f\"a shape = {a.shape}, a = {a}\") ",
      "metadata": {
        "trusted": true
      },
      "outputs": [],
      "execution_count": null
    },
    {
      "cell_type": "markdown",
      "source": "También se pueden especificar los datos manualmente. Las dimensiones se especifican con corchetes adicionales que coinciden con el formato mostrado al imprimir arriba.",
      "metadata": {}
    },
    {
      "cell_type": "code",
      "source": "# Rutinas de NumPy que asignan memoria y llenan con valores especificados por el usuario\n# shape = forma\na = np.array([[5], [4], [3]]);   print(f\" a shape = {a.shape}, np.array: a = {a}\")\na = np.array([[5],   # También se puede\n              [4],   # separar los valores\n              [3]]); # en filas separadas\nprint(f\" a shape = {a.shape}, np.array: a = {a}\")",
      "metadata": {
        "trusted": true
      },
      "outputs": [],
      "execution_count": null
    },
    {
      "cell_type": "markdown",
      "source": "<a name=\"toc_40015_4.4\"></a>\n## 4.4 Operaciones con Matrices\nExploremos algunas operaciones usando matrices.",
      "metadata": {}
    },
    {
      "cell_type": "markdown",
      "source": "<a name=\"toc_40015_4.4.1\"></a>\n### 4.4.1 Indexación\n",
      "metadata": {}
    },
    {
      "cell_type": "markdown",
      "source": "Las matrices incluyen un segundo índice. Los dos índices describen [fila, columna]. El acceso puede devolver un elemento o una fila/columna. Vea abajo:",
      "metadata": {}
    },
    {
      "cell_type": "code",
      "source": "# operaciones de indexación de vectores en matrices\na = np.arange(6).reshape(-1, 2)   # reshape es una forma conveniente de crear matrices\nprint(f\"a.shape: {a.shape}, \\na= {a}\")\n\n# acceder a un elemento\nprint(f\"\\na[2,0].shape:   {a[2, 0].shape}, a[2,0] = {a[2, 0]},     type(a[2,0]) = {type(a[2, 0])} Acceder a un elemento retorna un escalar\\n\")\n\n# acceder a una fila\nprint(f\"a[2].shape:   {a[2].shape}, a[2]   = {a[2]}, type(a[2])   = {type(a[2])}\")",
      "metadata": {
        "trusted": true
      },
      "outputs": [],
      "execution_count": null
    },
    {
      "cell_type": "markdown",
      "source": "Vale la pena destacar el último ejemplo. Acceder a una matriz especificando solo la fila retornará un *vector 1-D*.",
      "metadata": {}
    },
    {
      "cell_type": "markdown",
      "source": "**Reshape/dar forma**  \nEl ejemplo anterior usó [reshape](https://numpy.org/doc/stable/reference/generated/numpy.reshape.html) para dar forma al arreglo.  \n`a = np.arange(6).reshape(-1, 2) `   \nEsta línea de código primero creó un *vector 1-D* de seis elementos. Luego reconfiguró ese vector en un arreglo *2-D* usando el comando reshape. Esto también podría haberse escrito:  \n`a = np.arange(6).reshape(3, 2) `  \nPara obtener el mismo arreglo de 3 filas y 2 columnas.\nEl argumento -1 le indica a la rutina que calcule el número de filas dado el tamaño del arreglo y el número de columnas.\n",
      "metadata": {}
    },
    {
      "cell_type": "markdown",
      "source": "<a name=\"toc_40015_4.4.2\"></a>\n### 4.4.2 Segmentación (Slicing)\nLa segmentación crea un arreglo de índices usando un conjunto de tres valores (`inicio:fin:paso`). También es válido un subconjunto de valores. Su uso se explica mejor con ejemplos:",
      "metadata": {}
    },
    {
      "cell_type": "code",
      "source": "# operaciones de segmentación 2-D de vectores\na = np.arange(20).reshape(-1, 10)\nprint(f\"a = \\n{a}\")\n\n# shape = forma\n# acceder a 5 elementos consecutivos (inicio:fin:paso)\nprint(\"a[0, 2:7:1] = \", a[0, 2:7:1], \",  a[0, 2:7:1].shape =\", a[0, 2:7:1].shape, \"un arreglo 1-D\")\n\n# acceder a 5 elementos consecutivos (inicio:fin:paso) en dos filas\nprint(\"a[:, 2:7:1] = \\n\", a[:, 2:7:1], \",  a[:, 2:7:1].shape =\", a[:, 2:7:1].shape, \"un arreglo 2-D\")\n\n# acceder a todos los elementos\nprint(\"a[:,:] = \\n\", a[:,:], \",  a[:,:].shape =\", a[:,:].shape)\n\n# acceder a todos los elementos en una fila (uso muy común)\nprint(\"a[1,:] = \", a[1,:], \",  a[1,:].shape =\", a[1,:].shape, \"un arreglo 1-D\")\n# igual que\nprint(\"a[1]   = \", a[1],   \",  a[1].shape   =\", a[1].shape, \"un arreglo 1-D\")\n",
      "metadata": {
        "trusted": true
      },
      "outputs": [],
      "execution_count": null
    },
    {
      "cell_type": "markdown",
      "source": "<a name=\"toc_40015_5.0\"></a>\n## ¡Felicitaciones!\nEn este ejercicio dominó las características de Python y NumPy que se necesitan para la semana 2 en adelante.",
      "metadata": {}
    },
    {
      "cell_type": "code",
      "source": "",
      "metadata": {
        "trusted": true
      },
      "outputs": [],
      "execution_count": null
    }
  ]
}