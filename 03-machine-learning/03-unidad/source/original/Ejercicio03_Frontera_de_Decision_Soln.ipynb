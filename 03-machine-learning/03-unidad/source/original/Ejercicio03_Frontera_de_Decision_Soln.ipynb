{
  "metadata": {
    "kernelspec": {
      "name": "xpython",
      "display_name": "Python 3.13 (XPython)",
      "language": "python"
    },
    "language_info": {
      "file_extension": ".py",
      "mimetype": "text/x-python",
      "name": "python",
      "version": "3.13.1"
    }
  },
  "nbformat_minor": 5,
  "nbformat": 4,
  "cells": [
    {
      "id": "115de910-51b3-4319-b945-a5f74703303d",
      "cell_type": "markdown",
      "source": "# Ejercicio: Frontera de Decisión\nEn este ejercicio, explorarás cómo se determina y visualiza la frontera de decisión en problemas de clasificación.",
      "metadata": {}
    },
    {
      "id": "4f5c609c-bfe5-42c8-adfd-ef95cb8b690a",
      "cell_type": "markdown",
      "source": "## Objetivos\nEn este ejercicio, vas a:\n- Visualizar la frontera de decisión para un modelo de clasificación.",
      "metadata": {}
    },
    {
      "id": "c0bcea80-1c98-4e51-9843-8ff9ad4deca9",
      "cell_type": "code",
      "source": "import numpy as np\n#%matplotlib widget\nimport matplotlib.pyplot as plt\nfrom lab_utils_common import plot_data, sigmoid, draw_vthresh\nplt.style.use('./deeplearning.mplstyle')",
      "metadata": {
        "trusted": true
      },
      "outputs": [],
      "execution_count": null
    },
    {
      "id": "e6d6df25-6cec-42b1-aa30-11387ad9488e",
      "cell_type": "markdown",
      "source": "La frontera de decisión es la línea (o superficie en dimensiones superiores) que separa las diferentes clases predichas por un modelo de clasificación.",
      "metadata": {}
    },
    {
      "id": "e2f50dd4-06b3-4c94-a4d3-226cff5f164d",
      "cell_type": "code",
      "source": "X = np.array([[0.5, 1.5], [1,1], [1.5, 0.5], [3, 0.5], [2, 2], [1, 2.5]])\ny = np.array([0, 0, 0, 1, 1, 1]).reshape(-1,1) ",
      "metadata": {
        "trusted": true
      },
      "outputs": [],
      "execution_count": null
    },
    {
      "id": "38d9e9a4-53fa-4208-aeeb-db25346edb21",
      "cell_type": "markdown",
      "source": "En el gráfico, puedes observar cómo la frontera de decisión separa las muestras de diferentes clases. Cambia los parámetros del modelo para ver cómo se modifica la frontera.",
      "metadata": {}
    },
    {
      "id": "0aa11425-584f-471e-85e5-4945953b107a",
      "cell_type": "code",
      "source": "fig,ax = plt.subplots(1,1,figsize=(4,4))\nplot_data(X, y, ax)\n\nax.axis([0, 4, 0, 3.5])\nax.set_ylabel('$x_1$')\nax.set_xlabel('$x_0$')\nplt.show()",
      "metadata": {
        "trusted": true
      },
      "outputs": [],
      "execution_count": null
    },
    {
      "id": "504bf21c-9d23-426e-b8b8-3afa481a1c3b",
      "cell_type": "markdown",
      "source": "La frontera de decisión puede ser lineal o no lineal, dependiendo del modelo utilizado. En la regresión logística simple, la frontera es una línea recta.",
      "metadata": {}
    },
    {
      "id": "71277fb5-c3f0-4021-9383-65ec5dd89939",
      "cell_type": "markdown",
      "source": "Experimenta cambiando los parámetros y observa cómo la frontera de decisión se ajusta a los datos.",
      "metadata": {}
    },
    {
      "id": "02d31209-0824-4251-9b99-a9b115b3c9e8",
      "cell_type": "code",
      "source": "# Plot sigmoid(z) over a range of values from -10 to 10\nz = np.arange(-10,11)\n\nfig,ax = plt.subplots(1,1,figsize=(5,3))\n# Plot z vs sigmoid(z)\nax.plot(z, sigmoid(z), c=\"b\")\n\nax.set_title(\"Función Sigmoidea\")\nax.set_ylabel('sigmoide(z)')\nax.set_xlabel('z')\ndraw_vthresh(ax,0)",
      "metadata": {
        "trusted": true
      },
      "outputs": [],
      "execution_count": null
    },
    {
      "id": "a92d8029-94ee-484b-96b0-cb4c8bebdc38",
      "cell_type": "markdown",
      "source": "La visualización de la frontera de decisión es útil para entender cómo el modelo separa las clases y para identificar posibles errores de clasificación.",
      "metadata": {}
    },
    {
      "id": "ea3a6c6c-ebcb-40d3-9a35-692439559a68",
      "cell_type": "code",
      "source": "# Choose values between 0 and 6\nx0 = np.arange(0,6)\n\nx1 = 3 - x0\nfig,ax = plt.subplots(1,1,figsize=(5,4))\n# Plot the decision boundary\nax.plot(x0,x1, c=\"b\")\nax.axis([0, 4, 0, 3.5])\n\n# Fill the region below the line\nax.fill_between(x0,x1, alpha=0.2)\n\n# Plot the original data\nplot_data(X,y,ax)\nax.set_ylabel(r'$x_1$')\nax.set_xlabel(r'$x_0$')\nplt.show()",
      "metadata": {
        "trusted": true
      },
      "outputs": [],
      "execution_count": null
    },
    {
      "id": "2894b615-8ed0-437d-a048-53eacef5215e",
      "cell_type": "markdown",
      "source": "## ¡Felicitaciones!\nEn este ejercicio, visualizaste y comprendiste la frontera de decisión en problemas de clasificación.",
      "metadata": {}
    },
    {
      "id": "1bb6e403-3b31-474b-ac78-db9054c4221f",
      "cell_type": "markdown",
      "source": "¡Ahora puedes aplicar el concepto de frontera de decisión en tus propios modelos de clasificación!",
      "metadata": {}
    },
    {
      "id": "43a97468-918f-46b0-b1ea-b2e9b7770895",
      "cell_type": "code",
      "source": "",
      "metadata": {
        "trusted": true
      },
      "outputs": [],
      "execution_count": null
    },
    {
      "id": "288538f9-0a7b-433d-8a2f-7210edd549cd",
      "cell_type": "code",
      "source": "",
      "metadata": {
        "trusted": true
      },
      "outputs": [],
      "execution_count": null
    }
  ]
}