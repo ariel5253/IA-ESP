{
  "metadata": {
    "kernelspec": {
      "name": "python",
      "display_name": "Python (Pyodide)",
      "language": "python"
    },
    "language_info": {
      "codemirror_mode": {
        "name": "python",
        "version": 3
      },
      "file_extension": ".py",
      "mimetype": "text/x-python",
      "name": "python",
      "nbconvert_exporter": "python",
      "pygments_lexer": "ipython3",
      "version": "3.8"
    }
  },
  "nbformat_minor": 5,
  "nbformat": 4,
  "cells": [
    {
      "id": "3da8ed23-ec6e-4afc-823e-6b2644337ca6",
      "cell_type": "markdown",
      "source": "# Ejercicio opcional:  Regresión Logística usando Scikit-Learn\n\n\n",
      "metadata": {}
    },
    {
      "id": "c02726d4-d98a-4d3e-8877-b48bf69b0150",
      "cell_type": "markdown",
      "source": "## Objetivos\nEn este ejercicio vas a:\n- Entrenar un modelo de regresión logística usando scikit-learn (selecciona el kernel 'Pyodide' si usas JupyterLite). \n",
      "metadata": {}
    },
    {
      "id": "86c8608b-9dc2-4780-b6ce-0f39f102e165",
      "cell_type": "markdown",
      "source": "## Conjunto de datos \nComencemos con el mismo conjunto de datos que antes.",
      "metadata": {}
    },
    {
      "id": "ec658da3-0e4d-4fa4-9c73-a065d77e25e3",
      "cell_type": "code",
      "source": "import numpy as np\n\nX = np.array([[0.5, 1.5], [1,1], [1.5, 0.5], [3, 0.5], [2, 2], [1, 2.5]])\ny = np.array([0, 0, 0, 1, 1, 1])",
      "metadata": {
        "trusted": true
      },
      "outputs": [],
      "execution_count": null
    },
    {
      "id": "073d23ae-ec98-49dd-9926-5e54e34bf6d9",
      "cell_type": "markdown",
      "source": "## Ajustar el modelo\n\nEl siguiente código importa el [modelo de regresión logística](https://scikit-learn.org/stable/modules/generated/sklearn.linear_model.LogisticRegression.html#sklearn.linear_model.LogisticRegression) de scikit-learn. Puedes ajustar este modelo a los datos de entrenamiento llamando a la función `fit`.",
      "metadata": {}
    },
    {
      "id": "69e76e14-16ef-400c-b41f-c364319c9c96",
      "cell_type": "code",
      "source": "from sklearn.linear_model import LogisticRegression\n\nlr_model = LogisticRegression()\nlr_model.fit(X, y)",
      "metadata": {
        "trusted": true
      },
      "outputs": [],
      "execution_count": null
    },
    {
      "id": "c1fb5ce5-fcea-4ff3-a0a1-6ad0b66d7f20",
      "cell_type": "markdown",
      "source": "## Realizar predicciones\n\nPuedes ver las predicciones hechas por este modelo llamando a la función `predict`.",
      "metadata": {}
    },
    {
      "id": "b4303ba4-0957-4bb7-b47c-8046f39225fc",
      "cell_type": "code",
      "source": "y_pred = lr_model.predict(X)\n\nprint(\"Prediction on training set:\", y_pred)",
      "metadata": {
        "trusted": true
      },
      "outputs": [],
      "execution_count": null
    },
    {
      "id": "f64664c6-c298-4b90-be69-34646efc930c",
      "cell_type": "markdown",
      "source": "## Calcular precisión\n\nPuedes calcular la precisión de este modelo llamando a la función `score`.",
      "metadata": {}
    },
    {
      "id": "1e5f6060-aff7-410e-8a10-ae47509205d3",
      "cell_type": "code",
      "source": "print(\"Accuracy on training set:\", lr_model.score(X, y))",
      "metadata": {
        "trusted": true
      },
      "outputs": [],
      "execution_count": null
    }
  ]
}