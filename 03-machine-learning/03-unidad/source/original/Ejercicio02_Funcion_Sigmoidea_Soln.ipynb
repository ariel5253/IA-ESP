{
  "metadata": {
    "kernelspec": {
      "name": "xpython",
      "display_name": "Python 3.13 (XPython)",
      "language": "python"
    },
    "language_info": {
      "file_extension": ".py",
      "mimetype": "text/x-python",
      "name": "python",
      "version": "3.13.1"
    }
  },
  "nbformat_minor": 5,
  "nbformat": 4,
  "cells": [
    {
      "id": "ee4ae43c-bbdd-486b-9b03-9d4d7834f90c",
      "cell_type": "markdown",
      "source": "# Ejercicio: Función Sigmoidea (Sigmoid)\nEn este ejercicio, explorarás la función sigmoidea, que es fundamental en la regresión logística y otros modelos de clasificación.",
      "metadata": {}
    },
    {
      "id": "e3320b1e-c9fb-4139-894d-87611b59e293",
      "cell_type": "code",
      "source": "import numpy as np\n#%matplotlib widget\nimport matplotlib.pyplot as plt\nfrom plt_one_addpt_onclick import plt_one_addpt_onclick\nfrom lab_utils_common import draw_vthresh\nplt.style.use('./deeplearning.mplstyle')",
      "metadata": {
        "trusted": true
      },
      "outputs": [],
      "execution_count": null
    },
    {
      "id": "366150dc-b59e-47e9-9002-25fe2d3a8c9b",
      "cell_type": "markdown",
      "source": "## Objetivos\nEn este ejercicio, vas a:\n- Explorar la función sigmoidea y su comportamiento.",
      "metadata": {}
    },
    {
      "id": "09d2062f-f81a-491f-ba3b-f5e5216e8cc9",
      "cell_type": "markdown",
      "source": "La función sigmoidea es una función matemática que toma cualquier valor real y lo mapea a un valor entre 0 y 1. Es ampliamente utilizada en modelos de clasificación, especialmente en regresión logística.",
      "metadata": {}
    },
    {
      "id": "5f00eba7-0390-4310-9b8b-0aebfb7a2716",
      "cell_type": "code",
      "source": "# Input is an array. \ninput_array = np.array([1,2,3])\nexp_array = np.exp(input_array)\n\nprint(\"Entrada to exp:\", input_array)\nprint(\"Salida of exp:\", exp_array)\n\n# Input is a single number\ninput_val = 1  \nexp_val = np.exp(input_val)\n\nprint(\"Entrada to exp:\", input_val)\nprint(\"Salida of exp:\", exp_val)",
      "metadata": {
        "trusted": true
      },
      "outputs": [],
      "execution_count": null
    },
    {
      "id": "21c41b1b-582f-42c0-ad55-6b4c3755a57a",
      "cell_type": "markdown",
      "source": "La función sigmoidea se define como:\n$$\\sigma(z) = \\frac{1}{1+e^{-z}}$$\ndonde $z$ es un valor real.",
      "metadata": {}
    },
    {
      "id": "3dc7a4c2-64f3-4907-8cdf-cbe62bc3d042",
      "cell_type": "code",
      "source": "def sigmoid(z):\n    \"\"\"\n    Calcular el sigmoide de z\n\n    Args:\n        z (ndarray): Un escalar, arreglo numpy de cualquier tamaño.\n\n    Returns:\n        g (ndarray): sigmoide(z), con la misma forma (shape) de z\n         \n    \"\"\"\n\n    g = 1/(1+np.exp(-z))\n   \n    return g",
      "metadata": {
        "trusted": true
      },
      "outputs": [],
      "execution_count": null
    },
    {
      "id": "ff1f4d16-aefd-4740-b9d5-31e15d415c08",
      "cell_type": "markdown",
      "source": "La función sigmoidea tiene una forma(shape) característica en S. Cuando $z$ es muy negativo, la salida se acerca a 0. Cuando $z$ es muy positivo, la salida se acerca a 1.",
      "metadata": {}
    },
    {
      "id": "8520a18f-6bb1-4a7f-9419-55a642bc3bde",
      "cell_type": "code",
      "source": "# Generate an array of evenly spaced values between -10 and 10\nz_tmp = np.arange(-10,11)\n\n# Use the function implemented above to get the sigmoid values\ny = sigmoid(z_tmp)\n\n# Code for pretty printing the two arrays next to each other\nnp.set_printoptions(precision=3) \nprint(\"Entrada (z), Salida (sigmoide(z))\")\nprint(np.c_[z_tmp, y])",
      "metadata": {
        "trusted": true
      },
      "outputs": [],
      "execution_count": null
    },
    {
      "id": "a3a1c682-ef04-4410-8913-d2cd4ab162c1",
      "cell_type": "markdown",
      "source": "Puedes ajustar los valores de $z$ para ver cómo cambia la función sigmoidea. Observa cómo la curva se aplana a medida que $z$ se aleja de 0.",
      "metadata": {}
    },
    {
      "id": "a307062d-ad65-475f-95c3-ca022b397d60",
      "cell_type": "code",
      "source": "# Plot z vs sigmoid(z)\nfig,ax = plt.subplots(1,1,figsize=(5,3))\nax.plot(z_tmp, y, c=\"b\")\n\nax.set_title(\"Función Sigmoidea\")\nax.set_ylabel('sigmoide(z)')\nax.set_xlabel('z')\ndraw_vthresh(ax,0)",
      "metadata": {
        "scrolled": true,
        "trusted": true
      },
      "outputs": [],
      "execution_count": null
    },
    {
      "id": "904e2471-3b12-44c6-b228-28914c6b79d4",
      "cell_type": "markdown",
      "source": "La función sigmoidea es útil porque su salida puede interpretarse como una probabilidad. Por ejemplo, en regresión logística, la salida de la función sigmoidea representa la probabilidad de que una muestra pertenezca a la clase positiva.",
      "metadata": {}
    },
    {
      "id": "c476ba91-68c1-475e-82cc-a59a77ccfd83",
      "cell_type": "markdown",
      "source": "## ¡Felicitaciones!\nEn este ejercicio, exploraste la función sigmoidea y su importancia en modelos de clasificación.",
      "metadata": {}
    },
    {
      "id": "e164b4ee-2212-4a37-bef9-a97fcc22b8f9",
      "cell_type": "markdown",
      "source": "Ahora que comprendes la función sigmoidea, estarás mejor preparado para entender cómo se utiliza en la regresión logística y otros algoritmos de clasificación.",
      "metadata": {}
    },
    {
      "id": "5eab24f4-517a-4e6e-8324-e7f7c48f40e2",
      "cell_type": "code",
      "source": "x_train = np.array([0., 1, 2, 3, 4, 5])\ny_train = np.array([0,  0, 0, 1, 1, 1])\n\nw_in = np.zeros((1))\nb_in = 0",
      "metadata": {
        "tags": [],
        "trusted": true
      },
      "outputs": [],
      "execution_count": null
    },
    {
      "id": "623aa1ca-1883-46b6-96c2-2ec1ba7ed56e",
      "cell_type": "markdown",
      "source": "¡Sigue adelante con los siguientes ejercicios para aplicar la función sigmoidea en problemas reales de clasificación!",
      "metadata": {}
    },
    {
      "id": "c9eed9a3-d1c9-4d4b-a124-eefc16ed04df",
      "cell_type": "code",
      "source": "plt.close('all') \naddpt = plt_one_addpt_onclick( x_train,y_train, w_in, b_in, logistic=True)",
      "metadata": {
        "trusted": true
      },
      "outputs": [],
      "execution_count": null
    },
    {
      "id": "7e5d9e1f-b3ed-4b46-ab56-3dc18048fb69",
      "cell_type": "markdown",
      "source": "¡Has completado el ejercicio sobre la función sigmoidea! Ahora tienes una mejor comprensión de cómo se comporta y por qué es útil en modelos de clasificación.",
      "metadata": {}
    },
    {
      "id": "ee3555ba-1d21-42b6-baa6-eec47e9f60cb",
      "cell_type": "code",
      "source": "",
      "metadata": {
        "trusted": true
      },
      "outputs": [],
      "execution_count": null
    }
  ]
}