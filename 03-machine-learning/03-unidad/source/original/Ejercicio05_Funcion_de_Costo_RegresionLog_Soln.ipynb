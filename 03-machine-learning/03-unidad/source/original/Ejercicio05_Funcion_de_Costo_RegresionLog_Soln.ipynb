{
  "metadata": {
    "kernelspec": {
      "name": "xpython",
      "display_name": "Python 3.13 (XPython)",
      "language": "python"
    },
    "language_info": {
      "file_extension": ".py",
      "mimetype": "text/x-python",
      "name": "python",
      "version": "3.13.1"
    }
  },
  "nbformat_minor": 5,
  "nbformat": 4,
  "cells": [
    {
      "id": "3be0b49a-1e90-46c2-a39b-979c97360cc0",
      "cell_type": "markdown",
      "source": "# Ejercicio: Función de Costo para Regresión Logística\n\n## Objetivos\nEn este ejercicio, vas a:\n- examinar la implementación y utilizar la función de costo para regresión logística.",
      "metadata": {}
    },
    {
      "id": "912906d1-3735-48ca-b345-04befc09f78a",
      "cell_type": "code",
      "source": "import numpy as np\n#%matplotlib widget\nimport matplotlib.pyplot as plt\nfrom lab_utils_common import  plot_data, sigmoid, dlc\nplt.style.use('./deeplearning.mplstyle')",
      "metadata": {
        "trusted": true
      },
      "outputs": [],
      "execution_count": null
    },
    {
      "id": "c4ba5b1b-0f21-4fb5-b2a0-e761934049b0",
      "cell_type": "markdown",
      "source": "## Conjunto de datos\nComencemos con el mismo conjunto de datos que se usó en el ejercicio de frontera de decisión.",
      "metadata": {}
    },
    {
      "id": "7e78993c-3757-4053-8067-97a482c963c7",
      "cell_type": "code",
      "source": "X_train = np.array([[0.5, 1.5], [1,1], [1.5, 0.5], [3, 0.5], [2, 2], [1, 2.5]])  #(m,n)\ny_train = np.array([0, 0, 0, 1, 1, 1])                                           #(m,)",
      "metadata": {
        "tags": [],
        "trusted": true
      },
      "outputs": [],
      "execution_count": null
    },
    {
      "id": "1c7309f3-c478-4503-b2fb-9f3651b0db12",
      "cell_type": "markdown",
      "source": "Usaremos una función auxiliar para graficar estos datos. Los puntos de datos con etiqueta $y=1$ se muestran como cruces rojas, mientras que los puntos con $y=0$ se muestran como círculos azules.",
      "metadata": {}
    },
    {
      "id": "7cb363b5-311e-4570-91e1-9ab14cf1f308",
      "cell_type": "code",
      "source": "fig,ax = plt.subplots(1,1,figsize=(4,4))\nplot_data(X_train, y_train, ax)\n\n# Set both axes to be from 0-4\nax.axis([0, 4, 0, 3.5])\nax.set_ylabel('$x_1$', fontsize=12)\nax.set_xlabel('$x_0$', fontsize=12)\nplt.show()",
      "metadata": {
        "trusted": true
      },
      "outputs": [],
      "execution_count": null
    },
    {
      "id": "7799788f-9835-483a-8501-f3259bb5e4de",
      "cell_type": "markdown",
      "source": "## Función de costo\n\nEn un ejercicio anterior, desarrollaste la función de *pérdida logística*. Recuerda, la pérdida se define para un solo ejemplo. Aquí combinas las pérdidas para formar el **costo**, que incluye todos los ejemplos.\n\nRecuerda que para la regresión logística, la función de costo es de la forma:\n\n$$ J(\\mathbf{w},b) = \\frac{1}{m} \\sum_{i=0}^{m-1} \\left[ loss(f_{\\mathbf{w},b}(\\mathbf{x}^{(i)}), y^{(i)}) \\right] \\tag{1}$$\n\ndonde\n* $loss(f_{\\mathbf{w},b}(\\mathbf{x}^{(i)}), y^{(i)})$ es el costo para un solo punto de datos, que es:\n\n    $$loss(f_{\\mathbf{w},b}(\\mathbf{x}^{(i)}), y^{(i)}) = -y^{(i)} \\log\\left(f_{\\mathbf{w},b}\\left( \\mathbf{x}^{(i)} \\right) \\right) - \\left( 1 - y^{(i)}\\right) \\log \\left( 1 - f_{\\mathbf{w},b}\\left( \\mathbf{x}^{(i)} \\right) \\right) \\tag{2}$$\n    \n*  donde m es el número de ejemplos de entrenamiento en el conjunto de datos y:\n$$\n\\begin{align}\n  f_{\\mathbf{w},b}(\\mathbf{x^{(i)}}) &= g(z^{(i)})\\tag{3} \\\\\n  z^{(i)} &= \\mathbf{w} \\cdot \\mathbf{x}^{(i)}+ b\\tag{4} \\\\\n  g(z^{(i)}) &= \\frac{1}{1+e^{-z^{(i)}}}\\tag{5} \n\\end{align}\n$$\n ",
      "metadata": {}
    },
    {
      "id": "4bf38048-1839-46c9-9d2d-208f97f5c6c0",
      "cell_type": "markdown",
      "source": "<a name='ex-02'></a>\n#### Descripción del código\n\nEl algoritmo para `compute_cost_logistic` recorre todos los ejemplos calculando la pérdida para cada uno y acumulando el total.\n\nNota que las variables X e y no son valores escalares sino matrices de forma(shape) ($m, n$) y ($m$,) respectivamente, donde $n$ es el número de X características y $m$ es el número de ejemplos de entrenamiento.\n",
      "metadata": {}
    },
    {
      "id": "cd6338c8-021e-464b-a707-5eb83ab7ac30",
      "cell_type": "code",
      "source": "def compute_cost_logistic(X, y, w, b):\n    \"\"\"\n    Calcula costo\n\n    Args:\n      X (ndarray (m,n)): Datos, m ejemplos con n características\n      y (ndarray (m,)) : valores objetivo\n      w (ndarray (n,)) : parametros del modelo  \n      b (scalar)       : parametro del modelo\n      \n    Returns:\n      costo (scalar): costo\n    \"\"\"\n\n    m = X.shape[0]\n    cost = 0.0\n    for i in range(m):\n        z_i = np.dot(X[i],w) + b\n        f_wb_i = sigmoid(z_i)\n        cost +=  -y[i]*np.log(f_wb_i) - (1-y[i])*np.log(1-f_wb_i)\n             \n    cost = cost / m\n    return cost\n",
      "metadata": {
        "trusted": true
      },
      "outputs": [],
      "execution_count": null
    },
    {
      "id": "c25a19cd-dc5f-439a-b9c5-a90ee4d159d1",
      "cell_type": "markdown",
      "source": "Verifica la implementación de la función de costo usando la siguiente celda.",
      "metadata": {}
    },
    {
      "id": "7549ce59-9f10-4127-883f-685b89d082e9",
      "cell_type": "code",
      "source": "w_tmp = np.array([1,1])\nb_tmp = -3\nprint(compute_cost_logistic(X_train, y_train, w_tmp, b_tmp))",
      "metadata": {
        "trusted": true
      },
      "outputs": [],
      "execution_count": null
    },
    {
      "id": "04280838-a7f1-4f6c-ab64-c9fb3234242f",
      "cell_type": "markdown",
      "source": "**Salida esperada**: 0.3668667864055175",
      "metadata": {}
    },
    {
      "id": "69af4e09-a71f-4991-8f7f-22829a0f7b22",
      "cell_type": "markdown",
      "source": "## Ejemplo\nAhora, veamos cuál es la salida de la función de costo para un valor diferente de $w$. \n\n* En un ejercicio anterior, graficaste la frontera de decisión para  $b = -3, w_0 = 1, w_1 = 1$. Es decir, tenías `b = -3, w = np.array([1,1])`.\n\n* Supón que quieres ver si $b = -4, w_0 = 1, w_1 = 1$, o `b = -4, w = np.array([1,1])` proporciona un mejor modelo.\n\nPrimero graficaremos la frontera de decisión para estos dos valores diferentes de $b$ para ver cuál se ajusta mejor a los datos.\n\n* Para $b = -3, w_0 = 1, w_1 = 1$, graficaremos $-3 + x_0+x_1 = 0$ (en azul)\n* Para $b = -4, w_0 = 1, w_1 = 1$, graficaremos $-4 + x_0+x_1 = 0$ (en magenta)",
      "metadata": {}
    },
    {
      "id": "ecdab802-2b9f-4a70-953a-b9b024583a30",
      "cell_type": "code",
      "source": "import matplotlib.pyplot as plt\n\n# Choose values between 0 and 6\nx0 = np.arange(0,6)\n\n# Plot the two decision boundaries\nx1 = 3 - x0\nx1_other = 4 - x0\n\nfig,ax = plt.subplots(1, 1, figsize=(4,4))\n# Plot the decision boundary\nax.plot(x0,x1, c=dlc[\"dlblue\"], label=\"$b$=-3\")\nax.plot(x0,x1_other, c=dlc[\"dlmagenta\"], label=\"$b$=-4\")\nax.axis([0, 4, 0, 4])\n\n# Plot the original data\nplot_data(X_train,y_train,ax)\nax.axis([0, 4, 0, 4])\nax.set_ylabel('$x_1$', fontsize=12)\nax.set_xlabel('$x_0$', fontsize=12)\nplt.legend(loc=\"upper right\")\nplt.title(\"Frontera de Decisión\")\nplt.show()",
      "metadata": {
        "trusted": true
      },
      "outputs": [],
      "execution_count": null
    },
    {
      "id": "8e6fe712-2f7c-4d27-8b79-d068f75f7fd9",
      "cell_type": "markdown",
      "source": "Puedes ver en este gráfico que `b = -4, w = np.array([1,1])` es un peor modelo para los datos de entrenamiento. Veamos si la implementación de la función de costo refleja esto.",
      "metadata": {}
    },
    {
      "id": "2268a3d3-93be-4c0a-b4e8-bf12841b477c",
      "cell_type": "code",
      "source": "w_array1 = np.array([1,1])\nb_1 = -3\nw_array2 = np.array([1,1])\nb_2 = -4\n\nprint(\"Costo para b = -3 : \", compute_cost_logistic(X_train, y_train, w_array1, b_1))\nprint(\"Costo para b = -4 : \", compute_cost_logistic(X_train, y_train, w_array2, b_2))",
      "metadata": {
        "trusted": true
      },
      "outputs": [],
      "execution_count": null
    },
    {
      "id": "2c3ca9b1-5c36-4654-8a51-7033caa8ea1c",
      "cell_type": "markdown",
      "source": "**Salida esperada**\n\nCosto para b = -3 :  0.3668667864055175\n\nCosto para b = -4 :  0.5036808636748461\n\n\nPuedes ver que la función de costo se comporta como se espera y el costo para `b = -4, w = np.array([1,1])` es efectivamente mayor que el costo para `b = -3, w = np.array([1,1])`",
      "metadata": {}
    },
    {
      "id": "e3a3bb97-a9ee-4262-9f6d-5e3c5af5d04c",
      "cell_type": "markdown",
      "source": "## ¡Felicitaciones!\nEn este ejercicio examinaste y utilizaste la función de costo para regresión logística.",
      "metadata": {}
    },
    {
      "id": "2a0b540a-6f3b-47f6-9873-a89395304192",
      "cell_type": "code",
      "source": "",
      "metadata": {
        "trusted": true
      },
      "outputs": [],
      "execution_count": null
    }
  ]
}