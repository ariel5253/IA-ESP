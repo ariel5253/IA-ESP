{
  "metadata": {
    "kernelspec": {
      "name": "python",
      "display_name": "Python (Pyodide)",
      "language": "python"
    },
    "language_info": {
      "codemirror_mode": {
        "name": "python",
        "version": 3
      },
      "file_extension": ".py",
      "mimetype": "text/x-python",
      "name": "python",
      "nbconvert_exporter": "python",
      "pygments_lexer": "ipython3",
      "version": "3.8"
    }
  },
  "nbformat_minor": 5,
  "nbformat": 4,
  "cells": [
    {
      "id": "2e1446bd-03d4-468c-99e3-8d4e9ecba54b",
      "cell_type": "markdown",
      "source": "# Ejercicio Opcional:  Sobreajuste ",
      "metadata": {}
    },
    {
      "id": "ca8b5f29-5d83-47e5-b419-a9d007620f86",
      "cell_type": "markdown",
      "source": "##### Utiliza el kernel Pyodide para este Notebook si usas JupyterLite",
      "metadata": {}
    },
    {
      "id": "0bd55cc1-70c6-4497-99fa-0e829fb95286",
      "cell_type": "markdown",
      "source": "## Objetivos\nEn este ejercicio, explorarás:\n- las situaciones donde puede ocurrir sobreajuste\n- algunas de las soluciones",
      "metadata": {}
    },
    {
      "id": "5dcaa290-d97e-4938-94cc-8265cae120b3",
      "cell_type": "code",
      "source": "import micropip\nawait micropip.install(\"ipywidgets\")",
      "metadata": {
        "trusted": true
      },
      "outputs": [],
      "execution_count": null
    },
    {
      "id": "60408f81-8c74-41bc-abd8-1fb713c7230c",
      "cell_type": "code",
      "source": "#%matplotlib widget\nimport matplotlib.pyplot as plt\nfrom ipywidgets import Output\nfrom plt_overfit import overfit_example, output\nplt.style.use('./deeplearning.mplstyle')",
      "metadata": {
        "trusted": true
      },
      "outputs": [],
      "execution_count": null
    },
    {
      "id": "3c3bb938-4923-46e4-8656-649b3e8289e7",
      "cell_type": "markdown",
      "source": "# Sobreajuste\nLa clase de esta semana describió situaciones donde puede surgir el sobreajuste. Ejecuta la siguiente celda para generar un gráfico que te permitirá explorar el sobreajuste. Hay más instrucciones debajo de la celda.",
      "metadata": {}
    },
    {
      "id": "6638bf9e-b3b0-48d0-95d3-35e8c2e795b2",
      "cell_type": "code",
      "source": "plt.close(\"all\")\ndisplay(output)\nofit = overfit_example(False)",
      "metadata": {
        "trusted": true
      },
      "outputs": [],
      "execution_count": null
    },
    {
      "id": "c3d747e8-15b1-41a6-8481-d5faca7a2a7f",
      "cell_type": "markdown",
      "source": "Si usas JupyterLab, en el gráfico anterior puedes:\n- alternar entre ejemplos de Regresión y Categorización\n- agregar datos\n- seleccionar el grado del modelo\n- ajustar el modelo a los datos  \n\nAquí hay algunas cosas que deberías probar:\n- Ajusta los datos con grado (degree) = 1; Observa el 'subajuste' (underfit).\n- Ajusta los datos con grado (degree) = 6; Observa el 'sobreajuste' (overfit).\n- Ajusta el grado para obtener el 'mejor ajuste'\n- agrega datos:\n    - ejemplos extremos pueden aumentar el sobreajuste /overfit (asumiendo que son valores atípicos).\n    - ejemplos nominales pueden reducir el sobreajuste / overfit\n- alterna entre `Regresión` (regression) y `Categórico` (categorical) para probar ambos ejemplos.\n\nPara reiniciar el gráfico, vuelve a ejecutar la celda. Haz clic despacio para permitir que el gráfico se actualice antes de recibir el siguiente clic.\n\nNotas sobre las implementaciones:\n- las curvas 'ideales' representan el modelo generador al que se le añadió ruido para obtener el conjunto de datos\n- 'ajustar' no usa descenso de gradiente puro para mejorar la velocidad. Estos métodos pueden usarse en conjuntos de datos pequeños. ",
      "metadata": {}
    },
    {
      "id": "83a1319d-bed8-48b9-a3c6-f121f52a21f0",
      "cell_type": "markdown",
      "source": "## ¡Felicitaciones!\nHas desarrollado intuición sobre las causas y soluciones al sobreajuste. En el siguiente ejercicio, explorarás una solución comúnmente utilizada, la Regularización.",
      "metadata": {}
    },
    {
      "id": "8bc1a631-0cdf-4ac4-b0b9-c422cba538c4",
      "cell_type": "code",
      "source": "",
      "metadata": {
        "trusted": true
      },
      "outputs": [],
      "execution_count": null
    }
  ]
}