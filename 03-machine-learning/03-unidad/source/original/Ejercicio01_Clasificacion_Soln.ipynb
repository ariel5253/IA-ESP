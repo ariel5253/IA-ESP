{
  "metadata": {
    "kernelspec": {
      "name": "xpython",
      "display_name": "Python 3.13 (XPython)",
      "language": "python"
    },
    "language_info": {
      "file_extension": ".py",
      "mimetype": "text/x-python",
      "name": "python",
      "version": "3.13.1"
    }
  },
  "nbformat_minor": 5,
  "nbformat": 4,
  "cells": [
    {
      "id": "44facfcb-b633-473f-a8fc-1de26e00abb7",
      "cell_type": "markdown",
      "source": "# Ejercicio: Clasificación\n\nEn este ejercicio, contrastarás regresión y clasificación.",
      "metadata": {}
    },
    {
      "id": "a6b71ac6-120b-4e0f-83b4-6f472306cdae",
      "cell_type": "code",
      "source": "import numpy as np\n#%matplotlib widget\nimport matplotlib.pyplot as plt\nfrom lab_utils_common import dlc, plot_data\nfrom plt_one_addpt_onclick import plt_one_addpt_onclick\nplt.style.use('./deeplearning.mplstyle')",
      "metadata": {
        "trusted": true
      },
      "outputs": [],
      "execution_count": null
    },
    {
      "id": "8abc1858-c95b-486e-8eed-4393d5431896",
      "cell_type": "markdown",
      "source": "## Problemas de Clasificación\nEjemplos de problemas de clasificación son cosas como: identificar un correo electrónico como Spam o No Spam o determinar si un tumor es maligno o benigno. En particular, estos son ejemplos de *clasificación binaria* donde hay dos posibles resultados. Los resultados pueden describirse en pares de 'positivo'/'negativo' como 'sí'/'no', 'verdadero'/'falso' o '1'/'0'. \n\nLos gráficos de conjuntos de datos de clasificación suelen usar símbolos para indicar el resultado de un ejemplo. En los gráficos a continuación, se utiliza 'X' para representar los valores positivos mientras que 'O' representa los resultados negativos. ",
      "metadata": {}
    },
    {
      "id": "8e15adc0-8072-4c89-8be5-9ae30151edd1",
      "cell_type": "code",
      "source": "x_train = np.array([0., 1, 2, 3, 4, 5])\ny_train = np.array([0,  0, 0, 1, 1, 1])\nX_train2 = np.array([[0.5, 1.5], [1,1], [1.5, 0.5], [3, 0.5], [2, 2], [1, 2.5]])\ny_train2 = np.array([0, 0, 0, 1, 1, 1])",
      "metadata": {
        "trusted": true
      },
      "outputs": [],
      "execution_count": null
    },
    {
      "id": "6c9c582f-6af0-4f34-9a96-7473b301a8b9",
      "cell_type": "code",
      "source": "pos = y_train == 1\nneg = y_train == 0\n\nfig,ax = plt.subplots(1,2,figsize=(8,3))\n#gráfico 1, una variable\nax[0].scatter(x_train[pos], y_train[pos], marker='x', s=80, c = 'red', label=\"y=1\")\nax[0].scatter(x_train[neg], y_train[neg], marker='o', s=100, label=\"y=0\", facecolors='none', \n              edgecolors=dlc[\"dlblue\"],lw=3)\n\nax[0].set_ylim(-0.08,1.1)\nax[0].set_ylabel('y', fontsize=12)\nax[0].set_xlabel('x', fontsize=12)\nax[0].set_title('gráfico de una variable')\nax[0].legend()\n\n#gráfico 2, dos variables\nplot_data(X_train2, y_train2, ax[1])\nax[1].axis([0, 4, 0, 4])\nax[1].set_ylabel('$x_1$', fontsize=12)\nax[1].set_xlabel('$x_0$', fontsize=12)\nax[1].set_title('gráfico de dos variables')\nax[1].legend()\nplt.tight_layout()\nplt.show()\n",
      "metadata": {
        "trusted": true
      },
      "outputs": [],
      "execution_count": null
    },
    {
      "id": "745bb340-a1a2-4281-a795-4399066e8efa",
      "cell_type": "markdown",
      "source": "Observa en los gráficos anteriores:\n- En el gráfico de una sola variable, los resultados positivos se muestran tanto como 'X' rojas como y=1. Los resultados negativos son 'O' azules y se ubican en y=0.\n   - Recuerda que en el caso de la regresión lineal, y no se habría limitado a dos valores sino que podría haber sido cualquier valor.\n- En el gráfico de dos variables, el eje y no está disponible. Los resultados positivos se muestran como 'X' rojas, mientras que los resultados negativos usan el símbolo 'O' azul.\n    - Recuerda que en el caso de la regresión lineal con múltiples X características, y no se habría limitado a dos valores y un gráfico similar habría sido tridimensional.",
      "metadata": {}
    },
    {
      "id": "274decae-cab3-4a46-9dc3-ba3e0115030e",
      "cell_type": "markdown",
      "source": "## Enfoque de Regresión Lineal\nEn la semana anterior, aplicaste regresión lineal para construir un modelo de predicción. Probemos ese enfoque aquí usando el ejemplo simple que se describió en la clase. El modelo predecirá si un tumor es benigno o maligno según el tamaño del tumor.  Prueba lo siguiente:\n- Haz clic en 'Ejecutar Regresión Lineal' para encontrar el mejor modelo de regresión lineal para los datos dados.\n    - Observa que el modelo lineal resultante **no** coincide bien con los datos. \nUna opción para mejorar los resultados es aplicar un *umbral*. \n- Marca la casilla en 'Alternar umbral 0.5' para mostrar las predicciones si se aplica un umbral.\n    - Estas predicciones se ven bien, las predicciones coinciden con los datos\n- *Importante*: Ahora, agrega más puntos de datos 'malignos' en el extremo derecho, en el rango de tamaño de tumor grande (cerca de 10), y vuelve a ejecutar la regresión lineal.\n    - Ahora, el modelo predice el tumor más grande, ¡pero el punto de datos en x=3 está siendo predicho incorrectamente!\n- para limpiar/renovar el gráfico, vuelve a ejecutar la celda que contiene el comando de gráfico.",
      "metadata": {}
    },
    {
      "id": "04d7b012-2b69-4437-9064-8545f384921f",
      "cell_type": "code",
      "source": "w_in = np.zeros((1))\nb_in = 0\nplt.close('all') \naddpt = plt_one_addpt_onclick( x_train,y_train, w_in, b_in, logistic=False)",
      "metadata": {
        "trusted": true
      },
      "outputs": [],
      "execution_count": null
    },
    {
      "id": "3e3c38f9-82b4-420e-bfb3-f2c7ed9757b3",
      "cell_type": "markdown",
      "source": "El ejemplo anterior demuestra que el modelo lineal es insuficiente para modelar datos categóricos. El modelo puede extenderse como se describe en el siguiente ejercicio.",
      "metadata": {}
    },
    {
      "id": "ad5f90f1-b47e-4dc2-8be8-54bc2359ef50",
      "cell_type": "markdown",
      "source": "## ¡Felicitaciones!\nEn este ejercicio:\n- exploraste conjuntos de datos categóricos y su graficación\n- determinaste que la regresión lineal era insuficiente para un problema de clasificación.",
      "metadata": {}
    },
    {
      "id": "4cf60784-79c7-4ea5-ad0b-480a4321c672",
      "cell_type": "code",
      "source": "",
      "metadata": {
        "trusted": true
      },
      "outputs": [],
      "execution_count": null
    },
    {
      "id": "96335ddf-d49f-41c0-9817-a4eddaddbac6",
      "cell_type": "code",
      "source": "",
      "metadata": {
        "trusted": true
      },
      "outputs": [],
      "execution_count": null
    }
  ]
}