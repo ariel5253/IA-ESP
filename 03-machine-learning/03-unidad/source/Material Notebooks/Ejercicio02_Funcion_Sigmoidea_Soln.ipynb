{
 "cells": [
  {
   "cell_type": "markdown",
   "id": "ee4ae43c-bbdd-486b-9b03-9d4d7834f90c",
   "metadata": {},
   "source": [
    "# Ejercicio: Función Sigmoidea (Sigmoid)\n",
    "En este ejercicio, explorarás la función sigmoidea, que es fundamental en la regresión logística y otros modelos de clasificación."
   ]
  },
  {
   "cell_type": "code",
   "execution_count": null,
   "id": "e3320b1e-c9fb-4139-894d-87611b59e293",
   "metadata": {
    "trusted": true
   },
   "outputs": [],
   "source": [
    "import numpy as np\n",
    "#%matplotlib widget\n",
    "import matplotlib.pyplot as plt\n",
    "from plt_one_addpt_onclick import plt_one_addpt_onclick\n",
    "from lab_utils_common import draw_vthresh\n",
    "plt.style.use('./deeplearning.mplstyle')"
   ]
  },
  {
   "cell_type": "markdown",
   "id": "366150dc-b59e-47e9-9002-25fe2d3a8c9b",
   "metadata": {},
   "source": [
    "## Objetivos\n",
    "En este ejercicio, vas a:\n",
    "- Explorar la función sigmoidea y su comportamiento."
   ]
  },
  {
   "cell_type": "markdown",
   "id": "09d2062f-f81a-491f-ba3b-f5e5216e8cc9",
   "metadata": {},
   "source": [
    "La función sigmoidea es una función matemática que toma cualquier valor real y lo mapea a un valor entre 0 y 1. Es ampliamente utilizada en modelos de clasificación, especialmente en regresión logística."
   ]
  },
  {
   "cell_type": "code",
   "execution_count": null,
   "id": "5f00eba7-0390-4310-9b8b-0aebfb7a2716",
   "metadata": {
    "trusted": true
   },
   "outputs": [],
   "source": [
    "# Input is an array. \n",
    "input_array = np.array([1,2,3])\n",
    "exp_array = np.exp(input_array)\n",
    "\n",
    "print(\"Entrada to exp:\", input_array)\n",
    "print(\"Salida of exp:\", exp_array)\n",
    "\n",
    "# Input is a single number\n",
    "input_val = 1  \n",
    "exp_val = np.exp(input_val)\n",
    "\n",
    "print(\"Entrada to exp:\", input_val)\n",
    "print(\"Salida of exp:\", exp_val)"
   ]
  },
  {
   "cell_type": "markdown",
   "id": "21c41b1b-582f-42c0-ad55-6b4c3755a57a",
   "metadata": {},
   "source": [
    "La función sigmoidea se define como:\n",
    "$$\\sigma(z) = \\frac{1}{1+e^{-z}}$$\n",
    "donde $z$ es un valor real."
   ]
  },
  {
   "cell_type": "code",
   "execution_count": null,
   "id": "3dc7a4c2-64f3-4907-8cdf-cbe62bc3d042",
   "metadata": {
    "trusted": true
   },
   "outputs": [],
   "source": [
    "def sigmoid(z):\n",
    "    \"\"\"\n",
    "    Calcular el sigmoide de z\n",
    "\n",
    "    Args:\n",
    "        z (ndarray): Un escalar, arreglo numpy de cualquier tamaño.\n",
    "\n",
    "    Returns:\n",
    "        g (ndarray): sigmoide(z), con la misma forma (shape) de z\n",
    "         \n",
    "    \"\"\"\n",
    "\n",
    "    g = 1/(1+np.exp(-z))\n",
    "   \n",
    "    return g"
   ]
  },
  {
   "cell_type": "markdown",
   "id": "ff1f4d16-aefd-4740-b9d5-31e15d415c08",
   "metadata": {},
   "source": [
    "La función sigmoidea tiene una forma(shape) característica en S. Cuando $z$ es muy negativo, la salida se acerca a 0. Cuando $z$ es muy positivo, la salida se acerca a 1."
   ]
  },
  {
   "cell_type": "code",
   "execution_count": null,
   "id": "8520a18f-6bb1-4a7f-9419-55a642bc3bde",
   "metadata": {
    "trusted": true
   },
   "outputs": [],
   "source": [
    "# Generate an array of evenly spaced values between -10 and 10\n",
    "z_tmp = np.arange(-10,11)\n",
    "\n",
    "# Use the function implemented above to get the sigmoid values\n",
    "y = sigmoid(z_tmp)\n",
    "\n",
    "# Code for pretty printing the two arrays next to each other\n",
    "np.set_printoptions(precision=3) \n",
    "print(\"Entrada (z), Salida (sigmoide(z))\")\n",
    "print(np.c_[z_tmp, y])"
   ]
  },
  {
   "cell_type": "markdown",
   "id": "a3a1c682-ef04-4410-8913-d2cd4ab162c1",
   "metadata": {},
   "source": [
    "Puedes ajustar los valores de $z$ para ver cómo cambia la función sigmoidea. Observa cómo la curva se aplana a medida que $z$ se aleja de 0."
   ]
  },
  {
   "cell_type": "code",
   "execution_count": null,
   "id": "a307062d-ad65-475f-95c3-ca022b397d60",
   "metadata": {
    "scrolled": true,
    "trusted": true
   },
   "outputs": [],
   "source": [
    "# Plot z vs sigmoid(z)\n",
    "fig,ax = plt.subplots(1,1,figsize=(5,3))\n",
    "ax.plot(z_tmp, y, c=\"b\")\n",
    "\n",
    "ax.set_title(\"Función Sigmoidea\")\n",
    "ax.set_ylabel('sigmoide(z)')\n",
    "ax.set_xlabel('z')\n",
    "draw_vthresh(ax,0)"
   ]
  },
  {
   "cell_type": "markdown",
   "id": "904e2471-3b12-44c6-b228-28914c6b79d4",
   "metadata": {},
   "source": [
    "La función sigmoidea es útil porque su salida puede interpretarse como una probabilidad. Por ejemplo, en regresión logística, la salida de la función sigmoidea representa la probabilidad de que una muestra pertenezca a la clase positiva."
   ]
  },
  {
   "cell_type": "markdown",
   "id": "c476ba91-68c1-475e-82cc-a59a77ccfd83",
   "metadata": {},
   "source": [
    "## ¡Felicitaciones!\n",
    "En este ejercicio, exploraste la función sigmoidea y su importancia en modelos de clasificación."
   ]
  },
  {
   "cell_type": "markdown",
   "id": "e164b4ee-2212-4a37-bef9-a97fcc22b8f9",
   "metadata": {},
   "source": [
    "Ahora que comprendes la función sigmoidea, estarás mejor preparado para entender cómo se utiliza en la regresión logística y otros algoritmos de clasificación."
   ]
  },
  {
   "cell_type": "code",
   "execution_count": null,
   "id": "5eab24f4-517a-4e6e-8324-e7f7c48f40e2",
   "metadata": {
    "tags": [],
    "trusted": true
   },
   "outputs": [],
   "source": [
    "x_train = np.array([0., 1, 2, 3, 4, 5])\n",
    "y_train = np.array([0,  0, 0, 1, 1, 1])\n",
    "\n",
    "w_in = np.zeros((1))\n",
    "b_in = 0"
   ]
  },
  {
   "cell_type": "markdown",
   "id": "623aa1ca-1883-46b6-96c2-2ec1ba7ed56e",
   "metadata": {},
   "source": [
    "¡Sigue adelante con los siguientes ejercicios para aplicar la función sigmoidea en problemas reales de clasificación!"
   ]
  },
  {
   "cell_type": "code",
   "execution_count": null,
   "id": "c9eed9a3-d1c9-4d4b-a124-eefc16ed04df",
   "metadata": {
    "trusted": true
   },
   "outputs": [],
   "source": [
    "plt.close('all') \n",
    "addpt = plt_one_addpt_onclick( x_train,y_train, w_in, b_in, logistic=True)"
   ]
  },
  {
   "cell_type": "markdown",
   "id": "7e5d9e1f-b3ed-4b46-ab56-3dc18048fb69",
   "metadata": {},
   "source": [
    "¡Has completado el ejercicio sobre la función sigmoidea! Ahora tienes una mejor comprensión de cómo se comporta y por qué es útil en modelos de clasificación."
   ]
  },
  {
   "cell_type": "code",
   "execution_count": null,
   "id": "ee3555ba-1d21-42b6-baa6-eec47e9f60cb",
   "metadata": {
    "trusted": true
   },
   "outputs": [],
   "source": []
  }
 ],
 "metadata": {
  "kernelspec": {
   "display_name": "Python 3.13 (XPython)",
   "language": "python",
   "name": "xpython"
  },
  "language_info": {
   "file_extension": ".py",
   "mimetype": "text/x-python",
   "name": "python",
   "version": "3.13.1"
  }
 },
 "nbformat": 4,
 "nbformat_minor": 5
}
