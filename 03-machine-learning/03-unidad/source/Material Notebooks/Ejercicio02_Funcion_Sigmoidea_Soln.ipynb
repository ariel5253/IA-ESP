{
 "cells": [
  {
   "cell_type": "markdown",
   "id": "59e7214f",
   "metadata": {},
   "source": [
    "<div style='background-color: #1976d2; color: #fff; padding: 12px 18px; border-radius: 8px; font-weight: bold; font-size: 1.2em; margin-bottom: 12px;'>INICIO DE CAMBIO: Contexto profesional y objetivos del ejercicio</div>"
   ]
  },
  {
   "cell_type": "markdown",
   "id": "ee4ae43c-bbdd-486b-9b03-9d4d7834f90c",
   "metadata": {},
   "source": [
    "# Ejercicio: Función Sigmoidea (Sigmoid)\n",
    "La función sigmoidea es esencial en regresión logística y clasificación binaria. Este ejercicio aborda su formulación matemática, implementación eficiente y aplicación práctica en machine learning, siguiendo criterios de rigor y claridad profesional."
   ]
  },
  {
   "cell_type": "code",
   "execution_count": 50,
   "id": "e3320b1e-c9fb-4139-894d-87611b59e293",
   "metadata": {
    "trusted": true
   },
   "outputs": [],
   "source": [
    "import numpy as np\n",
    "#%matplotlib widget\n",
    "import matplotlib.pyplot as plt\n",
    "from plt_one_addpt_onclick import plt_one_addpt_onclick\n",
    "from lab_utils_common import draw_vthresh\n",
    "plt.style.use('./deeplearning.mplstyle')"
   ]
  },
  {
   "cell_type": "markdown",
   "id": "8beff9b5",
   "metadata": {},
   "source": [
    "<div style='background-color: #64b5f6; color: #222; padding: 10px 16px; border-radius: 6px; font-weight: bold; font-size: 1.05em; margin-bottom: 10px;'>INICIO DE CAMBIO: Justificación técnica de las librerías y módulos importados</div>"
   ]
  },
  {
   "cell_type": "markdown",
   "id": "e20e5dbf",
   "metadata": {},
   "source": [
    "**Librerías y módulos utilizados:**\n",
    "- `numpy`: Cálculo matemático y vectorizado, optimizado para grandes volúmenes de datos.\n",
    "- `matplotlib.pyplot`: Visualización avanzada de funciones y resultados.\n",
    "- `plt_one_addpt_onclick`, `lab_utils_common`: Herramientas especializadas para interacción gráfica y manipulación de datos.\n",
    "- `deeplearning.mplstyle`: Estilo gráfico profesional para presentaciones técnicas.\n",
    "La selección de librerías responde a criterios de eficiencia, reproducibilidad y calidad en proyectos de machine learning."
   ]
  },
  {
   "cell_type": "markdown",
   "id": "366150dc-b59e-47e9-9002-25fe2d3a8c9b",
   "metadata": {},
   "source": [
    "**Objetivos del ejercicio:**\n",
    "- Analizar la función sigmoidea y su papel en clasificación binaria.\n",
    "- Implementar la función de forma eficiente y vectorizada.\n",
    "- Visualizar su comportamiento y aplicación en un caso práctico.\n",
    "- Documentar el proceso con justificación técnica."
   ]
  },
  {
   "cell_type": "markdown",
   "id": "09d2062f-f81a-491f-ba3b-f5e5216e8cc9",
   "metadata": {},
   "source": [
    "La función sigmoidea transforma cualquier valor real en una probabilidad entre 0 y 1. Es la base matemática de la regresión logística y permite interpretar la salida de modelos de clasificación binaria."
   ]
  },
  {
   "cell_type": "code",
   "execution_count": 51,
   "id": "5f00eba7-0390-4310-9b8b-0aebfb7a2716",
   "metadata": {
    "trusted": true
   },
   "outputs": [
    {
     "name": "stdout",
     "output_type": "stream",
     "text": [
      "Entrada to exp: [1 2 3]\n",
      "Salida of exp: [ 2.718  7.389 20.086]\n",
      "Entrada to exp: 1\n",
      "Salida of exp: 2.718281828459045\n"
     ]
    }
   ],
   "source": [
    "# Input is an array. \n",
    "input_array = np.array([1,2,3])\n",
    "exp_array = np.exp(input_array)\n",
    "\n",
    "print(\"Entrada to exp:\", input_array)\n",
    "print(\"Salida of exp:\", exp_array)\n",
    "\n",
    "# Input is a single number\n",
    "input_val = 1  \n",
    "exp_val = np.exp(input_val)\n",
    "\n",
    "print(\"Entrada to exp:\", input_val)\n",
    "print(\"Salida of exp:\", exp_val)"
   ]
  },
  {
   "cell_type": "markdown",
   "id": "a545f705",
   "metadata": {},
   "source": [
    "$$\\sigma(z) = \\frac{1}{1+e^{-z}}$$\n",
    "Esta expresión define la función sigmoidea, utilizada para mapear valores reales al rango [0, 1] en clasificación binaria."
   ]
  },
  {
   "cell_type": "markdown",
   "id": "21c41b1b-582f-42c0-ad55-6b4c3755a57a",
   "metadata": {},
   "source": [
    "$$\\sigma(z) = \\frac{1}{1+e^{-z}}$$\n",
    "Donde $z$ es un valor real."
   ]
  },
  {
   "cell_type": "code",
   "execution_count": 52,
   "id": "3dc7a4c2-64f3-4907-8cdf-cbe62bc3d042",
   "metadata": {
    "trusted": true
   },
   "outputs": [],
   "source": [
    "def sigmoid(z):\n",
    "    \"\"\"\n",
    "    Calcular el sigmoide de z\n",
    "\n",
    "    Args:\n",
    "        z (ndarray): Un escalar, arreglo numpy de cualquier tamaño.\n",
    "\n",
    "    Returns:\n",
    "        g (ndarray): sigmoide(z), con la misma forma (shape) de z\n",
    "         \n",
    "    \"\"\"\n",
    "\n",
    "    g = 1/(1+np.exp(-z))\n",
    "   \n",
    "    return g"
   ]
  },
  {
   "cell_type": "markdown",
   "id": "c6d7ac75",
   "metadata": {},
   "source": [
    "<div style='background-color: #aed581; color: #222; padding: 10px 16px; border-radius: 6px; font-weight: bold; font-size: 1.05em; margin-bottom: 10px;'>INICIO DE CAMBIO: Implementación profesional de la función sigmoidea</div>"
   ]
  },
  {
   "cell_type": "markdown",
   "id": "e6b85dc3",
   "metadata": {},
   "source": [
    "La función sigmoidea transforma cualquier valor real en una probabilidad entre 0 y 1. Esta implementación acepta tanto escalares como arrays numpy, permitiendo cálculos vectorizados y eficientes.\n",
    "**Argumentos:**\n",
    "- `z`: escalar o array numpy de cualquier tamaño.\n",
    "**Retorno:**\n",
    "- `g`: sigmoide(z), con la misma forma que z.\n",
    "La vectorización es clave para procesar grandes volúmenes de datos en machine learning."
   ]
  },
  {
   "cell_type": "markdown",
   "id": "ff1f4d16-aefd-4740-b9d5-31e15d415c08",
   "metadata": {},
   "source": [
    "La función sigmoidea tiene una forma(shape) característica en S. Cuando $z$ es muy negativo, la salida se acerca a 0. Cuando $z$ es muy positivo, la salida se acerca a 1."
   ]
  },
  {
   "cell_type": "code",
   "execution_count": 53,
   "id": "8520a18f-6bb1-4a7f-9419-55a642bc3bde",
   "metadata": {
    "trusted": true
   },
   "outputs": [
    {
     "name": "stdout",
     "output_type": "stream",
     "text": [
      "Entrada (z), Salida (sigmoide(z))\n",
      "[[-1.000e+01  4.540e-05]\n",
      " [-9.000e+00  1.234e-04]\n",
      " [-8.000e+00  3.354e-04]\n",
      " [-7.000e+00  9.111e-04]\n",
      " [-6.000e+00  2.473e-03]\n",
      " [-5.000e+00  6.693e-03]\n",
      " [-4.000e+00  1.799e-02]\n",
      " [-3.000e+00  4.743e-02]\n",
      " [-2.000e+00  1.192e-01]\n",
      " [-1.000e+00  2.689e-01]\n",
      " [ 0.000e+00  5.000e-01]\n",
      " [ 1.000e+00  7.311e-01]\n",
      " [ 2.000e+00  8.808e-01]\n",
      " [ 3.000e+00  9.526e-01]\n",
      " [ 4.000e+00  9.820e-01]\n",
      " [ 5.000e+00  9.933e-01]\n",
      " [ 6.000e+00  9.975e-01]\n",
      " [ 7.000e+00  9.991e-01]\n",
      " [ 8.000e+00  9.997e-01]\n",
      " [ 9.000e+00  9.999e-01]\n",
      " [ 1.000e+01  1.000e+00]]\n"
     ]
    }
   ],
   "source": [
    "# Generate an array of evenly spaced values between -10 and 10\n",
    "z_tmp = np.arange(-10,11)\n",
    "\n",
    "# Use the function implemented above to get the sigmoid values\n",
    "y = sigmoid(z_tmp)\n",
    "\n",
    "# Code for pretty printing the two arrays next to each other\n",
    "np.set_printoptions(precision=3) \n",
    "print(\"Entrada (z), Salida (sigmoide(z))\")\n",
    "print(np.c_[z_tmp, y])"
   ]
  },
  {
   "cell_type": "markdown",
   "id": "122d0b2c",
   "metadata": {},
   "source": [
    "<div style='background-color: #4dd0e1; color: #222; padding: 10px 16px; border-radius: 6px; font-weight: bold; font-size: 1.05em; margin-bottom: 10px;'>INICIO DE CAMBIO: Visualización numérica y gráfica de la función sigmoidea</div>"
   ]
  },
  {
   "cell_type": "markdown",
   "id": "c7c82c03",
   "metadata": {},
   "source": [
    "Este bloque genera valores de $z$ y calcula la función sigmoidea para cada uno, mostrando cómo la salida se aproxima a 0 para valores negativos y a 1 para valores positivos.\n",
    "La visualización gráfica permite identificar el punto de inflexión (umbral) y la transición suave entre clases.\n",
    "Interpretar correctamente la forma en S es esencial para entender la toma de decisiones en clasificación binaria."
   ]
  },
  {
   "cell_type": "markdown",
   "id": "a3a1c682-ef04-4410-8913-d2cd4ab162c1",
   "metadata": {},
   "source": [
    "Puedes ajustar los valores de $z$ para ver cómo cambia la función sigmoidea. Observa cómo la curva se aplana a medida que $z$ se aleja de 0."
   ]
  },
  {
   "cell_type": "code",
   "execution_count": 54,
   "id": "a307062d-ad65-475f-95c3-ca022b397d60",
   "metadata": {
    "scrolled": true,
    "trusted": true
   },
   "outputs": [
    {
     "data": {
      "image/png": "[encoded data removed]",
      "text/plain": [
       "<Figure size 500x300 with 1 Axes>"
      ]
     },
     "metadata": {},
     "output_type": "display_data"
    }
   ],
   "source": [
    "# Plot z vs sigmoid(z)\n",
    "fig,ax = plt.subplots(1,1,figsize=(5,3))\n",
    "ax.plot(z_tmp, y, c=\"b\")\n",
    "\n",
    "ax.set_title(\"Función Sigmoidea\")\n",
    "ax.set_ylabel('sigmoide(z)')\n",
    "ax.set_xlabel('z')\n",
    "draw_vthresh(ax,0)"
   ]
  },
  {
   "cell_type": "markdown",
   "id": "904e2471-3b12-44c6-b228-28914c6b79d4",
   "metadata": {},
   "source": [
    "La función sigmoidea es útil porque su salida puede interpretarse como una probabilidad. Por ejemplo, en regresión logística, la salida de la función sigmoidea representa la probabilidad de que una muestra pertenezca a la clase positiva."
   ]
  },
  {
   "cell_type": "markdown",
   "id": "c476ba91-68c1-475e-82cc-a59a77ccfd83",
   "metadata": {},
   "source": [
    "## ¡Felicitaciones!\n",
    "En este ejercicio, exploraste la función sigmoidea y su importancia en modelos de clasificación."
   ]
  },
  {
   "cell_type": "markdown",
   "id": "e164b4ee-2212-4a37-bef9-a97fcc22b8f9",
   "metadata": {},
   "source": [
    "Ahora que comprendes la función sigmoidea, estarás mejor preparado para entender cómo se utiliza en la regresión logística y otros algoritmos de clasificación."
   ]
  },
  {
   "cell_type": "code",
   "execution_count": 55,
   "id": "5eab24f4-517a-4e6e-8324-e7f7c48f40e2",
   "metadata": {
    "tags": [],
    "trusted": true
   },
   "outputs": [],
   "source": [
    "x_train = np.array([0., 1, 2, 3, 4, 5])\n",
    "y_train = np.array([0,  0, 0, 1, 1, 1])\n",
    "\n",
    "w_in = np.zeros((1))\n",
    "b_in = 0"
   ]
  },
  {
   "cell_type": "markdown",
   "id": "835b21f6",
   "metadata": {},
   "source": [
    "<div style='background-color: #ffb74d; color: #222; padding: 10px 16px; border-radius: 6px; font-weight: bold; font-size: 1.05em; margin-bottom: 10px;'>INICIO DE CAMBIO: Aplicación práctica</div>"
   ]
  },
  {
   "cell_type": "markdown",
   "id": "23b61e45",
   "metadata": {},
   "source": [
    "En este bloque se definen los datos de entrenamiento para un problema de clasificación binaria. Los parámetros iniciales (`w_in`, `b_in`) se establecen en cero para iniciar el proceso de ajuste del modelo.\n",
    "La correcta definición de los datos y parámetros es esencial para obtener resultados confiables en machine learning."
   ]
  },
  {
   "cell_type": "markdown",
   "id": "623aa1ca-1883-46b6-96c2-2ec1ba7ed56e",
   "metadata": {},
   "source": [
    "¡Sigue adelante con los siguientes ejercicios para aplicar la función sigmoidea en problemas reales de clasificación!"
   ]
  },
  {
   "cell_type": "code",
   "execution_count": 56,
   "id": "c9eed9a3-d1c9-4d4b-a124-eefc16ed04df",
   "metadata": {
    "trusted": true
   },
   "outputs": [
    {
     "data": {
      "image/png": "[encoded data removed]",
      "text/plain": [
       "<Figure size 800x400 with 3 Axes>"
      ]
     },
     "metadata": {},
     "output_type": "display_data"
    }
   ],
   "source": [
    "plt.close('all') \n",
    "addpt = plt_one_addpt_onclick( x_train,y_train, w_in, b_in, logistic=True)"
   ]
  },
  {
   "cell_type": "markdown",
   "id": "8baf1645",
   "metadata": {},
   "source": [
    "<div style='background-color: #ff9800; color: #222; padding: 10px 16px; border-radius: 6px; font-weight: bold; font-size: 1.05em; margin-bottom: 10px;'>INICIO DE CAMBIO: Interacción gráfica y análisis visual del modelo</div>"
   ]
  },
  {
   "cell_type": "markdown",
   "id": "be0bd701",
   "metadata": {},
   "source": [
    "Este bloque activa la regresión logística para clasificación binaria. Permite agregar puntos de datos y observar cómo la función sigmoidea responde, mostrando el umbral de decisión y la transición entre clases.\n",
    "La visualización interactiva es clave para comprender el comportamiento del modelo y ajustar parámetros de forma informada."
   ]
  },
  {
   "cell_type": "markdown",
   "id": "7e5d9e1f-b3ed-4b46-ab56-3dc18048fb69",
   "metadata": {},
   "source": [
    "¡Has completado el ejercicio sobre la función sigmoidea! Ahora tienes una mejor comprensión de cómo se comporta y por qué es útil en modelos de clasificación."
   ]
  },
  {
   "cell_type": "markdown",
   "id": "46365cef",
   "metadata": {},
   "source": [
    "## Conclusiones técnicas y personales\n",
    "- La regresión logística, basada en la función sigmoidea, permite predicciones probabilísticas robustas en clasificación binaria.\n",
    "- La función sigmoidea facilita la interpretación y la toma de decisiones en modelos predictivos.\n",
    "- La regresión lineal no es adecuada para clasificación binaria por su rango ilimitado y falta de separación clara entre clases.\n",
    "- La selección del modelo y la documentación rigurosa son esenciales para resultados confiables y reproducibles en machine learning."
   ]
  },
  {
   "cell_type": "markdown",
   "id": "0cbb6300",
   "metadata": {},
   "source": [
    "<div style='background-color: #ffe066; color: #333; padding: 10px 14px; border-radius: 6px; font-weight: bold; font-size: 1.1em; margin-bottom: 10px;'>FIN DE CAMBIO: Conclusiones técnicas y personales</div>\n",
    "**Conclusiones técnicas y personales**\n",
    "- La función sigmoidea es esencial para transformar valores reales en probabilidades, permitiendo una interpretación clara en clasificación binaria.\n",
    "- La implementación vectorizada y la visualización gráfica son fundamentales para el análisis eficiente y profesional de modelos.\n",
    "- La regresión logística supera a la regresión lineal en problemas de clasificación, asegurando predicciones en el rango [0, 1] y mejor separación de clases.\n",
    "- La documentación detallada y la justificación de cada paso facilitan el aprendizaje y la revisión."
   ]
  },
  {
   "cell_type": "markdown",
   "id": "99729980",
   "metadata": {},
   "source": [
    "### Fórmulas Fundamentales en Clasificación Binaria\n",
    "Las siguientes expresiones matemáticas son esenciales para el desarrollo y análisis de modelos de regresión logística en machine learning:\n",
    "- **Función sigmoidea (activación):**\n",
    "$$\\sigma(z) = \\frac{1}{1+e^{-z}}$$\n",
    "Esta función transforma cualquier valor real $z$ en una probabilidad en el rango [0, 1], permitiendo la interpretación probabilística de la salida del modelo.\n",
    "- **Función de costo logístico (entropía cruzada):**\n",
    "$$J(w, b) = -\\frac{1}{m} \\sum_{i=1}^{m} \\left[y^{(i)} \\log(\\hat{y}^{(i)}) + (1-y^{(i)}) \\log(1-\\hat{y}^{(i)})\\right]$$\n",
    "Esta función mide el desempeño del modelo, penalizando predicciones alejadas de la clase real y optimizando los parámetros $w$ y $b$ para máxima precisión.\n",
    "**Nota:** La correcta interpretación y aplicación de estas fórmulas es indispensable para el diseño de modelos robustos y la validación estadística en proyectos profesionales de machine learning."
   ]
  },
  {
   "cell_type": "markdown",
   "id": "9f48f51c",
   "metadata": {},
   "source": [
    "$$\\sigma(z) = \\frac{1}{1+e^{-z}}$$\n",
    "$$J(w, b) = -\\frac{1}{m} \\sum_{i=1}^{m} [y^{(i)} \\log(\\hat{y}^{(i)}) + (1-y^{(i)}) \\log(1-\\hat{y}^{(i)})]$$"
   ]
  }
 ],
 "metadata": {
  "kernelspec": {
   "display_name": "Python 3.13 (XPython)",
   "language": "python",
   "name": "xpython"
  },
  "language_info": {
   "file_extension": ".py",
   "mimetype": "text/x-python",
   "name": "python",
   "version": "3.13.1"
  }
 },
 "nbformat": 4,
 "nbformat_minor": 5
}
