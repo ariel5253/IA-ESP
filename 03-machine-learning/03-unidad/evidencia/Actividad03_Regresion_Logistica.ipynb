{
  "cells": [
    {
      "cell_type": "markdown",
      "metadata": {
        "id": "eigGFdcY9797"
      },
      "source": [
        "# Regresión Logística\n",
        "\n",
        "En este ejercicio, implementarás regresión logística y la aplicarás a dos conjuntos de datos diferentes.\n",
        "\n",
        "\n",
        "# Contenido\n",
        "- [ 1 - Paquetes ](#1)\n",
        "- [ 2 - Regresión Logística](#2)\n",
        "  - [ 2.1 Enunciado del Problema](#2.1)\n",
        "  - [ 2.2 Carga y visualización de los datos](#2.2)\n",
        "  - [ 2.3  Función sigmoide](#2.3)\n",
        "  - [ 2.4 Función de costo para regresión logística](#2.4)\n",
        "  - [ 2.5 Gradiente para regresión logística](#2.5)\n",
        "  - [ 2.6 Aprendizaje de parámetros usando descenso por gradiente ](#2.6)\n",
        "  - [ 2.7 Graficando la frontera de decisión](#2.7)\n",
        "  - [ 2.8 Evaluando la regresión logística](#2.8)\n",
        "- [ 3 - Regresión Logística Regularizada](#3)\n",
        "  - [ 3.1 Enunciado del Problema](#3.1)\n",
        "  - [ 3.2 Carga y visualización de los datos](#3.2)\n",
        "  - [ 3.3 Mapeo de características](#3.3)\n",
        "  - [ 3.4 Función de costo para regresión logística regularizada](#3.4)\n",
        "  - [ 3.5 Gradiente para regresión logística regularizada](#3.5)\n",
        "  - [ 3.6 Aprendizaje de parámetros usando descenso por gradiente](#3.6)\n",
        "  - [ 3.7 Graficando la frontera de decisión](#3.7)\n",
        "  - [ 3.8 Evaluando el modelo de regresión logística regularizada](#3.8)\n"
      ]
    },
    {
      "cell_type": "markdown",
      "metadata": {
        "id": "E7pDOzEF979-"
      },
      "source": [
        "_**NOTA:** Antes de subir ésta actividad, no está permitido editar o eliminar celdas no evaluadas (que no requieran ingresar código propio). Por favor, también evita agregar nuevas celdas.\n",
        "**Una vez que hayas subido esta actividad** y quieras experimentar con cualquier código no evaluado, puedes proceder a editar todo lo que quieras._"
      ]
    },
    {
      "cell_type": "markdown",
      "metadata": {
        "id": "Is0a-F0t979_"
      },
      "source": [
        "<a name=\"1\"></a>\n",
        "## 1 - Paquetes\n",
        "\n",
        "Primero, ejecuta la siguiente celda para importar todos los paquetes que necesitarás durante este ejercicio.\n",
        "- [numpy](www.numpy.org) es el paquete fundamental para computación científica con Python.\n",
        "- [matplotlib](http://matplotlib.org) es una biblioteca famosa para graficar en Python.\n",
        "-  ``utils.py`` contiene funciones auxiliares para este ejercicio. No necesitas modificar el código en este archivo."
      ]
    },
    {
      "cell_type": "code",
      "execution_count": 230,
      "metadata": {
        "id": "EsVXZmrt97-A"
      },
      "outputs": [],
      "source": [
        "import numpy as np                # Importa la biblioteca numpy para operaciones numéricas y manejo de arreglos.\n",
        "import matplotlib.pyplot as plt   # Importa matplotlib.pyplot para crear gráficos y visualizaciones.\n",
        "from utils import *               # Importa todas las funciones auxiliares definidas en el archivo utils.py.\n",
        "import copy                      # Importa el módulo copy para realizar copias profundas de objetos.\n",
        "import math                      # Importa el módulo math para funciones matemáticas estándar.\n",
        "from data.utils import load_data # Importa la función desde data/utils.py\n",
        "\n",
        "# Permite mostrar los gráficos de matplotlib directamente en el notebook.\n",
        "%matplotlib inline               "
      ]
    },
    {
      "cell_type": "markdown",
      "metadata": {
        "id": "7B5HA2I097-C"
      },
      "source": [
        "<a name=\"2\"></a>\n",
        "## 2 - Regresión Logística\n",
        "\n",
        "En esta parte del ejercicio, construirás un modelo de regresión logística para predecir si un estudiante es admitido en una universidad.\n",
        "\n",
        "<a name=\"2.1\"></a>\n",
        "### 2.1 Enunciado del Problema\n",
        "\n",
        "Supón que eres el administrador de un departamento universitario y quieres determinar la probabilidad de admisión de cada solicitante en función de sus resultados en dos exámenes.\n",
        "* Tienes datos históricos de solicitantes anteriores que puedes usar como conjunto de entrenamiento para la regresión logística.\n",
        "* Para cada ejemplo de entrenamiento, tienes las puntuaciones de los solicitantes en dos exámenes y la decisión de admisión.\n",
        "* Tu tarea es construir un modelo de clasificación que estime la probabilidad de admisión de un solicitante en función de sus puntuaciones en esos dos exámenes.\n",
        "\n",
        "<a name=\"2.2\"></a>\n",
        "### 2.2 Carga y visualización de los datos\n",
        "\n",
        "Comenzarás cargando el conjunto de datos para esta tarea.\n",
        "- La función `load_dataset()` que se muestra a continuación carga los datos en las variables `X_train` y `y_train`\n",
        "  - `X_train` contiene las puntuaciones de los estudiantes en dos exámenes\n",
        "  - `y_train` es la decisión de admisión\n",
        "      - `y_train = 1` si el estudiante fue admitido\n",
        "      - `y_train = 0` si el estudiante no fue admitido\n",
        "  - Tanto `X_train` como `y_train` son arreglos de numpy.\n"
      ]
    },
    {
      "cell_type": "code",
      "execution_count": 231,
      "metadata": {
        "id": "pepJRYlv97-C"
      },
      "outputs": [],
      "source": [
        "X_train, y_train = load_data(\"data/ex2data1.txt\") # Permite cargar el conjunto de datos"
      ]
    },
    {
      "cell_type": "markdown",
      "metadata": {
        "id": "D_VmSWQt97-D"
      },
      "source": [
        "#### Visualiza las variables\n",
        "Vamos a familiarizarnos más con tu conjunto de datos.\n",
        "- Un buen punto de partida es simplemente imprimir cada variable y ver qué contiene.\n",
        "\n",
        "El siguiente código imprime los primeros cinco valores de `X_train` y el tipo de la variable."
      ]
    },
    {
      "cell_type": "code",
      "execution_count": 232,
      "metadata": {
        "colab": {
          "base_uri": "https://localhost:8080/"
        },
        "id": "SvT99dnj97-D",
        "outputId": "9c20aeb2-a744-49df-906c-d492433c471e"
      },
      "outputs": [
        {
          "name": "stdout",
          "output_type": "stream",
          "text": [
            "Primeros cinco elementos en X_train son:\n",
            " [[34.62365962 78.02469282]\n",
            " [30.28671077 43.89499752]\n",
            " [35.84740877 72.90219803]\n",
            " [60.18259939 86.3085521 ]\n",
            " [79.03273605 75.34437644]]\n",
            "Tipo de X_train: <class 'numpy.ndarray'>\n"
          ]
        }
      ],
      "source": [
        "# Imprime los primeros cinco elementos de X_train para ver ejemplos de los datos de entrada\n",
        "print(\"Primeros cinco elementos en X_train son:\\n\", X_train[:5])\n",
        "# Imprime el tipo de la variable X_train para confirmar que es un arreglo de numpy\n",
        "print(\"Tipo de X_train:\", type(X_train))"
      ]
    },
    {
      "cell_type": "markdown",
      "metadata": {
        "id": "mYXstYsC97-D"
      },
      "source": [
        "Ahora imprime los primeros cinco valores de `y_train`"
      ]
    },
    {
      "cell_type": "code",
      "execution_count": 233,
      "metadata": {
        "colab": {
          "base_uri": "https://localhost:8080/"
        },
        "id": "-zbkxAUE97-E",
        "outputId": "7a0aa133-d443-4aae-b788-2bb75f28a1aa"
      },
      "outputs": [
        {
          "name": "stdout",
          "output_type": "stream",
          "text": [
            "Primeros cinco elementos en y_train son:\n",
            " [0. 0. 0. 1. 1.]\n",
            "Tipo de y_train: <class 'numpy.ndarray'>\n"
          ]
        }
      ],
      "source": [
        "print(\"Primeros cinco elementos en y_train son:\\n\", y_train[:5])  # Imprime los primeros cinco valores del arreglo y_train\n",
        "print(\"Tipo de y_train:\", type(y_train))  # Imprime el tipo de dato de la variable y_train"
      ]
    },
    {
      "cell_type": "markdown",
      "metadata": {
        "id": "9JQYb77f97-F"
      },
      "source": [
        "#### Revisa las dimensiones de tus variables\n",
        "\n",
        "Otra forma útil de familiarizarte con tus datos es ver sus dimensiones. Imprime la forma(shape) de `X_train` y `y_train` y observa cuántos ejemplos de entrenamiento tienes en tu conjunto de datos."
      ]
    },
    {
      "cell_type": "code",
      "execution_count": 234,
      "metadata": {
        "colab": {
          "base_uri": "https://localhost:8080/"
        },
        "id": "E7yHqCKj97-F",
        "outputId": "bf0e6db8-28bf-4d8a-a7b3-51540260d17b"
      },
      "outputs": [
        {
          "name": "stdout",
          "output_type": "stream",
          "text": [
            "La forma(shape) de X_train es: (100, 2)\n",
            "La forma(shape) de y_train es: (100,)\n",
            "Tenemos m = 100 ejemplos de entrenamiento\n"
          ]
        }
      ],
      "source": [
        "# Imprime la forma (número de filas y columnas) de X_train\n",
        "print('La forma(shape) de X_train es: ' + str(X_train.shape))\n",
        "# Imprime la forma (número de elementos) de y_train\n",
        "print('La forma(shape) de y_train es: ' + str(y_train.shape))\n",
        "# Imprime el número total de ejemplos de entrenamiento\n",
        "print('Tenemos m = %d ejemplos de entrenamiento' % (len(y_train)))"
      ]
    },
    {
      "cell_type": "markdown",
      "metadata": {
        "id": "G45TDzWc97-F"
      },
      "source": [
        "#### Visualiza tus datos\n",
        "\n",
        "Antes de comenzar a implementar cualquier algoritmo de aprendizaje, siempre es bueno visualizar los datos si es posible.\n",
        "- El siguiente código muestra los datos en un gráfico 2D (como se muestra abajo), donde los ejes son las dos puntuaciones de los exámenes, y los ejemplos positivos y negativos se muestran con diferentes marcadores.\n",
        "- Usamos una función auxiliar en el archivo ``utils.py`` para generar este gráfico.\n",
        "\n",
        "![figure 1.png](attachment:f0d62e5e-207d-429f-b25c-884265a3af0e.png)\n"
      ]
    },
    {
      "cell_type": "code",
      "execution_count": 235,
      "metadata": {
        "colab": {
          "base_uri": "https://localhost:8080/",
          "height": 449
        },
        "id": "ZkJTFkE_97-G",
        "outputId": "721c2c8f-214a-4e5e-d586-96644b2b3e02"
      },
      "outputs": [
        {
          "data": {
            "image/png": "[encoded data removed]",
            "text/plain": [
              "<Figure size 640x480 with 1 Axes>"
            ]
          },
          "metadata": {},
          "output_type": "display_data"
        }
      ],
      "source": [
        "# Graficar los ejemplos de entrenamiento, diferenciando entre admitidos y no admitidos\n",
        "from data.utils import plot_data\n",
        "plot_data(X_train, y_train[:], pos_label=\"Admitido\", neg_label=\"No admitido\")\n",
        "\n",
        "# Establecer la etiqueta del eje y como 'Puntaje Examen 2'\n",
        "plt.ylabel('Puntaje Examen 2')\n",
        "# Establecer la etiqueta del eje x como 'Puntaje Examen 1'\n",
        "plt.xlabel('Puntaje Examen 1')\n",
        "# Mostrar la leyenda en la esquina superior derecha\n",
        "plt.legend(loc=\"upper right\")\n",
        "# Mostrar el gráfico\n",
        "plt.show()"
      ]
    },
    {
      "cell_type": "markdown",
      "metadata": {
        "id": "pf16S_v397-G"
      },
      "source": [
        "Tu objetivo es construir un modelo de regresión logística para ajustar estos datos.\n",
        "- Con este modelo, luego podrás predecir si un nuevo estudiante será admitido en función de sus puntuaciones en los dos exámenes."
      ]
    },
    {
      "cell_type": "markdown",
      "metadata": {
        "id": "af9O4V5997-H"
      },
      "source": [
        "<a name=\"2.3\"></a>\n",
        "### 2.3  Función sigmoide\n",
        "\n",
        "Recuerda que para la regresión logística, el modelo se representa como\n",
        "\n",
        "$$ f_{\\mathbf{w},b}(x) = g(\\mathbf{w}\\cdot \\mathbf{x} + b)$$\n",
        "donde la función $g$ es la función sigmoide. La función sigmoide se define como:\n",
        "\n",
        "$$g(z) = \\frac{1}{1+e^{-z}}$$\n",
        "\n",
        "Vamos a implementar primero la función sigmoide, para que pueda ser utilizada en el resto de este ejercicio.\n",
        "\n",
        "<a name='ex-01'></a>\n",
        "### Ejercicio 1\n",
        "Por favor completa la función `sigmoid` para calcular\n",
        "\n",
        "$$g(z) = \\frac{1}{1+e^{-z}}$$\n",
        "\n",
        "Nota que\n",
        "- `z` no siempre es un solo número, sino que también puede ser un arreglo de números.\n",
        "- Si la entrada es un arreglo de números, queremos aplicar la función sigmoide a cada valor en el arreglo de entrada.\n",
        "\n",
        "Si te atascas, puedes revisar las pistas presentadas después de la celda siguiente para ayudarte con la implementación."
      ]
    },
    {
      "cell_type": "code",
      "execution_count": 236,
      "metadata": {
        "id": "cyz0rJYF97-H"
      },
      "outputs": [
        {
          "name": "stdout",
          "output_type": "stream",
          "text": [
            "<class 'function'>\n"
          ]
        }
      ],
      "source": [
        "# UNQ_C1\n",
        "# FUNCIÓN CALIFICADA: sigmoid\n",
        "\n",
        "def sigmoid(z):\n",
        "    \"\"\"\n",
        "    Calcula la sigmoide de z\n",
        "\n",
        "    Args:\n",
        "        z (ndarray): Un escalar, arreglo numpy de cualquier tamaño.\n",
        "\n",
        "    Returns:\n",
        "        g (ndarray): sigmoid(z), con la misma forma(shape) que z\n",
        "\n",
        "    \"\"\"\n",
        "\n",
        "    ### INICIA TU CÓDIGO AQUÍ ###\n",
        "    \n",
        "    # Calcula la función sigmoide de z usando la fórmula 1 / (1 + exp(-z))\n",
        "    g = 1 / (1 + np.exp(-z))\n",
        "\n",
        "    ### FIN DE TU SOLUCIÓN ###\n",
        "       \n",
        "    return g\n",
        "\n",
        "# Se concluye la implementación de la función sigmoid\n",
        "# Resultado | g = 1 / (1 + np.exp(-z)):\n",
        "\n",
        "# 1. La función sigmoide es una función matemática utilizada en regresión logística y redes neuronales para transformar cualquier valor real en un rango entre 0 y 1.\n",
        "# 2. Su fórmula matemática es: g(z) = 1 / (1 + e^(-z)), donde:\n",
        "#    - z es la entrada (puede ser un escalar, vector o matriz).\n",
        "#    - e es la base de los logaritmos naturales (~2.71828).\n",
        "# 3. El término np.exp(-z) calcula el exponencial de -z para cada elemento de z.\n",
        "# 4. Al sumar 1 a np.exp(-z), obtenemos el denominador de la función.\n",
        "# 5. Finalmente, al dividir 1 entre ese resultado, obtenemos un valor entre 0 y 1 para cada elemento de z.\n",
        "# 6. Esta función es útil porque modela probabilidades y tiene una derivada conveniente para el aprendizaje automático.\n",
        "\n",
        "# Se imprime el tipo de la variable sigmoid para confirmar que es una función \n",
        "print(type(sigmoid))"
      ]
    },
    {
      "cell_type": "markdown",
      "metadata": {
        "id": "sPhWBDpF97-I"
      },
      "source": [
        "<details>\n",
        "  <summary><font size=\"3\" color=\"darkgreen\"><b>Haz clic para ver pistas</b></font></summary>\n",
        "       \n",
        "   * `numpy` tiene una función llamada [`np.exp()`](https://numpy.org/doc/stable/reference/generated/numpy.exp.html), que ofrece una forma conveniente de calcular el exponencial ( $e^{z}$) de todos los elementos en el arreglo de entrada (`z`).\n",
        "\n",
        "<details>\n",
        "          <summary><font size=\"2\" color=\"darkblue\"><b> Haz clic para más pistas</b></font></summary>\n",
        "        \n",
        "  - Puedes traducir $e^{-z}$ en código como `np.exp(-z)`\n",
        "    \n",
        "\n",
        "</details>"
      ]
    },
    {
      "cell_type": "markdown",
      "metadata": {
        "id": "SxVLLp7N97-I"
      },
      "source": [
        "Cuando termines, prueba algunos valores llamando a `sigmoid(x)` en la celda siguiente.\n",
        "- Para valores grandes positivos de x, la sigmoide debe estar cerca de 1, mientras que para valores grandes negativos, la sigmoide debe estar cerca de 0.\n",
        "- Evaluar `sigmoid(0)` debe darte exactamente 0.5.\n"
      ]
    },
    {
      "cell_type": "code",
      "execution_count": 237,
      "metadata": {
        "colab": {
          "base_uri": "https://localhost:8080/"
        },
        "id": "2XgAE1I_97-I",
        "outputId": "e5fe78cb-0d68-4f0a-b113-8af46b2d7b0b"
      },
      "outputs": [
        {
          "name": "stdout",
          "output_type": "stream",
          "text": [
            "sigmoid(0) = 0.5\n"
          ]
        }
      ],
      "source": [
        "# Nota: Puedes editar este valor\n",
        "value = 0  # Asigna el valor 0 a la variable 'value'\n",
        "\n",
        "print(f\"sigmoid({value}) = {sigmoid(value)}\") # Imprime el resultado de aplicar la función sigmoide al valor dado"
      ]
    },
    {
      "cell_type": "markdown",
      "metadata": {
        "id": "wNmvKsX997-J"
      },
      "source": [
        "**Salida Esperada**:\n",
        "\n",
        "| sigmoid(0) | 0.5 |\n",
        "|------------|-----|\n",
        "\n",
        "- Como se mencionó antes, tu código también debe funcionar con vectores y matrices. Para una matriz, tu función debe aplicar la función sigmoide a cada elemento."
      ]
    },
    {
      "cell_type": "code",
      "execution_count": 238,
      "metadata": {
        "colab": {
          "base_uri": "https://localhost:8080/"
        },
        "id": "YqVutQrT97-J",
        "outputId": "f234719c-15e5-48c2-cca1-0f12646f0032"
      },
      "outputs": [
        {
          "name": "stdout",
          "output_type": "stream",
          "text": [
            "sigmoid([ -1, 0, 1, 2]) = [0.26894142 0.5        0.73105858 0.88079708]\n",
            "\u001b[92mAll tests passed!\n"
          ]
        }
      ],
      "source": [
        "# Imprime el resultado de aplicar la función sigmoide al arreglo [-1, 0, 1, 2]\n",
        "print (\"sigmoid([ -1, 0, 1, 2]) = \" + str(sigmoid(np.array([-1, 0, 1, 2]))))\n",
        "\n",
        "# Importa las pruebas públicas para verificar la función sigmoid\n",
        "# Las pruebas públicas permiten validar automáticamente la implementación de la función sigmoid.\n",
        "# 'sigmoid_test' ejecuta varios casos de prueba para asegurar que la función se comporta correctamente\n",
        "# tanto para valores escalares como para arreglos de entrada.\n",
        "\n",
        "# Ejecuta la prueba unitaria para la función sigmoid\n",
        "from data.public_tests import *\n",
        "sigmoid_test(sigmoid)"
      ]
    },
    {
      "cell_type": "markdown",
      "metadata": {
        "id": "aGgNkzwQ97-J"
      },
      "source": [
        "**Salida Esperada**:\n",
        "\n",
        "| sigmoid([-1, 0, 1, 2]) | [0.26894142 0.5 0.73105858 0.88079708] |\n",
        "|------------------------|------------------------------------------|"
      ]
    },
    {
      "cell_type": "markdown",
      "metadata": {
        "id": "P6wg-xPq97-J"
      },
      "source": [
        "<a name=\"2.4\"></a>\n",
        "### 2.4 Función de costo para regresión logística\n",
        "\n",
        "En esta sección, implementarás la función de costo para regresión logística.\n",
        "\n",
        "<a name='ex-02'></a>\n",
        "### Ejercicio 2\n",
        "\n",
        "Por favor completa la función `compute_cost` usando las siguientes ecuaciones.\n",
        "\n",
        "Recuerda que para regresión logística, la función de costo es de la forma\n",
        "\n",
        "$$ J(\\mathbf{w},b) = \\frac{1}{m}\\sum_{i=0}^{m-1} \\left[ loss(f_{\\mathbf{w},b}(\\mathbf{x}^{(i)}), y^{(i)}) \\right] \\tag{1}$$\n",
        "\n",
        "donde\n",
        "* m es el número de ejemplos de entrenamiento en el conjunto de datos\n",
        "\n",
        "\n",
        "* $loss(f_{\\mathbf{w},b}(\\mathbf{x}^{(i)}), y^{(i)})$ es el costo para un solo punto de datos, que es -\n",
        "\n",
        "    $$loss(f_{\\mathbf{w},b}(\\mathbf{x}^{(i)}), y^{(i)}) = (-y^{(i)} \\log\\left(f_{\\mathbf{w},b}\\left( \\mathbf{x}^{(i)} \\right) \\right) - \\left( 1 - y^{(i)}\\right) \\log \\left( 1 - f_{\\mathbf{w},b}\\left( \\mathbf{x}^{(i)} \\right) \\right) \\tag{2}$$\n",
        "    \n",
        "    \n",
        "*  $f_{\\mathbf{w},b}(\\mathbf{x}^{(i)})$ es la predicción del modelo, mientras que $y^{(i)}$ es la etiqueta real\n",
        "\n",
        "*  $f_{\\mathbf{w},b}(\\mathbf{x}^{(i)}) = g(\\mathbf{w} \\cdot \\mathbf{x^{(i)}} + b)$ donde la función $g$ es la función sigmoide.\n",
        "    * Puede ser útil calcular primero una variable intermedia $z_{\\mathbf{w},b}(\\mathbf{x}^{(i)}) = \\mathbf{w} \\cdot \\mathbf{x^{(i)}} + b = w_0x^{(i)}_0 + ... + w_{n-1}x^{(i)}_{n-1} + b$ donde $n$ es el número de X características, antes de calcular $f_{\\mathbf{w},b}(\\mathbf{x}^{(i)}) = g(z_{\\mathbf{w},b}(\\mathbf{x}^{(i)}))$\n",
        "\n",
        "Nota:\n",
        "* Recuerda que las variables `X_train` y `y_train` no son valores escalares sino matrices de forma(shape) ($m, n$) y ($𝑚$,1) respectivamente, donde  $𝑛$ es el número de X características y $𝑚$ es el número de ejemplos de entrenamiento.\n",
        "* Puedes usar la función sigmoide que implementaste arriba para esta parte.\n",
        "\n",
        "Si te atascas, puedes revisar las pistas presentadas después de la celda siguiente para ayudarte con la implementación."
      ]
    },
    {
      "cell_type": "code",
      "execution_count": 239,
      "metadata": {
        "id": "M7nXozCW97-M"
      },
      "outputs": [],
      "source": [
        "# UNQ_C2\n",
        "# FUNCIÓN CALIFICADA: compute_cost\n",
        "def compute_cost(X, y, w, b, *argv):\n",
        "    \"\"\"\n",
        "    Calcula el costo sobre todos los ejemplos\n",
        "    Args:\n",
        "      X : (ndarray Shape (m,n)) datos, m ejemplos por n características\n",
        "      y : (ndarray Shape (m,))  valor objetivo\n",
        "      w : (ndarray Shape (n,))  valores de los parámetros del modelo\n",
        "      b : (escalar)              valor del parámetro de sesgo del modelo\n",
        "      *argv : no utilizado, para compatibilidad con la versión regularizada abajo\n",
        "    Returns:\n",
        "      total_cost : (escalar) costo\n",
        "    \"\"\"\n",
        "\n",
        "    m, n = X.shape\n",
        "\n",
        "    ### INICIA TU CÓDIGO AQUÍ ###   \n",
        "    loss_sum = 0  # Inicializa la suma de las pérdidas en cero\n",
        "    for i in range(m):\n",
        "      z_wb = np.dot(w, X[i]) + b  # Calcula z = w·x + b para el ejemplo i\n",
        "      f_wb = sigmoid(z_wb)        # Calcula la predicción usando la función sigmoide\n",
        "      loss = -y[i] * np.log(f_wb) - (1 - y[i]) * np.log(1 - f_wb)  # Calcula la pérdida para el ejemplo i\n",
        "      loss_sum += loss            # Acumula la pérdida total\n",
        "\n",
        "    total_cost = loss_sum / m       # Calcula el costo promedio sobre todos los ejemplos\n",
        "\n",
        "    ### FIN DE TU SOLUCIÓN ###\n",
        "\n",
        "\n",
        "    # Explicación paso a paso de la función de costo:\n",
        "    # 1. Inicializamos la variable loss_sum en 0. Esta variable acumulará la suma de las pérdidas individuales de cada ejemplo.\n",
        "    # 2. Recorremos todos los ejemplos de entrenamiento usando un ciclo for sobre el rango m (número de ejemplos).\n",
        "    # 3. Para cada ejemplo i:\n",
        "    #    a. Calculamos z_wb = np.dot(w, X[i]) + b, que es el resultado lineal de aplicar los pesos y el sesgo a las características del ejemplo i.\n",
        "    #    b. Calculamos f_wb = sigmoid(z_wb), que es la probabilidad predicha por el modelo para el ejemplo i usando la función sigmoide.\n",
        "    #    c. Calculamos la pérdida (loss) para el ejemplo i usando la fórmula de la regresión logística:\n",
        "    #       loss = -y[i] * np.log(f_wb) - (1 - y[i]) * np.log(1 - f_wb)\n",
        "    #       Esto penaliza las predicciones incorrectas: si y[i]=1, la primera parte domina; si y[i]=0, la segunda parte domina.\n",
        "    #    d. Sumamos la pérdida de este ejemplo a loss_sum.\n",
        "    # 4. Al final, dividimos la suma total de pérdidas (loss_sum) entre el número de ejemplos (m) para obtener el costo promedio total (total_cost).\n",
        "\n",
        "    return total_cost"
      ]
    },
    {
      "cell_type": "markdown",
      "metadata": {
        "id": "ZAc8I-pq97-N"
      },
      "source": [
        "<details>\n",
        "<summary><font size=\"3\" color=\"darkgreen\"><b>Haz clic para ver pistas</b></font></summary>\n",
        "    \n",
        "* Puedes representar un operador de sumatoria por ejemplo: $h = \\sum\\limits_{i = 0}^{m-1} 2i$ en código de la siguiente manera:\n",
        "\n",
        "```python\n",
        "    h = 0\n",
        "    for i in range(m):\n",
        "        h = h + 2*i\n",
        "```\n",
        "<br>\n",
        "\n",
        "* En este caso, puedes iterar sobre todos los ejemplos en `X` usando un bucle for y agregar la `pérdida` de cada iteración a una variable (`loss_sum`) inicializada fuera del bucle (`loss_sum = 0`).\n",
        "\n",
        "* Luego, puedes devolver el costo total `total_cost` como `loss_sum` dividido por `m`.\n",
        "\n",
        "* Si eres nuevo en Python, por favor asegúrate de que tu código esté correctamente indentado con espacios o tabulaciones consistentes. De lo contrario, podría producir una salida diferente o generar un error `IndentationError: unexpected indent`. Puedes consultar [este tema](https://community.deeplearning.ai/t/indentation-in-python-indentationerror-unexpected-indent/159398) en nuestra comunidad para más detalles.\n",
        "     \n",
        "<details>\n",
        "<summary><font size=\"2\" color=\"darkblue\"><b> Haz clic para más pistas</b></font></summary>\n",
        "        \n",
        "* Aquí tienes una estructura general para la implementación de esta función\n",
        "        \n",
        "```python\n",
        "def compute_cost(X, y, w, b, *argv):\n",
        "    m, n = X.shape\n",
        "\n",
        "    ### INICIA TU CÓDIGO AQUÍ ###\n",
        "    loss_sum = 0\n",
        "    \n",
        "    # Bucle sobre cada ejemplo de entrenamiento\n",
        "    for i in range(m):\n",
        "        \n",
        "        # Primero calcula z_wb = w[0]*X[i][0]+...+w[n-1]*X[i][n-1]+b\n",
        "        z_wb = 0\n",
        "        # Bucle sobre cada característica\n",
        "        for j in range(n):\n",
        "            # Agrega el término correspondiente a z_wb\n",
        "            z_wb_ij = # Tu código aquí para calcular w[j] * X[i][j]\n",
        "            z_wb += z_wb_ij # equivalente a z_wb = z_wb + z_wb_ij\n",
        "        # Agrega el término de sesgo a z_wb\n",
        "        z_wb += b # equivalente a z_wb = z_wb + b\n",
        "        \n",
        "        f_wb = # Tu código aquí para calcular la predicción f_wb para un ejemplo de entrenamiento (Pista: utiliza la funcion que creaste arriba)\n",
        "        loss =  # Tu código aquí para calcular la pérdida para un ejemplo de entrenamiento (Pista: puedes usar 'np.log' función para calcular el logaritmo)\n",
        "        \n",
        "        loss_sum += loss # equivalente a loss_sum = loss_sum + loss\n",
        "        \n",
        "    total_cost = (1 / m) * loss_sum  \n",
        "    ### FIN DE TU SOLUCIÓN ###\n",
        "    \n",
        "    return total_cost\n",
        "```\n",
        "<br>\n",
        "\n",
        "</details>\n",
        "        \n",
        "</details>"
      ]
    },
    {
      "cell_type": "markdown",
      "metadata": {
        "id": "qoWqgWg-97-O"
      },
      "source": [
        "Ejecuta las celdas a continuación para verificar tu implementación de la función `compute_cost` con dos inicializaciones diferentes de los parámetros $w$ y $b$"
      ]
    },
    {
      "cell_type": "code",
      "execution_count": 240,
      "metadata": {
        "colab": {
          "base_uri": "https://localhost:8080/"
        },
        "id": "PI5-U7yl97-P",
        "outputId": "aba7d075-aef1-43d8-c54e-46d9b790dcf0"
      },
      "outputs": [
        {
          "name": "stdout",
          "output_type": "stream",
          "text": [
            "Costo con w y b inicializados en ceros: 0.693\n"
          ]
        }
      ],
      "source": [
        "m, n = X_train.shape\n",
        "\n",
        "# Calcula y muestra el costo con w y b inicializados en ceros\n",
        "initial_w = np.zeros(n)  # Inicializa el vector de pesos w con ceros, de tamaño igual al número de características\n",
        "initial_b = 0.           # Inicializa el sesgo b en cero\n",
        "cost = compute_cost(X_train, y_train, initial_w, initial_b)  # Calcula el costo usando los parámetros inicializados en ceros\n",
        "print('Costo con w y b inicializados en ceros: {:.3f}'.format(cost))  # Imprime el costo calculado con formato de 3 decimales\n",
        "\n",
        "# El costo con w y b inicializados en ceros es 0.693, lo cual es el valor esperado para una regresión logística \n",
        "# con parámetros iniciales en cero y datos balanceados.\n",
        "# Este valor indica que el modelo aún no ha aprendido a separar las clases y está prediciendo probabilidades cercanas a 0.5 para todos los ejemplos."
      ]
    },
    {
      "cell_type": "markdown",
      "metadata": {
        "id": "PL1vbfbg97-P"
      },
      "source": [
        "**Salida Esperada**:\n",
        "<table>\n",
        "  <tr>\n",
        "    <td> <b>Costo con w y b inicializados en ceros<b></td>\n",
        "    <td> 0.693 </td>\n",
        "  </tr>\n",
        "</table>"
      ]
    },
    {
      "cell_type": "code",
      "execution_count": 241,
      "metadata": {
        "colab": {
          "base_uri": "https://localhost:8080/"
        },
        "id": "dnpI5SGb97-P",
        "outputId": "23d770bd-c958-489a-a77b-859b78b0f76c"
      },
      "outputs": [
        {
          "name": "stdout",
          "output_type": "stream",
          "text": [
            "Costo con w y b de prueba (no nulos): 0.218\n"
          ]
        }
      ],
      "source": [
        "# Calcula y muestra el costo con w y b no nulos\n",
        "test_w = np.array([0.2, 0.2])  # Define un vector de pesos de prueba para el modelo\n",
        "test_b = -24.                  # Define un sesgo de prueba para el modelo\n",
        "cost = compute_cost(X_train, y_train, test_w, test_b)  # Calcula el costo usando los parámetros de prueba\n",
        "\n",
        "print('Costo con w y b de prueba (no nulos): {:.3f}'.format(cost))  # Imprime el costo calculado con formato de 3 decimales\n",
        "\n",
        "\n",
        "# PRUEBAS UNITARIAS\n",
        "compute_cost_test(compute_cost)"
      ]
    },
    {
      "cell_type": "markdown",
      "metadata": {
        "id": "zaPsUGaS97-R"
      },
      "source": [
        "**Salida Esperada**:\n",
        "<table>\n",
        "  <tr>\n",
        "    <td> <b>Costo con w y b de prueba (no nulos):<b></td>\n",
        "    <td> 0.218 </td>\n",
        "  </tr>\n",
        "</table>"
      ]
    },
    {
      "cell_type": "markdown",
      "metadata": {
        "id": "g9qgRWJi97-S"
      },
      "source": [
        "<a name=\"2.5\"></a>\n",
        "### 2.5 Gradiente para regresión logística\n",
        "\n",
        "En esta sección, implementarás el gradiente para regresión logística.\n",
        "\n",
        "Recuerda que el algoritmo de descenso de gradiente es:\n",
        "\n",
        "$$\\begin{align*}& \\text{repetir hasta la convergencia:} \\; \\lbrace \\newline \\; & b := b -  \\alpha \\frac{\\partial J(\\mathbf{w},b)}{\\partial b} \\newline       \\; & w_j := w_j -  \\alpha \\frac{\\partial J(\\mathbf{w},b)}{\\partial w_j} \\tag{1}  \\; & \\text{para j := 0..n-1}\\newline & \\rbrace\\end{align*}$$\n",
        "\n",
        "donde, los parámetros $b$, $w_j$ se actualizan simultáneamente"
      ]
    },
    {
      "cell_type": "markdown",
      "metadata": {
        "id": "wOJQgpc897-S"
      },
      "source": [
        "\n",
        "<a name='ex-03'></a>\n",
        "### Ejercicio 3\n",
        "\n",
        "Por favor completa la función `compute_gradient` para calcular $\\frac{\\partial J(\\mathbf{w},b)}{\\partial w}$, $\\frac{\\partial J(\\mathbf{w},b)}{\\partial b}$ de las ecuaciones (2) y (3) a continuación.\n",
        "\n",
        "$$\n",
        "\\frac{\\partial J(\\mathbf{w},b)}{\\partial b}  = \\frac{1}{m} \\sum\\limits_{i = 0}^{m-1} (f_{\\mathbf{w},b}(\\mathbf{x}^{(i)}) - y^{(i)}) \\tag{2}\n",
        "$$\n",
        "$$\n",
        "\\frac{\\partial J(\\mathbf{w},b)}{\\partial w_j}  = \\frac{1}{m} \\sum\\limits_{i = 0}^{m-1} (f_{\\mathbf{w},b}(\\mathbf{x}^{(i)}) - y^{(i)})x_{j}^{(i)} \\tag{3}\n",
        "$$\n",
        "* m es el número de ejemplos de entrenamiento en el conjunto de datos\n",
        "\n",
        "    \n",
        "*  $f_{\\mathbf{w},b}(x^{(i)})$ es la predicción del modelo, mientras que $y^{(i)}$ es la etiqueta real\n",
        "\n",
        "\n",
        "- **Nota**: Aunque este gradiente se ve idéntico al gradiente de regresión lineal, la fórmula es en realidad diferente porque la regresión lineal y logística tienen diferentes definiciones de $f_{\\mathbf{w},b}(x)$.\n",
        "\n",
        "Como antes, puedes usar la función sigmoide que implementaste arriba y si te atascas, puedes revisar las pistas presentadas después de la celda siguiente para ayudarte con la implementación."
      ]
    },
    {
      "cell_type": "code",
      "execution_count": 242,
      "metadata": {
        "id": "ipnnMcBY97-S"
      },
      "outputs": [],
      "source": [
        "# UNQ_C3\n",
        "# FUNCIÓN CALIFICADA: compute_gradient\n",
        "def compute_gradient(X, y, w, b, *argv):\n",
        "    \"\"\"\n",
        "    Calcula el gradiente para regresión logística\n",
        "\n",
        "    Args:\n",
        "      X : (ndarray Shape (m,n)) datos, m ejemplos por n características\n",
        "      y : (ndarray Shape (m,))  valor objetivo\n",
        "      w : (ndarray Shape (n,))  valores de los parámetros del modelo\n",
        "      b : (escalar)              valor del parámetro de sesgo del modelo\n",
        "      *argv : no utilizado, para compatibilidad con la versión regularizada abajo\n",
        "    Returns\n",
        "      dj_dw : (ndarray Shape (n,)) El gradiente del costo con respecto a los parámetros w.\n",
        "      dj_db : (escalar)             El gradiente del costo con respecto al parámetro b.\n",
        "    \"\"\"\n",
        "    m, n = X.shape  # Obtiene el número de ejemplos (m) y características (n) de X\n",
        "    dj_dw = np.zeros(w.shape)  # Inicializa el gradiente respecto a w como un vector de ceros\n",
        "    dj_db = 0.  # Inicializa el gradiente respecto a b como cero\n",
        "\n",
        "    ### INICIA TU CÓDIGO AQUÍ ###\n",
        "\n",
        "    # Recorre cada ejemplo de entrenamiento\n",
        "    for i in range(m):\n",
        "      # Calcula la predicción con la función sigmoide\n",
        "      z_wb = np.dot(X[i], w) + b  # Producto punto entre las características y los pesos, más el sesgo\n",
        "      f_wb = sigmoid(z_wb)        # Aplica la función sigmoide para obtener la probabilidad\n",
        "      \n",
        "      # Error de predicción\n",
        "      error = f_wb - y[i]         # Calcula la diferencia entre la predicción y el valor real\n",
        "\n",
        "      # Acumula el gradiente con respecto a b (sesgo)\n",
        "      dj_db += error              # Suma el error al gradiente de b\n",
        "\n",
        "      # Acumula el gradiente con respecto a cada peso w[j]\n",
        "      dj_dw += error * X[i]       # Suma el error ponderado por cada característica al gradiente de w\n",
        "\n",
        "    # Promedia los gradientes\n",
        "    dj_dw /= m     # Divide el gradiente acumulado de w entre el número de ejemplos\n",
        "    dj_db /= m     # Divide el gradiente acumulado de b entre el número de ejemplos\n",
        "    ### FIN DE TU SOLUCIÓN ###\n",
        "\n",
        "    return dj_db, dj_dw  # Devuelve los gradientes calculados\n"
      ]
    },
    {
      "cell_type": "markdown",
      "metadata": {
        "id": "sJWvX-Do97-U"
      },
      "source": [
        " <details>\n",
        "  <summary><font size=\"3\" color=\"darkgreen\"><b>Haz clic para ver pistas</b></font></summary>\n",
        "    \n",
        "    \n",
        "* Aquí tienes una estructura general para la implementación de esta función\n",
        "    ```python\n",
        "       def compute_gradient(X, y, w, b, *argv):\n",
        "            m, n = X.shape\n",
        "            dj_dw = np.zeros(w.shape)\n",
        "            dj_db = 0.\n",
        "        \n",
        "            ### INICIA TU CÓDIGO AQUÍ ###\n",
        "            for i in range(m):\n",
        "                # Calcula f_wb (exactamente como lo hiciste en la función compute_cost arriba)\n",
        "                f_wb =\n",
        "        \n",
        "                # Calcula el gradiente para b de este ejemplo\n",
        "                dj_db_i = # Tu código aquí para calcular el error\n",
        "        \n",
        "                # agrega eso a dj_db\n",
        "                dj_db += dj_db_i\n",
        "        \n",
        "                # obtiene dj_dw para cada atributo\n",
        "                for j in range(n):\n",
        "                    # Tu código aquí para calcular el gradiente de la i-ésima muestra para el j-ésimo atributo\n",
        "                    dj_dw_ij =  \n",
        "                    dj_dw[j] += dj_dw_ij\n",
        "        \n",
        "            # divide dj_db y dj_dw por el número total de ejemplos\n",
        "            dj_dw = dj_dw / m\n",
        "            dj_db = dj_db / m\n",
        "            ### FIN DE TU SOLUCIÓN ###\n",
        "       \n",
        "            return dj_db, dj_dw\n",
        "    ```\n",
        "\n",
        "    * Si eres nuevo en Python, por favor asegúrate de que tu código esté correctamente indentado con espacios o tabulaciones consistentes. De lo contrario, podría producir una salida diferente o generar un error `IndentationError: unexpected indent`. Puedes consultar [este tema](https://community.deeplearning.ai/t/indentation-in-python-indentationerror-unexpected-indent/159398) en nuestra comunidad para más detalles.\n",
        "    * Si aún tienes dudas, puedes revisar la pista presentada abajo para ver cómo calcular `f_wb`\n",
        "    \n",
        "    <details>\n",
        "          <summary><font size=\"2\" color=\"darkblue\"><b>Pista para calcular f_wb</b></font></summary>\n",
        "           &emsp; &emsp; Recuerda que calculaste f_wb en <code>compute_cost</code> arriba        \n",
        "    </details>    \n",
        "\n",
        "</details>"
      ]
    },
    {
      "cell_type": "markdown",
      "metadata": {
        "id": "2D8gw7uK97-U"
      },
      "source": [
        "Ejecuta las celdas a continuación para verificar tu implementación de la función `compute_gradient` con dos inicializaciones diferentes de los parámetros $w$ y $b$"
      ]
    },
    {
      "cell_type": "code",
      "execution_count": 243,
      "metadata": {
        "colab": {
          "base_uri": "https://localhost:8080/"
        },
        "id": "FTvQR3oy97-U",
        "outputId": "029b0438-6c98-4004-f4c5-b880666a4045"
      },
      "outputs": [
        {
          "name": "stdout",
          "output_type": "stream",
          "text": [
            "dj_db con w y b inicializados en ceros:-0.1\n",
            "dj_dw con w y b inicializados en ceros:[-12.00921658929115, -11.262842205513591]\n"
          ]
        }
      ],
      "source": [
        "# Calcula y muestra el gradiente con w y b inicializados en ceros\n",
        "initial_w = np.zeros(n)  # Inicializa el vector de pesos w con ceros, de tamaño igual al número de características\n",
        "initial_b = 0.           # Inicializa el sesgo b en cero\n",
        "\n",
        "dj_db, dj_dw = compute_gradient(X_train, y_train, initial_w, initial_b)  # Calcula el gradiente del costo respecto a b y w usando los parámetros inicializados en ceros\n",
        "print(f'dj_db con w y b inicializados en ceros:{dj_db}' )                # Imprime el gradiente respecto a b\n",
        "print(f'dj_dw con w y b inicializados en ceros:{dj_dw.tolist()}' )       # Imprime el gradiente respecto a w como lista"
      ]
    },
    {
      "cell_type": "markdown",
      "metadata": {
        "id": "8NXFZqku97-U"
      },
      "source": [
        "**Salida Esperada**:\n",
        "<table>\n",
        "  <tr>\n",
        "    <td> <b>dj_db con w y b inicializados en ceros<b></td>\n",
        "    <td> -0.1 </td>\n",
        "  </tr>\n",
        "  <tr>\n",
        "    <td> <b>dj_dw con w y b inicializados en ceros:</b></td>\n",
        "    <td> [-12.00921658929115, -11.262842205513591] </td>\n",
        "  </tr>\n",
        "</table>"
      ]
    },
    {
      "cell_type": "code",
      "execution_count": 244,
      "metadata": {
        "colab": {
          "base_uri": "https://localhost:8080/"
        },
        "id": "QucpYcJo97-V",
        "outputId": "986eec15-437b-470d-feb0-988f139cfc84"
      },
      "outputs": [
        {
          "name": "stdout",
          "output_type": "stream",
          "text": [
            "dj_db en w y b de prueba: -0.5999999999991071\n",
            "dj_dw en w y b de prueba: [-44.831353617873795, -44.37384124953978]\n"
          ]
        }
      ],
      "source": [
        "# Calcula y muestra el costo y el gradiente con w y b no nulos\n",
        "test_w = np.array([ 0.2, -0.5])  # Define un vector de pesos de prueba para el modelo\n",
        "test_b = -24                     # Define un sesgo de prueba para el modelo\n",
        "dj_db, dj_dw  = compute_gradient(X_train, y_train, test_w, test_b)  # Calcula el gradiente del costo respecto a b y w usando los parámetros de prueba\n",
        "\n",
        "print('dj_db en w y b de prueba:', dj_db)           # Imprime el gradiente respecto a b\n",
        "print('dj_dw en w y b de prueba:', dj_dw.tolist())  # Imprime el gradiente respecto a w como lista\n",
        "\n",
        "# PRUEBAS UNITARIAS\n",
        "compute_gradient_test(compute_gradient)"
      ]
    },
    {
      "cell_type": "markdown",
      "metadata": {
        "id": "cpyUqUWu97-X"
      },
      "source": [
        "**Salida Esperada**:\n",
        "<table>\n",
        "  <tr>\n",
        "    <td> <b>dj_db en w y b de prueba (no nulos)<b></td>\n",
        "    <td> -0.5999999999991071 </td>\n",
        "  </tr>\n",
        "  <tr>\n",
        "    <td> <b>dj_dw en w y b de prueba (no nulos):<b></td>\n",
        "    <td>  [-44.8313536178737957, -44.37384124953978] </td>\n",
        "  </tr>\n",
        "</table>"
      ]
    },
    {
      "cell_type": "markdown",
      "metadata": {
        "id": "1Qa0tbUY97-X"
      },
      "source": [
        "<a name=\"2.6\"></a>\n",
        "### 2.6 Aprendizaje de parámetros usando descenso por gradiente\n",
        "\n",
        "Similar a los ejercicios anteriores, ahora encontraras los parámetros óptimos de un modelo de regresión logística usando descenso por gradiente.\n",
        "- No necesitas implementar nada para esta parte. Simplemente ejecuta las celdas a continuación.\n",
        "\n",
        "- Una buena manera de verificar que el descenso por gradiente está funcionando correctamente es observar\n",
        "el valor de $J(\\mathbf{w},b)$ y verificar que está disminuyendo con cada paso.\n",
        "\n",
        "- Suponiendo que has implementado correctamente el gradiente y calculado el costo, tu valor de $J(\\mathbf{w},b)$ nunca debe aumentar, y debe converger a un valor constante al final del algoritmo."
      ]
    },
    {
      "cell_type": "code",
      "execution_count": 245,
      "metadata": {
        "id": "A2oukwtM97-Z"
      },
      "outputs": [],
      "source": [
        "def gradient_descent(X, y, w_in, b_in, cost_function, gradient_function, alpha, num_iters, lambda_):\n",
        "    \"\"\"\n",
        "    Realiza descenso por gradiente por lotes para aprender theta. Actualiza theta dando\n",
        "    num_iters pasos de gradiente con la tasa de aprendizaje alpha\n",
        "\n",
        "    Args:\n",
        "      X :    (ndarray Shape (m, n) datos, m ejemplos por n características\n",
        "      y :    (ndarray Shape (m,))  valor objetivo\n",
        "      w_in : (ndarray Shape (n,))  Valores iniciales de los parámetros del modelo\n",
        "      b_in : (escalar)              Valor inicial del parámetro del modelo\n",
        "      cost_function :              función para calcular el costo\n",
        "      gradient_function :          función para calcular el gradiente\n",
        "      alpha : (float)              Tasa de aprendizaje\n",
        "      num_iters : (int)            número de iteraciones para ejecutar el descenso por gradiente\n",
        "      lambda_ : (escalar, float)    constante de regularización\n",
        "\n",
        "    Returns:\n",
        "      w : (ndarray Shape (n,)) Valores actualizados de los parámetros del modelo después de\n",
        "          ejecutar el descenso por gradiente\n",
        "      b : (escalar)                Valor actualizado del parámetro del modelo después de\n",
        "          ejecutar el descenso por gradiente\n",
        "    \"\"\"\n",
        "\n",
        "    # Número de ejemplos de entrenamiento\n",
        "    m = len(X)\n",
        "\n",
        "    # Historial para almacenar el costo y los pesos en cada iteración (útil para graficar)\n",
        "    J_history = []\n",
        "    w_history = []\n",
        "\n",
        "    # Bucle principal del descenso de gradiente\n",
        "    for i in range(num_iters):\n",
        "        # Calcula los gradientes de la función de costo\n",
        "        dj_db, dj_dw = gradient_function(X, y, w_in, b_in, lambda_)\n",
        "\n",
        "        # Actualiza los parámetros usando la tasa de aprendizaje alpha\n",
        "        w_in -= alpha * dj_dw  # Actualiza los pesos restando el gradiente escalado por alpha\n",
        "        b_in -= alpha * dj_db  # Actualiza el sesgo restando el gradiente escalado por alpha\n",
        "\n",
        "        # Calcula y almacena el costo si no se excede el límite de recursos\n",
        "        if i < 100000:\n",
        "            cost = cost_function(X, y, w_in, b_in, lambda_)  # Calcula el costo actual con los parámetros actualizados\n",
        "            J_history.append(cost)  # Guarda el costo en la lista de historial\n",
        "\n",
        "        # Cada 10% del total de iteraciones, imprime el costo y guarda los pesos\n",
        "        if i % math.ceil(num_iters / 10) == 0 or i == num_iters - 1:\n",
        "            w_history.append(w_in.copy())  # Guarda una copia de los pesos actuales\n",
        "            print(f\"Iteración {i:4}: Costo {J_history[-1]:8.2f}\")  # Imprime el número de iteración y el costo actual\n",
        "\n",
        "    # Devuelve los pesos finales, sesgo final, y los historiales\n",
        "    return w_in, b_in, J_history, w_history\n"
      ]
    },
    {
      "cell_type": "markdown",
      "metadata": {
        "id": "scJBwqnG97-b"
      },
      "source": [
        "Ahora ejecutaremos el algoritmo de descenso por gradiente anterior para aprender los parámetros para nuestro conjunto de datos.\n",
        "\n",
        "**Nota**\n",
        "El siguiente bloque de código tarda un par de minutos en ejecutarse, especialmente con una versión no vectorizada. Puedes reducir el `iterations` para probar tu implementación y iterar más rápido. Si tienes tiempo más tarde, intenta ejecutar 100,000 iteraciones para obtener mejores resultados."
      ]
    },
    {
      "cell_type": "code",
      "execution_count": 246,
      "metadata": {
        "colab": {
          "base_uri": "https://localhost:8080/"
        },
        "id": "putdEblc97-b",
        "outputId": "c8d1920b-a888-4dcb-dc29-eefcb4f096de"
      },
      "outputs": [
        {
          "name": "stdout",
          "output_type": "stream",
          "text": [
            "Iteración    0: Costo     0.96\n",
            "Iteración 1000: Costo     0.31\n",
            "Iteración 2000: Costo     0.30\n",
            "Iteración 3000: Costo     0.30\n",
            "Iteración 4000: Costo     0.30\n",
            "Iteración 5000: Costo     0.30\n",
            "Iteración 6000: Costo     0.30\n",
            "Iteración 7000: Costo     0.30\n",
            "Iteración 8000: Costo     0.30\n",
            "Iteración 9000: Costo     0.30\n",
            "Iteración 9999: Costo     0.30\n"
          ]
        }
      ],
      "source": [
        "np.random.seed(1)\n",
        "initial_w = 0.01 * (np.random.rand(2) - 0.5)\n",
        "initial_b = -8\n",
        "\n",
        "# Algunas configuraciones del descenso por gradiente\n",
        "iterations = 10000\n",
        "alpha = 0.001\n",
        "\n",
        "w,b, J_history,_ = gradient_descent(X_train ,y_train, initial_w, initial_b,\n",
        "                                   compute_cost, compute_gradient, alpha, iterations, 0)"
      ]
    },
    {
      "cell_type": "markdown",
      "metadata": {
        "id": "iQDaz0ke97-b"
      },
      "source": [
        "<details>\n",
        "<summary>\n",
        "    <b>Salida Esperada: Costo     0.30, (Haz clic para ver detalles):</b>\n",
        "</summary>\n",
        "\n",
        "    # Con los siguientes ajustes\n",
        "    np.random.seed(1)\n",
        "    initial_w = 0.01 * (np.random.rand(2) - 0.5)\n",
        "    initial_b = -8\n",
        "    iterations = 10000\n",
        "    alpha = 0.001\n",
        "    #\n",
        "\n",
        "```\n",
        "Iteración    0: Costo     0.96   \n",
        "Iteración 1000: Costo     0.31   \n",
        "Iteración 2000: Costo     0.30   \n",
        "Iteración 3000: Costo     0.30   \n",
        "Iteración 4000: Costo     0.30   \n",
        "Iteración 5000: Costo     0.30   \n",
        "Iteración 6000: Costo     0.30   \n",
        "Iteración 7000: Costo     0.30   \n",
        "Iteración 8000: Costo     0.30   \n",
        "Iteración 9000: Costo     0.30   \n",
        "Iteración 9999: Costo     0.30   \n",
        "```"
      ]
    },
    {
      "cell_type": "markdown",
      "metadata": {
        "id": "3z5JX7Cx97-c"
      },
      "source": [
        "<a name=\"2.7\"></a>\n",
        "### 2.7 Graficando la frontera de decisión\n",
        "\n",
        "Ahora usaremos los parámetros finales del descenso por gradiente para graficar el ajuste lineal. Si implementaste correctamente las partes anteriores, deberías ver un gráfico similar al siguiente:   \n",
        "![figure 2.png](attachment:7ac29eae-359f-4ed8-b474-ce62476f629e.png)\n",
        "\n",
        "Usaremos una función auxiliar en el archivo `utils.py` para crear este gráfico."
      ]
    },
    {
      "cell_type": "code",
      "execution_count": 247,
      "metadata": {
        "colab": {
          "base_uri": "https://localhost:8080/",
          "height": 449
        },
        "id": "5D7rPVD197-c",
        "outputId": "3180e486-747d-4974-e397-82e07dcd9876"
      },
      "outputs": [
        {
          "data": {
            "image/png": "[encoded data removed]",
            "text/plain": [
              "<Figure size 640x480 with 1 Axes>"
            ]
          },
          "metadata": {},
          "output_type": "display_data"
        }
      ],
      "source": [
        "from data.utils import plot_decision_boundary  # Importa la función para graficar la frontera de decisión\n",
        "\n",
        "# Grafica la frontera de decisión usando los parámetros aprendidos w y b sobre los datos X_train y etiquetas y_train\n",
        "plot_decision_boundary(w, b, X_train, y_train)\n",
        "\n",
        "# Establece la etiqueta del eje y\n",
        "plt.ylabel('Puntaje Examen 2')\n",
        "\n",
        "# Establece la etiqueta del eje x\n",
        "plt.xlabel('Puntaje Examen 1')\n",
        "\n",
        "# Muestra la leyenda en la esquina superior derecha\n",
        "plt.legend(loc=\"upper right\")\n",
        "\n",
        "# Muestra el gráfico\n",
        "plt.show()\n",
        "\n",
        "#  Análisis de la gráfica de la frontera de decisión:\n",
        "#  La frontera de decisión separa correctamente la mayoría de los ejemplos aceptados y rechazados, \n",
        "#  mostrando que el modelo logró aprender una separación no lineal adecuada. Sin embargo, algunos puntos cercanos \n",
        "#  a la frontera podrían estar mal clasificados, lo que indica posibles limitaciones del modelo o la presencia de ruido en los datos."
      ]
    },
    {
      "cell_type": "markdown",
      "metadata": {
        "id": "tP-TN_hZ97-c"
      },
      "source": [
        "<a name=\"2.8\"></a>\n",
        "### 2.8 Evaluando la regresión logística\n",
        "\n",
        "Podemos evaluar la calidad de los parámetros que hemos encontrado viendo qué tan bien predice el modelo aprendido en nuestro conjunto de entrenamiento.\n",
        "\n",
        "Implementarás la función `predict` a continuación para hacer esto.\n"
      ]
    },
    {
      "cell_type": "markdown",
      "metadata": {
        "id": "YDJ2p8jB97-c"
      },
      "source": [
        "<a name='ex-04'></a>\n",
        "### Ejercicio 4\n",
        "\n",
        "Por favor completa la función `predict` para producir predicciones `1` o `0` dado un conjunto de datos y un vector de parámetros aprendidos $w$ y $b$.\n",
        "- Primero necesitas calcular la predicción del modelo $f(x^{(i)}) = g(w \\cdot x^{(i)} + b)$ para cada ejemplo\n",
        "    - Has implementado esto antes en las partes anteriores\n",
        "- Interpretamos la salida del modelo ($f(x^{(i)})$) como la probabilidad de que $y^{(i)}=1$ dado $x^{(i)}$ y parametrizado por $w$.\n",
        "- Por lo tanto, para obtener una predicción final ($y^{(i)}=0$ o $y^{(i)}=1$) del modelo de regresión logística, puedes usar la siguiente heurística -\n",
        "\n",
        "  si $f(x^{(i)}) >= 0.5$, predice $y^{(i)}=1$\n",
        "  \n",
        "  si $f(x^{(i)}) < 0.5$, predice $y^{(i)}=0$\n",
        "    \n",
        "Si te atascas, puedes revisar las pistas presentadas después de la celda siguiente para ayudarte con la implementación."
      ]
    },
    {
      "cell_type": "code",
      "execution_count": 248,
      "metadata": {
        "id": "30DmBnrF97-d"
      },
      "outputs": [],
      "source": [
        "# UNQ_C4\n",
        "# FUNCIÓN CALIFICADA: predict\n",
        "\n",
        "def predict(X, w, b):\n",
        "    \"\"\"\n",
        "    Predice si la etiqueta es 0 o 1 usando la regresión logística aprendida\n",
        "    parámetros w\n",
        "\n",
        "    Args:\n",
        "      X : (ndarray Shape (m,n)) datos, m ejemplos por n características\n",
        "      w : (ndarray Shape (n,))  valores de los parámetros del modelo\n",
        "      b : (escalar)              valor del parámetro de sesgo del modelo\n",
        "\n",
        "    Returns:\n",
        "      p : (ndarray (m,)) Las predicciones para X usando un umbral en 0.5\n",
        "    \"\"\"\n",
        "    # número de ejemplos de entrenamiento\n",
        "    m, n = X.shape\n",
        "    p = np.zeros(m)\n",
        "\n",
        "    ### INICIA TU CÓDIGO AQUÍ ###\n",
        "    # Recorre cada ejemplo de entrenamiento\n",
        "    for i in range(m):\n",
        "      # Calcula la probabilidad predicha usando la función sigmoide\n",
        "      f_wb = sigmoid(np.dot(X[i], w) + b)\n",
        "      # Asigna 1 si la probabilidad es mayor o igual a 0.5, si no asigna 0\n",
        "      p[i] = f_wb >= 0.5\n",
        "\n",
        "    ### FIN DE TU SOLUCIÓN ###\n",
        "    return p"
      ]
    },
    {
      "cell_type": "markdown",
      "metadata": {
        "id": "D_SziMKg97-d"
      },
      "source": [
        "<details>\n",
        "  <summary><font size=\"3\" color=\"darkgreen\"><b>Haz clic para ver pistas</b></font></summary>\n",
        "    \n",
        "    \n",
        "* Aquí tienes una estructura general para la implementación de esta función\n",
        "    ```python\n",
        "       def predict(X, w, b):\n",
        "            # número de ejemplos de entrenamiento\n",
        "            m, n = X.shape   \n",
        "            p = np.zeros(m)\n",
        "   \n",
        "            ### INICIA TU CÓDIGO AQUÍ ###\n",
        "            # Bucle sobre cada ejemplo\n",
        "            for i in range(m):   \n",
        "                \n",
        "                # Calcula f_wb (exactamente como lo hiciste en la función compute_cost arriba)\n",
        "                # usando un par de líneas de código\n",
        "                f_wb =\n",
        "\n",
        "                # Calcula la predicción para ese ejemplo de entrenamiento\n",
        "                p[i] = # Tu código aquí para calcular la predicción basada en f_wb\n",
        "        \n",
        "            ### FIN DE TU SOLUCIÓN ###\n",
        "            return p\n",
        "    ```\n",
        "  \n",
        "    Si aún tienes dudas, puedes revisar las pistas presentadas abajo para ver cómo calcular `f_wb` y `p[i]`\n",
        "    \n",
        "    <details>\n",
        "          <summary><font size=\"2\" color=\"darkblue\"><b>Pista para calcular f_wb</b></font></summary>\n",
        "           &emsp; &emsp; Recuerda que calculaste f_wb en <code>compute_cost</code> arriba\n",
        "        \n",
        "    </details>\n",
        "    <details>\n",
        "          <summary><font size=\"2\" color=\"darkblue\"><b>Pista para calcular p[i]</b></font></summary>\n",
        "           &emsp; &emsp; Como ejemplo, si quisieras decir x = 1 si y es menor que 3 y 0 de lo contrario, puedes expresarlo en código como <code>x = y < 3 </code>. Ahora haz lo mismo para p[i] = 1 si f_wb >= 0.5 y 0 de lo contrario.\n",
        "           <details>\n",
        "              <summary><font size=\"2\" color=\"blue\"><b>&emsp; &emsp; Más pistas para calcular p[i]</b></font></summary>\n",
        "              &emsp; &emsp; Puedes calcular p[i] como <code>p[i] = f_wb >= 0.5</code>\n",
        "          </details>\n",
        "    </details>\n",
        "\n",
        "</details>"
      ]
    },
    {
      "cell_type": "markdown",
      "metadata": {
        "id": "nCp4C-zq97-d"
      },
      "source": [
        "Una vez que hayas completado la función `predict`, ejecuta el código a continuación para informar la precisión del entrenamiento de tu clasificador calculando el porcentaje de ejemplos que acertó."
      ]
    },
    {
      "cell_type": "code",
      "execution_count": 249,
      "metadata": {
        "colab": {
          "base_uri": "https://localhost:8080/"
        },
        "id": "tHhAqPsj97-d",
        "outputId": "0ec32de6-64ba-459d-ebbf-6f04c7b17f46"
      },
      "outputs": [
        {
          "name": "stdout",
          "output_type": "stream",
          "text": [
            "Salida de predict: forma (4,), valor [0. 1. 1. 1.]\n"
          ]
        }
      ],
      "source": [
        "# Prueba tu código predict\n",
        "\n",
        "# Fija la semilla de numpy para reproducibilidad\n",
        "np.random.seed(1)\n",
        "\n",
        "# Genera un vector de pesos aleatorio de tamaño 2\n",
        "tmp_w = np.random.randn(2)\n",
        "\n",
        "# Define el sesgo como 0.3\n",
        "tmp_b = 0.3\n",
        "\n",
        "# Genera una matriz de 4 filas y 2 columnas con valores aleatorios y le resta 0.5 a cada elemento\n",
        "tmp_X = np.random.randn(4, 2) - 0.5\n",
        "\n",
        "# Usa la función predict para obtener las predicciones sobre tmp_X con los parámetros tmp_w y tmp_b\n",
        "tmp_p = predict(tmp_X, tmp_w, tmp_b)\n",
        "\n",
        "# Imprime la forma y los valores de las predicciones obtenidas\n",
        "print(f'Salida de predict: forma {tmp_p.shape}, valor {tmp_p}')\n",
        "\n",
        "# Ejecuta las pruebas unitarias para la función predict\n",
        "predict_test(predict)"
      ]
    },
    {
      "cell_type": "markdown",
      "metadata": {
        "id": "9OMlo74697-e"
      },
      "source": [
        "**Salida esperada**\n",
        "\n",
        "<table>\n",
        "  <tr>\n",
        "    <td> <b>Salida de predict: forma (4,),valor [0. 1. 1. 1.]<b></td>\n",
        "  </tr>\n",
        "</table>"
      ]
    },
    {
      "cell_type": "markdown",
      "metadata": {
        "id": "_75sG-EX97-e"
      },
      "source": [
        "Ahora usemos esto para calcular la precisión en el conjunto de entrenamiento"
      ]
    },
    {
      "cell_type": "code",
      "execution_count": 250,
      "metadata": {
        "colab": {
          "base_uri": "https://localhost:8080/"
        },
        "id": "eAa1P4aT97-f",
        "outputId": "8668a7fe-d202-40b0-b9b9-760018302a77"
      },
      "outputs": [
        {
          "name": "stdout",
          "output_type": "stream",
          "text": [
            "Precisión en el entrenamiento: 92.00\n"
          ]
        }
      ],
      "source": [
        "#Calcular precisión en nuestro conjunto de entrenamiento\n",
        "p = predict(X_train, w,b)\n",
        "print('Precisión en el entrenamiento: %.2f' % (np.mean(p == y_train) * 100))\n",
        "\n",
        "# La precisión en el entrenamiento indica qué tan bien el modelo se ajusta a los datos de entrenamiento.\n",
        "# En este caso, la precisión es del 92.00%, lo que significa que el modelo predice correctamente el 89% de los ejemplos de entrenamiento."
      ]
    },
    {
      "cell_type": "markdown",
      "metadata": {
        "id": "jqudGzu797-g"
      },
      "source": [
        "<table>\n",
        "  <tr>\n",
        "    <td> <b>Precisión en el entrenamiento (aprox):<b></td>\n",
        "    <td> 92.00 </td>\n",
        "  </tr>\n",
        "</table>"
      ]
    },
    {
      "cell_type": "markdown",
      "metadata": {
        "id": "jDp1xR4Y97-g"
      },
      "source": [
        "<a name=\"3\"></a>\n",
        "## 3 - Regresión Logística Regularizada\n",
        "\n",
        "En esta parte del ejercicio, implementarás regresión logística regularizada para predecir si los microchips de una planta de fabricación pasan el control de calidad (QA). Durante el QA, cada microchip pasa por varias pruebas para asegurar que está funcionando correctamente.\n",
        "\n",
        "<a name=\"3.1\"></a>\n",
        "### 3.1 Enunciado del Problema\n",
        "\n",
        "Supón que eres el gerente de producto de la fábrica y tienes los resultados de las pruebas de algunos microchips en dos pruebas diferentes.\n",
        "- A partir de estas dos pruebas, te gustaría determinar si los microchips deben ser aceptados o rechazados.\n",
        "- Para ayudarte a tomar la decisión, tienes un conjunto de datos de resultados de pruebas en microchips anteriores, con los cuales puedes construir un modelo de regresión logística.\n",
        "\n",
        "<a name=\"3.2\"></a>\n",
        "### 3.2 Carga y visualización de los datos\n",
        "\n",
        "Similar a las partes anteriores de este ejercicio, comencemos cargando el conjunto de datos para esta tarea y visualizándolo.\n",
        "\n",
        "- La función `load_dataset()` que se muestra a continuación carga los datos en las variables `X_train` y `y_train`\n",
        "  - `X_train` contiene los resultados de las pruebas para los microchips de dos pruebas\n",
        "  - `y_train` contiene los resultados del QA  \n",
        "      - `y_train = 1` si el microchip fue aceptado\n",
        "      - `y_train = 0` si el microchip fue rechazado\n",
        "  - Tanto `X_train` como `y_train` son arreglos de numpy."
      ]
    },
    {
      "cell_type": "code",
      "execution_count": 251,
      "metadata": {
        "id": "PVrq19VM97-g"
      },
      "outputs": [],
      "source": [
        "# cargar conjunto de datos\n",
        "X_train, y_train = load_data(\"data/ex2data2.txt\")"
      ]
    },
    {
      "cell_type": "markdown",
      "metadata": {
        "id": "rqJIFMds97-h"
      },
      "source": [
        "#### Visualiza las variables\n",
        "\n",
        "El siguiente código imprime los primeros cinco valores de `X_train` y `y_train` y el tipo de las variables.\n"
      ]
    },
    {
      "cell_type": "code",
      "execution_count": 252,
      "metadata": {
        "colab": {
          "base_uri": "https://localhost:8080/"
        },
        "id": "otYFBeN897-i",
        "outputId": "dc4fe789-354b-4ade-f3cb-7e4cd56cec5e"
      },
      "outputs": [
        {
          "name": "stdout",
          "output_type": "stream",
          "text": [
            "X_train: [[ 0.051267  0.69956 ]\n",
            " [-0.092742  0.68494 ]\n",
            " [-0.21371   0.69225 ]\n",
            " [-0.375     0.50219 ]\n",
            " [-0.51325   0.46564 ]]\n",
            "Tipo de X_train: <class 'numpy.ndarray'>\n",
            "y_train: [1. 1. 1. 1. 1.]\n",
            "Tipo de y_train: <class 'numpy.ndarray'>\n"
          ]
        }
      ],
      "source": [
        "# imprimir X_train\n",
        "print(\"X_train:\", X_train[:5])\n",
        "print(\"Tipo de X_train:\",type(X_train))\n",
        "\n",
        "# imprimir y_train\n",
        "print(\"y_train:\", y_train[:5])\n",
        "print(\"Tipo de y_train:\",type(y_train))\n",
        "\n",
        "# X_train es un arreglo numpy bidimensional donde cada fila representa un microchip y cada columna un resultado de prueba.\n",
        "# y_train es un arreglo numpy unidimensional que indica si el microchip fue aceptado (1) o rechazado (0).\n",
        "# Ambos arreglos tienen la misma cantidad de ejemplos (filas), lo que permite asociar cada microchip con su resultado."
      ]
    },
    {
      "cell_type": "markdown",
      "metadata": {
        "id": "_s-yZJPj97-i"
      },
      "source": [
        "#### Revisa las dimensiones de tus variables\n",
        "\n",
        "Otra forma útil de familiarizarte con tus datos es ver sus dimensiones. Imprime la forma(shape) de `X_train` y `y_train` y observa cuántos ejemplos de entrenamiento tienes en tu conjunto de datos."
      ]
    },
    {
      "cell_type": "code",
      "execution_count": 253,
      "metadata": {
        "colab": {
          "base_uri": "https://localhost:8080/"
        },
        "id": "qHyyAdFG97-j",
        "outputId": "731ddd36-479a-4245-f88c-451014ac45fe"
      },
      "outputs": [
        {
          "name": "stdout",
          "output_type": "stream",
          "text": [
            "La forma(shape) de X_train es: (118, 2)\n",
            "La forma(shape) de y_train es: (118,)\n",
            "Tenemos m = 118 ejemplos de entrenamiento\n"
          ]
        }
      ],
      "source": [
        "print ('La forma(shape) de X_train es: ' + str(X_train.shape))\n",
        "print ('La forma(shape) de y_train es: ' + str(y_train.shape))\n",
        "print ('Tenemos m = %d ejemplos de entrenamiento' % (len(y_train)))\n",
        "\n",
        "# \n",
        "# Comentario de los resultados:\n",
        "# La forma(shape) de X_train es: (118, 2)\n",
        "# La forma(shape) de y_train es: (118,)\n",
        "# Tenemos m = 118 ejemplos de entrenamiento"
      ]
    },
    {
      "cell_type": "markdown",
      "metadata": {
        "id": "QeYdjnQP97-j"
      },
      "source": [
        "#### Visualiza tus datos\n",
        "\n",
        "La función auxiliar `plot_data` (del `utils.py`) se usa para generar una figura como la de la Figura 3, donde los ejes son los dos puntajes de la prueba, y los ejemplos positivos (y = 1, aceptados) y negativos (y = 0, rechazados) se muestran con diferentes marcadores.\n",
        "\n",
        "![figure 3.png](attachment:94e72ec3-d08c-4b22-beaf-a5f4207b61ba.png)"
      ]
    },
    {
      "cell_type": "code",
      "execution_count": 254,
      "metadata": {
        "colab": {
          "base_uri": "https://localhost:8080/",
          "height": 449
        },
        "id": "mVzkNPt597-k",
        "outputId": "9c8b0cb3-ee18-4df3-ab0f-13551d2d41e4"
      },
      "outputs": [
        {
          "data": {
            "image/png": "[encoded data removed]",
            "text/plain": [
              "<Figure size 640x480 with 1 Axes>"
            ]
          },
          "metadata": {},
          "output_type": "display_data"
        }
      ],
      "source": [
        "# Graficar ejemplos\n",
        "# Graficar los ejemplos de entrenamiento, diferenciando entre aceptados y rechazados\n",
        "plot_data(X_train, y_train[:], pos_label=\"Aceptado\", neg_label=\"Rechazado\")\n",
        "\n",
        "# Establecer la etiqueta del eje y\n",
        "plt.ylabel('Microchip Prueba 2')\n",
        "# Establecer la etiqueta del eje x\n",
        "plt.xlabel('Microchip Prueba 1')\n",
        "plt.legend(loc=\"upper right\")\n",
        "plt.show()\n",
        "\n",
        "\n",
        "# La gráfica representa la clasificación de microchips en aceptados (+) y rechazados (círculos amarillos),\n",
        "# según los resultados de dos pruebas. Cada punto refleja un microchip evaluado, \n",
        "# lo que permite visualizar cómo se agrupan las clases y analizar la posibilidad de separarlas mediante un modelo de clasificación."
      ]
    },
    {
      "cell_type": "markdown",
      "metadata": {
        "id": "wNTgXAYy97-k"
      },
      "source": [
        "La Figura 3 muestra que nuestro conjunto de datos no puede ser separado en ejemplos positivos y negativos por una línea recta a través del gráfico. Por lo tanto, una aplicación directa de la regresión logística no funcionará bien en este conjunto de datos, ya que la regresión logística solo podrá encontrar una frontera de decisión lineal."
      ]
    },
    {
      "cell_type": "markdown",
      "metadata": {
        "id": "bXdxv_R697-k"
      },
      "source": [
        "<a name=\"3.3\"></a>\n",
        "### 3.3 Mapeo de características\n",
        "\n",
        "Una forma de ajustar mejor los datos es crear más características a partir de cada punto de datos. En la función proporcionada `map_feature`, mapearemos las características en todos los términos polinómicos de $x_1$ y $x_2$ hasta la sexta potencia.\n",
        "\n",
        "$$\\mathrm{map\\_feature}(x) =\n",
        "\\left[\\begin{array}{c}\n",
        "x_1\\\\\n",
        "x_2\\\\\n",
        "x_1^2\\\\\n",
        "x_1 x_2\\\\\n",
        "x_2^2\\\\\n",
        "x_1^3\\\\\n",
        "\\vdots\\\\\n",
        "x_1 x_2^5\\\\\n",
        "x_2^6\\end{array}\\right]$$\n",
        "\n",
        "Como resultado de este mapeo, nuestro vector de dos características (las puntuaciones en dos pruebas de QA) se ha transformado en un vector de 27 dimensiones.\n",
        "\n",
        "- Un clasificador de regresión logística entrenado en este vector de características de mayor dimensión tendrá una frontera de decisión más compleja y será no lineal cuando se dibuje en nuestro gráfico de 2 dimensiones.\n",
        "- Hemos proporcionado la función `map_feature` para ti en utils.py."
      ]
    },
    {
      "cell_type": "code",
      "execution_count": 255,
      "metadata": {
        "colab": {
          "base_uri": "https://localhost:8080/"
        },
        "id": "LPj9CxVi97-k",
        "outputId": "c0f63cf2-f33e-44fd-9e60-0a8c8692cac3"
      },
      "outputs": [
        {
          "name": "stdout",
          "output_type": "stream",
          "text": [
            "Forma original de los datos: (118, 2)\n",
            "Forma después del mapeo de características: (118, 27)\n"
          ]
        }
      ],
      "source": [
        "from data.utils import map_feature # map_feature es una función que transforma las características de entrada en un espacio de características polinómicas,\n",
        "# permitiendo que el modelo de regresión logística pueda aprender relaciones no lineales entre las características\n",
        "\n",
        "print(\"Forma original de los datos:\", X_train.shape) # Imprime la forma original de los datos X_train\n",
        "\n",
        "mapped_X = map_feature(X_train[:, 0], X_train[:, 1])  # Aplica el mapeo de características polinómicas a las dos columnas de X_train\n",
        "print(\"Forma después del mapeo de características:\", mapped_X.shape)\n",
        "\n",
        "# Comentario de los resultados:\n",
        "# La forma original de los datos es (118, 2), lo que indica que hay 118 ejemplos y 2 características originales (resultados de dos pruebas).\n",
        "# Después del mapeo de características, la forma es (118, 27), es decir, cada ejemplo ahora tiene 27 características polinómicas.\n",
        "# Esto permite que el modelo capture relaciones no lineales entre las variables originales, aumentando la capacidad de ajuste del modelo."
      ]
    },
    {
      "cell_type": "markdown",
      "metadata": {
        "id": "_r7IxvEN97-l"
      },
      "source": [
        "También imprimamos los primeros elementos de `X_train` y `mapped_X` para ver la transformación."
      ]
    },
    {
      "cell_type": "code",
      "execution_count": 256,
      "metadata": {
        "colab": {
          "base_uri": "https://localhost:8080/"
        },
        "id": "xTolDT5G97-l",
        "outputId": "5af5ccf6-cd84-4bdc-bef8-f097bcd0ded4"
      },
      "outputs": [
        {
          "name": "stdout",
          "output_type": "stream",
          "text": [
            "X_train[0]: [0.051267 0.69956 ]\n",
            "mapped X_train[0]: [5.12670000e-02 6.99560000e-01 2.62830529e-03 3.58643425e-02\n",
            " 4.89384194e-01 1.34745327e-04 1.83865725e-03 2.50892595e-02\n",
            " 3.42353606e-01 6.90798869e-06 9.42624411e-05 1.28625106e-03\n",
            " 1.75514423e-02 2.39496889e-01 3.54151856e-07 4.83255257e-06\n",
            " 6.59422333e-05 8.99809795e-04 1.22782870e-02 1.67542444e-01\n",
            " 1.81563032e-08 2.47750473e-07 3.38066048e-06 4.61305487e-05\n",
            " 6.29470940e-04 8.58939846e-03 1.17205992e-01]\n"
          ]
        }
      ],
      "source": [
        "print(\"X_train[0]:\", X_train[0])           # Imprime el primer ejemplo original de X_train (antes del mapeo de características)\n",
        "print(\"mapped X_train[0]:\", mapped_X[0])   # Imprime el primer ejemplo de X_train después de aplicar el mapeo polinómico (mapped_X)\n",
        "\n",
        "# Comentario de los resultados:\n",
        "# X_train[0] muestra el primer ejemplo original con solo dos características (los resultados de las dos pruebas del microchip).\n",
        "# mapped_X[0] muestra el mismo ejemplo después de aplicar el mapeo polinómico, expandido a 27 características.\n",
        "# Esto permite al modelo capturar relaciones no lineales y patrones complejos en los datos, mejorando la capacidad de clasificación frente a una frontera de decisión no lineal."
      ]
    },
    {
      "cell_type": "markdown",
      "metadata": {
        "id": "6UsVgs_X97-l"
      },
      "source": [
        "Si bien el mapeo de características nos permite construir un clasificador más expresivo, también es más susceptible al sobreajuste. En las siguientes partes del ejercicio, implementarás regresión logística regularizada para ajustar los datos y también verás por ti mismo cómo la regularización puede ayudar a combatir el problema del sobreajuste.\n",
        "\n",
        "<a name=\"3.4\"></a>\n",
        "### 3.4 Función de costo para regresión logística regularizada\n",
        "\n",
        "En esta parte, implementarás la función de costo para regresión logística regularizada.\n",
        "\n",
        "Recuerda que para regresión logística regularizada, la función de costo es de la forma\n",
        "$$J(\\mathbf{w},b) = \\frac{1}{m}  \\sum_{i=0}^{m-1} \\left[ -y^{(i)} \\log\\left(f_{\\mathbf{w},b}\\left( \\mathbf{x}^{(i)} \\right) \\right) - \\left( 1 - y^{(i)}\\right) \\log \\left( 1 - f_{\\mathbf{w},b}\\left( \\mathbf{x}^{(i)} \\right) \\right) \\right] + \\frac{\\lambda}{2m}  \\sum_{j=0}^{n-1} w_j^2$$\n",
        "\n",
        "Compara esto con la función de costo sin regularización (que implementaste arriba), que es de la forma\n",
        "\n",
        "$$ J(\\mathbf{w}.b) = \\frac{1}{m}\\sum_{i=0}^{m-1} \\left[ (-y^{(i)} \\log\\left(f_{\\mathbf{w},b}\\left( \\mathbf{x}^{(i)} \\right) \\right) - \\left( 1 - y^{(i)}\\right) \\log \\left( 1 - f_{\\mathbf{w},b}\\left( \\mathbf{x}^{(i)} \\right) \\right)\\right]$$\n",
        "\n",
        "La diferencia es el término de regularización, que es $$\\frac{\\lambda}{2m}  \\sum_{j=0}^{n-1} w_j^2$$\n",
        "Nota que el parámetro $b$ no está regularizado."
      ]
    },
    {
      "cell_type": "markdown",
      "metadata": {
        "id": "joHKKbkb97-m"
      },
      "source": [
        "<a name='ex-05'></a>\n",
        "### Ejercicio 5\n",
        "\n",
        "Por favor completa la función `compute_cost_reg` a continuación para calcular el siguiente término para cada elemento en $w$\n",
        "$$\\frac{\\lambda}{2m}  \\sum_{j=0}^{n-1} w_j^2$$\n",
        "\n",
        "El código de inicio luego suma esto al costo sin regularización (que calculaste arriba en `compute_cost`) para calcular el costo con regularización.\n",
        "\n",
        "Si te atascas, puedes revisar las pistas presentadas después de la celda siguiente para ayudarte con la implementación."
      ]
    },
    {
      "cell_type": "code",
      "execution_count": 257,
      "metadata": {
        "id": "2jhJy3SS97-m"
      },
      "outputs": [],
      "source": [
        "# UNQ_C5\n",
        "def compute_cost_reg(X, y, w, b, lambda_ = 1):\n",
        "    \"\"\"\n",
        "    Calcula el costo sobre todos los ejemplos\n",
        "    Args:\n",
        "      X : (ndarray Shape (m,n)) datos, m ejemplos por n características\n",
        "      y : (ndarray Shape (m,))  valor objetivo\n",
        "      w : (ndarray Shape (n,))  valores de los parámetros del modelo\n",
        "      b : (escalar)              valor del parámetro de sesgo del modelo\n",
        "      lambda_ : (escalar, float) Controla la cantidad de regularización\n",
        "    Returns:\n",
        "      total_cost : (escalar)     costo\n",
        "    \"\"\"\n",
        "\n",
        "    m, n = X.shape\n",
        "\n",
        "    # Llama a la función compute_cost que implementaste arriba\n",
        "    cost_without_reg = compute_cost(X, y, w, b)\n",
        "\n",
        "    # Necesitas calcular este valor\n",
        "    reg_cost = 0.\n",
        "\n",
        "    ### INICIA TU CÓDIGO AQUÍ ###\n",
        "    for j in range(n):\n",
        "        reg_cost_j = w[j] ** 2\n",
        "        reg_cost = reg_cost + reg_cost_j\n",
        "    reg_cost = (lambda_ / (2 * m)) * reg_cost\n",
        "    ### FIN DE TU SOLUCIÓN ###\n",
        "\n",
        "    # Agrega el costo de regularización para obtener el costo total\n",
        "    total_cost = cost_without_reg + reg_cost\n",
        "\n",
        "    return total_cost"
      ]
    },
    {
      "cell_type": "markdown",
      "metadata": {
        "id": "pid5Hbrk97-m"
      },
      "source": [
        "<details>\n",
        "  <summary><font size=\"3\" color=\"darkgreen\"><b>Haz clic para ver pistas</b></font></summary>\n",
        "    \n",
        "    \n",
        "* Aquí tienes una estructura general para la implementación de esta función\n",
        "    ```python\n",
        "       def compute_cost_reg(X, y, w, b, lambda_ = 1):\n",
        "   \n",
        "           m, n = X.shape\n",
        "    \n",
        "            # Llama a la función compute_cost que implementaste arriba\n",
        "            cost_without_reg = compute_cost(X, y, w, b)\n",
        "    \n",
        "            # Necesitas calcular este valor\n",
        "            reg_cost = 0.\n",
        "    \n",
        "            ### INICIA TU CÓDIGO AQUÍ ###\n",
        "            for j in range(n):\n",
        "                reg_cost_j = # Tu código aquí para calcular el costo de w[j]\n",
        "                reg_cost = reg_cost + reg_cost_j\n",
        "            reg_cost = (lambda_/(2 * m)) * reg_cost\n",
        "            ### FIN DE TU SOLUCIÓN ###\n",
        "    \n",
        "            # Agrega el costo de regularización para obtener el costo total\n",
        "            total_cost = cost_without_reg + reg_cost\n",
        "\n",
        "        return total_cost\n",
        "    ```\n",
        "\n",
        "</details>\n",
        "\n",
        "    "
      ]
    },
    {
      "cell_type": "markdown",
      "metadata": {
        "id": "p757gvx-97-n"
      },
      "source": [
        "Ejecuta la celda a continuación para verificar tu implementación de la función `compute_cost_reg`."
      ]
    },
    {
      "cell_type": "code",
      "execution_count": 258,
      "metadata": {
        "colab": {
          "base_uri": "https://localhost:8080/"
        },
        "id": "OZgjV4Br97-n",
        "outputId": "9129ea62-b58d-47a2-e25a-c32168abe002"
      },
      "outputs": [
        {
          "name": "stdout",
          "output_type": "stream",
          "text": [
            "Costo regularizado : 0.6618252552483948\n"
          ]
        }
      ],
      "source": [
        "X_mapped = map_feature(X_train[:, 0], X_train[:, 1])  # Mapea las dos características originales a un espacio polinómico de mayor dimensión\n",
        "np.random.seed(1)  # Fija la semilla de aleatoriedad para reproducibilidad\n",
        "initial_w = np.random.rand(X_mapped.shape[1]) - 0.5  # Inicializa los pesos w aleatoriamente en el rango [-0.5, 0.5]\n",
        "initial_b = 0.5  # Inicializa el sesgo b en 0.5\n",
        "lambda_ = 0.5  # Define el parámetro de regularización lambda\n",
        "cost = compute_cost_reg(X_mapped, y_train, initial_w, initial_b, lambda_)  # Calcula el costo regularizado con los parámetros iniciales\n",
        "\n",
        "print(\"Costo regularizado :\", cost)  # Imprime el valor del costo regularizado\n",
        "\n",
        "# PRUEBAS UNITARIAS\n",
        "compute_cost_reg_test(compute_cost_reg)  # Ejecuta pruebas unitarias para verificar la función compute_cost_reg\n",
        "\n",
        "# Comentario de los resultados:\n",
        "# El valor obtenido para el costo regularizado es aproximadamente 0.6618.\n",
        "# Esto indica que, con los pesos inicializados aleatoriamente y el sesgo en 0.5, \n",
        "# el modelo tiene un error promedio (incluyendo la penalización por regularización) de 0.66 en el conjunto de entrenamiento.\n",
        "# Un costo regularizado en este rango es esperado antes de entrenar el modelo, ya que los parámetros aún no han sido ajustados.\n",
        "# La regularización ayuda a evitar el sobreajuste penalizando los valores grandes de los pesos."
      ]
    },
    {
      "cell_type": "markdown",
      "metadata": {
        "id": "wgIdytZr97-n"
      },
      "source": [
        "**Salida Esperada**:\n",
        "<table>\n",
        "  <tr>\n",
        "    <td> <b>Costo regularizado : <b></td>\n",
        "    <td> 0.6618252552483948 </td>\n",
        "  </tr>\n",
        "</table>"
      ]
    },
    {
      "cell_type": "markdown",
      "metadata": {
        "id": "Ki0nBDrt97-p"
      },
      "source": [
        "<a name=\"3.5\"></a>\n",
        "### 3.5 Gradiente para regresión logística regularizada\n",
        "\n",
        "En esta sección, implementarás el gradiente para regresión logística regularizada.\n",
        "\n",
        "\n",
        "El gradiente de la función de costo regularizada tiene dos componentes. El primero, $\\frac{\\partial J(\\mathbf{w},b)}{\\partial b}$ es un escalar, el otro es un vector con la misma forma que los parámetros $\\mathbf{w}$, donde el elemento $j^\\mathrm{th}$ se define de la siguiente manera:\n",
        "\n",
        "$$\\frac{\\partial J(\\mathbf{w},b)}{\\partial b} = \\frac{1}{m}  \\sum_{i=0}^{m-1} (f_{\\mathbf{w},b}(\\mathbf{x}^{(i)}) - y^{(i)})  $$\n",
        "\n",
        "$$\\frac{\\partial J(\\mathbf{w},b)}{\\partial w_j} = \\left( \\frac{1}{m}  \\sum_{i=0}^{m-1} (f_{\\mathbf{w},b}(\\mathbf{x}^{(i)}) - y^{(i)}) x_j^{(i)} \\right) + \\frac{\\lambda}{m} w_j  \\quad\\, \\mbox{para $j=0...(n-1)$}$$\n",
        "\n",
        "Compara esto con el gradiente de la función de costo sin regularización (que implementaste arriba), que es de la forma\n",
        "$$\n",
        "\\frac{\\partial J(\\mathbf{w},b)}{\\partial b}  = \\frac{1}{m} \\sum\\limits_{i = 0}^{m-1} (f_{\\mathbf{w},b}(\\mathbf{x}^{(i)}) - \\mathbf{y}^{(i)}) \\tag{2}\n",
        "$$\n",
        "$$\n",
        "\\frac{\\partial J(\\mathbf{w},b)}{\\partial w_j}  = \\frac{1}{m} \\sum\\limits_{i = 0}^{m-1} (f_{\\mathbf{w},b}(\\mathbf{x}^{(i)}) - \\mathbf{y}^{(i)})x_{j}^{(i)} \\tag{3}\n",
        "$$\n",
        "\n",
        "\n",
        "Como puedes ver,$\\frac{\\partial J(\\mathbf{w},b)}{\\partial b}$ es el mismo, la diferencia es el siguiente término en $\\frac{\\partial J(\\mathbf{w},b)}{\\partial w}$, que es $$\\frac{\\lambda}{m} w_j  \\quad\\, \\mbox{para $j=0...(n-1)$}$$\n",
        "\n",
        "\n",
        "\n"
      ]
    },
    {
      "cell_type": "markdown",
      "metadata": {
        "id": "Os5qyO2g97-p"
      },
      "source": [
        "<a name='ex-06'></a>\n",
        "### Ejercicio 6\n",
        "\n",
        "Por favor completa la función `compute_gradient_reg` a continuación para modificar el código a continuación para calcular el siguiente término\n",
        "\n",
        "$$\\frac{\\lambda}{m} w_j  \\quad\\, \\mbox{para $j=0...(n-1)$}$$\n",
        "\n",
        "El código de inicio sumará este término al gradiente de $\\frac{\\partial J(\\mathbf{w},b)}{\\partial w}$ devuelto desde `compute_gradient` arriba para obtener el gradiente para la función de costo regularizada.\n",
        "\n",
        "\n",
        "Si te atascas, puedes revisar las pistas presentadas después de la celda siguiente para ayudarte con la implementación."
      ]
    },
    {
      "cell_type": "code",
      "execution_count": 259,
      "metadata": {
        "id": "WorM0IdU97-q"
      },
      "outputs": [],
      "source": [
        "# UNQ_C6\n",
        "def compute_gradient_reg(X, y, w, b, lambda_ = 1):\n",
        "    \"\"\"\n",
        "    Calcula el gradiente para regresión logística con regularización\n",
        "\n",
        "    Args:\n",
        "      X : (ndarray Shape (m,n)) datos, m ejemplos por n características\n",
        "      y : (ndarray Shape (m,))  valor objetivo\n",
        "      w : (ndarray Shape (n,))  valores de los parámetros del modelo\n",
        "      b : (escalar)              valor del parámetro de sesgo del modelo\n",
        "      lambda_ : (escalar,float)  constante de regularización\n",
        "    Returns\n",
        "      dj_db : (escalar)             El gradiente del costo con respecto al parámetro b.\n",
        "      dj_dw : (ndarray Shape (n,)) El gradiente del costo con respecto a los parámetros w.\n",
        "\n",
        "    \"\"\"\n",
        "    m, n = X.shape  # Obtiene el número de ejemplos (m) y el número de características (n) de X\n",
        "\n",
        "    dj_db, dj_dw = compute_gradient(X, y, w, b)  # Calcula el gradiente sin regularización usando la función previamente definida\n",
        "\n",
        "    ### INICIA TU CÓDIGO AQUÍ ###\n",
        "    for j in range(n):  # Itera sobre cada peso w[j]\n",
        "      dj_dw_j_reg = (lambda_ / m) * w[j]  # Calcula el término de regularización para el peso w[j]\n",
        "      dj_dw[j] = dj_dw[j] + dj_dw_j_reg   # Suma el término de regularización al gradiente correspondiente de w[j]\n",
        "    ### FIN DE TU SOLUCIÓN ###\n",
        "\n",
        "    return dj_db, dj_dw  # Devuelve el gradiente respecto a b y el gradiente regularizado respecto a w"
      ]
    },
    {
      "cell_type": "markdown",
      "metadata": {
        "id": "g9en0eU097-q"
      },
      "source": [
        "<details>\n",
        "  <summary><font size=\"3\" color=\"darkgreen\"><b>Haz clic para ver pistas</b></font></summary>\n",
        "    \n",
        "    \n",
        "* Aquí tienes una estructura general para la implementación de esta función\n",
        "    ```python\n",
        "    def compute_gradient_reg(X, y, w, b, lambda_ = 1):\n",
        "        m, n = X.shape\n",
        "    \n",
        "        dj_db, dj_dw = compute_gradient(X, y, w, b)\n",
        "\n",
        "        ### INICIA TU CÓDIGO AQUÍ ###     \n",
        "        # Bucle sobre los elementos de w\n",
        "        for j in range(n):\n",
        "            \n",
        "            dj_dw_j_reg = # Tu código aquí para calcular el término de regularización para dj_dw[j]\n",
        "            \n",
        "            # Agrega el término de regularización al elemento correspondiente de dj_dw\n",
        "            dj_dw[j] = dj_dw[j] + dj_dw_j_reg\n",
        "        \n",
        "        ### FIN DE TU SOLUCIÓN ###         \n",
        "        \n",
        "        return dj_db, dj_dw\n",
        "    ```\n",
        "\n",
        "</details>\n",
        "\n",
        "    \n"
      ]
    },
    {
      "cell_type": "markdown",
      "metadata": {
        "id": "6rBytLQ-97-q"
      },
      "source": [
        "Ejecuta la celda a continuación para verificar tu implementación de la función `compute_gradient_reg`."
      ]
    },
    {
      "cell_type": "code",
      "execution_count": 260,
      "metadata": {
        "colab": {
          "base_uri": "https://localhost:8080/"
        },
        "id": "ndWdJHOV97-r",
        "outputId": "234ce240-eb41-43a1-b503-bf0f2440c9ef"
      },
      "outputs": [
        {
          "name": "stdout",
          "output_type": "stream",
          "text": [
            "dj_db: 0.07138288792343662\n",
            "Primeros elementos de dj_dw regularizado:\n",
            " [-0.010386028450548701, 0.011409852883280124, 0.0536273463274574, 0.0031402782673134637]\n"
          ]
        }
      ],
      "source": [
        "X_mapped = map_feature(X_train[:, 0], X_train[:, 1])  # Aplica el mapeo polinómico a las dos columnas de X_train para obtener características no lineales\n",
        "np.random.seed(1)  # Fija la semilla de aleatoriedad para reproducibilidad\n",
        "initial_w  = np.random.rand(X_mapped.shape[1]) - 0.5  # Inicializa los pesos w aleatoriamente en el rango [-0.5, 0.5], con tantas dimensiones como columnas tenga X_mapped\n",
        "initial_b = 0.5  # Inicializa el sesgo b en 0.5\n",
        "\n",
        "lambda_ = 0.5  # Define el parámetro de regularización lambda\n",
        "dj_db, dj_dw = compute_gradient_reg(X_mapped, y_train, initial_w, initial_b, lambda_)  # Calcula el gradiente regularizado respecto a b y w usando los parámetros iniciales\n",
        "\n",
        "print(f\"dj_db: {dj_db}\", )  # Imprime el valor del gradiente respecto al sesgo b\n",
        "print(f\"Primeros elementos de dj_dw regularizado:\\n {dj_dw[:4].tolist()}\", )  # Imprime los primeros 4 elementos del gradiente regularizado respecto a w\n",
        "\n",
        "# PRUEBAS UNITARIAS\n",
        "compute_gradient_reg_test(compute_gradient_reg)  # Ejecuta pruebas unitarias para verificar la función compute_gradient_reg\n",
        "\n",
        "# El valor de dj_db indica el sesgo del gradiente regularizado obtenido: 0.07138, que coincide con lo esperado.\n",
        "# Los primeros elementos de dj_dw muestran los efectos de regularización sobre las características mapeadas.\n",
        "# Esta salida confirma que la función compute_gradient_reg opera correctamente con lambda = 0.5."
      ]
    },
    {
      "cell_type": "markdown",
      "metadata": {
        "id": "o7iq7XmW97-r"
      },
      "source": [
        "**Salida Esperada**:\n",
        "<table>\n",
        "  <tr>\n",
        "    <td> <b>dj_db:</b>0.07138288792343</td> </tr>\n",
        "  <tr>\n",
        "      <td> <b> Primeros elementos de dj_dw regularizado:</b> </td> </tr>\n",
        "   <tr>\n",
        "   <td> [[-0.010386028450548], [0.011409852883280], [0.0536273463274], [0.003140278267313]] </td>\n",
        "  </tr>\n",
        "</table>"
      ]
    },
    {
      "cell_type": "markdown",
      "metadata": {
        "id": "nczXCPQD97-s"
      },
      "source": [
        "<a name=\"3.6\"></a>\n",
        "### 3.6 Aprendizaje de parámetros usando descenso por gradiente\n",
        "\n",
        "Similar a los ejercicios anteriores, usarás tu función de descenso por gradiente implementada arriba para aprender los parámetros óptimos $w$,$b$.\n",
        "- Si has completado correctamente el costo y el gradiente para la regresión logística regularizada, deberías poder avanzar por la siguiente celda para aprender los parámetros $w$.\n",
        "- Después de entrenar nuestros parámetros, los usaremos para graficar la frontera de decisión.\n",
        "\n",
        "**Nota**\n",
        "\n",
        "El siguiente bloque de código tarda bastante en ejecutarse, especialmente con una versión no vectorizada. Puedes reducir el `iterations` para probar tu implementación y iterar más rápido. Si tienes tiempo más tarde, ejecuta 100,000 iteraciones para ver mejores resultados."
      ]
    },
    {
      "cell_type": "code",
      "execution_count": 261,
      "metadata": {
        "colab": {
          "base_uri": "https://localhost:8080/"
        },
        "id": "CvabyxOO97-t",
        "outputId": "d04d8d2d-c787-4801-b481-5c28d1ad41fa"
      },
      "outputs": [
        {
          "name": "stdout",
          "output_type": "stream",
          "text": [
            "Iteración    0: Costo     0.72\n",
            "Iteración 1000: Costo     0.59\n",
            "Iteración 2000: Costo     0.56\n",
            "Iteración 3000: Costo     0.53\n",
            "Iteración 4000: Costo     0.51\n",
            "Iteración 5000: Costo     0.50\n",
            "Iteración 6000: Costo     0.48\n",
            "Iteración 7000: Costo     0.47\n",
            "Iteración 8000: Costo     0.46\n",
            "Iteración 9000: Costo     0.45\n",
            "Iteración 9999: Costo     0.45\n"
          ]
        }
      ],
      "source": [
        "# Inicializa los parámetros aleatoriamente para los pesos w usando una semilla fija para reproducibilidad\n",
        "np.random.seed(1)\n",
        "initial_w = np.random.rand(X_mapped.shape[1]) - 0.5  # Vector de pesos iniciales (dimensión igual a las características mapeadas)\n",
        "initial_b = 1.                                       # Inicializa el sesgo b en 1.0\n",
        "\n",
        "# Establece el parámetro de regularización lambda_ (puedes probar variando este valor)\n",
        "lambda_ = 0.01\n",
        "\n",
        "# Configura el número de iteraciones y la tasa de aprendizaje para el descenso por gradiente\n",
        "iterations = 10000                                   # Número de iteraciones para el descenso por gradiente\n",
        "alpha = 0.01                                         # Tasa de aprendizaje\n",
        "\n",
        "# Ejecuta el descenso por gradiente para encontrar los parámetros óptimos w y b\n",
        "w, b, J_history, _ = gradient_descent(\n",
        "    X_mapped,                # Datos de entrada con características mapeadas\n",
        "    y_train,                 # Etiquetas de entrenamiento\n",
        "    initial_w,               # Pesos iniciales\n",
        "    initial_b,               # Sesgo inicial\n",
        "    compute_cost_reg,        # Función de costo regularizada\n",
        "    compute_gradient_reg,    # Función de gradiente regularizada\n",
        "    alpha,                   # Tasa de aprendizaje\n",
        "    iterations,              # Número de iteraciones\n",
        "    lambda_                  # Parámetro de regularización\n",
        ")"
      ]
    },
    {
      "cell_type": "markdown",
      "metadata": {
        "id": "pB8WB3sy97-t"
      },
      "source": [
        "<details>\n",
        "<summary>\n",
        "    <b>Salida Esperada: Costo < 0.5  (Haz clic para ver detalles)</b>\n",
        "</summary>\n",
        "\n",
        "```\n",
        "# Usando los siguientes ajustes\n",
        "#np.random.seed(1)\n",
        "#initial_w = np.random.rand(X_mapped.shape[1])-0.5\n",
        "#initial_b = 1.\n",
        "#lambda_ = 0.01;                                          \n",
        "#iterations = 10000\n",
        "#alpha = 0.01\n",
        "Iteración    0: Costo     0.72   \n",
        "Iteración 1000: Costo     0.59   \n",
        "Iteración 2000: Costo     0.56   \n",
        "Iteración 3000: Costo     0.53   \n",
        "Iteración 4000: Costo     0.51   \n",
        "Iteración 5000: Costo     0.50   \n",
        "Iteración 6000: Costo     0.48   \n",
        "Iteración 7000: Costo     0.47   \n",
        "Iteración 8000: Costo     0.46   \n",
        "Iteración 9000: Costo     0.45   \n",
        "Iteración 9999: Costo     0.45       \n",
        "    \n",
        "```"
      ]
    },
    {
      "cell_type": "markdown",
      "metadata": {
        "id": "1Zx4Qpap97-t"
      },
      "source": [
        "<a name=\"3.7\"></a>\n",
        "### 3.7 Graficando la frontera de decisión\n",
        "Para ayudarte a visualizar el modelo aprendido por este clasificador, usaremos nuestra función `plot_decision_boundary` que grafica la frontera de decisión (no lineal) que separa los ejemplos positivos y negativos.\n",
        "\n",
        "- En la función, graficamos la frontera de decisión no lineal calculando las predicciones del clasificador en una cuadrícula de puntos uniformemente espaciados y luego dibujamos un gráfico de contorno donde las predicciones cambian de y = 0 a y = 1.\n",
        "\n",
        "- Después de aprender los parámetros $w$,$b$, el siguiente paso es graficar una frontera de decisión similar a la de la Figura 4.\n",
        "\n",
        "![figure 4.png](attachment:b238bf1c-6c8f-4173-afc4-1d064e389749.png)"
      ]
    },
    {
      "cell_type": "code",
      "execution_count": 262,
      "metadata": {
        "colab": {
          "base_uri": "https://localhost:8080/",
          "height": 455
        },
        "id": "uPAICc8v97-u",
        "outputId": "83bda213-0380-4de2-b8cd-1354105419c2"
      },
      "outputs": [
        {
          "data": {
            "image/png": "[encoded data removed]",
            "text/plain": [
              "<Figure size 640x480 with 1 Axes>"
            ]
          },
          "metadata": {},
          "output_type": "display_data"
        }
      ],
      "source": [
        "plot_decision_boundary(w, b, X_mapped, y_train)\n",
        "# Establecer la etiqueta del eje y\n",
        "plt.ylabel('Microchip Prueba 2')\n",
        "# Establecer la etiqueta del eje x\n",
        "plt.xlabel('Microchip Prueba 1')\n",
        "plt.legend(loc=\"upper right\")\n",
        "plt.show()\n",
        "\n",
        "# Los puntos amarillos representan microchips rechazados (y=0).\n",
        "# Los símbolos \"+\" negros representan microchips aceptados (y=1).\n",
        "# La curva verde muestra la frontera de decisión aprendida por el modelo."
      ]
    },
    {
      "cell_type": "markdown",
      "metadata": {
        "id": "f5yctO8O97-u"
      },
      "source": [
        "<a name=\"3.8\"></a>\n",
        "### 3.8 Evaluando el modelo de regresión logística regularizada\n",
        "\n",
        "Usarás la función `predict` que implementaste arriba para calcular la precisión del modelo de regresión logística regularizada en el conjunto de entrenamiento"
      ]
    },
    {
      "cell_type": "code",
      "execution_count": 263,
      "metadata": {
        "colab": {
          "base_uri": "https://localhost:8080/"
        },
        "id": "df5WO6mq97-u",
        "outputId": "91106ae3-895c-4264-ee23-e6cdd23423c4"
      },
      "outputs": [
        {
          "name": "stdout",
          "output_type": "stream",
          "text": [
            "Precisión en el entrenamiento: 82.203390\n"
          ]
        }
      ],
      "source": [
        "# Calcular precisión en el conjunto de entrenamiento\n",
        "\n",
        "# Utiliza la función predict para obtener las predicciones del modelo sobre los datos mapeados\n",
        "p = predict(X_mapped, w, b)\n",
        "\n",
        "# Calcula la precisión comparando las predicciones con las etiquetas reales y muestra el resultado en porcentaje\n",
        "print('Precisión en el entrenamiento: %f' % (np.mean(p == y_train) * 100))\n",
        "\n",
        "# Conclusión: el modelo de regresión logística regularizada logró una precisión del ~82% en el conjunto de entrenamiento.\n",
        "# Esto indica que la función de costo y el gradiente han sido implementados correctamente.\n",
        "# El uso de características mapeadas permitió ajustar una frontera de decisión no lineal eficaz para separar ambas clases.\n"
      ]
    },
    {
      "cell_type": "markdown",
      "metadata": {
        "id": "1leShEF897-u"
      },
      "source": [
        "**Salida Esperada**:\n",
        "<table>\n",
        "  <tr>\n",
        "    <td> <b>Precisión en el entrenamiento:</b>~ 80%</td> </tr>\n",
        "</table>"
      ]
    }
  ],
  "metadata": {
    "celltoolbar": "Edit Metadata",
    "colab": {
      "provenance": []
    },
    "kernelspec": {
      "display_name": "Python 3",
      "language": "python",
      "name": "python3"
    },
    "language_info": {
      "codemirror_mode": {
        "name": "ipython",
        "version": 3
      },
      "file_extension": ".py",
      "mimetype": "text/x-python",
      "name": "python",
      "nbconvert_exporter": "python",
      "pygments_lexer": "ipython3",
      "version": "3.12.6"
    }
  },
  "nbformat": 4,
  "nbformat_minor": 0
}
