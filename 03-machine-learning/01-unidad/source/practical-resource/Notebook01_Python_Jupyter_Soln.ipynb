{
  "cells": [
    {
      "cell_type": "markdown",
      "id": "35bca256-4904-4a7b-a711-0db56c30485a",
      "metadata": {},
      "source": [
        "# Introducción breve a Python y Jupyter Notebooks\n",
        "¡Bienvenido al primer laboratorio opcional!\n",
        "Los laboratorios opcionales están disponibles para:\n",
        "- proporcionar información, como en este Notebook\n",
        "- reforzar el material de las clases con ejemplos prácticos\n",
        "- ofrecer ejemplos funcionales de rutinas utilizadas en los ejercicios prácticos"
      ]
    },
    {
      "cell_type": "markdown",
      "id": "b3323afd-c108-42cf-95c8-d49a5f7a08fc",
      "metadata": {},
      "source": [
        "## Objetivos\n",
        "En este ejercicio:\n",
        "- Recibirás una breve introducción a los Jupyter Notebooks\n",
        "- Harás un recorrido por los Jupyter Notebooks\n",
        "- Aprenderás la diferencia entre las celdas de markdown y las celdas de código\n",
        "- Practicarás algunos conceptos básicos de Python\n"
      ]
    },
    {
      "cell_type": "markdown",
      "id": "b1ce50f0-2554-4aae-be7e-b7f9936dc6d6",
      "metadata": {},
      "source": [
        "La forma más sencilla de familiarizarse con los Jupyter Notebooks es realizar el recorrido disponible en el menú de Ayuda (Help) que se encuentra arriba ^"
      ]
    },
    {
      "cell_type": "markdown",
      "id": "6390455b-45e4-4122-9fe5-c324df659f5a",
      "metadata": {},
      "source": [
        "Los Jupyter Notebooks tienen dos tipos de celdas que se utilizan en este curso. Las celdas como esta, que contienen documentación, se llaman celdas Markdown. El nombre proviene del lenguaje de formato simple utilizado en dichas celdas. No se requerirá que creas las celdas Markdown. Sin embargo, es útil comprender el menú desplegable 'cell pulldown' de tipos de celda, mostrado en la imagen abajo. Ocasionalmente, una celda puede quedar en el modo incorrecto, y puede ser necesario que tenga que restaurarla al estado correcto:"
      ]
    },
    {
      "attachments": {
        "e895a765-8593-4aea-b4e5-8f236265c938.png": {
          "image/png": "[encoded data removed]"
        }
      },
      "cell_type": "markdown",
      "id": "92d2a30d-6db7-4246-9014-269f36e40768",
      "metadata": {},
      "source": [
        "![C1W1L1_Markdown.png](attachment:e895a765-8593-4aea-b4e5-8f236265c938.png)"
      ]
    },
    {
      "cell_type": "markdown",
      "id": "04d597f3-4cf8-4a35-b95b-4990248cc882",
      "metadata": {},
      "source": [
        "El otro tipo de celda es la `Code` donde podras escribir codigo Python:"
      ]
    },
    {
      "cell_type": "code",
      "execution_count": 1,
      "id": "68193212-5900-4939-a9cb-387a5e4ca214",
      "metadata": {
        "trusted": true
      },
      "outputs": [
        {
          "name": "stdout",
          "output_type": "stream",
          "text": [
            "Esta es una celda Code\n"
          ]
        }
      ],
      "source": [
        "#Esta es una celda 'Code'\n",
        "print(\"Esta es una celda Code\")"
      ]
    },
    {
      "attachments": {
        "34e2d968-779c-4b23-a229-f68347a5535d.png": {
          "image/png": "[encoded data removed]"
        }
      },
      "cell_type": "markdown",
      "id": "36804a37-14be-48a0-a429-2a39d7787a0f",
      "metadata": {},
      "source": [
        "## Python\n",
        "Como se dijo más arriba, puedes escribir tu código en las celdas Code. \n",
        "Para activar/correr el código, selecciona la celda y elige uno de éstos métodos:\n",
        "- Manten presionado la tecla SHIFT y presiona ENTER o RETURN (depende de tu teclado)\n",
        "- Dale a click al botón de arriba en forma de triángulo apuntando a tu derecha\n",
        "\n",
        "![C1W1L1_Run.png](attachment:34e2d968-779c-4b23-a229-f68347a5535d.png)\n",
        "\n",
        " "
      ]
    },
    {
      "cell_type": "markdown",
      "id": "a169a32e-7e2e-44b9-a67b-26d6af89ee18",
      "metadata": {},
      "source": [
        "### Comando para Imprimir / Print statement\n",
        "El comando para imprimir generalmente usa el estilo python f-string.  \n",
        "Intenta imprimir tu propia línea en la siguiente celda.  \n",
        "Intena ambos métodos."
      ]
    },
    {
      "cell_type": "code",
      "execution_count": 3,
      "id": "fb31663a-4983-46b8-b037-7092b65a94b0",
      "metadata": {
        "trusted": true
      },
      "outputs": [
        {
          "name": "stdout",
          "output_type": "stream",
          "text": [
            "f strings te permiten encapsular variables ... Como ésta línea impresa del f-string!\n"
          ]
        }
      ],
      "source": [
        "# Comando para imprimir\n",
        "variable = \"... Como ésta línea impresa del f-string!\"\n",
        "print(f\"f strings te permiten encapsular variables {variable}\")"
      ]
    },
    {
      "cell_type": "markdown",
      "id": "4ed5ba96-60c1-4e10-9dd4-91976c566c30",
      "metadata": {},
      "source": [
        "# Felicitaciones!\n",
        "Ahora ya sabes como navegar un Jupiter Notebook."
      ]
    },
    {
      "cell_type": "code",
      "execution_count": null,
      "id": "f8959042-bf0c-49a4-b221-b81fb21e91cd",
      "metadata": {
        "trusted": true
      },
      "outputs": [],
      "source": []
    }
  ],
  "metadata": {
    "kernelspec": {
      "display_name": "Python 3",
      "language": "python",
      "name": "python3"
    },
    "language_info": {
      "codemirror_mode": {
        "name": "python",
        "version": 3
      },
      "file_extension": ".py",
      "mimetype": "text/x-python",
      "name": "python",
      "nbconvert_exporter": "python",
      "pygments_lexer": "ipython3",
      "version": "3.12.6"
    }
  },
  "nbformat": 4,
  "nbformat_minor": 5
}
