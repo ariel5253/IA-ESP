{
  "cells": [
    {
      "cell_type": "markdown",
      "id": "5452012e",
      "metadata": {},
      "source": [
        "# Ejercicio: Función de costo\n"
      ]
    },
    {
      "cell_type": "markdown",
      "id": "64d718a7",
      "metadata": {},
      "source": [
        "## Objetivos\n",
        "En este ejercicio:\n",
        "- Implementarás y explorarás la función de costo (`cost`) para regresión lineal con una variable.\n"
      ]
    },
    {
      "cell_type": "markdown",
      "id": "6e8e908e",
      "metadata": {},
      "source": [
        "## Herramientas\n",
        "En este ejercicio utilizaremos:\n",
        "- NumPy, una biblioteca popular para computación científica\n",
        "- Matplotlib, una biblioteca popular para graficar datos\n",
        "- Rutinas de graficado local en el archivo lab_utils_uni.py en el directorio local"
      ]
    },
    {
      "cell_type": "code",
      "execution_count": null,
      "id": "e63f7f98",
      "metadata": {},
      "outputs": [],
      "source": [
        "import numpy as np\n",
        "%matplotlib inline\n",
        "import matplotlib.pyplot as plt\n",
        "from ejerc_utils_corhuila import plt_intuition, plt_stationary, plt_update_onclick, soup_bowl\n",
        "plt.style.use('./deeplearning.mplstyle')"
      ]
    },
    {
      "cell_type": "markdown",
      "id": "61a281a5",
      "metadata": {},
      "source": [
        "## Enunciado del problema\n",
        "\n",
        "Te gustaría tener un modelo que pueda predecir los precios de las casas dado el tamaño de la casa.  \n",
        "Utilicemos los mismos dos puntos de datos que en el ejercicio anterior: una casa de 1000 pies cuadrados se vendió por $300,000 y una casa de 2000 pies cuadrados se vendió por $500,000.\n",
        "\n",
        "\n",
        "| Tamaño (1000 metros²)     | Precio (1000s de dólares) |\n",
        "| ---------------------- | ------------------------ |\n",
        "| 1                      | 300                      |\n",
        "| 2                      | 500                      |\n"
      ]
    },
    {
      "cell_type": "code",
      "execution_count": null,
      "id": "5a263032",
      "metadata": {},
      "outputs": [],
      "source": [
        "x_train = np.array([1.0, 2.0])           #(tamaño en 1000 metros cuadrados)\n",
        "y_train = np.array([300.0, 500.0])           #(precio en 1000s de dólares)"
      ]
    },
    {
      "cell_type": "markdown",
      "id": "e4d228bb",
      "metadata": {},
      "source": [
        "## Cálculo de la función de costo\n",
        "El término 'costo' en este ejercicio puede ser un poco confuso ya que los datos son el costo/precio de la vivienda. Aquí, el costo es una medida de qué tan bien nuestro modelo predice el precio objetivo de la casa. El término 'precio' se usa para los datos de la vivienda.\n",
        "\n",
        "La ecuación para el costo con una variable es:\n",
        "  $$J(w,b) = \\frac{1}{2m} \\sum\\limits_{i = 0}^{m-1} (f_{w,b}(x^{(i)}) - y^{(i)})^2 \\tag{1}$$ \n",
        " \n",
        "donde\n",
        "  $$f_{w,b}(x^{(i)}) = wx^{(i)} + b \\tag{2}$$\n",
        "  \n",
        "- $f_{w,b}(x^{(i)})$ es nuestra predicción para el ejemplo $i$ usando los parámetros $w,b$.\n",
        "- $(f_{w,b}(x^{(i)}) -y^{(i)})^2$ es la diferencia al cuadrado entre el valor objetivo y la predicción.\n",
        "- Estas diferencias se suman sobre todos los $m$ ejemplos y se dividen por `2m` para producir el costo, $J(w,b)$.\n",
        ">Nota: en la teoría, los rangos de sumatoria suelen ir de 1 a m, mientras que en el código van de 0 a m-1.\n"
      ]
    },
    {
      "cell_type": "markdown",
      "id": "6e608faa",
      "metadata": {},
      "source": [
        "El siguiente código calcula el costo recorriendo cada ejemplo. En cada iteración:\n",
        "- `f_wb`, una predicción es calculada\n",
        "- Se calcula y eleva al cuadrado la diferencia entre el valor objetivo y la predicción.\n",
        "- Esto se suma al costo total."
      ]
    },
    {
      "cell_type": "code",
      "execution_count": null,
      "id": "7cae23ec",
      "metadata": {},
      "outputs": [],
      "source": [
        "def compute_cost(x, y, w, b): \n",
        "    \"\"\"\n",
        "    Calcula la función de costo para regresión lineal.\n",
        "    \n",
        "    Argumentos:\n",
        "      x (ndarray (m,)): Datos, m ejemplos \n",
        "      y (ndarray (m,)): valor objetivo\n",
        "      w,b (scalar)    : parámetros del modelo  \n",
        "    \n",
        "    Retorna\n",
        "        total_cost (float): El costo de usar w,b como los parámetros para la regresión lineal\n",
        "               para encajar los datos en x and y\n",
        "    \"\"\"\n",
        "    # número de ejemplos de entrenamiento\n",
        "    m = x.shape[0] \n",
        "    \n",
        "    cost_sum = 0 \n",
        "    for i in range(m): \n",
        "        f_wb = w * x[i] + b   \n",
        "        cost = (f_wb - y[i]) ** 2  \n",
        "        cost_sum = cost_sum + cost  \n",
        "    total_cost = (1 / (2 * m)) * cost_sum  \n",
        "\n",
        "    return total_cost"
      ]
    },
    {
      "cell_type": "markdown",
      "id": "d9d761ec",
      "metadata": {},
      "source": [
        "## Intuición de la función de Costo"
      ]
    },
    {
      "cell_type": "markdown",
      "id": "832a1b05",
      "metadata": {},
      "source": [
        "Tu objetivo es encontrar un modelo $f_{w,b}(x) = wx + b$, con parámetros $w,b$, que prediga con precisión los valores de las casas dado un valor de entrada $x$. El costo es una medida de qué tan preciso es el modelo en los datos de entrenamiento.\n",
        "\n",
        "La ecuación de costo (1) anterior muestra que si se pueden seleccionar $w$ y $b$ de modo que las predicciones $f_{w,b}(x)$ coincidan con los datos objetivo $y$, el término $(f_{w,b}(x^{(i)}) - y^{(i)})^2 $ será cero y el costo se minimizará. ¡En este sencillo ejemplo de dos datos, puedes lograrlo!\n",
        "\n",
        "En el ejercicio anterior, determinaste que $b=100$ proporcionaba una solución óptima, así que fijemos $b$ en 100 y enfoquémonos en $w$.\n",
        "\n",
        "<br/>\n",
        "A continuación, utiliza el control deslizante para seleccionar el valor de $w$ que minimiza el costo. Puede tardar unos segundos en actualizarse la gráfica."
      ]
    },
    {
      "cell_type": "code",
      "execution_count": null,
      "id": "0e9a431d",
      "metadata": {},
      "outputs": [],
      "source": [
        "plt_intuition(x_train,y_train)"
      ]
    },
    {
      "cell_type": "markdown",
      "id": "10e902e7",
      "metadata": {},
      "source": [
        "La gráfica contiene algunos puntos que vale la pena mencionar:\n",
        "- El costo se minimiza cuando $w = 200$, lo cual coincide con los resultados del ejercicio anterior.\n",
        "- Debido a que la diferencia entre el objetivo y la predicción se eleva al cuadrado en la ecuación de costo, el costo aumenta rápidamente cuando $w$ es demasiado grande o demasiado pequeño.\n",
        "- Usar los valores de `w` y `b` seleccionados al minimizar el costo da como resultado una línea que ajusta perfectamente los datos."
      ]
    },
    {
      "cell_type": "markdown",
      "id": "cc7928f7",
      "metadata": {},
      "source": [
        "## Visualización de la función de costo - 3D\n",
        "\n",
        "Puedes ver cómo varía el costo con respecto a *ambos* `w` y `b` graficando en 3D o usando un gráfico de contorno.  \n",
        "Vale la pena mencionar que algunas de las gráficas en este curso pueden ser bastante complejas. Las rutinas de graficación están provistas y, aunque puede ser instructivo leer el código para familiarizarse con los métodos, no es necesario para completar el curso exitosamente. Las rutinas están en lab_utils_uni.py en el directorio local."
      ]
    },
    {
      "cell_type": "markdown",
      "id": "cd93f1c5",
      "metadata": {},
      "source": [
        "### Conjunto de datos más grande\n",
        "Es instructivo ver un escenario con algunos puntos de datos adicionales. Este conjunto de datos incluye puntos que no caen sobre la misma línea. ¿Qué significa esto para la ecuación de costo? ¿Podemos encontrar valores de $w$ y $b$ que den un costo de 0?"
      ]
    },
    {
      "cell_type": "code",
      "execution_count": null,
      "id": "9fed84ed",
      "metadata": {},
      "outputs": [],
      "source": [
        "x_train = np.array([1.0, 1.7, 2.0, 2.5, 3.0, 3.2])\n",
        "y_train = np.array([250, 300, 480,  430,   630, 730,])"
      ]
    },
    {
      "cell_type": "markdown",
      "id": "a79fab05",
      "metadata": {},
      "source": [
        "En el gráfico de contorno, haz clic en un punto para seleccionar `w` y `b` y así lograr el menor costo posible. Usa las líneas de contorno para guiar tus selecciones. Nota: puede tardar unos segundos en actualizarse la gráfica."
      ]
    },
    {
      "cell_type": "code",
      "execution_count": null,
      "id": "e7cfc3e5",
      "metadata": {},
      "outputs": [],
      "source": [
        "plt.close('all') \n",
        "fig, ax, dyn_items = plt_stationary(x_train, y_train)\n",
        "updater = plt_update_onclick(fig, ax, x_train, y_train, dyn_items)"
      ]
    },
    {
      "cell_type": "markdown",
      "id": "65d68ea7",
      "metadata": {},
      "source": [
        "Arriba, observa las líneas punteadas en la gráfica de la izquierda. Estas representan la porción del costo que aporta cada ejemplo en tu conjunto de entrenamiento. En este caso, valores de aproximadamente $w=209$ y $b=2.4$ proporcionan un costo bajo. Nota que, debido a que nuestros ejemplos de entrenamiento no están alineados, el costo mínimo no es cero."
      ]
    },
    {
      "cell_type": "markdown",
      "id": "60cc7646",
      "metadata": {},
      "source": [
        "### Superficie convexa de la función de costo\n",
        "El hecho de que la función de costo eleve al cuadrado la pérdida asegura que la 'superficie de error' sea convexa, como un tazón de sopa. Siempre tendrá un mínimo que se puede alcanzar siguiendo el gradiente en todas las dimensiones. En la gráfica anterior, debido a que las dimensiones $w$ y $b$ tienen escalas diferentes, esto no es fácil de reconocer. La siguiente gráfica, donde $w$ y $b$ son simétricos, se mostró en la clase:"
      ]
    },
    {
      "cell_type": "code",
      "execution_count": null,
      "id": "18afeb98",
      "metadata": {},
      "outputs": [],
      "source": [
        "soup_bowl()"
      ]
    },
    {
      "cell_type": "markdown",
      "id": "aee67536",
      "metadata": {},
      "source": [
        "# ¡Felicidades!\n",
        "Has aprendido lo siguiente:\n",
        " - La ecuación de costo proporciona una medida de qué tan bien tus predicciones se ajustan a tus datos de entrenamiento.\n",
        " - Minimizar el costo puede proporcionar valores óptimos de $w$ y $b$."
      ]
    },
    {
      "cell_type": "code",
      "execution_count": null,
      "id": "5fc8a50d",
      "metadata": {},
      "outputs": [],
      "source": []
    }
  ],
  "metadata": {
    "kernelspec": {
      "display_name": "Python (Pyodide)",
      "language": "python",
      "name": "python"
    },
    "language_info": {
      "codemirror_mode": {
        "name": "python",
        "version": 3
      },
      "file_extension": ".py",
      "mimetype": "text/x-python",
      "name": "python",
      "nbconvert_exporter": "python",
      "pygments_lexer": "ipython3",
      "version": "3.8"
    },
    "toc-autonumbering": false
  },
  "nbformat": 4,
  "nbformat_minor": 5
}
