{
  "cells": [
    {
      "cell_type": "markdown",
      "id": "df48f780-d7eb-4b5b-9d23-d964dd860f76",
      "metadata": {},
      "source": [
        "# Representación del Modelo"
      ]
    },
    {
      "cell_type": "markdown",
      "id": "c48c2ce9-7a22-4e70-bd03-735117b9bbce",
      "metadata": {},
      "source": [
        "## Objetivos\n",
        "En éste ejercicio:\n",
        "- Aprenderás a implementar el modelo $f_{w,b}$ para Regresión Lineal con una variable."
      ]
    },
    {
      "cell_type": "markdown",
      "id": "65ffe74a-941b-4653-b54f-71c1e11b50a4",
      "metadata": {},
      "source": [
        "## Notación Algebraica\n",
        "Aquí está el resumen de algunas de las notaciones algebraicas que usaremos.\n",
        "\n",
        "| Notación | Descripción | Python (si aplica) |\n",
        "|:---------|:------------|:------------------|\n",
        "| $a$ | Escalar, sin negrilla | — |\n",
        "| $\\mathbf{a}$ | Vector, negrilla | — |\n",
        "| **Regresión** | **—** | **—** |\n",
        "| $\\mathbf{x}$ | Características del Ejemplo de Entrenamiento (ej.: Tamaño en 1000 m²) | `x_train` |\n",
        "| $\\mathbf{y}$ | Objetivos del Ejemplo de Entrenamiento (en este caso: Precio en 1000s de dólares) | `y_train` |\n",
        "| $x^{(i)},\\ y^{(i)}$ | $i_{th}$ o $i$-ésimo Ejemplo de Entrenamiento | `x_i`, `y_i` |\n",
        "| $m$ | Número de Ejemplos de Entrenamiento | `m` |\n",
        "| $w$ | Parámetro: peso/weight | `w` |\n",
        "| $b$ | Parámetro: sesgo/bias | `b` |\n",
        "| $f_{w,b}(x^{(i)})$ | El resultado del modelo de evaluación en $x^{(i)}$ parametrizado por $w,b$ : $f_{w,b}(x^{(i)}) = wx^{(i)} + b$ | `f_wb` |\n",
        "\n"
      ]
    },
    {
      "cell_type": "markdown",
      "id": "5c6ca129-45a7-4d90-9ee9-bec1413fbb4a",
      "metadata": {},
      "source": [
        "## Herramientas\n",
        "En éste ejercicio haremos uso de: \n",
        "- NumPy, una librería de python muy popular en ciencias de la computación\n",
        "- Matplotlib, una librería de python muy popular para imprimir/plot datos"
      ]
    },
    {
      "cell_type": "code",
      "execution_count": null,
      "id": "ac89e164-ca5b-446d-b6f6-05261e2d8dec",
      "metadata": {
        "trusted": true
      },
      "outputs": [],
      "source": [
        "import numpy as np\n",
        "import matplotlib.pyplot as plt\n",
        "plt.style.use('./deeplearning.mplstyle') # estilo para imprimir datos"
      ]
    },
    {
      "attachments": {
        "2668b0ab-4eec-4b43-9b03-9b8a4a08e896.png": {
          "image/png": "[encoded data removed]"
        }
      },
      "cell_type": "markdown",
      "id": "9a6032e9-23f4-4107-b47c-c32075202eb8",
      "metadata": {},
      "source": [
        "# Enunciado del Problema\n",
        "Como en la clase, usarás el ejemplo de predicción del precio de viviendas.  \n",
        "Este laboratorio utilizará un conjunto de datos simple con solo dos datos: una casa de 100 metros cuadrados se vendió por \\\\$300,000 y otra de 200 metros cuadrados se vendió por \\\\$500,000. Estos dos datos constituirán nuestro *conjunto de datos o de entrenamiento*. En este ejercicio, las unidades de tamaño están en cientos de metros cuadrados (1000 m²) y el precio en miles 1000s de dólares.\n",
        "\n",
        "| Tamaño (1000 m²)   | Precio (miles de dólares) |\n",
        "|--------------------|---------------------------|\n",
        "| 1.0                | 300                       |\n",
        "| 2.0                | 500                       |\n",
        "\n",
        "![Jup exercise 001a.png](attachment:2668b0ab-4eec-4b43-9b03-9b8a4a08e896.png)\n",
        "\n",
        "Se desea ajustar un modelo de regresión lineal (representado arriba como una línea recta verde) a través de estos dos datos, para luego poder predecir el precio de otras viviendas, por ejemplo, una casa de 1200 m².\n",
        "\n"
      ]
    },
    {
      "cell_type": "markdown",
      "id": "94090c7e-4bfd-4ef6-ac92-7a4942351564",
      "metadata": {},
      "source": [
        "Please run the following code cell to create your `x_train` and `y_train` variables. The data is stored in one-dimensional NumPy arrays."
      ]
    },
    {
      "cell_type": "code",
      "execution_count": null,
      "id": "5b5aa4e2-9f08-4518-926e-0670caaa7843",
      "metadata": {},
      "outputs": [],
      "source": [
        "# x_train es la variable de entrada (tamaño en 1000 metros cuadrados)\n",
        "# y_train es el objetivo (precio en 1000s de dólares)\n",
        "x_train = np.array([1.0, 2.0])\n",
        "y_train = np.array([300.0, 500.0])\n",
        "print(f\"x_train = {x_train}\")\n",
        "print(f\"y_train = {y_train}\")"
      ]
    },
    {
      "cell_type": "markdown",
      "id": "16a90361-9269-4df5-9110-e53b6470e48d",
      "metadata": {},
      "source": [
        ">**Nota**: El curso utilizará frecuentemente el formato de salida *f-string* de Python descrito [aquí](https://docs.python.org/3/tutorial/inputoutput.html) al imprimir. El contenido entre llaves se evalúa al generar la salida."
      ]
    },
    {
      "cell_type": "markdown",
      "id": "f9c195c1-baf6-4fbf-981e-ca62d9d6d497",
      "metadata": {},
      "source": [
        "### Número de ejemplos de entrenamiento `m`\n",
        "Se usará `m` para denotar el número de ejemplos de entrenamiento.  \n",
        "Los arreglos de Numpy tienen un parámetro `.shape`.  \n",
        "`x_train.shape` devuelve una tupla de Python con una entrada por cada dimensión.  \n",
        "`x_train.shape[0]` es la longitud del arreglo y representa el número de ejemplos, como se muestra a continuación.\n"
      ]
    },
    {
      "cell_type": "code",
      "execution_count": null,
      "id": "9c73cedd-6bd1-4255-9a43-8951abaa67df",
      "metadata": {},
      "outputs": [],
      "source": [
        "# m es el número de ejemplos de entrenamiento\n",
        "print(f\"x_train.shape: {x_train.shape}\")\n",
        "m = x_train.shape[0]\n",
        "print(f\"Number of training examples is: {m}\")"
      ]
    },
    {
      "cell_type": "markdown",
      "id": "0d0c654c-ab54-47e7-9186-9b8eaa478e37",
      "metadata": {},
      "source": [
        "También se puede utilizar la función `len()` de Python, como se muestra a continuación."
      ]
    },
    {
      "cell_type": "code",
      "execution_count": null,
      "id": "e1d4fbd5-ab47-4d82-bc59-57cb1bdad901",
      "metadata": {},
      "outputs": [],
      "source": [
        "# m es el número de ejemplos de entrenamiento\n",
        "m = len(x_train)\n",
        "print(f\"Number of training examples is: {m}\")"
      ]
    },
    {
      "cell_type": "markdown",
      "id": "17bc092b-b701-4502-9e5a-bd544f4d0213",
      "metadata": {},
      "source": [
        "### Ejemplo de entrenamiento `x_i, y_i`\n",
        "\n",
        "Se utilizará (x$^{(i)}$, y$^{(i)}$) para denotar el $i^{th}$ o $i$-ésimo ejemplo de entrenamiento.  \n",
        "Dado que Python comienza la indexación en cero, (x$^{(0)}$, y$^{(0)}$) es (1.0, 300.0) y (x$^{(1)}$, y$^{(1)}$) es (2.0, 500.0).\n",
        "\n",
        "Para acceder a un valor en un arreglo de Numpy, se indexa el arreglo con el desplazamiento deseado.  \n",
        "Por ejemplo, la sintaxis para acceder a la posición cero de `x_train` es `x_train[0]`.\n",
        "\n",
        "Ejecuta la siguiente celda de código para obtener el $i$-ésimo ejemplo de entrenamiento.\n"
      ]
    },
    {
      "cell_type": "code",
      "execution_count": null,
      "id": "35b01ee4-f82c-40b8-b422-c60b3616b449",
      "metadata": {},
      "outputs": [],
      "source": [
        "i = 0 # Cambia éste valor a 1 para ver (x^1, y^1)\n",
        "\n",
        "x_i = x_train[i]\n",
        "y_i = y_train[i]\n",
        "print(f\"(x^({i}), y^({i})) = ({x_i}, {y_i})\")"
      ]
    },
    {
      "cell_type": "markdown",
      "id": "de672210-ad8b-421d-9e51-3f8ba65b2d2d",
      "metadata": {},
      "source": [
        "### Graficar/plotting los datos"
      ]
    },
    {
      "cell_type": "markdown",
      "id": "920c5cf0-0fa6-4c2e-b156-e4c5e2740acc",
      "metadata": {},
      "source": [
        "Puedes graficar estos dos puntos usando la función `scatter()` de la biblioteca `matplotlib`, como se muestra en la celda siguiente.  \n",
        "- Los argumentos de la función `marker` y `c` muestran los puntos como cruces rojas (el valor predeterminado son puntos azules).\n",
        "\n",
        "También puedes usar otras funciones de la biblioteca `matplotlib` para establecer el título y las etiquetas que se mostrarán."
      ]
    },
    {
      "cell_type": "code",
      "execution_count": null,
      "id": "a06cddd3-11ff-4bda-bc2b-e49b8ccac025",
      "metadata": {},
      "outputs": [],
      "source": [
        "# Graficar/Plot los datos\n",
        "plt.scatter(x_train, y_train, marker='x', c='r')\n",
        "# Crea el título\n",
        "plt.title(\"Precios de las casas\")\n",
        "# Crea el nombre del eje-y\n",
        "plt.ylabel('Precio (en 1000s de dólares)')\n",
        "# Crea el nombre del eje-x\n",
        "plt.xlabel('Tamaño (1000 m2)')\n",
        "plt.show()"
      ]
    },
    {
      "cell_type": "markdown",
      "id": "7565ef11-28d5-4db9-960e-2ae98ec9b415",
      "metadata": {},
      "source": [
        "## Función del modelo\n",
        "\n",
        "Como se explicó en clase, la función del modelo para regresión lineal (es decir, una función que mapea de `x` a `y`) se representa como\n",
        "\n",
        "$$ f_{w,b}(x^{(i)}) = wx^{(i)} + b \\tag{1}$$\n",
        "\n",
        "La fórmula anterior es una forma de representar líneas rectas: diferentes valores de $w$ y $b$ generan distintas líneas rectas en el gráfico.  \n",
        "\n",
        "Vamos a intentar obtener una mejor intuición sobre esto con los bloques de código a continuación. Comencemos con $w = 100$ y $b = 100$.\n",
        "\n",
        "**Nota: Puedes volver a la siguiente celda para ajustar los parámetros `w` y `b` del modelo.**"
      ]
    },
    {
      "cell_type": "code",
      "execution_count": null,
      "id": "b865c1a0-eb32-4dea-8b6d-642803c422b9",
      "metadata": {},
      "outputs": [],
      "source": [
        "w = 100\n",
        "b = 100\n",
        "print(f\"w: {w}\")\n",
        "print(f\"b: {b}\")"
      ]
    },
    {
      "cell_type": "markdown",
      "id": "c96bda03-bc18-4b43-b012-fddafcc49dbe",
      "metadata": {},
      "source": [
        "Ahora calculemos el valor de $f_{w,b}(x^{(i)})$ para tus dos puntos de datos. Puedes escribir esto explícitamente para cada punto así:\n",
        "\n",
        "para $x^{(0)}$, `f_wb = w * x[0] + b`\n",
        "\n",
        "para $x^{(1)}$, `f_wb = w * x[1] + b`\n",
        "\n",
        "Para un número grande de puntos de datos, esto puede volverse poco manejable y repetitivo. Por eso, puedes calcular la salida de la función dentro de un ciclo `for`, como se muestra en la función `compute_model_output` más abajo.\n",
        "\n",
        "> **Nota**: La descripción del argumento `(ndarray (m,))` indica un arreglo N-dimensional de Numpy con forma (m,). `(scalar)` describe un argumento sin dimensiones, es decir, solo una magnitud.  \n",
        "> **Nota**: `np.zeros(n)` devuelve un arreglo unidimensional de Numpy con $n$ elementos.\n"
      ]
    },
    {
      "cell_type": "code",
      "execution_count": null,
      "id": "556485c3-7550-465d-8fee-dcd00eb84d8e",
      "metadata": {},
      "outputs": [],
      "source": [
        "def compute_model_output(x, w, b):\n",
        "    \"\"\"\n",
        "    Calcula la predicción de un modelo lineal\n",
        "    Args:\n",
        "      x (ndarray (m,)): Datos, m ejemplos \n",
        "      w,b (scalar)    : parametros del modelo  \n",
        "    Retorna\n",
        "      f_wb (ndarray (m,)): predicción del modelo\n",
        "    \"\"\"\n",
        "    m = x.shape[0]\n",
        "    f_wb = np.zeros(m)\n",
        "    for i in range(m):\n",
        "        f_wb[i] = w * x[i] + b\n",
        "        \n",
        "    return f_wb"
      ]
    },
    {
      "cell_type": "markdown",
      "id": "f715bf36-8fbb-4f66-9ef8-9901d6941299",
      "metadata": {},
      "source": [
        "Ahora llamemos la función `compute_model_output` y graficamos la salida.."
      ]
    },
    {
      "cell_type": "code",
      "execution_count": null,
      "id": "d6494d6b-2f50-4c57-8209-4ca4125e3872",
      "metadata": {},
      "outputs": [],
      "source": [
        "tmp_f_wb = compute_model_output(x_train, w, b,)\n",
        "\n",
        "# Graficar nuestra predicción del modelo\n",
        "plt.plot(x_train, tmp_f_wb, c='b',label='Nuestra predicción')\n",
        "\n",
        "# Graficar los datos\n",
        "plt.scatter(x_train, y_train, marker='x', c='r',label='Valores reales')\n",
        "\n",
        "# Crea el título\n",
        "plt.title(\"Precios de las casas\")\n",
        "# Crea el nombre del eje-y\n",
        "plt.ylabel('Precio (en 1000s de dólares)')\n",
        "# Crea el nombre del eje-x\n",
        "plt.xlabel('Tamaño (1000 m2)')\n",
        "plt.legend()\n",
        "plt.show()"
      ]
    },
    {
      "cell_type": "markdown",
      "id": "1257dfc1-8713-44ca-a1b2-7f1eef8b8668",
      "metadata": {},
      "source": [
        "Como puedes ver, establecer $w = 100$ y $b = 100$ *no* resulta en una línea que se ajuste a nuestros datos.\n",
        "\n",
        "### Desafío\n",
        "Prueba experimentar con diferentes valores de $w$ y $b$. ¿Cuáles deberían ser los valores para una línea que se ajuste bien a nuestros datos?\n",
        "\n",
        "#### Sugerencia:\n",
        "Puedes usar el mouse para hacer click en los botones verdes de \"Pistas\" que aparecen a continuación para revelar algunas sugerencias sobre cómo elegir `b` y `w`."
      ]
    },
    {
      "cell_type": "markdown",
      "id": "55a63736-f577-4670-8ef5-ff26517e51fa",
      "metadata": {},
      "source": [
        "<details>\n",
        "<summary>\n",
        "    <font size='3' color='darkgreen'><b>Pista</b></font>\n",
        "</summary>\n",
        "    <p>\n",
        "    <ul>\n",
        "        <li>Prueba con $w = 200$ y $b = 100$ </li>\n",
        "    </ul>\n",
        "    </p>\n",
        "</details>"
      ]
    },
    {
      "cell_type": "markdown",
      "id": "4e8d9639-2aa3-4b66-acad-04735cbd564c",
      "metadata": {},
      "source": [
        "### Predicción\n",
        "Ahora que tenemos un modelo, podemos usarlo para hacer nuestra predicción original.  \n",
        "Vamos a predecir el precio de una casa con 1200 metros cuadrados.  \n",
        "Dado que las unidades de $x$ están en miles de metros cuadrados, entonces $x = 1.2$."
      ]
    },
    {
      "cell_type": "code",
      "execution_count": 3,
      "id": "4175bff0-43ab-4b4e-867d-88e29328b604",
      "metadata": {
        "trusted": true
      },
      "outputs": [
        {
          "name": "stdout",
          "output_type": "stream",
          "text": [
            "$340 miles de dólares\n"
          ]
        }
      ],
      "source": [
        "w = 200                         \n",
        "b = 100    \n",
        "x_i = 1.2\n",
        "costo_1200sqm = w * x_i + b    \n",
        "\n",
        "print(f\"${costo_1200sqm:.0f} miles de dólares\")"
      ]
    },
    {
      "cell_type": "markdown",
      "id": "64c68be6-2845-4198-8186-0a965c701b9c",
      "metadata": {},
      "source": [
        "# ¡Felicidades!\n",
        "En este laboratorio has aprendido:\n",
        "\n",
        " - La regresión lineal construye un modelo que establece una relación entre las características (features) y los objetivos (targets).\n",
        "     - En el ejemplo anterior, la característica era el tamaño de la casa y el objetivo era el precio de la casa.\n",
        "     - Para la regresión lineal simple, el modelo tiene dos parámetros, $w$ y $b$, cuyos valores se ajustan usando los *datos de entrenamiento*.\n",
        "     - Una vez que se han determinado los parámetros del modelo, este se puede usar para hacer predicciones sobre datos nuevos."
      ]
    },
    {
      "cell_type": "code",
      "execution_count": null,
      "id": "d6221b40-6a8a-4d5d-bd02-7f4efb9ae869",
      "metadata": {},
      "outputs": [],
      "source": []
    }
  ],
  "metadata": {
    "kernelspec": {
      "display_name": "Python (Pyodide)",
      "language": "python",
      "name": "python"
    },
    "language_info": {
      "codemirror_mode": {
        "name": "python",
        "version": 3
      },
      "file_extension": ".py",
      "mimetype": "text/x-python",
      "name": "python",
      "nbconvert_exporter": "python",
      "pygments_lexer": "ipython3",
      "version": "3.8"
    },
    "toc-autonumbering": false
  },
  "nbformat": 4,
  "nbformat_minor": 5
}
