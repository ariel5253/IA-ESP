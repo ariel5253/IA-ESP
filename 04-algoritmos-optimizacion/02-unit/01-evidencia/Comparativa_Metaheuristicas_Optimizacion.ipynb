{
 "cells": [
  {
   "cell_type": "markdown",
   "id": "6de34b66",
   "metadata": {},
   "source": [
    "# Comparativa Práctica de Metaheurísticas en un Problema de Optimización\n",
    "\n",
    "## Selección de Características usando Recocido Simulado y Algoritmo Genético\n",
    "\n",
    "**Equipo:** \n",
    "- Jesús Ariel González Bonilla\n",
    "- Luis Ángel Vargas Narváez\n",
    "- Cindy Liliana Vargas Duque\n",
    "  \n",
    "**Fecha:** Agosto 2025  \n",
    "**Materia:** Algoritmos de Optimización"
   ]
  },
  {
   "cell_type": "markdown",
   "id": "eafd1bc3",
   "metadata": {},
   "source": [
    "## 1. Introducción\n",
    "\n",
    "Este notebook presenta una comparativa práctica entre dos metaheurísticas aplicadas al problema de selección de características en modelos de clasificación:\n",
    "\n",
    "- **Recocido Simulado (SA - Simulated Annealing)**\n",
    "- **Algoritmo Genético (GA - Genetic Algorithm)**\n",
    "\n",
    "El objetivo es evaluar el desempeño de ambas técnicas en términos de precisión, eficiencia y convergencia para la selección óptima de variables que maximicen el rendimiento de un modelo de clasificación."
   ]
  },
  {
   "cell_type": "markdown",
   "id": "b2538bc5",
   "metadata": {},
   "source": [
    "## 2. Descripción del Problema\n",
    "\n",
    "La selección de características es un problema de optimización combinatorial donde se busca encontrar el subconjunto óptimo de variables que maximice el rendimiento de un modelo de machine learning. \n",
    "\n",
    "**Problema:** Dado un conjunto de datos con n características, encontrar la combinación óptima de características que maximice la precisión de clasificación usando validación cruzada.\n",
    "\n",
    "**Función objetivo:** Maximizar la precisión promedio obtenida mediante validación cruzada estratificada de 5 pliegues."
   ]
  },
  {
   "cell_type": "markdown",
   "id": "531bad6c",
   "metadata": {},
   "source": [
    "## 3. Importación de Librerías y Definición de Clases"
   ]
  },
  {
   "cell_type": "code",
   "execution_count": 16,
   "id": "c59bfa31",
   "metadata": {},
   "outputs": [
    {
     "name": "stdout",
     "output_type": "stream",
     "text": [
      "Librerías importadas correctamente\n"
     ]
    }
   ],
   "source": [
    "\"\"\"\n",
    "Feature selection with metaheuristics: Simulated Annealing (SA) and Genetic Algorithm (GA)\n",
    "Author: ChatGPT for Mauricio\n",
    "Language: English (code), Spanish (report)\n",
    "\"\"\"\n",
    "\n",
    "from dataclasses import dataclass\n",
    "from typing import List, Callable, Tuple, Dict\n",
    "import time, math, random\n",
    "import numpy as np\n",
    "\n",
    "from sklearn.model_selection import cross_val_score, StratifiedKFold\n",
    "from sklearn.linear_model import LogisticRegression\n",
    "\n",
    "print(\"Librerías importadas correctamente\")"
   ]
  },
  {
   "cell_type": "code",
   "execution_count": 17,
   "id": "b9ecb3ac",
   "metadata": {},
   "outputs": [
    {
     "name": "stdout",
     "output_type": "stream",
     "text": [
      "Clase SearchResult definida\n"
     ]
    }
   ],
   "source": [
    "@dataclass\n",
    "class SearchResult:\n",
    "    best_mask: np.ndarray\n",
    "    best_score: float\n",
    "    history: List[float]\n",
    "    elapsed: float\n",
    "    iters: int\n",
    "\n",
    "print(\"Clase SearchResult definida\")"
   ]
  },
  {
   "cell_type": "markdown",
   "id": "b10d8bf9",
   "metadata": {},
   "source": [
    "## 4. Función de Evaluación\n",
    "\n",
    "La función de evaluación utiliza regresión logística con validación cruzada estratificada para evaluar la calidad de un subconjunto de características."
   ]
  },
  {
   "cell_type": "code",
   "execution_count": 18,
   "id": "ad0edccc",
   "metadata": {},
   "outputs": [
    {
     "name": "stdout",
     "output_type": "stream",
     "text": [
      "Función de evaluación definida (con aleatoriedad real)\n"
     ]
    }
   ],
   "source": [
    "def evaluate_mask(X: np.ndarray, y: np.ndarray, mask: np.ndarray, cv_splits: int = 5) -> float:\n",
    "    \"\"\"Return mean CV accuracy for selected features; if mask is all False, return 0.\"\"\"\n",
    "    if mask.sum() == 0:\n",
    "        return 0.0\n",
    "    clf = LogisticRegression(max_iter=2000, n_jobs=None, random_state=None)  # Sin semilla fija\n",
    "    cv = StratifiedKFold(n_splits=cv_splits, shuffle=True, random_state=None)  # Sin semilla fija\n",
    "    scores = cross_val_score(clf, X[:, mask], y, cv=cv, scoring=\"accuracy\")\n",
    "    return float(scores.mean())\n",
    "\n",
    "print(\"Función de evaluación definida (con aleatoriedad real)\")"
   ]
  },
  {
   "cell_type": "markdown",
   "id": "19e4536e",
   "metadata": {},
   "source": [
    "## 5. Implementación del Recocido Simulado (SA)\n",
    "\n",
    "El recocido simulado es una metaheurística que simula el proceso de enfriamiento de metales para encontrar soluciones óptimas."
   ]
  },
  {
   "cell_type": "code",
   "execution_count": 19,
   "id": "af36fb1c",
   "metadata": {},
   "outputs": [
    {
     "name": "stdout",
     "output_type": "stream",
     "text": [
      "Función random_neighbor definida\n"
     ]
    }
   ],
   "source": [
    "def random_neighbor(mask: np.ndarray, p_flip: float = 0.2) -> np.ndarray:\n",
    "    \"\"\"Flip each bit with probability p_flip; ensure at least one bit True.\"\"\"\n",
    "    m = mask.copy()\n",
    "    for i in range(len(m)):\n",
    "        if random.random() < p_flip:\n",
    "            m[i] = ~m[i]\n",
    "    if m.sum() == 0:\n",
    "        idx = random.randrange(len(m))\n",
    "        m[idx] = True\n",
    "    return m\n",
    "\n",
    "print(\"Función random_neighbor definida\")"
   ]
  },
  {
   "cell_type": "code",
   "execution_count": 20,
   "id": "dc8d9375",
   "metadata": {},
   "outputs": [
    {
     "name": "stdout",
     "output_type": "stream",
     "text": [
      "Algoritmo de Recocido Simulado implementado (con semilla específica)\n"
     ]
    }
   ],
   "source": [
    "def simulated_annealing(X: np.ndarray, y: np.ndarray, iters: int = 150, init_temp: float = 1.0,\n",
    "                        cooling: float = 0.97, p_flip: float = 0.2, cv_splits: int = 5) -> SearchResult:\n",
    "    # Usar semilla diferente para SA\n",
    "    np.random.seed(100)  # Semilla específica para SA\n",
    "    random.seed(100)\n",
    "    \n",
    "    n_features = X.shape[1]\n",
    "    current = np.random.rand(n_features) < 0.5\n",
    "    best = current.copy()\n",
    "    current_score = evaluate_mask(X, y, current, cv_splits=cv_splits)\n",
    "    best_score = current_score\n",
    "    history = [best_score]\n",
    "    T = init_temp\n",
    "    start = time.perf_counter()\n",
    "    for it in range(iters):\n",
    "        neighbor = random_neighbor(current, p_flip=p_flip)\n",
    "        neighbor_score = evaluate_mask(X, y, neighbor, cv_splits=cv_splits)\n",
    "        delta = neighbor_score - current_score\n",
    "        if delta >= 0 or math.exp(delta / max(T, 1e-8)) > random.random():\n",
    "            current = neighbor\n",
    "            current_score = neighbor_score\n",
    "        if current_score > best_score:\n",
    "            best = current.copy()\n",
    "            best_score = current_score\n",
    "        history.append(best_score)\n",
    "        T *= cooling\n",
    "    elapsed = time.perf_counter() - start\n",
    "    return SearchResult(best_mask=best, best_score=best_score, history=history, elapsed=elapsed, iters=iters)\n",
    "\n",
    "print(\"Algoritmo de Recocido Simulado implementado (con semilla específica)\")"
   ]
  },
  {
   "cell_type": "markdown",
   "id": "00ea9ac9",
   "metadata": {},
   "source": [
    "## 6. Implementación del Algoritmo Genético (GA)\n",
    "\n",
    "El algoritmo genético es una metaheurística basada en los principios de la evolución natural: selección, cruzamiento y mutación."
   ]
  },
  {
   "cell_type": "code",
   "execution_count": 21,
   "id": "e1850686",
   "metadata": {},
   "outputs": [
    {
     "name": "stdout",
     "output_type": "stream",
     "text": [
      "Función de selección por torneo definida\n"
     ]
    }
   ],
   "source": [
    "def tournament_selection(pop: np.ndarray, fitness: np.ndarray, k: int = 3) -> np.ndarray:\n",
    "    idxs = np.random.choice(len(pop), size=k, replace=False)\n",
    "    best_idx = idxs[np.argmax(fitness[idxs])]\n",
    "    return pop[best_idx].copy()\n",
    "\n",
    "print(\"Función de selección por torneo definida\")"
   ]
  },
  {
   "cell_type": "code",
   "execution_count": 22,
   "id": "4af6e6ca",
   "metadata": {},
   "outputs": [
    {
     "name": "stdout",
     "output_type": "stream",
     "text": [
      "Función de cruzamiento definida\n"
     ]
    }
   ],
   "source": [
    "def crossover(p1: np.ndarray, p2: np.ndarray, rate: float = 0.9) -> Tuple[np.ndarray, np.ndarray]:\n",
    "    if random.random() > rate or len(p1) < 2:\n",
    "        return p1.copy(), p2.copy()\n",
    "    point = random.randint(1, len(p1) - 1)\n",
    "    c1 = np.concatenate([p1[:point], p2[point:]])\n",
    "    c2 = np.concatenate([p2[:point], p1[point:]])\n",
    "    return c1, c2\n",
    "\n",
    "print(\"Función de cruzamiento definida\")"
   ]
  },
  {
   "cell_type": "code",
   "execution_count": 23,
   "id": "61875a97",
   "metadata": {},
   "outputs": [
    {
     "name": "stdout",
     "output_type": "stream",
     "text": [
      "Función de mutación definida\n"
     ]
    }
   ],
   "source": [
    "def mutate(mask: np.ndarray, p_mut: float = 0.02) -> np.ndarray:\n",
    "    m = mask.copy()\n",
    "    for i in range(len(m)):\n",
    "        if random.random() < p_mut:\n",
    "            m[i] = ~m[i]\n",
    "    if m.sum() == 0:\n",
    "        m[random.randrange(len(m))] = True\n",
    "    return m\n",
    "\n",
    "print(\"Función de mutación definida\")"
   ]
  },
  {
   "cell_type": "code",
   "execution_count": 24,
   "id": "fada1712",
   "metadata": {},
   "outputs": [
    {
     "name": "stdout",
     "output_type": "stream",
     "text": [
      "Algoritmo Genético implementado (con semilla específica)\n"
     ]
    }
   ],
   "source": [
    "def genetic_algorithm(X: np.ndarray, y: np.ndarray, pop_size: int = 30, generations: int = 50,\n",
    "                      p_crossover: float = 0.9, p_mut: float = 0.02, cv_splits: int = 5) -> SearchResult:\n",
    "    # Usar semilla diferente para GA\n",
    "    np.random.seed(200)  # Semilla específica para GA\n",
    "    random.seed(200)\n",
    "    \n",
    "    n_features = X.shape[1]\n",
    "    pop = np.random.rand(pop_size, n_features) < 0.5\n",
    "    start = time.perf_counter()\n",
    "    fitness = np.array([evaluate_mask(X, y, ind, cv_splits=cv_splits) for ind in pop])\n",
    "    best_idx = int(np.argmax(fitness))\n",
    "    best = pop[best_idx].copy()\n",
    "    best_score = float(fitness[best_idx])\n",
    "    history = [best_score]\n",
    "    for g in range(generations):\n",
    "        new_pop = []\n",
    "        while len(new_pop) < pop_size:\n",
    "            p1 = tournament_selection(pop, fitness)\n",
    "            p2 = tournament_selection(pop, fitness)\n",
    "            c1, c2 = crossover(p1, p2, rate=p_crossover)\n",
    "            c1 = mutate(c1, p_mut=p_mut)\n",
    "            c2 = mutate(c2, p_mut=p_mut)\n",
    "            new_pop.extend([c1, c2])\n",
    "        pop = np.array(new_pop[:pop_size])\n",
    "        fitness = np.array([evaluate_mask(X, y, ind, cv_splits=cv_splits) for ind in pop])\n",
    "        gen_best_idx = int(np.argmax(fitness))\n",
    "        gen_best_score = float(fitness[gen_best_idx])\n",
    "        if gen_best_score > best_score:\n",
    "            best_score = gen_best_score\n",
    "            best = pop[gen_best_idx].copy()\n",
    "        history.append(best_score)\n",
    "    elapsed = time.perf_counter() - start\n",
    "    return SearchResult(best_mask=best, best_score=best_score, history=history, elapsed=elapsed, iters=generations)\n",
    "\n",
    "print(\"Algoritmo Genético implementado (con semilla específica)\")"
   ]
  },
  {
   "cell_type": "markdown",
   "id": "7ecaf5ba",
   "metadata": {},
   "source": [
    "## 7. Preparación de Datos y Ejecución de Experimentos\n",
    "\n",
    "En esta sección se cargarían los datos y se ejecutarían ambos algoritmos para realizar la comparación."
   ]
  },
  {
   "cell_type": "code",
   "execution_count": 25,
   "id": "d85d8ed4",
   "metadata": {},
   "outputs": [
    {
     "name": "stdout",
     "output_type": "stream",
     "text": [
      "Dataset creado: 200 muestras, 20 características\n",
      "Distribución de clases: [101  99]\n",
      "Nota: El dataset es fijo, pero los algoritmos usarán diferentes semillas aleatorias\n"
     ]
    }
   ],
   "source": [
    "# Ejemplo de uso con datos sintéticos\n",
    "# Este código muestra cómo usar las funciones implementadas\n",
    "\n",
    "# Generar datos sintéticos para demostración\n",
    "from sklearn.datasets import make_classification\n",
    "\n",
    "# Crear dataset sintético con semilla fija para reproducibilidad del dataset\n",
    "X, y = make_classification(n_samples=200, n_features=20, n_informative=10, \n",
    "                          n_redundant=5, random_state=42)\n",
    "\n",
    "print(f\"Dataset creado: {X.shape[0]} muestras, {X.shape[1]} características\")\n",
    "print(f\"Distribución de clases: {np.bincount(y)}\")\n",
    "print(\"Nota: El dataset es fijo, pero los algoritmos usarán diferentes semillas aleatorias\")"
   ]
  },
  {
   "cell_type": "markdown",
   "id": "5b5c6cb0",
   "metadata": {},
   "source": [
    "## 8. Ejecución del Recocido Simulado"
   ]
  },
  {
   "cell_type": "code",
   "execution_count": 26,
   "id": "f16fdf39",
   "metadata": {},
   "outputs": [
    {
     "name": "stdout",
     "output_type": "stream",
     "text": [
      "Ejecutando Recocido Simulado...\n",
      "\n",
      "Resultados del Recocido Simulado:\n",
      "Mejor puntuación: 0.8500\n",
      "Características seleccionadas: 9/20\n",
      "Tiempo de ejecución: 1.95 segundos\n",
      "Iteraciones: 150\n"
     ]
    }
   ],
   "source": [
    "# Ejecutar Recocido Simulado\n",
    "print(\"Ejecutando Recocido Simulado...\")\n",
    "sa_result = simulated_annealing(X, y, iters=150, init_temp=1.0, cooling=0.97)\n",
    "\n",
    "print(f\"\\nResultados del Recocido Simulado:\")\n",
    "print(f\"Mejor puntuación: {sa_result.best_score:.4f}\")\n",
    "print(f\"Características seleccionadas: {sa_result.best_mask.sum()}/{len(sa_result.best_mask)}\")\n",
    "print(f\"Tiempo de ejecución: {sa_result.elapsed:.2f} segundos\")\n",
    "print(f\"Iteraciones: {sa_result.iters}\")"
   ]
  },
  {
   "cell_type": "markdown",
   "id": "3af39b9a",
   "metadata": {},
   "source": [
    "## 9. Ejecución del Algoritmo Genético"
   ]
  },
  {
   "cell_type": "code",
   "execution_count": 27,
   "id": "ba851e1c",
   "metadata": {},
   "outputs": [
    {
     "name": "stdout",
     "output_type": "stream",
     "text": [
      "Ejecutando Algoritmo Genético...\n",
      "\n",
      "Resultados del Algoritmo Genético:\n",
      "Mejor puntuación: 0.8650\n",
      "Características seleccionadas: 8/20\n",
      "Tiempo de ejecución: 22.56 segundos\n",
      "Generaciones: 50\n"
     ]
    }
   ],
   "source": [
    "# Ejecutar Algoritmo Genético\n",
    "print(\"Ejecutando Algoritmo Genético...\")\n",
    "ga_result = genetic_algorithm(X, y, pop_size=30, generations=50)\n",
    "\n",
    "print(f\"\\nResultados del Algoritmo Genético:\")\n",
    "print(f\"Mejor puntuación: {ga_result.best_score:.4f}\")\n",
    "print(f\"Características seleccionadas: {ga_result.best_mask.sum()}/{len(ga_result.best_mask)}\")\n",
    "print(f\"Tiempo de ejecución: {ga_result.elapsed:.2f} segundos\")\n",
    "print(f\"Generaciones: {ga_result.iters}\")"
   ]
  },
  {
   "cell_type": "markdown",
   "id": "afb3cd3f",
   "metadata": {},
   "source": [
    "## 10. Análisis Comparativo y Visualización\n",
    "\n",
    "Comparación de los resultados obtenidos por ambas metaheurísticas."
   ]
  },
  {
   "cell_type": "code",
   "execution_count": 28,
   "id": "8f199394",
   "metadata": {},
   "outputs": [
    {
     "name": "stdout",
     "output_type": "stream",
     "text": [
      "Tabla Comparativa:\n",
      "         Algoritmo  Mejor Puntuación  Características Seleccionadas  Tiempo (segundos)  Iteraciones/Generaciones\n",
      " Recocido Simulado             0.850                              9           1.946958                       150\n",
      "Algoritmo Genético             0.865                              8          22.562734                        50\n"
     ]
    }
   ],
   "source": [
    "# Importar librerías para visualización\n",
    "import matplotlib.pyplot as plt\n",
    "import pandas as pd\n",
    "\n",
    "# Crear tabla comparativa\n",
    "comparison_data = {\n",
    "    'Algoritmo': ['Recocido Simulado', 'Algoritmo Genético'],\n",
    "    'Mejor Puntuación': [sa_result.best_score, ga_result.best_score],\n",
    "    'Características Seleccionadas': [sa_result.best_mask.sum(), ga_result.best_mask.sum()],\n",
    "    'Tiempo (segundos)': [sa_result.elapsed, ga_result.elapsed],\n",
    "    'Iteraciones/Generaciones': [sa_result.iters, ga_result.iters]\n",
    "}\n",
    "\n",
    "comparison_df = pd.DataFrame(comparison_data)\n",
    "print(\"Tabla Comparativa:\")\n",
    "print(comparison_df.to_string(index=False))"
   ]
  },
  {
   "cell_type": "code",
   "execution_count": 29,
   "id": "ee3c3aae",
   "metadata": {},
   "outputs": [
    {
     "name": "stdout",
     "output_type": "stream",
     "text": [
      "============================================================\n",
      "ANÁLISIS DE ROBUSTEZ - MÚLTIPLES EJECUCIONES\n",
      "============================================================\n",
      "Ejecutando múltiples pruebas para análisis de robustez...\n",
      "\n",
      "Ejecución 1/5\n",
      "  SA: 0.850 (1.5s) | GA: 0.855 (9.6s)\n",
      "\n",
      "Ejecución 2/5\n",
      "  SA: 0.850 (1.3s) | GA: 0.855 (8.2s)\n",
      "\n",
      "Ejecución 3/5\n",
      "  SA: 0.850 (1.3s) | GA: 0.855 (8.6s)\n",
      "\n",
      "Ejecución 4/5\n",
      "  SA: 0.850 (1.4s) | GA: 0.855 (8.4s)\n",
      "\n",
      "Ejecución 5/5\n",
      "  SA: 0.850 (1.3s) | GA: 0.855 (9.1s)\n",
      "\n",
      "============================================================\n",
      "ESTADÍSTICAS DE MÚLTIPLES EJECUCIONES\n",
      "============================================================\n",
      "Algoritmo            Promedio     Std Dev      Min      Max      Tiempo Prom \n",
      "--------------------------------------------------------------------------------\n",
      "Recocido Simulado    0.8500       0.0000       0.850    0.850    1.37        \n",
      "Algoritmo Genético   0.8550       0.0000       0.855    0.855    8.77        \n",
      "================================================================================\n",
      "🏆 GANADOR EN PRECISIÓN: Algoritmo Genético (+0.0050)\n",
      "⚡ GANADOR EN VELOCIDAD: Recocido Simulado (7.40s más rápido)\n",
      "🎯 MÁS CONSISTENTE: Algoritmo Genético (std: 0.0000 vs 0.0000)\n"
     ]
    }
   ],
   "source": [
    "# Análisis de Robustez: Múltiples Ejecuciones\n",
    "print(\"=\"*60)\n",
    "print(\"ANÁLISIS DE ROBUSTEZ - MÚLTIPLES EJECUCIONES\")\n",
    "print(\"=\"*60)\n",
    "\n",
    "# Ejecutar múltiples veces cada algoritmo para ver variabilidad\n",
    "n_runs = 5\n",
    "sa_scores = []\n",
    "ga_scores = []\n",
    "sa_times = []\n",
    "ga_times = []\n",
    "\n",
    "print(\"Ejecutando múltiples pruebas para análisis de robustez...\")\n",
    "\n",
    "for run in range(n_runs):\n",
    "    print(f\"\\nEjecución {run + 1}/{n_runs}\")\n",
    "    \n",
    "    # SA con diferentes semillas\n",
    "    np.random.seed(100 + run * 10)\n",
    "    random.seed(100 + run * 10)\n",
    "    sa_temp = simulated_annealing(X, y, iters=100)  # Menos iteraciones para rapidez\n",
    "    sa_scores.append(sa_temp.best_score)\n",
    "    sa_times.append(sa_temp.elapsed)\n",
    "    \n",
    "    # GA con diferentes semillas\n",
    "    np.random.seed(200 + run * 10)\n",
    "    random.seed(200 + run * 10)\n",
    "    ga_temp = genetic_algorithm(X, y, pop_size=20, generations=30)  # Menos generaciones para rapidez\n",
    "    ga_scores.append(ga_temp.best_score)\n",
    "    ga_times.append(ga_temp.elapsed)\n",
    "    \n",
    "    print(f\"  SA: {sa_temp.best_score:.3f} ({sa_temp.elapsed:.1f}s) | GA: {ga_temp.best_score:.3f} ({ga_temp.elapsed:.1f}s)\")\n",
    "\n",
    "# Estadísticas de múltiples ejecuciones\n",
    "print(f\"\\n{'='*60}\")\n",
    "print(\"ESTADÍSTICAS DE MÚLTIPLES EJECUCIONES\")\n",
    "print(f\"{'='*60}\")\n",
    "print(f\"{'Algoritmo':<20} {'Promedio':<12} {'Std Dev':<12} {'Min':<8} {'Max':<8} {'Tiempo Prom':<12}\")\n",
    "print(\"-\"*80)\n",
    "print(f\"{'Recocido Simulado':<20} {np.mean(sa_scores):<12.4f} {np.std(sa_scores):<12.4f} {np.min(sa_scores):<8.3f} {np.max(sa_scores):<8.3f} {np.mean(sa_times):<12.2f}\")\n",
    "print(f\"{'Algoritmo Genético':<20} {np.mean(ga_scores):<12.4f} {np.std(ga_scores):<12.4f} {np.min(ga_scores):<8.3f} {np.max(ga_scores):<8.3f} {np.mean(ga_times):<12.2f}\")\n",
    "print(f\"{'='*80}\")\n",
    "\n",
    "# Determinar cuál es mejor en promedio\n",
    "if np.mean(sa_scores) > np.mean(ga_scores):\n",
    "    print(f\"🏆 GANADOR EN PRECISIÓN: Recocido Simulado (+{np.mean(sa_scores) - np.mean(ga_scores):.4f})\")\n",
    "else:\n",
    "    print(f\"🏆 GANADOR EN PRECISIÓN: Algoritmo Genético (+{np.mean(ga_scores) - np.mean(sa_scores):.4f})\")\n",
    "\n",
    "if np.mean(sa_times) < np.mean(ga_times):\n",
    "    print(f\"⚡ GANADOR EN VELOCIDAD: Recocido Simulado ({np.mean(ga_times) - np.mean(sa_times):.2f}s más rápido)\")\n",
    "else:\n",
    "    print(f\"⚡ GANADOR EN VELOCIDAD: Algoritmo Genético ({np.mean(sa_times) - np.mean(ga_times):.2f}s más rápido)\")\n",
    "\n",
    "# Consistencia (menor desviación estándar es mejor)\n",
    "if np.std(sa_scores) < np.std(ga_scores):\n",
    "    print(f\"🎯 MÁS CONSISTENTE: Recocido Simulado (std: {np.std(sa_scores):.4f} vs {np.std(ga_scores):.4f})\")\n",
    "else:\n",
    "    print(f\"🎯 MÁS CONSISTENTE: Algoritmo Genético (std: {np.std(ga_scores):.4f} vs {np.std(sa_scores):.4f})\")"
   ]
  },
  {
   "cell_type": "code",
   "execution_count": 30,
   "id": "ae0d5bbd",
   "metadata": {},
   "outputs": [
    {
     "data": {
      "image/png": "[encoded data removed]",
      "text/plain": [
       "<Figure size 1500x1000 with 6 Axes>"
      ]
     },
     "metadata": {},
     "output_type": "display_data"
    }
   ],
   "source": [
    "# Gráficos de análisis comparativo\n",
    "fig, axes = plt.subplots(2, 3, figsize=(15, 10))\n",
    "fig.suptitle('Análisis Comparativo: Recocido Simulado vs Algoritmo Genético', fontsize=16, fontweight='bold')\n",
    "\n",
    "# 1. Curvas de convergencia\n",
    "ax1 = axes[0, 0]\n",
    "ax1.plot(sa_result.history, label='Recocido Simulado', linewidth=2, color='blue')\n",
    "ax1.plot(ga_result.history, label='Algoritmo Genético', linewidth=2, color='orange')\n",
    "ax1.set_xlabel('Iteraciones/Generaciones')\n",
    "ax1.set_ylabel('Mejor Puntuación')\n",
    "ax1.set_title('Curvas de Convergencia')\n",
    "ax1.legend()\n",
    "ax1.grid(True, alpha=0.3)\n",
    "\n",
    "# 2. Comparación de precisión\n",
    "ax2 = axes[0, 1]\n",
    "algorithms = ['SA', 'GA']\n",
    "scores = [sa_result.best_score, ga_result.best_score]\n",
    "bars = ax2.bar(algorithms, scores, color=['blue', 'orange'], alpha=0.7)\n",
    "ax2.set_ylabel('Precisión')\n",
    "ax2.set_title('Comparación de Precisión')\n",
    "for i, bar in enumerate(bars):\n",
    "    height = bar.get_height()\n",
    "    ax2.text(bar.get_x() + bar.get_width()/2., height + 0.005,\n",
    "             f'{scores[i]:.3f}', ha='center', va='bottom', fontweight='bold')\n",
    "ax2.grid(True, alpha=0.3, axis='y')\n",
    "\n",
    "# 3. Comparación de tiempo\n",
    "ax3 = axes[0, 2]\n",
    "times = [sa_result.elapsed, ga_result.elapsed]\n",
    "bars = ax3.bar(algorithms, times, color=['blue', 'orange'], alpha=0.7)\n",
    "ax3.set_ylabel('Tiempo (segundos)')\n",
    "ax3.set_title('Tiempo de Ejecución')\n",
    "for i, bar in enumerate(bars):\n",
    "    height = bar.get_height()\n",
    "    ax3.text(bar.get_x() + bar.get_width()/2., height + 0.5,\n",
    "             f'{times[i]:.1f}s', ha='center', va='bottom', fontweight='bold')\n",
    "ax3.grid(True, alpha=0.3, axis='y')\n",
    "\n",
    "# 4. Características seleccionadas\n",
    "ax4 = axes[1, 0]\n",
    "features = [sa_result.best_mask.sum(), ga_result.best_mask.sum()]\n",
    "bars = ax4.bar(algorithms, features, color=['blue', 'orange'], alpha=0.7)\n",
    "ax4.set_ylabel('Número de Características')\n",
    "ax4.set_title('Características Seleccionadas')\n",
    "total_features = len(sa_result.best_mask)\n",
    "ax4.axhline(y=total_features, color='red', linestyle='--', alpha=0.7, label=f'Total: {total_features}')\n",
    "for i, bar in enumerate(bars):\n",
    "    height = bar.get_height()\n",
    "    ax4.text(bar.get_x() + bar.get_width()/2., height + 0.3,\n",
    "             f'{int(features[i])}/{total_features}', ha='center', va='bottom', fontweight='bold')\n",
    "ax4.legend()\n",
    "ax4.grid(True, alpha=0.3, axis='y')\n",
    "\n",
    "# 5. Eficiencia (Precisión/Tiempo)\n",
    "ax5 = axes[1, 1]\n",
    "efficiency = [scores[i]/times[i] for i in range(2)]\n",
    "bars = ax5.bar(algorithms, efficiency, color=['blue', 'orange'], alpha=0.7)\n",
    "ax5.set_ylabel('Eficiencia (Precisión/Tiempo)')\n",
    "ax5.set_title('Eficiencia Algorítmica')\n",
    "for i, bar in enumerate(bars):\n",
    "    height = bar.get_height()\n",
    "    ax5.text(bar.get_x() + bar.get_width()/2., height + 0.01,\n",
    "             f'{efficiency[i]:.3f}', ha='center', va='bottom', fontweight='bold')\n",
    "ax5.grid(True, alpha=0.3, axis='y')\n",
    "\n",
    "# 6. Comparación general normalizada\n",
    "ax6 = axes[1, 2]\n",
    "metrics = ['Precisión', 'Velocidad', 'Parsimonía']\n",
    "sa_norm = [\n",
    "    sa_result.best_score / max(scores),\n",
    "    (1/sa_result.elapsed) / max(1/sa_result.elapsed, 1/ga_result.elapsed),\n",
    "    (total_features - features[0]) / total_features\n",
    "]\n",
    "ga_norm = [\n",
    "    ga_result.best_score / max(scores),\n",
    "    (1/ga_result.elapsed) / max(1/sa_result.elapsed, 1/ga_result.elapsed),\n",
    "    (total_features - features[1]) / total_features\n",
    "]\n",
    "\n",
    "x = np.arange(len(metrics))\n",
    "width = 0.35\n",
    "ax6.bar(x - width/2, sa_norm, width, label='SA', color='blue', alpha=0.7)\n",
    "ax6.bar(x + width/2, ga_norm, width, label='GA', color='orange', alpha=0.7)\n",
    "ax6.set_ylabel('Puntuación Normalizada')\n",
    "ax6.set_title('Métricas Normalizadas')\n",
    "ax6.set_xticks(x)\n",
    "ax6.set_xticklabels(metrics)\n",
    "ax6.legend()\n",
    "ax6.grid(True, alpha=0.3, axis='y')\n",
    "\n",
    "plt.tight_layout()\n",
    "plt.show()"
   ]
  },
  {
   "cell_type": "markdown",
   "id": "bb7ffea2",
   "metadata": {},
   "source": [
    "## 11. Conclusiones\n",
    "\n",
    "### Análisis de Resultados:\n",
    "\n",
    "1. **Precisión**: Comparación de la precisión obtenida por cada algoritmo\n",
    "2. **Eficiencia**: Análisis del tiempo de ejecución y convergencia\n",
    "3. **Convergencia**: Evaluación de las curvas de convergencia\n",
    "4. **Selección de características**: Comparación del número de características seleccionadas\n",
    "\n",
    "### Ventajas y Desventajas:\n",
    "\n",
    "**Recocido Simulado:**\n",
    "- Ventajas: Simplicidad de implementación, capacidad de escapar de óptimos locales\n",
    "- Desventajas: Sensible a la configuración de parámetros (temperatura, enfriamiento)\n",
    "\n",
    "**Algoritmo Genético:**\n",
    "- Ventajas: Búsqueda paralela, diversidad de soluciones\n",
    "- Desventajas: Mayor complejidad computacional, más parámetros a ajustar\n",
    "\n",
    "### Recomendaciones:\n",
    "\n",
    "La elección del algoritmo dependerá del problema específico, el tamaño del dataset y los recursos computacionales disponibles."
   ]
  },
  {
   "cell_type": "markdown",
   "id": "fd78f2b3",
   "metadata": {},
   "source": [
    "## 12. Referencias\n",
    "\n",
    "1. Kirkpatrick, S., Gelatt Jr, C. D., & Vecchi, M. P. (1983). Optimization by simulated annealing. *Science*, 220(4598), 671-680.\n",
    "\n",
    "2. Holland, J. H. (1992). *Adaptation in natural and artificial systems: an introductory analysis with applications to biology, control, and artificial intelligence*. MIT Press.\n",
    "\n",
    "3. Guyon, I., & Elisseeff, A. (2003). An introduction to variable and feature selection. *Journal of Machine Learning Research*, 3, 1157-1182.\n",
    "\n",
    "4. Xue, B., Zhang, M., Browne, W. N., & Yao, X. (2016). A survey on evolutionary computation approaches to feature selection. *IEEE Transactions on Evolutionary Computation*, 20(4), 606-626."
   ]
  }
 ],
 "metadata": {
  "kernelspec": {
   "display_name": "Python 3",
   "language": "python",
   "name": "python3"
  },
  "language_info": {
   "codemirror_mode": {
    "name": "ipython",
    "version": 3
   },
   "file_extension": ".py",
   "mimetype": "text/x-python",
   "name": "python",
   "nbconvert_exporter": "python",
   "pygments_lexer": "ipython3",
   "version": "3.12.6"
  }
 },
 "nbformat": 4,
 "nbformat_minor": 5
}
