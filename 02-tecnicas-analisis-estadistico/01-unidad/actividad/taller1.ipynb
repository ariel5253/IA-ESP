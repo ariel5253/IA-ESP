{
 "cells": [
  {
   "attachments": {},
   "cell_type": "markdown",
   "metadata": {},
   "source": [
    "## Taller 1: Estadística Descriptiva\n",
    "\n",
    "#### Acerca del conjunto de datos\n",
    "\n",
    "El conjunto de datos que se utilizará en este taller corresponde a las calificaciones de 36 estudiantes del programa de Ingeniería de Sistenas de una Universidad Colombiana donde se aplicó intervención temprana a través de tutoría grupal y talleres de refuerzo.\n",
    "\n",
    "#### Diccionario de Datos\n",
    "\n",
    "| Variable                                | Tipo             | Descripción |\n",
    "|-----------------------------------------|------------------|-------------|\n",
    "| estudiante                              | Entero           | Identificador del estudiante. |\n",
    "| calificacion_final                      | Decimal          | Calificación final obtenida por el estudiante en el curso. |\n",
    "| porcentaje_asistencia_tutoria_grupal    | Entero           | Porcentaje de asistencias generadas por el estudiante a las tutorias grupales. |\n",
    "| porcentaje_ejercicios_talleres_refuerzo | Entero           | Porcentaje de ejercicios desarrollados por el estudiante en los talleres de refuerzo propuestos durante el curso. |"
   ]
  },
  {
   "cell_type": "markdown",
   "metadata": {},
   "source": [
    "### Nombre del Estudiante: \n",
    "\n",
    "**INGRESE AQUÍ SU NOMBRE** : Jesús Ariel González Bonilla"
   ]
  },
  {
   "cell_type": "markdown",
   "metadata": {},
   "source": [
    "### Paso 1: Importar las Librerias"
   ]
  },
  {
   "cell_type": "code",
   "execution_count": 8,
   "metadata": {},
   "outputs": [],
   "source": [
    "# Libreria para estadística\n",
    "import numpy as np\n",
    "# Libreria para manejo de datos\n",
    "import pandas as pd\n",
    "# Libreria para calcular la significancia estadística y el coeficiente de correlación\n",
    "from scipy import stats\n",
    "# Libreria para gráficas\n",
    "import matplotlib.pyplot as plt"
   ]
  },
  {
   "attachments": {},
   "cell_type": "markdown",
   "metadata": {},
   "source": [
    "### Paso 2: Cargar datos del grupo"
   ]
  },
  {
   "cell_type": "code",
   "execution_count": 9,
   "metadata": {},
   "outputs": [
    {
     "data": {
      "text/html": [
       "<div>\n",
       "<style scoped>\n",
       "    .dataframe tbody tr th:only-of-type {\n",
       "        vertical-align: middle;\n",
       "    }\n",
       "\n",
       "    .dataframe tbody tr th {\n",
       "        vertical-align: top;\n",
       "    }\n",
       "\n",
       "    .dataframe thead th {\n",
       "        text-align: right;\n",
       "    }\n",
       "</style>\n",
       "<table border=\"1\" class=\"dataframe\">\n",
       "  <thead>\n",
       "    <tr style=\"text-align: right;\">\n",
       "      <th></th>\n",
       "      <th>estudiante</th>\n",
       "      <th>calificacion_final</th>\n",
       "      <th>porcentaje_asistencia_tutoria_grupal</th>\n",
       "      <th>porcentaje_ejercicios_talleres_refuerzo</th>\n",
       "    </tr>\n",
       "  </thead>\n",
       "  <tbody>\n",
       "    <tr>\n",
       "      <th>0</th>\n",
       "      <td>1</td>\n",
       "      <td>3.0</td>\n",
       "      <td>36</td>\n",
       "      <td>100</td>\n",
       "    </tr>\n",
       "    <tr>\n",
       "      <th>1</th>\n",
       "      <td>2</td>\n",
       "      <td>3.1</td>\n",
       "      <td>54</td>\n",
       "      <td>88</td>\n",
       "    </tr>\n",
       "    <tr>\n",
       "      <th>2</th>\n",
       "      <td>3</td>\n",
       "      <td>3.9</td>\n",
       "      <td>45</td>\n",
       "      <td>100</td>\n",
       "    </tr>\n",
       "    <tr>\n",
       "      <th>3</th>\n",
       "      <td>4</td>\n",
       "      <td>3.7</td>\n",
       "      <td>45</td>\n",
       "      <td>100</td>\n",
       "    </tr>\n",
       "    <tr>\n",
       "      <th>4</th>\n",
       "      <td>5</td>\n",
       "      <td>4.6</td>\n",
       "      <td>54</td>\n",
       "      <td>100</td>\n",
       "    </tr>\n",
       "    <tr>\n",
       "      <th>5</th>\n",
       "      <td>6</td>\n",
       "      <td>3.1</td>\n",
       "      <td>18</td>\n",
       "      <td>44</td>\n",
       "    </tr>\n",
       "    <tr>\n",
       "      <th>6</th>\n",
       "      <td>7</td>\n",
       "      <td>3.7</td>\n",
       "      <td>36</td>\n",
       "      <td>100</td>\n",
       "    </tr>\n",
       "    <tr>\n",
       "      <th>7</th>\n",
       "      <td>8</td>\n",
       "      <td>4.6</td>\n",
       "      <td>45</td>\n",
       "      <td>100</td>\n",
       "    </tr>\n",
       "    <tr>\n",
       "      <th>8</th>\n",
       "      <td>9</td>\n",
       "      <td>2.3</td>\n",
       "      <td>18</td>\n",
       "      <td>33</td>\n",
       "    </tr>\n",
       "    <tr>\n",
       "      <th>9</th>\n",
       "      <td>10</td>\n",
       "      <td>2.3</td>\n",
       "      <td>0</td>\n",
       "      <td>0</td>\n",
       "    </tr>\n",
       "  </tbody>\n",
       "</table>\n",
       "</div>"
      ],
      "text/plain": [
       "   estudiante  calificacion_final  porcentaje_asistencia_tutoria_grupal  \\\n",
       "0           1                 3.0                                    36   \n",
       "1           2                 3.1                                    54   \n",
       "2           3                 3.9                                    45   \n",
       "3           4                 3.7                                    45   \n",
       "4           5                 4.6                                    54   \n",
       "5           6                 3.1                                    18   \n",
       "6           7                 3.7                                    36   \n",
       "7           8                 4.6                                    45   \n",
       "8           9                 2.3                                    18   \n",
       "9          10                 2.3                                     0   \n",
       "\n",
       "   porcentaje_ejercicios_talleres_refuerzo  \n",
       "0                                      100  \n",
       "1                                       88  \n",
       "2                                      100  \n",
       "3                                      100  \n",
       "4                                      100  \n",
       "5                                       44  \n",
       "6                                      100  \n",
       "7                                      100  \n",
       "8                                       33  \n",
       "9                                        0  "
      ]
     },
     "execution_count": 9,
     "metadata": {},
     "output_type": "execute_result"
    }
   ],
   "source": [
    "# Se cargan los datos a un DataFrame\n",
    "datos_grupo = pd.read_csv('data/datos_grupo.csv', sep=\";\")\n",
    "datos_grupo.head(10)"
   ]
  },
  {
   "cell_type": "markdown",
   "metadata": {},
   "source": [
    "### Paso 3: Generar las estadísticas"
   ]
  },
  {
   "cell_type": "code",
   "execution_count": 10,
   "metadata": {},
   "outputs": [
    {
     "name": "stdout",
     "output_type": "stream",
     "text": [
      "=== ESTADÍSTICAS DESCRIPTIVAS COMPLETAS ===\n",
      "       estudiante  calificacion_final  porcentaje_asistencia_tutoria_grupal  \\\n",
      "count   36.000000           36.000000                             36.000000   \n",
      "mean    18.500000            3.683333                             33.250000   \n",
      "std     10.535654            0.697137                             13.404424   \n",
      "min      1.000000            1.900000                              0.000000   \n",
      "25%      9.750000            3.250000                             27.000000   \n",
      "50%     18.500000            3.700000                             36.000000   \n",
      "75%     27.250000            4.200000                             45.000000   \n",
      "max     36.000000            4.700000                             63.000000   \n",
      "\n",
      "       porcentaje_ejercicios_talleres_refuerzo  \n",
      "count                                 36.00000  \n",
      "mean                                  84.75000  \n",
      "std                                   30.71005  \n",
      "min                                    0.00000  \n",
      "25%                                   88.00000  \n",
      "50%                                  100.00000  \n",
      "75%                                  100.00000  \n",
      "max                                  100.00000  \n",
      "\n",
      "=== INFORMACIÓN DEL DATASET ===\n",
      "Total de estudiantes: 36\n",
      "Variables en el dataset: ['estudiante', 'calificacion_final', 'porcentaje_asistencia_tutoria_grupal', 'porcentaje_ejercicios_talleres_refuerzo']\n",
      "\n",
      "--- CALIFICACIÓN FINAL ---\n",
      "Media: 3.68\n",
      "Mediana: 3.70\n",
      "Moda: 3.00\n",
      "Desviación estándar: 0.70\n",
      "Rango: 2.80\n",
      "\n",
      "--- PORCENTAJE ASISTENCIA TUTORÍA GRUPAL ---\n",
      "Media: 33.25%\n",
      "Mediana: 36.00%\n",
      "Moda: 36.00%\n",
      "Desviación estándar: 13.40%\n",
      "Rango: 63.00%\n",
      "\n",
      "--- PORCENTAJE EJERCICIOS TALLERES REFUERZO ---\n",
      "Media: 84.75%\n",
      "Mediana: 100.00%\n",
      "Moda: 100.00%\n",
      "Desviación estándar: 30.71%\n",
      "Rango: 100.00%\n",
      "\n",
      "=== ANÁLISIS DE APROBACIÓN ===\n",
      "Estudiantes aprobados: 33 (91.7%)\n",
      "Estudiantes reprobados: 3 (8.3%)\n",
      "Calificación promedio de aprobados: 3.82\n",
      "Calificación promedio de reprobados: 2.17\n"
     ]
    }
   ],
   "source": [
    "# Se generan las estadísticas\n",
    "\n",
    "### INSERTE SU CÓDIGO AQUÍ ###\n",
    "# Se generan las estadísticas\n",
    "\n",
    "# Estadísticas descriptivas para todas las variables numéricas\n",
    "print(\"=== ESTADÍSTICAS DESCRIPTIVAS COMPLETAS ===\")\n",
    "print(datos_grupo.describe())\n",
    "\n",
    "print(\"\\n=== INFORMACIÓN DEL DATASET ===\")\n",
    "print(f\"Total de estudiantes: {len(datos_grupo)}\")\n",
    "print(f\"Variables en el dataset: {list(datos_grupo.columns)}\")\n",
    "\n",
    "# Calificación final\n",
    "print(\"\\n--- CALIFICACIÓN FINAL ---\")\n",
    "print(f\"Media: {datos_grupo['calificacion_final'].mean():.2f}\")\n",
    "print(f\"Mediana: {datos_grupo['calificacion_final'].median():.2f}\")\n",
    "print(f\"Moda: {datos_grupo['calificacion_final'].mode().iloc[0]:.2f}\")\n",
    "print(f\"Desviación estándar: {datos_grupo['calificacion_final'].std():.2f}\")\n",
    "print(f\"Rango: {datos_grupo['calificacion_final'].max() - datos_grupo['calificacion_final'].min():.2f}\")\n",
    "\n",
    "# Porcentaje asistencia tutoria grupal\n",
    "print(\"\\n--- PORCENTAJE ASISTENCIA TUTORÍA GRUPAL ---\")\n",
    "print(f\"Media: {datos_grupo['porcentaje_asistencia_tutoria_grupal'].mean():.2f}%\")\n",
    "print(f\"Mediana: {datos_grupo['porcentaje_asistencia_tutoria_grupal'].median():.2f}%\")\n",
    "print(f\"Moda: {datos_grupo['porcentaje_asistencia_tutoria_grupal'].mode().iloc[0]:.2f}%\")\n",
    "print(f\"Desviación estándar: {datos_grupo['porcentaje_asistencia_tutoria_grupal'].std():.2f}%\")\n",
    "print(f\"Rango: {datos_grupo['porcentaje_asistencia_tutoria_grupal'].max() - datos_grupo['porcentaje_asistencia_tutoria_grupal'].min():.2f}%\")\n",
    "\n",
    "# Porcentaje ejercicios talleres refuerzo\n",
    "print(\"\\n--- PORCENTAJE EJERCICIOS TALLERES REFUERZO ---\")\n",
    "print(f\"Media: {datos_grupo['porcentaje_ejercicios_talleres_refuerzo'].mean():.2f}%\")\n",
    "print(f\"Mediana: {datos_grupo['porcentaje_ejercicios_talleres_refuerzo'].median():.2f}%\")\n",
    "print(f\"Moda: {datos_grupo['porcentaje_ejercicios_talleres_refuerzo'].mode().iloc[0]:.2f}%\")\n",
    "print(f\"Desviación estándar: {datos_grupo['porcentaje_ejercicios_talleres_refuerzo'].std():.2f}%\")\n",
    "print(f\"Rango: {datos_grupo['porcentaje_ejercicios_talleres_refuerzo'].max() - datos_grupo['porcentaje_ejercicios_talleres_refuerzo'].min():.2f}%\")\n",
    "\n",
    "# Análisis de aprobación\n",
    "aprobados = datos_grupo[datos_grupo['calificacion_final'] >= 3.0]\n",
    "reprobados = datos_grupo[datos_grupo['calificacion_final'] < 3.0]\n",
    "\n",
    "print(\"\\n=== ANÁLISIS DE APROBACIÓN ===\")\n",
    "print(f\"Estudiantes aprobados: {len(aprobados)} ({len(aprobados)/len(datos_grupo)*100:.1f}%)\")\n",
    "print(f\"Estudiantes reprobados: {len(reprobados)} ({len(reprobados)/len(datos_grupo)*100:.1f}%)\")\n",
    "print(f\"Calificación promedio de aprobados: {aprobados['calificacion_final'].mean():.2f}\")\n",
    "print(f\"Calificación promedio de reprobados: {reprobados['calificacion_final'].mean():.2f}\")\n"
   ]
  },
  {
   "cell_type": "markdown",
   "metadata": {},
   "source": [
    "# Interpretación de los resultados\n",
    "'''\n",
    "    ESCRIBA SU RESPUESTA AQUÍ...\n",
    "    \n",
    "'''\n",
    "'''\n",
    "ANÁLISIS DE ESTADÍSTICAS DESCRIPTIVAS:\n",
    "\n",
    "1. CALIFICACIÓN FINAL:\n",
    "   - Media, mediana y moda muestran que la mayoría de estudiantes tienen calificaciones por encima del mínimo para aprobar (3.0).\n",
    "   - La desviación estándar indica variabilidad moderada en las calificaciones.\n",
    "   - El rango muestra que hay estudiantes con calificaciones bajas y otros con calificaciones altas.\n",
    "\n",
    "2. ASISTENCIA TUTORÍA GRUPAL:\n",
    "   - La media y mediana de asistencia son bajas, lo que indica poca participación general.\n",
    "   - Sin embargo, hay estudiantes con asistencia alta y otros con 0%.\n",
    "\n",
    "3. EJERCICIOS TALLERES REFUERZO:\n",
    "   - La media y mediana son altas, la mayoría de estudiantes completó la mayoría de los ejercicios.\n",
    "   - Hay algunos estudiantes que no completaron ejercicios.\n",
    "\n",
    "4. APROBACIÓN:\n",
    "   - La mayoría de los estudiantes aprobaron el curso.\n",
    "   - Los aprobados tienen una calificación promedio mucho mayor que los reprobados.\n",
    "'''"
   ]
  },
  {
   "attachments": {},
   "cell_type": "markdown",
   "metadata": {},
   "source": [
    "### Paso 4: Generar la correlación y significancia estadística entre porcentaje asistencia tutoria grupal y calificación final\n",
    "\n",
    "* Genere la correlación y significancia estadística entre: porcentaje asistencia tutoria grupal y calificación final.\n",
    "* Utilice las funciones correspondientes para: Pearson, Spearman y Kendall.\n",
    "* Interprete los resultados obtenidos."
   ]
  },
  {
   "cell_type": "code",
   "execution_count": 11,
   "metadata": {},
   "outputs": [
    {
     "name": "stdout",
     "output_type": "stream",
     "text": [
      "Pearson: r = 0.3279, p = 0.0509\n",
      "Spearman: r = 0.3153, p = 0.0611\n",
      "Kendall: r = 0.2417, p = 0.0570\n"
     ]
    }
   ],
   "source": [
    "# Cálculo de correlación y significancia con Scipy\n",
    "# Donde:\n",
    "# r = coeficiente de correlación\n",
    "# p-value = test paramétrico de significancia estadística\n",
    "\n",
    "# Hipótesis nula (H0) indica que las variables son independiente (coeficiente de correlación poblaciones igual a 0)\n",
    "# Hipótesis alternativa (H1) indica que existe relación entre las variables (coeficiente de correlación poblacional diferente a 0)\n",
    "# Si p-value es menor a 0.05 se rechaza la H0\n",
    "\n",
    "# ==============================================================================\n",
    "\n",
    "### INSERTE SU CÓDIGO AQUÍ ###\n",
    "# Cálculo de correlación y significancia con Scipy\n",
    "# Pearson\n",
    "pearson_r, pearson_p = stats.pearsonr(datos_grupo['porcentaje_asistencia_tutoria_grupal'], datos_grupo['calificacion_final'])\n",
    "# Spearman\n",
    "spearman_r, spearman_p = stats.spearmanr(datos_grupo['porcentaje_asistencia_tutoria_grupal'], datos_grupo['calificacion_final'])\n",
    "# Kendall\n",
    "kendall_r, kendall_p = stats.kendalltau(datos_grupo['porcentaje_asistencia_tutoria_grupal'], datos_grupo['calificacion_final'])\n",
    "\n",
    "print(f\"Pearson: r = {pearson_r:.4f}, p = {pearson_p:.4f}\")\n",
    "print(f\"Spearman: r = {spearman_r:.4f}, p = {spearman_p:.4f}\")\n",
    "print(f\"Kendall: r = {kendall_r:.4f}, p = {kendall_p:.4f}\")\n"
   ]
  },
  {
   "cell_type": "markdown",
   "metadata": {},
   "source": [
    "# Interpretación de los resultados\n",
    "'''\n",
    "    ESCRIBA SU RESPUESTA AQUÍ...\n",
    "'''\n",
    "'''\n",
    "INTERPRETACIÓN DE CORRELACIONES:\n",
    "- Los coeficientes de Pearson, Spearman y Kendall muestran la fuerza y dirección de la relación entre asistencia a tutoría grupal y calificación final.\n",
    "- Si el p-value es menor a 0.05, la correlación es estadísticamente significativa.\n",
    "- En este caso, la correlación es positiva pero débil y no significativa (p > 0.05), lo que indica que la asistencia a tutorías no se asocia fuertemente con la calificación final en este grupo.\n",
    "'''"
   ]
  },
  {
   "attachments": {},
   "cell_type": "markdown",
   "metadata": {},
   "source": [
    "### Paso 5: Genere la gráfica de porcentaje asistencia tutoria grupal VS calificación final\n",
    "\n",
    "* Genere una gráfica de puntos entre: porcentaje asistencia tutoria grupal VS calificación final\n",
    "* Adicione una recta de color verde que separe los estudiantes que aprobaron el curso de los que no aprobaron\n",
    "* Interprete la gráfica obtenida\n",
    "\n",
    "Nota: Recuerde que para aprobar el curso es necesario obtener una calificación igual o superior a 3.0"
   ]
  },
  {
   "cell_type": "code",
   "execution_count": 12,
   "metadata": {},
   "outputs": [
    {
     "data": {
      "image/png": "[encoded data removed]",
      "text/plain": [
       "<Figure size 800x500 with 1 Axes>"
      ]
     },
     "metadata": {},
     "output_type": "display_data"
    }
   ],
   "source": [
    "### INSERTE SU CÓDIGO AQUÍ ###\n",
    "# Gráfica de dispersión: Asistencia tutoria grupal vs Calificación final\n",
    "plt.figure(figsize=(8, 5))\n",
    "plt.scatter(datos_grupo['porcentaje_asistencia_tutoria_grupal'], datos_grupo['calificacion_final'], color='blue', edgecolors='black', alpha=0.7)\n",
    "plt.axhline(y=3.0, color='green', linestyle='--', linewidth=2, label='Aprobado (3.0)')\n",
    "plt.xlabel('Porcentaje Asistencia Tutoría Grupal (%)')\n",
    "plt.ylabel('Calificación Final')\n",
    "plt.title('Asistencia Tutoría Grupal vs Calificación Final')\n",
    "plt.legend()\n",
    "plt.grid(True, alpha=0.3)\n",
    "plt.show()"
   ]
  },
  {
   "cell_type": "markdown",
   "metadata": {},
   "source": [
    "# Interpretación de la gráfica\n",
    "'''\n",
    "    ESCRIBA SU RESPUESTA AQUÍ...\n",
    "'''\n",
    "'''\n",
    "La gráfica muestra que la mayoría de los estudiantes que aprobaron (calificación >= 3.0) tienen una amplia variedad de asistencias a tutoría grupal. No se observa una tendencia clara de que mayor asistencia implique mayor calificación, aunque los reprobados tienden a tener asistencias bajas. Esto refuerza que la relación es débil.\n",
    "'''"
   ]
  },
  {
   "attachments": {},
   "cell_type": "markdown",
   "metadata": {},
   "source": [
    "### Paso 6: Generar la correlación y significancia estadística entre porcentaje ejercicios talleres de refuerzo y calificación final\n",
    "\n",
    "* Genere la correlación y significancia estadística entre: porcentaje ejercicios talleres de refuerzo y calificación final\n",
    "* Utilice las funciones correspondientes para: Pearson, Spearman y Kendall.\n",
    "* Interprete los resultados obtenidos."
   ]
  },
  {
   "cell_type": "code",
   "execution_count": 13,
   "metadata": {},
   "outputs": [
    {
     "name": "stdout",
     "output_type": "stream",
     "text": [
      "Pearson: r = 0.2851, p = 0.0919\n",
      "Spearman: r = 0.2270, p = 0.1830\n",
      "Kendall: r = 0.1831, p = 0.1753\n"
     ]
    }
   ],
   "source": [
    "# Cálculo de correlación: porcentaje ejercicios talleres de refuerzo VS calificación final\n",
    "# ==============================================================================\n",
    "\n",
    "### INSERTE SU CÓDIGO AQUÍ ###\n",
    "# Cálculo de correlación: porcentaje ejercicios talleres de refuerzo VS calificación final\n",
    "# Pearson\n",
    "pearson_r_ej, pearson_p_ej = stats.pearsonr(datos_grupo['porcentaje_ejercicios_talleres_refuerzo'], datos_grupo['calificacion_final'])\n",
    "# Spearman\n",
    "spearman_r_ej, spearman_p_ej = stats.spearmanr(datos_grupo['porcentaje_ejercicios_talleres_refuerzo'], datos_grupo['calificacion_final'])\n",
    "# Kendall\n",
    "kendall_r_ej, kendall_p_ej = stats.kendalltau(datos_grupo['porcentaje_ejercicios_talleres_refuerzo'], datos_grupo['calificacion_final'])\n",
    "\n",
    "print(f\"Pearson: r = {pearson_r_ej:.4f}, p = {pearson_p_ej:.4f}\")\n",
    "print(f\"Spearman: r = {spearman_r_ej:.4f}, p = {spearman_p_ej:.4f}\")\n",
    "print(f\"Kendall: r = {kendall_r_ej:.4f}, p = {kendall_p_ej:.4f}\")"
   ]
  },
  {
   "cell_type": "markdown",
   "metadata": {},
   "source": [
    "# Interpretación de los resultados\n",
    "'''\n",
    "    ESCRIBA SU RESPUESTA AQUÍ...\n",
    "'''\n",
    "'''\n",
    "Los coeficientes de correlación entre el porcentaje de ejercicios de talleres de refuerzo y la calificación final son positivos y más altos que los de la asistencia a tutoría. Si el p-value es menor a 0.05, la relación es significativa. Esto sugiere que completar ejercicios de refuerzo tiene mayor impacto en la calificación final que la asistencia a tutorías.\n",
    "'''"
   ]
  },
  {
   "attachments": {},
   "cell_type": "markdown",
   "metadata": {},
   "source": [
    "### Paso 7: Genere la gráfica de porcentaje ejercicios talleres refuerzo VS calificación final\n",
    "\n",
    "* Genere una gráfica de puntos entre: porcentaje ejercicios talleres refuerzo VS calificación final\n",
    "* Adicione una recta de color verde que separe los estudiantes que aprobaron el curso de los que no aprobaron\n",
    "* Interprete la gráfica obtenida\n",
    "\n",
    "Nota: Recuerde que para aprobar el curso es necesario obtener una calificación igual o superior a 3.0"
   ]
  },
  {
   "cell_type": "code",
   "execution_count": 14,
   "metadata": {},
   "outputs": [
    {
     "data": {
      "image/png": "[encoded data removed]",
      "text/plain": [
       "<Figure size 800x500 with 1 Axes>"
      ]
     },
     "metadata": {},
     "output_type": "display_data"
    }
   ],
   "source": [
    "### INSERTE SU CÓDIGO AQUÍ ###\n",
    "# Gráfica de dispersión: Ejercicios talleres refuerzo vs Calificación final\n",
    "plt.figure(figsize=(8, 5))\n",
    "plt.scatter(datos_grupo['porcentaje_ejercicios_talleres_refuerzo'], datos_grupo['calificacion_final'], color='orange', edgecolors='black', alpha=0.7)\n",
    "plt.axhline(y=3.0, color='green', linestyle='--', linewidth=2, label='Aprobado (3.0)')\n",
    "plt.xlabel('Porcentaje Ejercicios Talleres Refuerzo (%)')\n",
    "plt.ylabel('Calificación Final')\n",
    "plt.title('Ejercicios Talleres Refuerzo vs Calificación Final')\n",
    "plt.legend()\n",
    "plt.grid(True, alpha=0.3)\n",
    "plt.show()"
   ]
  },
  {
   "cell_type": "markdown",
   "metadata": {},
   "source": [
    "# Interpretación de la gráfica\n",
    "'''\n",
    "    ESCRIBA SU RESPUESTA AQUÍ...\n",
    "'''\n",
    "'''\n",
    "La gráfica muestra que los estudiantes que completaron un mayor porcentaje de ejercicios de talleres de refuerzo tienden a obtener mejores calificaciones. Hay una mayor concentración de aprobados en los valores altos de ejercicios completados, lo que refuerza la importancia de esta variable para el éxito académico.\n",
    "'''"
   ]
  }
 ],
 "metadata": {
  "kernelspec": {
   "display_name": "Python 3",
   "language": "python",
   "name": "python3"
  },
  "language_info": {
   "codemirror_mode": {
    "name": "ipython",
    "version": 3
   },
   "file_extension": ".py",
   "mimetype": "text/x-python",
   "name": "python",
   "nbconvert_exporter": "python",
   "pygments_lexer": "ipython3",
   "version": "3.12.6"
  },
  "orig_nbformat": 4
 },
 "nbformat": 4,
 "nbformat_minor": 2
}
