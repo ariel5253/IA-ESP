{
 "cells": [
  {
   "cell_type": "code",
   "execution_count": 124,
   "id": "f54db27e",
   "metadata": {},
   "outputs": [],
   "source": [
    "\n",
    "# === CONFIGURACIÓN DE ESTILO INSTITUCIONAL CORHUILA ===\n",
    "import seaborn as sns\n",
    "import plotly.express as px\n",
    "import plotly.io as pio\n",
    "import json\n",
    "\n",
    "COLORES_CORHUILA = {\n",
    "    \"verde\": \"#009739\",\n",
    "    \"azul\": \"#005B7F\",\n",
    "    \"blanco\": \"#FFFFFF\",\n",
    "    \"negro\": \"#000000\",\n",
    "    \"gris_claro\": \"#F0F0F0\"\n",
    "}\n",
    "\n",
    "sns.set_palette([COLORES_CORHUILA['verde'], COLORES_CORHUILA['azul']])\n",
    "px.defaults.template = \"plotly_white\"\n",
    "px.defaults.color_discrete_sequence = [COLORES_CORHUILA['verde'], COLORES_CORHUILA['azul']]\n",
    "\n",
    "# Cargar y registrar el template visual avanzado CORHUILA\n",
    "with open('estilo_corhuila_plotly.json', 'r', encoding='utf-8') as f:\n",
    "    corhuila_template = json.load(f)\n",
    "pio.templates['corhuila'] = corhuila_template\n",
    "\n",
    "# === FUNCIÓN DE LAYOUT INSTITUCIONAL PARA PLOTLY (MEJORADA) ===\n",
    "from PIL import Image\n",
    "import base64\n",
    "from io import BytesIO\n",
    "\n",
    "def corhuila_layout(fig, with_logo=True, width=700, height=400):\n",
    "    fig.update_layout(\n",
    "        template='corhuila',\n",
    "        width=width,\n",
    "        height=height,\n",
    "        # Glassmorphism effect (tarjeta flotante)\n",
    "        shapes=[dict(\n",
    "            type='rect', xref='paper', yref='paper',\n",
    "            x0=0, y0=0, x1=1, y1=1,\n",
    "            fillcolor='rgba(255,255,255,0.55)',\n",
    "            line=dict(color=COLORES_CORHUILA['verde'], width=4),\n",
    "            layer='below',\n",
    "            opacity=0.7,\n",
    "            editable=False\n",
    "        )],\n",
    "        # Sombra sutil\n",
    "        annotations=[dict(\n",
    "            text='',\n",
    "            showarrow=False,\n",
    "            xref='paper', yref='paper',\n",
    "            x=0.5, y=0.5,\n",
    "            bgcolor='rgba(0,0,0,0.08)',\n",
    "            opacity=0.3,\n",
    "            borderpad=20\n",
    "        )],\n",
    "    )\n",
    "    # Logo institucional (PNG a base64)\n",
    "    if with_logo:\n",
    "        try:\n",
    "            with open(\"logo_corhuila.png\", \"rb\") as image_file:\n",
    "                encoded = base64.b64encode(image_file.read()).decode()\n",
    "            fig.update_layout(images=[dict(\n",
    "                source=f\"data:image/png;base64,{encoded}\",\n",
    "                xref=\"paper\", yref=\"paper\",\n",
    "                x=1, y=1,\n",
    "                sizex=0.13, sizey=0.13,\n",
    "                xanchor=\"right\", yanchor=\"top\",\n",
    "                opacity=0.98,\n",
    "                layer=\"above\"\n",
    "            )])\n",
    "        except Exception:\n",
    "            pass\n",
    "    return fig\n"
   ]
  },
  {
   "cell_type": "markdown",
   "id": "b5ecc4ee",
   "metadata": {},
   "source": [
    "# Tablero Interactivo: Análisis de Matrícula Universitaria y Perfil Estudiantil\n",
    "\n",
    "Este notebook guiará paso a paso la construcción del tablero, iniciando con la carga y exploración de los datos."
   ]
  },
  {
   "cell_type": "markdown",
   "id": "8df3139d",
   "metadata": {},
   "source": [
    "## 1. Carga y exploración inicial de datos"
   ]
  },
  {
   "cell_type": "code",
   "execution_count": 125,
   "id": "85a91242",
   "metadata": {},
   "outputs": [
    {
     "data": {
      "text/html": [
       "<div>\n",
       "<style scoped>\n",
       "    .dataframe tbody tr th:only-of-type {\n",
       "        vertical-align: middle;\n",
       "    }\n",
       "\n",
       "    .dataframe tbody tr th {\n",
       "        vertical-align: top;\n",
       "    }\n",
       "\n",
       "    .dataframe thead th {\n",
       "        text-align: right;\n",
       "    }\n",
       "</style>\n",
       "<table border=\"1\" class=\"dataframe\">\n",
       "  <thead>\n",
       "    <tr style=\"text-align: right;\">\n",
       "      <th></th>\n",
       "      <th>Nombre del Estudiante</th>\n",
       "      <th>Carrera</th>\n",
       "      <th>Costo por Crédito (USD)</th>\n",
       "      <th>Costo de Materiales (USD)</th>\n",
       "      <th>Fecha de Matrícula</th>\n",
       "      <th>Lugar de Procedencia</th>\n",
       "      <th>Costos Administrativos (USD)</th>\n",
       "      <th>Número de Cursos Matriculados</th>\n",
       "      <th>Incremento de Matrícula 2025 (%)</th>\n",
       "      <th>Número de Créditos Matriculados</th>\n",
       "      <th>Promedio Académico Anterior</th>\n",
       "      <th>Número de Semestres Cursados</th>\n",
       "      <th>Edad del Estudiante</th>\n",
       "    </tr>\n",
       "  </thead>\n",
       "  <tbody>\n",
       "    <tr>\n",
       "      <th>0</th>\n",
       "      <td>Guillermo Negrón</td>\n",
       "      <td>Arquitectura</td>\n",
       "      <td>290</td>\n",
       "      <td>350</td>\n",
       "      <td>2024-10-12</td>\n",
       "      <td>Perú</td>\n",
       "      <td>190</td>\n",
       "      <td>6</td>\n",
       "      <td>5</td>\n",
       "      <td>5</td>\n",
       "      <td>4.09</td>\n",
       "      <td>9</td>\n",
       "      <td>23</td>\n",
       "    </tr>\n",
       "    <tr>\n",
       "      <th>1</th>\n",
       "      <td>Carolina Cordero</td>\n",
       "      <td>Administración de Empresas</td>\n",
       "      <td>240</td>\n",
       "      <td>210</td>\n",
       "      <td>2024-12-04</td>\n",
       "      <td>Perú</td>\n",
       "      <td>150</td>\n",
       "      <td>4</td>\n",
       "      <td>5</td>\n",
       "      <td>4</td>\n",
       "      <td>2.56</td>\n",
       "      <td>7</td>\n",
       "      <td>25</td>\n",
       "    </tr>\n",
       "    <tr>\n",
       "      <th>2</th>\n",
       "      <td>Marisela Rael</td>\n",
       "      <td>Ingeniería de Sistemas</td>\n",
       "      <td>260</td>\n",
       "      <td>250</td>\n",
       "      <td>2024-05-16</td>\n",
       "      <td>Perú</td>\n",
       "      <td>160</td>\n",
       "      <td>5</td>\n",
       "      <td>5</td>\n",
       "      <td>3</td>\n",
       "      <td>3.87</td>\n",
       "      <td>1</td>\n",
       "      <td>24</td>\n",
       "    </tr>\n",
       "    <tr>\n",
       "      <th>3</th>\n",
       "      <td>Alberto Timoteo</td>\n",
       "      <td>Derecho</td>\n",
       "      <td>250</td>\n",
       "      <td>200</td>\n",
       "      <td>2024-09-10</td>\n",
       "      <td>Perú</td>\n",
       "      <td>150</td>\n",
       "      <td>3</td>\n",
       "      <td>5</td>\n",
       "      <td>7</td>\n",
       "      <td>4.22</td>\n",
       "      <td>5</td>\n",
       "      <td>26</td>\n",
       "    </tr>\n",
       "    <tr>\n",
       "      <th>4</th>\n",
       "      <td>Jaqueline Guerrero</td>\n",
       "      <td>Ingeniería Electrónica</td>\n",
       "      <td>270</td>\n",
       "      <td>280</td>\n",
       "      <td>2024-12-18</td>\n",
       "      <td>Paraguay</td>\n",
       "      <td>170</td>\n",
       "      <td>6</td>\n",
       "      <td>5</td>\n",
       "      <td>8</td>\n",
       "      <td>4.01</td>\n",
       "      <td>7</td>\n",
       "      <td>18</td>\n",
       "    </tr>\n",
       "  </tbody>\n",
       "</table>\n",
       "</div>"
      ],
      "text/plain": [
       "  Nombre del Estudiante                     Carrera  Costo por Crédito (USD)  \\\n",
       "0      Guillermo Negrón                Arquitectura                      290   \n",
       "1      Carolina Cordero  Administración de Empresas                      240   \n",
       "2         Marisela Rael      Ingeniería de Sistemas                      260   \n",
       "3       Alberto Timoteo                     Derecho                      250   \n",
       "4    Jaqueline Guerrero      Ingeniería Electrónica                      270   \n",
       "\n",
       "   Costo de Materiales (USD) Fecha de Matrícula Lugar de Procedencia  \\\n",
       "0                        350         2024-10-12                 Perú   \n",
       "1                        210         2024-12-04                 Perú   \n",
       "2                        250         2024-05-16                 Perú   \n",
       "3                        200         2024-09-10                 Perú   \n",
       "4                        280         2024-12-18             Paraguay   \n",
       "\n",
       "   Costos Administrativos (USD)  Número de Cursos Matriculados  \\\n",
       "0                           190                              6   \n",
       "1                           150                              4   \n",
       "2                           160                              5   \n",
       "3                           150                              3   \n",
       "4                           170                              6   \n",
       "\n",
       "   Incremento de Matrícula 2025 (%)  Número de Créditos Matriculados  \\\n",
       "0                                 5                                5   \n",
       "1                                 5                                4   \n",
       "2                                 5                                3   \n",
       "3                                 5                                7   \n",
       "4                                 5                                8   \n",
       "\n",
       "   Promedio Académico Anterior  Número de Semestres Cursados  \\\n",
       "0                         4.09                             9   \n",
       "1                         2.56                             7   \n",
       "2                         3.87                             1   \n",
       "3                         4.22                             5   \n",
       "4                         4.01                             7   \n",
       "\n",
       "   Edad del Estudiante  \n",
       "0                   23  \n",
       "1                   25  \n",
       "2                   24  \n",
       "3                   26  \n",
       "4                   18  "
      ]
     },
     "execution_count": 125,
     "metadata": {},
     "output_type": "execute_result"
    }
   ],
   "source": [
    "import pandas as pd\n",
    "\n",
    "# Cargar el archivo Excel\n",
    "df = pd.read_excel('Estudiantes_Universidad_2025_U3.xlsx')\n",
    "\n",
    "# Vista previa de los datos\n",
    "df.head()"
   ]
  },
  {
   "cell_type": "code",
   "execution_count": 126,
   "id": "ae030a4b",
   "metadata": {},
   "outputs": [
    {
     "name": "stdout",
     "output_type": "stream",
     "text": [
      "<class 'pandas.core.frame.DataFrame'>\n",
      "RangeIndex: 50 entries, 0 to 49\n",
      "Data columns (total 13 columns):\n",
      " #   Column                            Non-Null Count  Dtype         \n",
      "---  ------                            --------------  -----         \n",
      " 0   Nombre del Estudiante             50 non-null     object        \n",
      " 1   Carrera                           50 non-null     object        \n",
      " 2   Costo por Crédito (USD)           50 non-null     int64         \n",
      " 3   Costo de Materiales (USD)         50 non-null     int64         \n",
      " 4   Fecha de Matrícula                50 non-null     datetime64[ns]\n",
      " 5   Lugar de Procedencia              50 non-null     object        \n",
      " 6   Costos Administrativos (USD)      50 non-null     int64         \n",
      " 7   Número de Cursos Matriculados     50 non-null     int64         \n",
      " 8   Incremento de Matrícula 2025 (%)  50 non-null     int64         \n",
      " 9   Número de Créditos Matriculados   50 non-null     int64         \n",
      " 10  Promedio Académico Anterior       50 non-null     float64       \n",
      " 11  Número de Semestres Cursados      50 non-null     int64         \n",
      " 12  Edad del Estudiante               50 non-null     int64         \n",
      "dtypes: datetime64[ns](1), float64(1), int64(8), object(3)\n",
      "memory usage: 5.2+ KB\n"
     ]
    }
   ],
   "source": [
    "# Información general del DataFrame\n",
    "df.info()"
   ]
  },
  {
   "cell_type": "code",
   "execution_count": 127,
   "id": "fe3a959f",
   "metadata": {},
   "outputs": [
    {
     "data": {
      "text/html": [
       "<div>\n",
       "<style scoped>\n",
       "    .dataframe tbody tr th:only-of-type {\n",
       "        vertical-align: middle;\n",
       "    }\n",
       "\n",
       "    .dataframe tbody tr th {\n",
       "        vertical-align: top;\n",
       "    }\n",
       "\n",
       "    .dataframe thead th {\n",
       "        text-align: right;\n",
       "    }\n",
       "</style>\n",
       "<table border=\"1\" class=\"dataframe\">\n",
       "  <thead>\n",
       "    <tr style=\"text-align: right;\">\n",
       "      <th></th>\n",
       "      <th>Costo por Crédito (USD)</th>\n",
       "      <th>Costo de Materiales (USD)</th>\n",
       "      <th>Fecha de Matrícula</th>\n",
       "      <th>Costos Administrativos (USD)</th>\n",
       "      <th>Número de Cursos Matriculados</th>\n",
       "      <th>Incremento de Matrícula 2025 (%)</th>\n",
       "      <th>Número de Créditos Matriculados</th>\n",
       "      <th>Promedio Académico Anterior</th>\n",
       "      <th>Número de Semestres Cursados</th>\n",
       "      <th>Edad del Estudiante</th>\n",
       "    </tr>\n",
       "  </thead>\n",
       "  <tbody>\n",
       "    <tr>\n",
       "      <th>count</th>\n",
       "      <td>50.000000</td>\n",
       "      <td>50.000000</td>\n",
       "      <td>50</td>\n",
       "      <td>50.000000</td>\n",
       "      <td>50.000000</td>\n",
       "      <td>50.0</td>\n",
       "      <td>50.000000</td>\n",
       "      <td>50.00000</td>\n",
       "      <td>50.000000</td>\n",
       "      <td>50.000000</td>\n",
       "    </tr>\n",
       "    <tr>\n",
       "      <th>mean</th>\n",
       "      <td>249.000000</td>\n",
       "      <td>235.400000</td>\n",
       "      <td>2024-07-18 05:45:36</td>\n",
       "      <td>157.400000</td>\n",
       "      <td>5.420000</td>\n",
       "      <td>5.0</td>\n",
       "      <td>5.740000</td>\n",
       "      <td>3.77700</td>\n",
       "      <td>4.580000</td>\n",
       "      <td>23.840000</td>\n",
       "    </tr>\n",
       "    <tr>\n",
       "      <th>min</th>\n",
       "      <td>200.000000</td>\n",
       "      <td>160.000000</td>\n",
       "      <td>2024-01-19 00:00:00</td>\n",
       "      <td>130.000000</td>\n",
       "      <td>3.000000</td>\n",
       "      <td>5.0</td>\n",
       "      <td>2.000000</td>\n",
       "      <td>2.52000</td>\n",
       "      <td>1.000000</td>\n",
       "      <td>17.000000</td>\n",
       "    </tr>\n",
       "    <tr>\n",
       "      <th>25%</th>\n",
       "      <td>222.500000</td>\n",
       "      <td>182.500000</td>\n",
       "      <td>2024-04-27 00:00:00</td>\n",
       "      <td>141.250000</td>\n",
       "      <td>4.000000</td>\n",
       "      <td>5.0</td>\n",
       "      <td>5.000000</td>\n",
       "      <td>3.04500</td>\n",
       "      <td>3.000000</td>\n",
       "      <td>20.000000</td>\n",
       "    </tr>\n",
       "    <tr>\n",
       "      <th>50%</th>\n",
       "      <td>250.000000</td>\n",
       "      <td>210.000000</td>\n",
       "      <td>2024-06-25 00:00:00</td>\n",
       "      <td>150.000000</td>\n",
       "      <td>6.000000</td>\n",
       "      <td>5.0</td>\n",
       "      <td>6.000000</td>\n",
       "      <td>3.94500</td>\n",
       "      <td>5.000000</td>\n",
       "      <td>25.000000</td>\n",
       "    </tr>\n",
       "    <tr>\n",
       "      <th>75%</th>\n",
       "      <td>277.500000</td>\n",
       "      <td>295.000000</td>\n",
       "      <td>2024-10-25 12:00:00</td>\n",
       "      <td>177.500000</td>\n",
       "      <td>7.000000</td>\n",
       "      <td>5.0</td>\n",
       "      <td>7.000000</td>\n",
       "      <td>4.32750</td>\n",
       "      <td>6.750000</td>\n",
       "      <td>27.000000</td>\n",
       "    </tr>\n",
       "    <tr>\n",
       "      <th>max</th>\n",
       "      <td>290.000000</td>\n",
       "      <td>350.000000</td>\n",
       "      <td>2024-12-26 00:00:00</td>\n",
       "      <td>190.000000</td>\n",
       "      <td>8.000000</td>\n",
       "      <td>5.0</td>\n",
       "      <td>9.000000</td>\n",
       "      <td>4.98000</td>\n",
       "      <td>9.000000</td>\n",
       "      <td>30.000000</td>\n",
       "    </tr>\n",
       "    <tr>\n",
       "      <th>std</th>\n",
       "      <td>27.792966</td>\n",
       "      <td>58.491583</td>\n",
       "      <td>NaN</td>\n",
       "      <td>18.467843</td>\n",
       "      <td>1.819284</td>\n",
       "      <td>0.0</td>\n",
       "      <td>1.675879</td>\n",
       "      <td>0.74633</td>\n",
       "      <td>2.382676</td>\n",
       "      <td>4.032318</td>\n",
       "    </tr>\n",
       "  </tbody>\n",
       "</table>\n",
       "</div>"
      ],
      "text/plain": [
       "       Costo por Crédito (USD)  Costo de Materiales (USD)  \\\n",
       "count                50.000000                  50.000000   \n",
       "mean                249.000000                 235.400000   \n",
       "min                 200.000000                 160.000000   \n",
       "25%                 222.500000                 182.500000   \n",
       "50%                 250.000000                 210.000000   \n",
       "75%                 277.500000                 295.000000   \n",
       "max                 290.000000                 350.000000   \n",
       "std                  27.792966                  58.491583   \n",
       "\n",
       "        Fecha de Matrícula  Costos Administrativos (USD)  \\\n",
       "count                   50                     50.000000   \n",
       "mean   2024-07-18 05:45:36                    157.400000   \n",
       "min    2024-01-19 00:00:00                    130.000000   \n",
       "25%    2024-04-27 00:00:00                    141.250000   \n",
       "50%    2024-06-25 00:00:00                    150.000000   \n",
       "75%    2024-10-25 12:00:00                    177.500000   \n",
       "max    2024-12-26 00:00:00                    190.000000   \n",
       "std                    NaN                     18.467843   \n",
       "\n",
       "       Número de Cursos Matriculados  Incremento de Matrícula 2025 (%)  \\\n",
       "count                      50.000000                              50.0   \n",
       "mean                        5.420000                               5.0   \n",
       "min                         3.000000                               5.0   \n",
       "25%                         4.000000                               5.0   \n",
       "50%                         6.000000                               5.0   \n",
       "75%                         7.000000                               5.0   \n",
       "max                         8.000000                               5.0   \n",
       "std                         1.819284                               0.0   \n",
       "\n",
       "       Número de Créditos Matriculados  Promedio Académico Anterior  \\\n",
       "count                        50.000000                     50.00000   \n",
       "mean                          5.740000                      3.77700   \n",
       "min                           2.000000                      2.52000   \n",
       "25%                           5.000000                      3.04500   \n",
       "50%                           6.000000                      3.94500   \n",
       "75%                           7.000000                      4.32750   \n",
       "max                           9.000000                      4.98000   \n",
       "std                           1.675879                      0.74633   \n",
       "\n",
       "       Número de Semestres Cursados  Edad del Estudiante  \n",
       "count                     50.000000            50.000000  \n",
       "mean                       4.580000            23.840000  \n",
       "min                        1.000000            17.000000  \n",
       "25%                        3.000000            20.000000  \n",
       "50%                        5.000000            25.000000  \n",
       "75%                        6.750000            27.000000  \n",
       "max                        9.000000            30.000000  \n",
       "std                        2.382676             4.032318  "
      ]
     },
     "execution_count": 127,
     "metadata": {},
     "output_type": "execute_result"
    }
   ],
   "source": [
    "# Estadísticas descriptivas\n",
    "df.describe()"
   ]
  },
  {
   "cell_type": "markdown",
   "id": "3d1d238b",
   "metadata": {},
   "source": [
    "---\n",
    "\n",
    "Continúa con la limpieza de datos y el análisis exploratorio en la siguiente sección."
   ]
  },
  {
   "cell_type": "markdown",
   "id": "ea716224",
   "metadata": {},
   "source": [
    "## 2. Limpieza de datos\n",
    "\n",
    "En esta sección se revisan valores nulos, tipos de datos y duplicados. Se documentan los hallazgos y las decisiones tomadas para dejar los datos listos para el análisis."
   ]
  },
  {
   "cell_type": "code",
   "execution_count": 128,
   "id": "9ff3f9a3",
   "metadata": {},
   "outputs": [
    {
     "data": {
      "text/plain": [
       "Nombre del Estudiante               0\n",
       "Carrera                             0\n",
       "Costo por Crédito (USD)             0\n",
       "Costo de Materiales (USD)           0\n",
       "Fecha de Matrícula                  0\n",
       "Lugar de Procedencia                0\n",
       "Costos Administrativos (USD)        0\n",
       "Número de Cursos Matriculados       0\n",
       "Incremento de Matrícula 2025 (%)    0\n",
       "Número de Créditos Matriculados     0\n",
       "Promedio Académico Anterior         0\n",
       "Número de Semestres Cursados        0\n",
       "Edad del Estudiante                 0\n",
       "dtype: int64"
      ]
     },
     "execution_count": 128,
     "metadata": {},
     "output_type": "execute_result"
    }
   ],
   "source": [
    "# Revisar valores nulos por columna\n",
    "df.isnull().sum()"
   ]
  },
  {
   "cell_type": "code",
   "execution_count": 129,
   "id": "ee3da480",
   "metadata": {},
   "outputs": [
    {
     "data": {
      "text/plain": [
       "Nombre del Estudiante                       object\n",
       "Carrera                                     object\n",
       "Costo por Crédito (USD)                      int64\n",
       "Costo de Materiales (USD)                    int64\n",
       "Fecha de Matrícula                  datetime64[ns]\n",
       "Lugar de Procedencia                        object\n",
       "Costos Administrativos (USD)                 int64\n",
       "Número de Cursos Matriculados                int64\n",
       "Incremento de Matrícula 2025 (%)             int64\n",
       "Número de Créditos Matriculados              int64\n",
       "Promedio Académico Anterior                float64\n",
       "Número de Semestres Cursados                 int64\n",
       "Edad del Estudiante                          int64\n",
       "dtype: object"
      ]
     },
     "execution_count": 129,
     "metadata": {},
     "output_type": "execute_result"
    }
   ],
   "source": [
    "# Revisar tipos de datos\n",
    "df.dtypes"
   ]
  },
  {
   "cell_type": "code",
   "execution_count": 130,
   "id": "d43f81b6",
   "metadata": {},
   "outputs": [],
   "source": [
    "# Eliminar duplicados si existen\n",
    "df = df.drop_duplicates()"
   ]
  },
  {
   "cell_type": "markdown",
   "id": "8a55aa6c",
   "metadata": {},
   "source": [
    "- Si se encuentran valores nulos, decidir si imputar (rellenar) o eliminar filas/columnas afectadas.\n",
    "- Documentar cualquier cambio realizado en los datos.\n",
    "\n",
    "¿Deseas que realice limpieza automática o prefieres revisar los resultados antes de modificar los datos?"
   ]
  },
  {
   "cell_type": "markdown",
   "id": "02c01216",
   "metadata": {},
   "source": [
    "## 3. Cálculo de KPIs Financieros y Demográficos\n",
    "\n",
    "En esta sección se calculan los principales indicadores clave de desempeño (KPIs) solicitados en la actividad:\n",
    "- Costo total de matrícula por estudiante\n",
    "- Proyección con incremento del 5% para 2025\n",
    "- Costo promedio por carrera\n",
    "- Ingreso total estimado para la universidad\n",
    "- Edad promedio por carrera"
   ]
  },
  {
   "cell_type": "code",
   "execution_count": 131,
   "id": "818f2371",
   "metadata": {},
   "outputs": [
    {
     "name": "stdout",
     "output_type": "stream",
     "text": [
      "['Nombre del Estudiante', 'Carrera', 'Costo por Crédito (USD)', 'Costo de Materiales (USD)', 'Fecha de Matrícula', 'Lugar de Procedencia', 'Costos Administrativos (USD)', 'Número de Cursos Matriculados', 'Incremento de Matrícula 2025 (%)', 'Número de Créditos Matriculados', 'Promedio Académico Anterior', 'Número de Semestres Cursados', 'Edad del Estudiante']\n"
     ]
    }
   ],
   "source": [
    "# Ajuste de nombres de columnas para el cálculo de KPIs\n",
    "# Mostramos los nombres originales para referencia\n",
    "print(df.columns.tolist())\n",
    "\n",
    "# Renombrar columnas a nombres estándar para los KPIs\n",
    "# (ajusta si tu archivo tiene nombres diferentes)\n",
    "df = df.rename(columns={\n",
    "    'Costo por Crédito (USD)': 'Costo_por_Credito',\n",
    "    'Costo de Materiales (USD)': 'Costo_Materiales',\n",
    "    'Costos Administrativos (USD)': 'Costos_Administrativos',\n",
    "    'Número de Créditos Matriculados': 'Creditos_Matriculados',\n",
    "    'Promedio Académico Anterior': 'Promedio_Academico',\n",
    "    'Lugar de Procedencia': 'Pais_Procedencia',\n",
    "    'Edad del Estudiante': 'Edad',\n",
    "    'Carrera': 'Carrera',\n",
    "    'Nombre del Estudiante': 'Nombre',\n",
    "    'Fecha de Matrícula': 'Fecha_Matricula',\n",
    "    # Agrega aquí otros ajustes si es necesario\n",
    "})"
   ]
  },
  {
   "cell_type": "code",
   "execution_count": 132,
   "id": "545f54c7",
   "metadata": {},
   "outputs": [
    {
     "name": "stdout",
     "output_type": "stream",
     "text": [
      "Costo promedio por carrera:\n",
      "Carrera\n",
      "Ingeniería Electrónica         2272.500000\n",
      "Arquitectura                   2207.500000\n",
      "Ingeniería Industrial          2097.777778\n",
      "Ingeniería de Sistemas         2022.000000\n",
      "Derecho                        1900.000000\n",
      "Contaduría                     1830.000000\n",
      "Administración de Empresas     1680.000000\n",
      "Licenciatura en Matemáticas    1490.000000\n",
      "Psicología                     1310.000000\n",
      "Name: Costo_Total, dtype: float64\n",
      "Ingreso total estimado para la universidad: $91,440.00\n",
      "Edad promedio por carrera:\n",
      "Carrera\n",
      "Contaduría                     29.000000\n",
      "Psicología                     26.125000\n",
      "Arquitectura                   25.500000\n",
      "Derecho                        25.000000\n",
      "Administración de Empresas     23.625000\n",
      "Ingeniería Industrial          23.111111\n",
      "Licenciatura en Matemáticas    22.400000\n",
      "Ingeniería Electrónica         21.000000\n",
      "Ingeniería de Sistemas         21.000000\n",
      "Name: Edad, dtype: float64\n"
     ]
    }
   ],
   "source": [
    "# Ahora sí, cálculo de KPIs con los nombres corregidos\n",
    "# Costo total de matrícula por estudiante\n",
    "# (Costo por Crédito × Créditos Matriculados) + Costo de Materiales + Costos Administrativos\n",
    "df['Costo_Total'] = (df['Costo_por_Credito'] * df['Creditos_Matriculados']) + df['Costo_Materiales'] + df['Costos_Administrativos']\n",
    "\n",
    "# Proyección con incremento del 5% para 2025\n",
    "df['Costo_Proyeccion_2025'] = df['Costo_Total'] * 1.05\n",
    "\n",
    "# Costo promedio por carrera\n",
    "costo_promedio_carrera = df.groupby('Carrera')['Costo_Total'].mean().sort_values(ascending=False)\n",
    "print('Costo promedio por carrera:')\n",
    "print(costo_promedio_carrera)\n",
    "\n",
    "# Ingreso total estimado para la universidad\n",
    "ingreso_total = df['Costo_Total'].sum()\n",
    "print(f\"Ingreso total estimado para la universidad: ${ingreso_total:,.2f}\")\n",
    "\n",
    "# Edad promedio por carrera\n",
    "edad_promedio_carrera = df.groupby('Carrera')['Edad'].mean().sort_values(ascending=False)\n",
    "print('Edad promedio por carrera:')\n",
    "print(edad_promedio_carrera)"
   ]
  },
  {
   "cell_type": "code",
   "execution_count": 133,
   "id": "302a44e0",
   "metadata": {},
   "outputs": [
    {
     "name": "stdout",
     "output_type": "stream",
     "text": [
      "Index(['Nombre', 'Carrera', 'Costo_por_Credito', 'Costo_Materiales',\n",
      "       'Fecha_Matricula', 'Pais_Procedencia', 'Costos_Administrativos',\n",
      "       'Número de Cursos Matriculados', 'Incremento de Matrícula 2025 (%)',\n",
      "       'Creditos_Matriculados', 'Promedio_Academico',\n",
      "       'Número de Semestres Cursados', 'Edad', 'Costo_Total',\n",
      "       'Costo_Proyeccion_2025'],\n",
      "      dtype='object')\n"
     ]
    }
   ],
   "source": [
    "# Verificar nombres de columnas\n",
    "print(df.columns)"
   ]
  },
  {
   "cell_type": "markdown",
   "id": "b16aab81",
   "metadata": {},
   "source": [
    "Si obtienes un error de KeyError, revisa que los nombres de las columnas coincidan exactamente con los usados en el cálculo de KPIs. Corrige los nombres si es necesario antes de continuar con los cálculos."
   ]
  },
  {
   "cell_type": "markdown",
   "id": "0d7c35f3",
   "metadata": {},
   "source": [
    "## 4. Visualización: Edad promedio por carrera (gráfico de barras)\n",
    "\n",
    "Se muestra la edad promedio de los estudiantes agrupada por carrera."
   ]
  },
  {
   "cell_type": "code",
   "execution_count": 134,
   "id": "95dbe378",
   "metadata": {},
   "outputs": [
    {
     "data": {
      "application/vnd.plotly.v1+json": {
       "config": {
        "plotlyServerURL": "https://plot.ly"
       },
       "data": [
        {
         "hovertemplate": "Carrera=%{x}<br>Edad promedio=%{marker.color}<extra></extra>",
         "legendgroup": "",
         "marker": {
          "color": {
           "bdata": "AAAAAAAAPUAAAAAAACA6QAAAAAAAgDlAAAAAAAAAOUAAAAAAAKA3QMdxHMdxHDdAZmZmZmZmNkAAAAAAAAA1QAAAAAAAADVA",
           "dtype": "f8"
          },
          "coloraxis": "coloraxis",
          "line": {
           "color": "#005B7F",
           "width": 2
          },
          "opacity": 0.92,
          "pattern": {
           "shape": ""
          }
         },
         "name": "",
         "orientation": "v",
         "showlegend": false,
         "textposition": "auto",
         "type": "bar",
         "x": [
          "Contaduría",
          "Psicología",
          "Arquitectura",
          "Derecho",
          "Administración de Empresas",
          "Ingeniería Industrial",
          "Licenciatura en Matemáticas",
          "Ingeniería Electrónica",
          "Ingeniería de Sistemas"
         ],
         "xaxis": "x",
         "y": {
          "bdata": "AAAAAAAAPUAAAAAAACA6QAAAAAAAgDlAAAAAAAAAOUAAAAAAAKA3QMdxHMdxHDdAZmZmZmZmNkAAAAAAAAA1QAAAAAAAADVA",
          "dtype": "f8"
         },
         "yaxis": "y"
        }
       ],
       "layout": {
        "annotations": [
         {
          "bgcolor": "rgba(0,0,0,0.08)",
          "borderpad": 20,
          "opacity": 0.3,
          "showarrow": false,
          "text": "",
          "x": 0.5,
          "xref": "paper",
          "y": 0.5,
          "yref": "paper"
         }
        ],
        "barmode": "relative",
        "coloraxis": {
         "colorbar": {
          "title": {
           "text": "Edad promedio"
          }
         },
         "colorscale": [
          [
           0,
           "#009739"
          ],
          [
           1,
           "#005B7F"
          ]
         ]
        },
        "height": 400,
        "images": [
         {
          "layer": "above",
          "opacity": 0.98,
          "sizex": 0.13,
          "sizey": 0.13,
          "source": "data:image/png;base64,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",
          "x": 1,
          "xanchor": "right",
          "xref": "paper",
          "y": 1,
          "yanchor": "top",
          "yref": "paper"
         }
        ],
        "legend": {
         "tracegroupgap": 0
        },
        "shapes": [
         {
          "editable": false,
          "fillcolor": "rgba(255,255,255,0.55)",
          "layer": "below",
          "line": {
           "color": "#009739",
           "width": 4
          },
          "opacity": 0.7,
          "type": "rect",
          "x0": 0,
          "x1": 1,
          "xref": "paper",
          "y0": 0,
          "y1": 1,
          "yref": "paper"
         }
        ],
        "template": {
         "layout": {
          "font": {
           "color": "#222",
           "family": "Arial",
           "size": 8
          },
          "legend": {
           "bgcolor": "#FFFFFF",
           "bordercolor": "#005B7F",
           "borderwidth": 2,
           "font": {
            "size": 8
           }
          },
          "margin": {
           "b": 45,
           "l": 65,
           "r": 65,
           "t": 55
          },
          "paper_bgcolor": "#F0F0F0",
          "plot_bgcolor": "#F8FAFB",
          "shapes": [
           {
            "fillcolor": "rgba(0,151,57,0.04)",
            "layer": "below",
            "line": {
             "color": "#009739",
             "width": 4
            },
            "type": "rect",
            "x0": 0,
            "x1": 1,
            "xref": "paper",
            "y0": 0,
            "y1": 1,
            "yref": "paper"
           }
          ],
          "title": {
           "font": {
            "color": "#005B7F",
            "family": "Arial Black",
            "size": 9
           }
          },
          "xaxis": {
           "gridcolor": "#E0E0E0",
           "linecolor": "#005B7F",
           "linewidth": 2,
           "showgrid": true,
           "tickfont": {
            "color": "#005B7F",
            "size": 8
           },
           "ticks": "outside",
           "title": {
            "font": {
             "color": "#005B7F",
             "size": 8
            }
           }
          },
          "yaxis": {
           "gridcolor": "#E0E0E0",
           "linecolor": "#005B7F",
           "linewidth": 2,
           "showgrid": true,
           "tickfont": {
            "color": "#005B7F",
            "size": 8
           },
           "ticks": "outside",
           "title": {
            "font": {
             "color": "#005B7F",
             "size": 8
            }
           }
          }
         }
        },
        "title": {
         "text": "Edad promedio por carrera"
        },
        "width": 700,
        "xaxis": {
         "anchor": "y",
         "domain": [
          0,
          1
         ],
         "tickangle": -45,
         "title": {
          "text": "Carrera"
         }
        },
        "yaxis": {
         "anchor": "x",
         "domain": [
          0,
          1
         ],
         "title": {
          "text": "Edad promedio"
         }
        }
       }
      }
     },
     "metadata": {},
     "output_type": "display_data"
    }
   ],
   "source": [
    "import matplotlib.pyplot as plt\n",
    "import seaborn as sns\n",
    "import plotly.express as px\n",
    "\n",
    "# Gráfico de barras institucional: Edad promedio por carrera (mejorado)\n",
    "fig = px.bar(\n",
    "    edad_promedio_carrera.reset_index(),\n",
    "    x='Carrera',\n",
    "    y='Edad',\n",
    "    title='Edad promedio por carrera',\n",
    "    labels={'Edad': 'Edad promedio', 'Carrera': 'Carrera'},\n",
    "    color='Edad',\n",
    "    color_continuous_scale=[COLORES_CORHUILA['verde'], COLORES_CORHUILA['azul']]\n",
    ")\n",
    "fig.update_traces(marker_line_color=COLORES_CORHUILA['azul'], marker_line_width=2, marker=dict(line=dict(width=2), opacity=0.92))\n",
    "fig.update_layout(xaxis_tickangle=-45)\n",
    "fig = corhuila_layout(fig)\n",
    "fig.show()"
   ]
  },
  {
   "cell_type": "markdown",
   "id": "3a0c5833",
   "metadata": {},
   "source": [
    "La gráfica anterior permite comparar visualmente la edad promedio de los estudiantes en cada carrera. ¿Deseas continuar con la siguiente visualización?"
   ]
  },
  {
   "cell_type": "markdown",
   "id": "b4885bb1",
   "metadata": {},
   "source": [
    "## 5. Visualización: Mapa de procedencia de estudiantes (por país)\n",
    "\n",
    "Se muestra la distribución de estudiantes según su país de procedencia."
   ]
  },
  {
   "cell_type": "code",
   "execution_count": 135,
   "id": "4c9bf7a5",
   "metadata": {},
   "outputs": [
    {
     "data": {
      "application/vnd.plotly.v1+json": {
       "config": {
        "plotlyServerURL": "https://plot.ly"
       },
       "data": [
        {
         "coloraxis": "coloraxis",
         "geo": "geo",
         "hovertemplate": "Pais=%{location}<br>Cantidad=%{z}<extra></extra>",
         "locationmode": "country names",
         "locations": [
          "Perú",
          "México",
          "Argentina",
          "Chile",
          "Venezuela",
          "Ecuador",
          "Uruguay",
          "Bolivia",
          "Colombia",
          "Paraguay"
         ],
         "name": "",
         "type": "choropleth",
         "z": {
          "bdata": "DAcGBQQEBAMDAg==",
          "dtype": "i1"
         }
        }
       ],
       "layout": {
        "annotations": [
         {
          "bgcolor": "rgba(0,0,0,0.08)",
          "borderpad": 20,
          "opacity": 0.3,
          "showarrow": false,
          "text": "",
          "x": 0.5,
          "xref": "paper",
          "y": 0.5,
          "yref": "paper"
         }
        ],
        "coloraxis": {
         "colorbar": {
          "title": {
           "text": "Cantidad"
          }
         },
         "colorscale": [
          [
           0,
           "#009739"
          ],
          [
           1,
           "#005B7F"
          ]
         ]
        },
        "geo": {
         "bgcolor": "#F0F0F0",
         "center": {},
         "domain": {
          "x": [
           0,
           1
          ],
          "y": [
           0,
           1
          ]
         },
         "showframe": false
        },
        "height": 400,
        "images": [
         {
          "layer": "above",
          "opacity": 0.98,
          "sizex": 0.13,
          "sizey": 0.13,
          "source": "data:image/png;base64,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",
          "x": 1,
          "xanchor": "right",
          "xref": "paper",
          "y": 1,
          "yanchor": "top",
          "yref": "paper"
         }
        ],
        "legend": {
         "tracegroupgap": 0
        },
        "shapes": [
         {
          "editable": false,
          "fillcolor": "rgba(255,255,255,0.55)",
          "layer": "below",
          "line": {
           "color": "#009739",
           "width": 4
          },
          "opacity": 0.7,
          "type": "rect",
          "x0": 0,
          "x1": 1,
          "xref": "paper",
          "y0": 0,
          "y1": 1,
          "yref": "paper"
         }
        ],
        "template": {
         "layout": {
          "font": {
           "color": "#222",
           "family": "Arial",
           "size": 8
          },
          "legend": {
           "bgcolor": "#FFFFFF",
           "bordercolor": "#005B7F",
           "borderwidth": 2,
           "font": {
            "size": 8
           }
          },
          "margin": {
           "b": 45,
           "l": 65,
           "r": 65,
           "t": 55
          },
          "paper_bgcolor": "#F0F0F0",
          "plot_bgcolor": "#F8FAFB",
          "shapes": [
           {
            "fillcolor": "rgba(0,151,57,0.04)",
            "layer": "below",
            "line": {
             "color": "#009739",
             "width": 4
            },
            "type": "rect",
            "x0": 0,
            "x1": 1,
            "xref": "paper",
            "y0": 0,
            "y1": 1,
            "yref": "paper"
           }
          ],
          "title": {
           "font": {
            "color": "#005B7F",
            "family": "Arial Black",
            "size": 9
           }
          },
          "xaxis": {
           "gridcolor": "#E0E0E0",
           "linecolor": "#005B7F",
           "linewidth": 2,
           "showgrid": true,
           "tickfont": {
            "color": "#005B7F",
            "size": 8
           },
           "ticks": "outside",
           "title": {
            "font": {
             "color": "#005B7F",
             "size": 8
            }
           }
          },
          "yaxis": {
           "gridcolor": "#E0E0E0",
           "linecolor": "#005B7F",
           "linewidth": 2,
           "showgrid": true,
           "tickfont": {
            "color": "#005B7F",
            "size": 8
           },
           "ticks": "outside",
           "title": {
            "font": {
             "color": "#005B7F",
             "size": 8
            }
           }
          }
         }
        },
        "title": {
         "text": "Procedencia de estudiantes por país"
        },
        "width": 700
       }
      }
     },
     "metadata": {},
     "output_type": "display_data"
    }
   ],
   "source": [
    "# Conteo de estudiantes por país\n",
    "pais_counts = df['Pais_Procedencia'].value_counts().reset_index()\n",
    "pais_counts.columns = ['Pais', 'Cantidad']\n",
    "\n",
    "# Gráfico de mapa con Plotly (colores institucionales y logo, mejorado)\n",
    "fig = px.choropleth(\n",
    "    pais_counts,\n",
    "    locations='Pais',\n",
    "    locationmode='country names',\n",
    "    color='Cantidad',\n",
    "    title='Procedencia de estudiantes por país',\n",
    "    color_continuous_scale=[COLORES_CORHUILA['verde'], COLORES_CORHUILA['azul']]\n",
    ")\n",
    "fig.update_layout(geo=dict(showframe=False, bgcolor=COLORES_CORHUILA['gris_claro']))\n",
    "fig = corhuila_layout(fig)\n",
    "fig.show()"
   ]
  },
  {
   "cell_type": "markdown",
   "id": "5ccf3d9b",
   "metadata": {},
   "source": [
    "Este mapa permite visualizar la diversidad geográfica de los estudiantes matriculados. ¿Continuamos con la siguiente visualización?"
   ]
  },
  {
   "cell_type": "markdown",
   "id": "b934d3b6",
   "metadata": {},
   "source": [
    "## 6. Visualización: Matrículas por fecha (gráfico de líneas)\n",
    "\n",
    "Se muestra la tendencia temporal de matrículas a lo largo del tiempo."
   ]
  },
  {
   "cell_type": "code",
   "execution_count": 136,
   "id": "df6900a2",
   "metadata": {},
   "outputs": [
    {
     "data": {
      "application/vnd.plotly.v1+json": {
       "config": {
        "plotlyServerURL": "https://plot.ly"
       },
       "data": [
        {
         "hovertemplate": "Fecha de Matrícula=%{x}<br>Cantidad de Matrículas=%{y}<extra></extra>",
         "legendgroup": "",
         "line": {
          "color": "#009739",
          "dash": "solid",
          "width": 4
         },
         "marker": {
          "opacity": 0.92,
          "symbol": "circle"
         },
         "mode": "lines",
         "name": "",
         "orientation": "v",
         "showlegend": false,
         "type": "scatter",
         "x": [
          "2024-01-19T00:00:00.000000000",
          "2024-02-22T00:00:00.000000000",
          "2024-02-23T00:00:00.000000000",
          "2024-02-25T00:00:00.000000000",
          "2024-02-29T00:00:00.000000000",
          "2024-03-19T00:00:00.000000000",
          "2024-03-22T00:00:00.000000000",
          "2024-03-24T00:00:00.000000000",
          "2024-03-25T00:00:00.000000000",
          "2024-04-05T00:00:00.000000000",
          "2024-04-09T00:00:00.000000000",
          "2024-04-26T00:00:00.000000000",
          "2024-04-27T00:00:00.000000000",
          "2024-04-30T00:00:00.000000000",
          "2024-05-02T00:00:00.000000000",
          "2024-05-15T00:00:00.000000000",
          "2024-05-16T00:00:00.000000000",
          "2024-05-19T00:00:00.000000000",
          "2024-05-28T00:00:00.000000000",
          "2024-06-03T00:00:00.000000000",
          "2024-06-12T00:00:00.000000000",
          "2024-06-15T00:00:00.000000000",
          "2024-06-18T00:00:00.000000000",
          "2024-07-02T00:00:00.000000000",
          "2024-07-14T00:00:00.000000000",
          "2024-07-16T00:00:00.000000000",
          "2024-08-28T00:00:00.000000000",
          "2024-09-10T00:00:00.000000000",
          "2024-09-13T00:00:00.000000000",
          "2024-09-15T00:00:00.000000000",
          "2024-09-28T00:00:00.000000000",
          "2024-09-29T00:00:00.000000000",
          "2024-10-08T00:00:00.000000000",
          "2024-10-12T00:00:00.000000000",
          "2024-10-30T00:00:00.000000000",
          "2024-11-07T00:00:00.000000000",
          "2024-11-13T00:00:00.000000000",
          "2024-11-15T00:00:00.000000000",
          "2024-11-16T00:00:00.000000000",
          "2024-11-18T00:00:00.000000000",
          "2024-11-25T00:00:00.000000000",
          "2024-11-26T00:00:00.000000000",
          "2024-12-04T00:00:00.000000000",
          "2024-12-06T00:00:00.000000000",
          "2024-12-18T00:00:00.000000000",
          "2024-12-26T00:00:00.000000000"
         ],
         "xaxis": "x",
         "y": {
          "bdata": "AQEBAQEBAQEBAQEBAgEBAQEBAQEBAgEBAQEBAgEBAQEBAQEBAQEBAQEBAQECAQ==",
          "dtype": "i1"
         },
         "yaxis": "y"
        }
       ],
       "layout": {
        "annotations": [
         {
          "bgcolor": "rgba(0,0,0,0.08)",
          "borderpad": 20,
          "opacity": 0.3,
          "showarrow": false,
          "text": "",
          "x": 0.5,
          "xref": "paper",
          "y": 0.5,
          "yref": "paper"
         }
        ],
        "height": 400,
        "images": [
         {
          "layer": "above",
          "opacity": 0.98,
          "sizex": 0.13,
          "sizey": 0.13,
          "source": "data:image/png;base64,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",
          "x": 1,
          "xanchor": "right",
          "xref": "paper",
          "y": 1,
          "yanchor": "top",
          "yref": "paper"
         }
        ],
        "legend": {
         "tracegroupgap": 0
        },
        "shapes": [
         {
          "editable": false,
          "fillcolor": "rgba(255,255,255,0.55)",
          "layer": "below",
          "line": {
           "color": "#009739",
           "width": 4
          },
          "opacity": 0.7,
          "type": "rect",
          "x0": 0,
          "x1": 1,
          "xref": "paper",
          "y0": 0,
          "y1": 1,
          "yref": "paper"
         }
        ],
        "template": {
         "layout": {
          "font": {
           "color": "#222",
           "family": "Arial",
           "size": 8
          },
          "legend": {
           "bgcolor": "#FFFFFF",
           "bordercolor": "#005B7F",
           "borderwidth": 2,
           "font": {
            "size": 8
           }
          },
          "margin": {
           "b": 45,
           "l": 65,
           "r": 65,
           "t": 55
          },
          "paper_bgcolor": "#F0F0F0",
          "plot_bgcolor": "#F8FAFB",
          "shapes": [
           {
            "fillcolor": "rgba(0,151,57,0.04)",
            "layer": "below",
            "line": {
             "color": "#009739",
             "width": 4
            },
            "type": "rect",
            "x0": 0,
            "x1": 1,
            "xref": "paper",
            "y0": 0,
            "y1": 1,
            "yref": "paper"
           }
          ],
          "title": {
           "font": {
            "color": "#005B7F",
            "family": "Arial Black",
            "size": 9
           }
          },
          "xaxis": {
           "gridcolor": "#E0E0E0",
           "linecolor": "#005B7F",
           "linewidth": 2,
           "showgrid": true,
           "tickfont": {
            "color": "#005B7F",
            "size": 8
           },
           "ticks": "outside",
           "title": {
            "font": {
             "color": "#005B7F",
             "size": 8
            }
           }
          },
          "yaxis": {
           "gridcolor": "#E0E0E0",
           "linecolor": "#005B7F",
           "linewidth": 2,
           "showgrid": true,
           "tickfont": {
            "color": "#005B7F",
            "size": 8
           },
           "ticks": "outside",
           "title": {
            "font": {
             "color": "#005B7F",
             "size": 8
            }
           }
          }
         }
        },
        "title": {
         "text": "Tendencia de matrículas por fecha"
        },
        "width": 700,
        "xaxis": {
         "anchor": "y",
         "domain": [
          0,
          1
         ],
         "dtick": "M1",
         "tickangle": -45,
         "tickformat": "%Y-%m-%d",
         "title": {
          "text": "Fecha de Matrícula"
         }
        },
        "yaxis": {
         "anchor": "x",
         "domain": [
          0,
          1
         ],
         "title": {
          "text": "Cantidad de Matrículas"
         }
        }
       }
      }
     },
     "metadata": {},
     "output_type": "display_data"
    }
   ],
   "source": [
    "# Agrupar y contar matrículas por fecha\n",
    "matriculas_fecha = df.groupby('Fecha_Matricula').size().reset_index(name='Cantidad')\n",
    "\n",
    "# Gráfico de líneas con Plotly (colores institucionales y logo, mejorado)\n",
    "fig = px.line(\n",
    "    matriculas_fecha,\n",
    "    x='Fecha_Matricula',\n",
    "    y='Cantidad',\n",
    "    title='Tendencia de matrículas por fecha',\n",
    "    labels={'Fecha_Matricula': 'Fecha de Matrícula', 'Cantidad': 'Cantidad de Matrículas'},\n",
    "    color_discrete_sequence=[COLORES_CORHUILA['verde']]\n",
    ")\n",
    "fig.update_traces(line=dict(width=4), marker=dict(opacity=0.92))\n",
    "fig.update_xaxes(dtick=\"M1\", tickformat=\"%Y-%m-%d\", tickangle=-45)\n",
    "fig = corhuila_layout(fig)\n",
    "fig.show()"
   ]
  },
  {
   "cell_type": "markdown",
   "id": "40d2c78b",
   "metadata": {},
   "source": [
    "Este gráfico permite analizar la evolución de las matrículas a lo largo del tiempo. ¿Deseas continuar con la siguiente visualización?"
   ]
  },
  {
   "cell_type": "markdown",
   "id": "e715753c",
   "metadata": {},
   "source": [
    "## 7. Visualización: Distribución de estudiantes por carrera (gráfico de barras y anillo)\n",
    "\n",
    "Se muestra la cantidad de estudiantes matriculados en cada carrera, tanto en gráfico de barras como en gráfico de anillo."
   ]
  },
  {
   "cell_type": "code",
   "execution_count": 137,
   "id": "ead650e0",
   "metadata": {},
   "outputs": [
    {
     "data": {
      "application/vnd.plotly.v1+json": {
       "config": {
        "plotlyServerURL": "https://plot.ly"
       },
       "data": [
        {
         "hovertemplate": "Carrera=%{x}<br>Cantidad de Estudiantes=%{marker.color}<extra></extra>",
         "legendgroup": "",
         "marker": {
          "color": {
           "bdata": "CQgIBQUFBAQC",
           "dtype": "i1"
          },
          "coloraxis": "coloraxis",
          "line": {
           "color": "#005B7F",
           "width": 2
          },
          "opacity": 0.92,
          "pattern": {
           "shape": ""
          }
         },
         "name": "",
         "orientation": "v",
         "showlegend": false,
         "textposition": "auto",
         "type": "bar",
         "x": [
          "Ingeniería Industrial",
          "Psicología",
          "Administración de Empresas",
          "Licenciatura en Matemáticas",
          "Ingeniería de Sistemas",
          "Derecho",
          "Arquitectura",
          "Ingeniería Electrónica",
          "Contaduría"
         ],
         "xaxis": "x",
         "y": {
          "bdata": "CQgIBQUFBAQC",
          "dtype": "i1"
         },
         "yaxis": "y"
        }
       ],
       "layout": {
        "annotations": [
         {
          "bgcolor": "rgba(0,0,0,0.08)",
          "borderpad": 20,
          "opacity": 0.3,
          "showarrow": false,
          "text": "",
          "x": 0.5,
          "xref": "paper",
          "y": 0.5,
          "yref": "paper"
         }
        ],
        "barmode": "relative",
        "coloraxis": {
         "colorbar": {
          "title": {
           "text": "Cantidad de Estudiantes"
          }
         },
         "colorscale": [
          [
           0,
           "#009739"
          ],
          [
           1,
           "#005B7F"
          ]
         ]
        },
        "height": 400,
        "images": [
         {
          "layer": "above",
          "opacity": 0.98,
          "sizex": 0.13,
          "sizey": 0.13,
          "source": "data:image/png;base64,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",
          "x": 1,
          "xanchor": "right",
          "xref": "paper",
          "y": 1,
          "yanchor": "top",
          "yref": "paper"
         }
        ],
        "legend": {
         "tracegroupgap": 0
        },
        "shapes": [
         {
          "editable": false,
          "fillcolor": "rgba(255,255,255,0.55)",
          "layer": "below",
          "line": {
           "color": "#009739",
           "width": 4
          },
          "opacity": 0.7,
          "type": "rect",
          "x0": 0,
          "x1": 1,
          "xref": "paper",
          "y0": 0,
          "y1": 1,
          "yref": "paper"
         }
        ],
        "template": {
         "layout": {
          "font": {
           "color": "#222",
           "family": "Arial",
           "size": 8
          },
          "legend": {
           "bgcolor": "#FFFFFF",
           "bordercolor": "#005B7F",
           "borderwidth": 2,
           "font": {
            "size": 8
           }
          },
          "margin": {
           "b": 45,
           "l": 65,
           "r": 65,
           "t": 55
          },
          "paper_bgcolor": "#F0F0F0",
          "plot_bgcolor": "#F8FAFB",
          "shapes": [
           {
            "fillcolor": "rgba(0,151,57,0.04)",
            "layer": "below",
            "line": {
             "color": "#009739",
             "width": 4
            },
            "type": "rect",
            "x0": 0,
            "x1": 1,
            "xref": "paper",
            "y0": 0,
            "y1": 1,
            "yref": "paper"
           }
          ],
          "title": {
           "font": {
            "color": "#005B7F",
            "family": "Arial Black",
            "size": 9
           }
          },
          "xaxis": {
           "gridcolor": "#E0E0E0",
           "linecolor": "#005B7F",
           "linewidth": 2,
           "showgrid": true,
           "tickfont": {
            "color": "#005B7F",
            "size": 8
           },
           "ticks": "outside",
           "title": {
            "font": {
             "color": "#005B7F",
             "size": 8
            }
           }
          },
          "yaxis": {
           "gridcolor": "#E0E0E0",
           "linecolor": "#005B7F",
           "linewidth": 2,
           "showgrid": true,
           "tickfont": {
            "color": "#005B7F",
            "size": 8
           },
           "ticks": "outside",
           "title": {
            "font": {
             "color": "#005B7F",
             "size": 8
            }
           }
          }
         }
        },
        "title": {
         "text": "Distribución de estudiantes por carrera (Barras)"
        },
        "width": 700,
        "xaxis": {
         "anchor": "y",
         "domain": [
          0,
          1
         ],
         "tickangle": -45,
         "title": {
          "text": "Carrera"
         }
        },
        "yaxis": {
         "anchor": "x",
         "domain": [
          0,
          1
         ],
         "title": {
          "text": "Cantidad de Estudiantes"
         }
        }
       }
      }
     },
     "metadata": {},
     "output_type": "display_data"
    },
    {
     "data": {
      "application/vnd.plotly.v1+json": {
       "config": {
        "plotlyServerURL": "https://plot.ly"
       },
       "data": [
        {
         "domain": {
          "x": [
           0,
           1
          ],
          "y": [
           0,
           1
          ]
         },
         "hole": 0.4,
         "hovertemplate": "Carrera=%{label}<br>Cantidad=%{value}<extra></extra>",
         "labels": [
          "Ingeniería Industrial",
          "Psicología",
          "Administración de Empresas",
          "Licenciatura en Matemáticas",
          "Ingeniería de Sistemas",
          "Derecho",
          "Arquitectura",
          "Ingeniería Electrónica",
          "Contaduría"
         ],
         "legendgroup": "",
         "marker": {
          "line": {
           "color": "#005B7F",
           "width": 2
          }
         },
         "name": "",
         "pull": [
          0.03,
          0.03,
          0.03,
          0.03,
          0.03,
          0.03,
          0.03,
          0.03,
          0.03
         ],
         "showlegend": true,
         "textinfo": "percent+label",
         "type": "pie",
         "values": {
          "bdata": "CQgIBQUFBAQC",
          "dtype": "i1"
         }
        }
       ],
       "layout": {
        "annotations": [
         {
          "bgcolor": "rgba(0,0,0,0.08)",
          "borderpad": 20,
          "opacity": 0.3,
          "showarrow": false,
          "text": "",
          "x": 0.5,
          "xref": "paper",
          "y": 0.5,
          "yref": "paper"
         }
        ],
        "height": 400,
        "images": [
         {
          "layer": "above",
          "opacity": 0.98,
          "sizex": 0.13,
          "sizey": 0.13,
          "source": "data:image/png;base64,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",
          "x": 1,
          "xanchor": "right",
          "xref": "paper",
          "y": 1,
          "yanchor": "top",
          "yref": "paper"
         }
        ],
        "legend": {
         "tracegroupgap": 0
        },
        "piecolorway": [
         "#009739",
         "#005B7F"
        ],
        "shapes": [
         {
          "editable": false,
          "fillcolor": "rgba(255,255,255,0.55)",
          "layer": "below",
          "line": {
           "color": "#009739",
           "width": 4
          },
          "opacity": 0.7,
          "type": "rect",
          "x0": 0,
          "x1": 1,
          "xref": "paper",
          "y0": 0,
          "y1": 1,
          "yref": "paper"
         }
        ],
        "template": {
         "layout": {
          "font": {
           "color": "#222",
           "family": "Arial",
           "size": 8
          },
          "legend": {
           "bgcolor": "#FFFFFF",
           "bordercolor": "#005B7F",
           "borderwidth": 2,
           "font": {
            "size": 8
           }
          },
          "margin": {
           "b": 45,
           "l": 65,
           "r": 65,
           "t": 55
          },
          "paper_bgcolor": "#F0F0F0",
          "plot_bgcolor": "#F8FAFB",
          "shapes": [
           {
            "fillcolor": "rgba(0,151,57,0.04)",
            "layer": "below",
            "line": {
             "color": "#009739",
             "width": 4
            },
            "type": "rect",
            "x0": 0,
            "x1": 1,
            "xref": "paper",
            "y0": 0,
            "y1": 1,
            "yref": "paper"
           }
          ],
          "title": {
           "font": {
            "color": "#005B7F",
            "family": "Arial Black",
            "size": 9
           }
          },
          "xaxis": {
           "gridcolor": "#E0E0E0",
           "linecolor": "#005B7F",
           "linewidth": 2,
           "showgrid": true,
           "tickfont": {
            "color": "#005B7F",
            "size": 8
           },
           "ticks": "outside",
           "title": {
            "font": {
             "color": "#005B7F",
             "size": 8
            }
           }
          },
          "yaxis": {
           "gridcolor": "#E0E0E0",
           "linecolor": "#005B7F",
           "linewidth": 2,
           "showgrid": true,
           "tickfont": {
            "color": "#005B7F",
            "size": 8
           },
           "ticks": "outside",
           "title": {
            "font": {
             "color": "#005B7F",
             "size": 8
            }
           }
          }
         }
        },
        "title": {
         "text": "Distribución de estudiantes por carrera (Anillo)"
        },
        "width": 700
       }
      }
     },
     "metadata": {},
     "output_type": "display_data"
    }
   ],
   "source": [
    "# Conteo de estudiantes por carrera\n",
    "distribucion_carrera = df['Carrera'].value_counts().reset_index()\n",
    "distribucion_carrera.columns = ['Carrera', 'Cantidad']\n",
    "\n",
    "# Gráfico de barras (colores institucionales y logo, mejorado)\n",
    "fig_bar = px.bar(\n",
    "    distribucion_carrera,\n",
    "    x='Carrera',\n",
    "    y='Cantidad',\n",
    "    title='Distribución de estudiantes por carrera (Barras)',\n",
    "    labels={'Cantidad': 'Cantidad de Estudiantes', 'Carrera': 'Carrera'},\n",
    "    color='Cantidad',\n",
    "    color_continuous_scale=[COLORES_CORHUILA['verde'], COLORES_CORHUILA['azul']]\n",
    ")\n",
    "fig_bar.update_traces(marker_line_color=COLORES_CORHUILA['azul'], marker_line_width=2, marker=dict(line=dict(width=2), opacity=0.92))\n",
    "fig_bar.update_layout(xaxis_tickangle=-45)\n",
    "fig_bar = corhuila_layout(fig_bar)\n",
    "fig_bar.show()\n",
    "\n",
    "# Gráfico de anillo (pie con hueco, colores institucionales y logo, mejorado)\n",
    "fig_pie = px.pie(\n",
    "    distribucion_carrera,\n",
    "    names='Carrera',\n",
    "    values='Cantidad',\n",
    "    title='Distribución de estudiantes por carrera (Anillo)',\n",
    "    hole=0.4,\n",
    "    color_discrete_sequence=[COLORES_CORHUILA['verde'], COLORES_CORHUILA['azul']]\n",
    ")\n",
    "fig_pie.update_traces(textinfo='percent+label', pull=[0.03]*len(distribucion_carrera), marker=dict(line=dict(color=COLORES_CORHUILA['azul'], width=2)))\n",
    "fig_pie = corhuila_layout(fig_pie)\n",
    "fig_pie.show()"
   ]
  },
  {
   "cell_type": "markdown",
   "id": "c65048d5",
   "metadata": {},
   "source": [
    "Estos gráficos permiten visualizar la proporción y cantidad de estudiantes en cada carrera, facilitando la comparación entre programas académicos.\n",
    "¿Deseas continuar con las visualizaciones académicas (promedio académico, relaciones y dispersión)?"
   ]
  },
  {
   "cell_type": "markdown",
   "id": "b09e188a",
   "metadata": {},
   "source": [
    "## 7. Visualización: Promedio académico por carrera (gráfico de columnas)\n",
    "\n",
    "Se muestra el promedio académico de los estudiantes agrupado por carrera para identificar diferencias de rendimiento entre programas."
   ]
  },
  {
   "cell_type": "code",
   "execution_count": 138,
   "id": "e5f86cd2",
   "metadata": {},
   "outputs": [
    {
     "data": {
      "application/vnd.plotly.v1+json": {
       "config": {
        "plotlyServerURL": "https://plot.ly"
       },
       "data": [
        {
         "hovertemplate": "Carrera=%{x}<br>Promedio Académico=%{marker.color}<extra></extra>",
         "legendgroup": "",
         "marker": {
          "color": {
           "bdata": "zMzMzMxME0AUz4pGAr4PQLgehetRuA9AGgRWDi2yD0CF61G4HgUNQML1KFyPwgxA0CLb+X5qDECbxCCwcmgLQNejcD0KVwtA",
           "dtype": "f8"
          },
          "coloraxis": "coloraxis",
          "line": {
           "color": "#005B7F",
           "width": 2
          },
          "opacity": 0.92,
          "pattern": {
           "shape": ""
          }
         },
         "name": "",
         "orientation": "v",
         "showlegend": false,
         "textposition": "auto",
         "type": "bar",
         "x": [
          "Contaduría",
          "Ingeniería Industrial",
          "Psicología",
          "Ingeniería de Sistemas",
          "Administración de Empresas",
          "Ingeniería Electrónica",
          "Licenciatura en Matemáticas",
          "Derecho",
          "Arquitectura"
         ],
         "xaxis": "x",
         "y": {
          "bdata": "zMzMzMxME0AUz4pGAr4PQLgehetRuA9AGgRWDi2yD0CF61G4HgUNQML1KFyPwgxA0CLb+X5qDECbxCCwcmgLQNejcD0KVwtA",
          "dtype": "f8"
         },
         "yaxis": "y"
        }
       ],
       "layout": {
        "annotations": [
         {
          "bgcolor": "rgba(0,0,0,0.08)",
          "borderpad": 20,
          "opacity": 0.3,
          "showarrow": false,
          "text": "",
          "x": 0.5,
          "xref": "paper",
          "y": 0.5,
          "yref": "paper"
         }
        ],
        "barmode": "relative",
        "coloraxis": {
         "colorbar": {
          "title": {
           "text": "Promedio Académico"
          }
         },
         "colorscale": [
          [
           0,
           "#009739"
          ],
          [
           1,
           "#005B7F"
          ]
         ]
        },
        "height": 400,
        "images": [
         {
          "layer": "above",
          "opacity": 0.98,
          "sizex": 0.13,
          "sizey": 0.13,
          "source": "data:image/png;base64,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",
          "x": 1,
          "xanchor": "right",
          "xref": "paper",
          "y": 1,
          "yanchor": "top",
          "yref": "paper"
         }
        ],
        "legend": {
         "tracegroupgap": 0
        },
        "shapes": [
         {
          "editable": false,
          "fillcolor": "rgba(255,255,255,0.55)",
          "layer": "below",
          "line": {
           "color": "#009739",
           "width": 4
          },
          "opacity": 0.7,
          "type": "rect",
          "x0": 0,
          "x1": 1,
          "xref": "paper",
          "y0": 0,
          "y1": 1,
          "yref": "paper"
         }
        ],
        "template": {
         "layout": {
          "font": {
           "color": "#222",
           "family": "Arial",
           "size": 8
          },
          "legend": {
           "bgcolor": "#FFFFFF",
           "bordercolor": "#005B7F",
           "borderwidth": 2,
           "font": {
            "size": 8
           }
          },
          "margin": {
           "b": 45,
           "l": 65,
           "r": 65,
           "t": 55
          },
          "paper_bgcolor": "#F0F0F0",
          "plot_bgcolor": "#F8FAFB",
          "shapes": [
           {
            "fillcolor": "rgba(0,151,57,0.04)",
            "layer": "below",
            "line": {
             "color": "#009739",
             "width": 4
            },
            "type": "rect",
            "x0": 0,
            "x1": 1,
            "xref": "paper",
            "y0": 0,
            "y1": 1,
            "yref": "paper"
           }
          ],
          "title": {
           "font": {
            "color": "#005B7F",
            "family": "Arial Black",
            "size": 9
           }
          },
          "xaxis": {
           "gridcolor": "#E0E0E0",
           "linecolor": "#005B7F",
           "linewidth": 2,
           "showgrid": true,
           "tickfont": {
            "color": "#005B7F",
            "size": 8
           },
           "ticks": "outside",
           "title": {
            "font": {
             "color": "#005B7F",
             "size": 8
            }
           }
          },
          "yaxis": {
           "gridcolor": "#E0E0E0",
           "linecolor": "#005B7F",
           "linewidth": 2,
           "showgrid": true,
           "tickfont": {
            "color": "#005B7F",
            "size": 8
           },
           "ticks": "outside",
           "title": {
            "font": {
             "color": "#005B7F",
             "size": 8
            }
           }
          }
         }
        },
        "title": {
         "text": "Promedio académico por carrera"
        },
        "width": 700,
        "xaxis": {
         "anchor": "y",
         "domain": [
          0,
          1
         ],
         "tickangle": -45,
         "title": {
          "text": "Carrera"
         }
        },
        "yaxis": {
         "anchor": "x",
         "domain": [
          0,
          1
         ],
         "title": {
          "text": "Promedio Académico"
         }
        }
       }
      }
     },
     "metadata": {},
     "output_type": "display_data"
    }
   ],
   "source": [
    "# Calcular promedio académico por carrera\n",
    "promedio_academico_carrera = df.groupby('Carrera')['Promedio_Academico'].mean().sort_values(ascending=False).reset_index()\n",
    "\n",
    "# Gráfico de columnas con Plotly (colores institucionales y logo, mejorado)\n",
    "fig = px.bar(\n",
    "    promedio_academico_carrera,\n",
    "    x='Carrera',\n",
    "    y='Promedio_Academico',\n",
    "    title='Promedio académico por carrera',\n",
    "    labels={'Promedio_Academico': 'Promedio Académico', 'Carrera': 'Carrera'},\n",
    "    color='Promedio_Academico',\n",
    "    color_continuous_scale=[COLORES_CORHUILA['verde'], COLORES_CORHUILA['azul']]\n",
    ")\n",
    "fig.update_traces(marker_line_color=COLORES_CORHUILA['azul'], marker_line_width=2, marker=dict(line=dict(width=2), opacity=0.92))\n",
    "fig.update_layout(xaxis_tickangle=-45)\n",
    "fig = corhuila_layout(fig)\n",
    "fig.show()"
   ]
  },
  {
   "cell_type": "markdown",
   "id": "9752e42d",
   "metadata": {},
   "source": [
    "El gráfico anterior permite comparar el rendimiento académico promedio entre las diferentes carreras. Esto ayuda a identificar programas con mejor desempeño y posibles áreas de mejora. ¿Deseas continuar con la siguiente visualización académica?"
   ]
  },
  {
   "cell_type": "markdown",
   "id": "6192be4f",
   "metadata": {},
   "source": [
    "## 8. Relación entre semestres cursados y créditos aprobados\n",
    "\n",
    "A continuación se analiza la relación entre el número de semestres cursados y la cantidad de créditos aprobados por los estudiantes. Esto permite identificar patrones de avance académico y posibles rezagos."
   ]
  },
  {
   "cell_type": "code",
   "execution_count": 139,
   "id": "4edcaa7c",
   "metadata": {},
   "outputs": [
    {
     "name": "stdout",
     "output_type": "stream",
     "text": [
      "['Nombre', 'Carrera', 'Costo_por_Credito', 'Costo_Materiales', 'Fecha_Matricula', 'Pais_Procedencia', 'Costos_Administrativos', 'Número de Cursos Matriculados', 'Incremento de Matrícula 2025 (%)', 'Creditos_Matriculados', 'Promedio_Academico', 'Número de Semestres Cursados', 'Edad', 'Costo_Total', 'Costo_Proyeccion_2025']\n"
     ]
    }
   ],
   "source": [
    "# Verificar nombres exactos de columnas para semestres y créditos\n",
    "print(df.columns.tolist())"
   ]
  },
  {
   "cell_type": "markdown",
   "id": "a53abb28",
   "metadata": {},
   "source": [
    "El gráfico de dispersión permite observar si los estudiantes avanzan en créditos conforme cursan más semestres. Puntos alejados de la diagonal pueden indicar rezago o avance acelerado. ¿Deseas continuar con la siguiente visualización académica?"
   ]
  },
  {
   "cell_type": "code",
   "execution_count": 140,
   "id": "41f24a1e",
   "metadata": {},
   "outputs": [
    {
     "data": {
      "application/vnd.plotly.v1+json": {
       "config": {
        "plotlyServerURL": "https://plot.ly"
       },
       "data": [
        {
         "customdata": [
          [
           "Guillermo Negrón"
          ],
          [
           "Sofía Reséndez"
          ],
          [
           "Luisa Mota"
          ],
          [
           "Citlali Corrales"
          ]
         ],
         "hovertemplate": "Carrera=Arquitectura<br>Semestres Cursados=%{x}<br>Créditos Matriculados=%{y}<br>Nombre=%{customdata[0]}<extra></extra>",
         "legendgroup": "Arquitectura",
         "marker": {
          "color": "#009739",
          "line": {
           "color": "#005B7F",
           "width": 2
          },
          "opacity": 0.75,
          "size": 13,
          "symbol": "circle"
         },
         "mode": "markers",
         "name": "Arquitectura",
         "orientation": "v",
         "showlegend": true,
         "type": "scatter",
         "x": {
          "bdata": "CQQFAw==",
          "dtype": "i1"
         },
         "xaxis": "x",
         "y": {
          "bdata": "BQQHBw==",
          "dtype": "i1"
         },
         "yaxis": "y"
        },
        {
         "customdata": [
          [
           "Carolina Cordero"
          ],
          [
           "Roberto Diaz"
          ],
          [
           "Norma Ilse"
          ],
          [
           "Minerva Angel"
          ],
          [
           "Beatriz Ortiz"
          ],
          [
           "José Manuél"
          ],
          [
           "José Carlos"
          ],
          [
           "Gilberto Sonia"
          ]
         ],
         "hovertemplate": "Carrera=Administración de Empresas<br>Semestres Cursados=%{x}<br>Créditos Matriculados=%{y}<br>Nombre=%{customdata[0]}<extra></extra>",
         "legendgroup": "Administración de Empresas",
         "marker": {
          "color": "#005B7F",
          "line": {
           "color": "#005B7F",
           "width": 2
          },
          "opacity": 0.75,
          "size": 13,
          "symbol": "circle"
         },
         "mode": "markers",
         "name": "Administración de Empresas",
         "orientation": "v",
         "showlegend": true,
         "type": "scatter",
         "x": {
          "bdata": "BwEDBgMFAgI=",
          "dtype": "i1"
         },
         "xaxis": "x",
         "y": {
          "bdata": "BAQHBwYFAwg=",
          "dtype": "i1"
         },
         "yaxis": "y"
        },
        {
         "customdata": [
          [
           "Marisela Rael"
          ],
          [
           "Salvador Contreras"
          ],
          [
           "Marisol Segura"
          ],
          [
           "Reina Jorge"
          ],
          [
           "Liliana Jiménez"
          ]
         ],
         "hovertemplate": "Carrera=Ingeniería de Sistemas<br>Semestres Cursados=%{x}<br>Créditos Matriculados=%{y}<br>Nombre=%{customdata[0]}<extra></extra>",
         "legendgroup": "Ingeniería de Sistemas",
         "marker": {
          "color": "#009739",
          "line": {
           "color": "#005B7F",
           "width": 2
          },
          "opacity": 0.75,
          "size": 13,
          "symbol": "circle"
         },
         "mode": "markers",
         "name": "Ingeniería de Sistemas",
         "orientation": "v",
         "showlegend": true,
         "type": "scatter",
         "x": {
          "bdata": "AQgBAgg=",
          "dtype": "i1"
         },
         "xaxis": "x",
         "y": {
          "bdata": "AwUGCAk=",
          "dtype": "i1"
         },
         "yaxis": "y"
        },
        {
         "customdata": [
          [
           "Alberto Timoteo"
          ],
          [
           "Abigail Almanza"
          ],
          [
           "Mayte Cruz"
          ],
          [
           "Juan Guadalupe"
          ],
          [
           "Judith Amanda"
          ]
         ],
         "hovertemplate": "Carrera=Derecho<br>Semestres Cursados=%{x}<br>Créditos Matriculados=%{y}<br>Nombre=%{customdata[0]}<extra></extra>",
         "legendgroup": "Derecho",
         "marker": {
          "color": "#005B7F",
          "line": {
           "color": "#005B7F",
           "width": 2
          },
          "opacity": 0.75,
          "size": 13,
          "symbol": "circle"
         },
         "mode": "markers",
         "name": "Derecho",
         "orientation": "v",
         "showlegend": true,
         "type": "scatter",
         "x": {
          "bdata": "BQMBCAU=",
          "dtype": "i1"
         },
         "xaxis": "x",
         "y": {
          "bdata": "BwYHBQY=",
          "dtype": "i1"
         },
         "yaxis": "y"
        },
        {
         "customdata": [
          [
           "Jaqueline Guerrero"
          ],
          [
           "Oswaldo Torres"
          ],
          [
           "Itzel Óliver"
          ],
          [
           "Genaro Carolina"
          ]
         ],
         "hovertemplate": "Carrera=Ingeniería Electrónica<br>Semestres Cursados=%{x}<br>Créditos Matriculados=%{y}<br>Nombre=%{customdata[0]}<extra></extra>",
         "legendgroup": "Ingeniería Electrónica",
         "marker": {
          "color": "#009739",
          "line": {
           "color": "#005B7F",
           "width": 2
          },
          "opacity": 0.75,
          "size": 13,
          "symbol": "circle"
         },
         "mode": "markers",
         "name": "Ingeniería Electrónica",
         "orientation": "v",
         "showlegend": true,
         "type": "scatter",
         "x": {
          "bdata": "BwcBBQ==",
          "dtype": "i1"
         },
         "xaxis": "x",
         "y": {
          "bdata": "CAcGBg==",
          "dtype": "i1"
         },
         "yaxis": "y"
        },
        {
         "customdata": [
          [
           "Anel Torres"
          ],
          [
           "Arcelia Griego"
          ],
          [
           "Virginia Sanchez"
          ],
          [
           "Jaime Ruiz"
          ],
          [
           "Mariana Rojo"
          ],
          [
           "Roberto Patricia"
          ],
          [
           "Juan Rojas"
          ],
          [
           "Maximiliano Verdugo"
          ]
         ],
         "hovertemplate": "Carrera=Psicología<br>Semestres Cursados=%{x}<br>Créditos Matriculados=%{y}<br>Nombre=%{customdata[0]}<extra></extra>",
         "legendgroup": "Psicología",
         "marker": {
          "color": "#005B7F",
          "line": {
           "color": "#005B7F",
           "width": 2
          },
          "opacity": 0.75,
          "size": 13,
          "symbol": "circle"
         },
         "mode": "markers",
         "name": "Psicología",
         "orientation": "v",
         "showlegend": true,
         "type": "scatter",
         "x": {
          "bdata": "BwcEBQUECQY=",
          "dtype": "i1"
         },
         "xaxis": "x",
         "y": {
          "bdata": "BgQDBQYDAwY=",
          "dtype": "i1"
         },
         "yaxis": "y"
        },
        {
         "customdata": [
          [
           "Nadia Aida"
          ],
          [
           "Claudia Perez"
          ],
          [
           "Evelio Arbelaez"
          ],
          [
           "Hermelinda Camargo"
          ],
          [
           "María José"
          ],
          [
           "Flavio Olivo"
          ],
          [
           "Gonzalo Haro"
          ],
          [
           "Victoria Zamora"
          ],
          [
           "Cristian Castro"
          ]
         ],
         "hovertemplate": "Carrera=Ingeniería Industrial<br>Semestres Cursados=%{x}<br>Créditos Matriculados=%{y}<br>Nombre=%{customdata[0]}<extra></extra>",
         "legendgroup": "Ingeniería Industrial",
         "marker": {
          "color": "#009739",
          "line": {
           "color": "#005B7F",
           "width": 2
          },
          "opacity": 0.75,
          "size": 13,
          "symbol": "circle"
         },
         "mode": "markers",
         "name": "Ingeniería Industrial",
         "orientation": "v",
         "showlegend": true,
         "type": "scatter",
         "x": {
          "bdata": "BwUEAQUCBAkC",
          "dtype": "i1"
         },
         "xaxis": "x",
         "y": {
          "bdata": "BQcIAgcFBwMI",
          "dtype": "i1"
         },
         "yaxis": "y"
        },
        {
         "customdata": [
          [
           "Concepción Miranda"
          ],
          [
           "Joaquín Alicia"
          ],
          [
           "Lucía Cortes"
          ],
          [
           "Aldonza Timoteo"
          ],
          [
           "Luz Ortiz"
          ]
         ],
         "hovertemplate": "Carrera=Licenciatura en Matemáticas<br>Semestres Cursados=%{x}<br>Créditos Matriculados=%{y}<br>Nombre=%{customdata[0]}<extra></extra>",
         "legendgroup": "Licenciatura en Matemáticas",
         "marker": {
          "color": "#005B7F",
          "line": {
           "color": "#005B7F",
           "width": 2
          },
          "opacity": 0.75,
          "size": 13,
          "symbol": "circle"
         },
         "mode": "markers",
         "name": "Licenciatura en Matemáticas",
         "orientation": "v",
         "showlegend": true,
         "type": "scatter",
         "x": {
          "bdata": "BgIDBAc=",
          "dtype": "i1"
         },
         "xaxis": "x",
         "y": {
          "bdata": "BgQGBgg=",
          "dtype": "i1"
         },
         "yaxis": "y"
        },
        {
         "customdata": [
          [
           "Luisa Mota"
          ],
          [
           "Verónica Palomo"
          ]
         ],
         "hovertemplate": "Carrera=Contaduría<br>Semestres Cursados=%{x}<br>Créditos Matriculados=%{y}<br>Nombre=%{customdata[0]}<extra></extra>",
         "legendgroup": "Contaduría",
         "marker": {
          "color": "#009739",
          "line": {
           "color": "#005B7F",
           "width": 2
          },
          "opacity": 0.75,
          "size": 13,
          "symbol": "circle"
         },
         "mode": "markers",
         "name": "Contaduría",
         "orientation": "v",
         "showlegend": true,
         "type": "scatter",
         "x": {
          "bdata": "BgM=",
          "dtype": "i1"
         },
         "xaxis": "x",
         "y": {
          "bdata": "BwY=",
          "dtype": "i1"
         },
         "yaxis": "y"
        }
       ],
       "layout": {
        "annotations": [
         {
          "bgcolor": "rgba(0,0,0,0.08)",
          "borderpad": 20,
          "opacity": 0.3,
          "showarrow": false,
          "text": "",
          "x": 0.5,
          "xref": "paper",
          "y": 0.5,
          "yref": "paper"
         }
        ],
        "height": 400,
        "images": [
         {
          "layer": "above",
          "opacity": 0.98,
          "sizex": 0.13,
          "sizey": 0.13,
          "source": "data:image/png;base64,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",
          "x": 1,
          "xanchor": "right",
          "xref": "paper",
          "y": 1,
          "yanchor": "top",
          "yref": "paper"
         }
        ],
        "legend": {
         "title": {
          "text": "Carrera"
         },
         "tracegroupgap": 0
        },
        "shapes": [
         {
          "editable": false,
          "fillcolor": "rgba(255,255,255,0.55)",
          "layer": "below",
          "line": {
           "color": "#009739",
           "width": 4
          },
          "opacity": 0.7,
          "type": "rect",
          "x0": 0,
          "x1": 1,
          "xref": "paper",
          "y0": 0,
          "y1": 1,
          "yref": "paper"
         }
        ],
        "template": {
         "layout": {
          "font": {
           "color": "#222",
           "family": "Arial",
           "size": 8
          },
          "legend": {
           "bgcolor": "#FFFFFF",
           "bordercolor": "#005B7F",
           "borderwidth": 2,
           "font": {
            "size": 8
           }
          },
          "margin": {
           "b": 45,
           "l": 65,
           "r": 65,
           "t": 55
          },
          "paper_bgcolor": "#F0F0F0",
          "plot_bgcolor": "#F8FAFB",
          "shapes": [
           {
            "fillcolor": "rgba(0,151,57,0.04)",
            "layer": "below",
            "line": {
             "color": "#009739",
             "width": 4
            },
            "type": "rect",
            "x0": 0,
            "x1": 1,
            "xref": "paper",
            "y0": 0,
            "y1": 1,
            "yref": "paper"
           }
          ],
          "title": {
           "font": {
            "color": "#005B7F",
            "family": "Arial Black",
            "size": 9
           }
          },
          "xaxis": {
           "gridcolor": "#E0E0E0",
           "linecolor": "#005B7F",
           "linewidth": 2,
           "showgrid": true,
           "tickfont": {
            "color": "#005B7F",
            "size": 8
           },
           "ticks": "outside",
           "title": {
            "font": {
             "color": "#005B7F",
             "size": 8
            }
           }
          },
          "yaxis": {
           "gridcolor": "#E0E0E0",
           "linecolor": "#005B7F",
           "linewidth": 2,
           "showgrid": true,
           "tickfont": {
            "color": "#005B7F",
            "size": 8
           },
           "ticks": "outside",
           "title": {
            "font": {
             "color": "#005B7F",
             "size": 8
            }
           }
          }
         }
        },
        "title": {
         "text": "Relación entre semestres cursados y créditos matriculados"
        },
        "width": 700,
        "xaxis": {
         "anchor": "y",
         "domain": [
          0,
          1
         ],
         "title": {
          "text": "Semestres Cursados"
         }
        },
        "yaxis": {
         "anchor": "x",
         "domain": [
          0,
          1
         ],
         "title": {
          "text": "Créditos Matriculados"
         }
        }
       }
      }
     },
     "metadata": {},
     "output_type": "display_data"
    }
   ],
   "source": [
    "# Gráfico de dispersión: Semestres cursados vs. Créditos matriculados (colores institucionales y logo, mejorado)\n",
    "fig = px.scatter(\n",
    "    df,\n",
    "    x='Número de Semestres Cursados',\n",
    "    y='Creditos_Matriculados',\n",
    "    color='Carrera',\n",
    "    title='Relación entre semestres cursados y créditos matriculados',\n",
    "    labels={'Número de Semestres Cursados': 'Semestres Cursados', 'Creditos_Matriculados': 'Créditos Matriculados'},\n",
    "    hover_data=['Nombre'],\n",
    "    color_discrete_sequence=[COLORES_CORHUILA['verde'], COLORES_CORHUILA['azul']]\n",
    ")\n",
    "fig.update_traces(marker=dict(size=13, opacity=0.75, line=dict(width=2, color=COLORES_CORHUILA['azul']), symbol='circle'))\n",
    "fig = corhuila_layout(fig)\n",
    "fig.show()"
   ]
  },
  {
   "cell_type": "markdown",
   "id": "07883997",
   "metadata": {},
   "source": [
    "## 9. Relación entre créditos matriculados y promedio académico\n",
    "\n",
    "Ahora analizaremos si existe una relación entre la cantidad de créditos matriculados y el promedio académico de los estudiantes. Esto puede ayudar a identificar si una mayor carga académica afecta el rendimiento."
   ]
  },
  {
   "cell_type": "code",
   "execution_count": 141,
   "id": "ac40a229",
   "metadata": {},
   "outputs": [
    {
     "data": {
      "application/vnd.plotly.v1+json": {
       "config": {
        "plotlyServerURL": "https://plot.ly"
       },
       "data": [
        {
         "customdata": [
          [
           "Guillermo Negrón"
          ],
          [
           "Sofía Reséndez"
          ],
          [
           "Luisa Mota"
          ],
          [
           "Citlali Corrales"
          ]
         ],
         "hovertemplate": "Carrera=Arquitectura<br>Créditos Matriculados=%{x}<br>Promedio Académico=%{y}<br>Nombre=%{customdata[0]}<extra></extra>",
         "legendgroup": "Arquitectura",
         "marker": {
          "color": "#009739",
          "line": {
           "color": "#005B7F",
           "width": 2
          },
          "opacity": 0.75,
          "size": 13,
          "symbol": "circle"
         },
         "mode": "markers",
         "name": "Arquitectura",
         "orientation": "v",
         "showlegend": true,
         "type": "scatter",
         "x": {
          "bdata": "BQQHBw==",
          "dtype": "i1"
         },
         "xaxis": "x",
         "y": {
          "bdata": "XI/C9ShcEEBSuB6F61EGQM3MzMzMzBBAuB6F61G4BEA=",
          "dtype": "f8"
         },
         "yaxis": "y"
        },
        {
         "customdata": [
          [
           "Carolina Cordero"
          ],
          [
           "Roberto Diaz"
          ],
          [
           "Norma Ilse"
          ],
          [
           "Minerva Angel"
          ],
          [
           "Beatriz Ortiz"
          ],
          [
           "José Manuél"
          ],
          [
           "José Carlos"
          ],
          [
           "Gilberto Sonia"
          ]
         ],
         "hovertemplate": "Carrera=Administración de Empresas<br>Créditos Matriculados=%{x}<br>Promedio Académico=%{y}<br>Nombre=%{customdata[0]}<extra></extra>",
         "legendgroup": "Administración de Empresas",
         "marker": {
          "color": "#005B7F",
          "line": {
           "color": "#005B7F",
           "width": 2
          },
          "opacity": 0.75,
          "size": 13,
          "symbol": "circle"
         },
         "mode": "markers",
         "name": "Administración de Empresas",
         "orientation": "v",
         "showlegend": true,
         "type": "scatter",
         "x": {
          "bdata": "BAQHBwYFAwg=",
          "dtype": "i1"
         },
         "xaxis": "x",
         "y": {
          "bdata": "exSuR+F6BEBmZmZmZmYKQFK4HoXrURFAKVyPwvUoCEApXI/C9SgOQArXo3A9ChNACtejcD0KBUCamZmZmZkSQA==",
          "dtype": "f8"
         },
         "yaxis": "y"
        },
        {
         "customdata": [
          [
           "Marisela Rael"
          ],
          [
           "Salvador Contreras"
          ],
          [
           "Marisol Segura"
          ],
          [
           "Reina Jorge"
          ],
          [
           "Liliana Jiménez"
          ]
         ],
         "hovertemplate": "Carrera=Ingeniería de Sistemas<br>Créditos Matriculados=%{x}<br>Promedio Académico=%{y}<br>Nombre=%{customdata[0]}<extra></extra>",
         "legendgroup": "Ingeniería de Sistemas",
         "marker": {
          "color": "#009739",
          "line": {
           "color": "#005B7F",
           "width": 2
          },
          "opacity": 0.75,
          "size": 13,
          "symbol": "circle"
         },
         "mode": "markers",
         "name": "Ingeniería de Sistemas",
         "orientation": "v",
         "showlegend": true,
         "type": "scatter",
         "x": {
          "bdata": "AwUGCAk=",
          "dtype": "i1"
         },
         "xaxis": "x",
         "y": {
          "bdata": "9ihcj8L1DkBSuB6F61ESQOF6FK5H4QZAuB6F61G4EEBI4XoUrkcRQA==",
          "dtype": "f8"
         },
         "yaxis": "y"
        },
        {
         "customdata": [
          [
           "Alberto Timoteo"
          ],
          [
           "Abigail Almanza"
          ],
          [
           "Mayte Cruz"
          ],
          [
           "Juan Guadalupe"
          ],
          [
           "Judith Amanda"
          ]
         ],
         "hovertemplate": "Carrera=Derecho<br>Créditos Matriculados=%{x}<br>Promedio Académico=%{y}<br>Nombre=%{customdata[0]}<extra></extra>",
         "legendgroup": "Derecho",
         "marker": {
          "color": "#005B7F",
          "line": {
           "color": "#005B7F",
           "width": 2
          },
          "opacity": 0.75,
          "size": 13,
          "symbol": "circle"
         },
         "mode": "markers",
         "name": "Derecho",
         "orientation": "v",
         "showlegend": true,
         "type": "scatter",
         "x": {
          "bdata": "BwYHBQY=",
          "dtype": "i1"
         },
         "xaxis": "x",
         "y": {
          "bdata": "4XoUrkfhEEAK16NwPQoLQMP1KFyPwg9AUrgehetRCEApXI/C9SgEQA==",
          "dtype": "f8"
         },
         "yaxis": "y"
        },
        {
         "customdata": [
          [
           "Jaqueline Guerrero"
          ],
          [
           "Oswaldo Torres"
          ],
          [
           "Itzel Óliver"
          ],
          [
           "Genaro Carolina"
          ]
         ],
         "hovertemplate": "Carrera=Ingeniería Electrónica<br>Créditos Matriculados=%{x}<br>Promedio Académico=%{y}<br>Nombre=%{customdata[0]}<extra></extra>",
         "legendgroup": "Ingeniería Electrónica",
         "marker": {
          "color": "#009739",
          "line": {
           "color": "#005B7F",
           "width": 2
          },
          "opacity": 0.75,
          "size": 13,
          "symbol": "circle"
         },
         "mode": "markers",
         "name": "Ingeniería Electrónica",
         "orientation": "v",
         "showlegend": true,
         "type": "scatter",
         "x": {
          "bdata": "CAcGBg==",
          "dtype": "i1"
         },
         "xaxis": "x",
         "y": {
          "bdata": "CtejcD0KEEBmZmZmZmYRQK5H4XoUrgdAexSuR+F6CEA=",
          "dtype": "f8"
         },
         "yaxis": "y"
        },
        {
         "customdata": [
          [
           "Anel Torres"
          ],
          [
           "Arcelia Griego"
          ],
          [
           "Virginia Sanchez"
          ],
          [
           "Jaime Ruiz"
          ],
          [
           "Mariana Rojo"
          ],
          [
           "Roberto Patricia"
          ],
          [
           "Juan Rojas"
          ],
          [
           "Maximiliano Verdugo"
          ]
         ],
         "hovertemplate": "Carrera=Psicología<br>Créditos Matriculados=%{x}<br>Promedio Académico=%{y}<br>Nombre=%{customdata[0]}<extra></extra>",
         "legendgroup": "Psicología",
         "marker": {
          "color": "#005B7F",
          "line": {
           "color": "#005B7F",
           "width": 2
          },
          "opacity": 0.75,
          "size": 13,
          "symbol": "circle"
         },
         "mode": "markers",
         "name": "Psicología",
         "orientation": "v",
         "showlegend": true,
         "type": "scatter",
         "x": {
          "bdata": "BgQDBQYDAwY=",
          "dtype": "i1"
         },
         "xaxis": "x",
         "y": {
          "bdata": "9ihcj8L1EkA9CtejcD0QQFyPwvUoXA9AexSuR+F6BkCuR+F6FK4NQOF6FK5H4Q5A7FG4HoXrE0AfhetRuB4NQA==",
          "dtype": "f8"
         },
         "yaxis": "y"
        },
        {
         "customdata": [
          [
           "Nadia Aida"
          ],
          [
           "Claudia Perez"
          ],
          [
           "Evelio Arbelaez"
          ],
          [
           "Hermelinda Camargo"
          ],
          [
           "María José"
          ],
          [
           "Flavio Olivo"
          ],
          [
           "Gonzalo Haro"
          ],
          [
           "Victoria Zamora"
          ],
          [
           "Cristian Castro"
          ]
         ],
         "hovertemplate": "Carrera=Ingeniería Industrial<br>Créditos Matriculados=%{x}<br>Promedio Académico=%{y}<br>Nombre=%{customdata[0]}<extra></extra>",
         "legendgroup": "Ingeniería Industrial",
         "marker": {
          "color": "#009739",
          "line": {
           "color": "#005B7F",
           "width": 2
          },
          "opacity": 0.75,
          "size": 13,
          "symbol": "circle"
         },
         "mode": "markers",
         "name": "Ingeniería Industrial",
         "orientation": "v",
         "showlegend": true,
         "type": "scatter",
         "x": {
          "bdata": "BQcIAgcFBwMI",
          "dtype": "i1"
         },
         "xaxis": "x",
         "y": {
          "bdata": "j8L1KFyPEkDXo3A9CtcPQMP1KFyPwhJA16NwPQrXEkA9CtejcD0GQHsUrkfhegRAzczMzMzMEEBSuB6F61ESQI/C9ShcjwxA",
          "dtype": "f8"
         },
         "yaxis": "y"
        },
        {
         "customdata": [
          [
           "Concepción Miranda"
          ],
          [
           "Joaquín Alicia"
          ],
          [
           "Lucía Cortes"
          ],
          [
           "Aldonza Timoteo"
          ],
          [
           "Luz Ortiz"
          ]
         ],
         "hovertemplate": "Carrera=Licenciatura en Matemáticas<br>Créditos Matriculados=%{x}<br>Promedio Académico=%{y}<br>Nombre=%{customdata[0]}<extra></extra>",
         "legendgroup": "Licenciatura en Matemáticas",
         "marker": {
          "color": "#005B7F",
          "line": {
           "color": "#005B7F",
           "width": 2
          },
          "opacity": 0.75,
          "size": 13,
          "symbol": "circle"
         },
         "mode": "markers",
         "name": "Licenciatura en Matemáticas",
         "orientation": "v",
         "showlegend": true,
         "type": "scatter",
         "x": {
          "bdata": "BgQGBgg=",
          "dtype": "i1"
         },
         "xaxis": "x",
         "y": {
          "bdata": "UrgehetREEAK16NwPQoHQFyPwvUoXBBApHA9CtejCEAK16NwPQoNQA==",
          "dtype": "f8"
         },
         "yaxis": "y"
        },
        {
         "customdata": [
          [
           "Luisa Mota"
          ],
          [
           "Verónica Palomo"
          ]
         ],
         "hovertemplate": "Carrera=Contaduría<br>Créditos Matriculados=%{x}<br>Promedio Académico=%{y}<br>Nombre=%{customdata[0]}<extra></extra>",
         "legendgroup": "Contaduría",
         "marker": {
          "color": "#009739",
          "line": {
           "color": "#005B7F",
           "width": 2
          },
          "opacity": 0.75,
          "size": 13,
          "symbol": "circle"
         },
         "mode": "markers",
         "name": "Contaduría",
         "orientation": "v",
         "showlegend": true,
         "type": "scatter",
         "x": {
          "bdata": "BwY=",
          "dtype": "i1"
         },
         "xaxis": "x",
         "y": {
          "bdata": "MzMzMzMzE0BmZmZmZmYTQA==",
          "dtype": "f8"
         },
         "yaxis": "y"
        }
       ],
       "layout": {
        "annotations": [
         {
          "bgcolor": "rgba(0,0,0,0.08)",
          "borderpad": 20,
          "opacity": 0.3,
          "showarrow": false,
          "text": "",
          "x": 0.5,
          "xref": "paper",
          "y": 0.5,
          "yref": "paper"
         }
        ],
        "height": 400,
        "images": [
         {
          "layer": "above",
          "opacity": 0.98,
          "sizex": 0.13,
          "sizey": 0.13,
          "source": "data:image/png;base64,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",
          "x": 1,
          "xanchor": "right",
          "xref": "paper",
          "y": 1,
          "yanchor": "top",
          "yref": "paper"
         }
        ],
        "legend": {
         "title": {
          "text": "Carrera"
         },
         "tracegroupgap": 0
        },
        "shapes": [
         {
          "editable": false,
          "fillcolor": "rgba(255,255,255,0.55)",
          "layer": "below",
          "line": {
           "color": "#009739",
           "width": 4
          },
          "opacity": 0.7,
          "type": "rect",
          "x0": 0,
          "x1": 1,
          "xref": "paper",
          "y0": 0,
          "y1": 1,
          "yref": "paper"
         }
        ],
        "template": {
         "layout": {
          "font": {
           "color": "#222",
           "family": "Arial",
           "size": 8
          },
          "legend": {
           "bgcolor": "#FFFFFF",
           "bordercolor": "#005B7F",
           "borderwidth": 2,
           "font": {
            "size": 8
           }
          },
          "margin": {
           "b": 45,
           "l": 65,
           "r": 65,
           "t": 55
          },
          "paper_bgcolor": "#F0F0F0",
          "plot_bgcolor": "#F8FAFB",
          "shapes": [
           {
            "fillcolor": "rgba(0,151,57,0.04)",
            "layer": "below",
            "line": {
             "color": "#009739",
             "width": 4
            },
            "type": "rect",
            "x0": 0,
            "x1": 1,
            "xref": "paper",
            "y0": 0,
            "y1": 1,
            "yref": "paper"
           }
          ],
          "title": {
           "font": {
            "color": "#005B7F",
            "family": "Arial Black",
            "size": 9
           }
          },
          "xaxis": {
           "gridcolor": "#E0E0E0",
           "linecolor": "#005B7F",
           "linewidth": 2,
           "showgrid": true,
           "tickfont": {
            "color": "#005B7F",
            "size": 8
           },
           "ticks": "outside",
           "title": {
            "font": {
             "color": "#005B7F",
             "size": 8
            }
           }
          },
          "yaxis": {
           "gridcolor": "#E0E0E0",
           "linecolor": "#005B7F",
           "linewidth": 2,
           "showgrid": true,
           "tickfont": {
            "color": "#005B7F",
            "size": 8
           },
           "ticks": "outside",
           "title": {
            "font": {
             "color": "#005B7F",
             "size": 8
            }
           }
          }
         }
        },
        "title": {
         "text": "Relación entre créditos matriculados y promedio académico"
        },
        "width": 700,
        "xaxis": {
         "anchor": "y",
         "domain": [
          0,
          1
         ],
         "title": {
          "text": "Créditos Matriculados"
         }
        },
        "yaxis": {
         "anchor": "x",
         "domain": [
          0,
          1
         ],
         "title": {
          "text": "Promedio Académico"
         }
        }
       }
      }
     },
     "metadata": {},
     "output_type": "display_data"
    }
   ],
   "source": [
    "# Gráfico de dispersión: Créditos matriculados vs. Promedio académico (colores institucionales y logo, mejorado)\n",
    "fig = px.scatter(\n",
    "    df,\n",
    "    x='Creditos_Matriculados',\n",
    "    y='Promedio_Academico',\n",
    "    color='Carrera',\n",
    "    title='Relación entre créditos matriculados y promedio académico',\n",
    "    labels={'Creditos_Matriculados': 'Créditos Matriculados', 'Promedio_Academico': 'Promedio Académico'},\n",
    "    hover_data=['Nombre'],\n",
    "    color_discrete_sequence=[COLORES_CORHUILA['verde'], COLORES_CORHUILA['azul']]\n",
    ")\n",
    "fig.update_traces(marker=dict(size=13, opacity=0.75, line=dict(width=2, color=COLORES_CORHUILA['azul']), symbol='circle'))\n",
    "fig = corhuila_layout(fig)\n",
    "fig.show()"
   ]
  },
  {
   "cell_type": "markdown",
   "id": "75b6dd40",
   "metadata": {},
   "source": [
    "El gráfico permite observar si los estudiantes con mayor carga de créditos tienden a tener promedios académicos más altos o bajos. Analizar esta relación puede ser útil para orientar políticas de acompañamiento académico."
   ]
  },
  {
   "cell_type": "markdown",
   "id": "e2457974",
   "metadata": {},
   "source": [
    "## 10. Relación entre edad y promedio académico\n",
    "\n",
    "A continuación se analiza si existe alguna relación entre la edad de los estudiantes y su rendimiento académico promedio. Esto puede ayudar a identificar tendencias por grupo etario."
   ]
  },
  {
   "cell_type": "code",
   "execution_count": 142,
   "id": "401b1767",
   "metadata": {},
   "outputs": [
    {
     "data": {
      "application/vnd.plotly.v1+json": {
       "config": {
        "plotlyServerURL": "https://plot.ly"
       },
       "data": [
        {
         "customdata": [
          [
           "Guillermo Negrón"
          ],
          [
           "Sofía Reséndez"
          ],
          [
           "Luisa Mota"
          ],
          [
           "Citlali Corrales"
          ]
         ],
         "hovertemplate": "Carrera=Arquitectura<br>Edad=%{x}<br>Promedio Académico=%{y}<br>Nombre=%{customdata[0]}<extra></extra>",
         "legendgroup": "Arquitectura",
         "marker": {
          "color": "#009739",
          "line": {
           "color": "#005B7F",
           "width": 2
          },
          "opacity": 0.75,
          "size": 13,
          "symbol": "circle"
         },
         "mode": "markers",
         "name": "Arquitectura",
         "orientation": "v",
         "showlegend": true,
         "type": "scatter",
         "x": {
          "bdata": "Fx4WGw==",
          "dtype": "i1"
         },
         "xaxis": "x",
         "y": {
          "bdata": "XI/C9ShcEEBSuB6F61EGQM3MzMzMzBBAuB6F61G4BEA=",
          "dtype": "f8"
         },
         "yaxis": "y"
        },
        {
         "customdata": [
          [
           "Carolina Cordero"
          ],
          [
           "Roberto Diaz"
          ],
          [
           "Norma Ilse"
          ],
          [
           "Minerva Angel"
          ],
          [
           "Beatriz Ortiz"
          ],
          [
           "José Manuél"
          ],
          [
           "José Carlos"
          ],
          [
           "Gilberto Sonia"
          ]
         ],
         "hovertemplate": "Carrera=Administración de Empresas<br>Edad=%{x}<br>Promedio Académico=%{y}<br>Nombre=%{customdata[0]}<extra></extra>",
         "legendgroup": "Administración de Empresas",
         "marker": {
          "color": "#005B7F",
          "line": {
           "color": "#005B7F",
           "width": 2
          },
          "opacity": 0.75,
          "size": 13,
          "symbol": "circle"
         },
         "mode": "markers",
         "name": "Administración de Empresas",
         "orientation": "v",
         "showlegend": true,
         "type": "scatter",
         "x": {
          "bdata": "GRQaHhoSGRM=",
          "dtype": "i1"
         },
         "xaxis": "x",
         "y": {
          "bdata": "exSuR+F6BEBmZmZmZmYKQFK4HoXrURFAKVyPwvUoCEApXI/C9SgOQArXo3A9ChNACtejcD0KBUCamZmZmZkSQA==",
          "dtype": "f8"
         },
         "yaxis": "y"
        },
        {
         "customdata": [
          [
           "Marisela Rael"
          ],
          [
           "Salvador Contreras"
          ],
          [
           "Marisol Segura"
          ],
          [
           "Reina Jorge"
          ],
          [
           "Liliana Jiménez"
          ]
         ],
         "hovertemplate": "Carrera=Ingeniería de Sistemas<br>Edad=%{x}<br>Promedio Académico=%{y}<br>Nombre=%{customdata[0]}<extra></extra>",
         "legendgroup": "Ingeniería de Sistemas",
         "marker": {
          "color": "#009739",
          "line": {
           "color": "#005B7F",
           "width": 2
          },
          "opacity": 0.75,
          "size": 13,
          "symbol": "circle"
         },
         "mode": "markers",
         "name": "Ingeniería de Sistemas",
         "orientation": "v",
         "showlegend": true,
         "type": "scatter",
         "x": {
          "bdata": "GBETGhM=",
          "dtype": "i1"
         },
         "xaxis": "x",
         "y": {
          "bdata": "9ihcj8L1DkBSuB6F61ESQOF6FK5H4QZAuB6F61G4EEBI4XoUrkcRQA==",
          "dtype": "f8"
         },
         "yaxis": "y"
        },
        {
         "customdata": [
          [
           "Alberto Timoteo"
          ],
          [
           "Abigail Almanza"
          ],
          [
           "Mayte Cruz"
          ],
          [
           "Juan Guadalupe"
          ],
          [
           "Judith Amanda"
          ]
         ],
         "hovertemplate": "Carrera=Derecho<br>Edad=%{x}<br>Promedio Académico=%{y}<br>Nombre=%{customdata[0]}<extra></extra>",
         "legendgroup": "Derecho",
         "marker": {
          "color": "#005B7F",
          "line": {
           "color": "#005B7F",
           "width": 2
          },
          "opacity": 0.75,
          "size": 13,
          "symbol": "circle"
         },
         "mode": "markers",
         "name": "Derecho",
         "orientation": "v",
         "showlegend": true,
         "type": "scatter",
         "x": {
          "bdata": "GhkWFh4=",
          "dtype": "i1"
         },
         "xaxis": "x",
         "y": {
          "bdata": "4XoUrkfhEEAK16NwPQoLQMP1KFyPwg9AUrgehetRCEApXI/C9SgEQA==",
          "dtype": "f8"
         },
         "yaxis": "y"
        },
        {
         "customdata": [
          [
           "Jaqueline Guerrero"
          ],
          [
           "Oswaldo Torres"
          ],
          [
           "Itzel Óliver"
          ],
          [
           "Genaro Carolina"
          ]
         ],
         "hovertemplate": "Carrera=Ingeniería Electrónica<br>Edad=%{x}<br>Promedio Académico=%{y}<br>Nombre=%{customdata[0]}<extra></extra>",
         "legendgroup": "Ingeniería Electrónica",
         "marker": {
          "color": "#009739",
          "line": {
           "color": "#005B7F",
           "width": 2
          },
          "opacity": 0.75,
          "size": 13,
          "symbol": "circle"
         },
         "mode": "markers",
         "name": "Ingeniería Electrónica",
         "orientation": "v",
         "showlegend": true,
         "type": "scatter",
         "x": {
          "bdata": "EhYaEg==",
          "dtype": "i1"
         },
         "xaxis": "x",
         "y": {
          "bdata": "CtejcD0KEEBmZmZmZmYRQK5H4XoUrgdAexSuR+F6CEA=",
          "dtype": "f8"
         },
         "yaxis": "y"
        },
        {
         "customdata": [
          [
           "Anel Torres"
          ],
          [
           "Arcelia Griego"
          ],
          [
           "Virginia Sanchez"
          ],
          [
           "Jaime Ruiz"
          ],
          [
           "Mariana Rojo"
          ],
          [
           "Roberto Patricia"
          ],
          [
           "Juan Rojas"
          ],
          [
           "Maximiliano Verdugo"
          ]
         ],
         "hovertemplate": "Carrera=Psicología<br>Edad=%{x}<br>Promedio Académico=%{y}<br>Nombre=%{customdata[0]}<extra></extra>",
         "legendgroup": "Psicología",
         "marker": {
          "color": "#005B7F",
          "line": {
           "color": "#005B7F",
           "width": 2
          },
          "opacity": 0.75,
          "size": 13,
          "symbol": "circle"
         },
         "mode": "markers",
         "name": "Psicología",
         "orientation": "v",
         "showlegend": true,
         "type": "scatter",
         "x": {
          "bdata": "HRsdHRkbGRI=",
          "dtype": "i1"
         },
         "xaxis": "x",
         "y": {
          "bdata": "9ihcj8L1EkA9CtejcD0QQFyPwvUoXA9AexSuR+F6BkCuR+F6FK4NQOF6FK5H4Q5A7FG4HoXrE0AfhetRuB4NQA==",
          "dtype": "f8"
         },
         "yaxis": "y"
        },
        {
         "customdata": [
          [
           "Nadia Aida"
          ],
          [
           "Claudia Perez"
          ],
          [
           "Evelio Arbelaez"
          ],
          [
           "Hermelinda Camargo"
          ],
          [
           "María José"
          ],
          [
           "Flavio Olivo"
          ],
          [
           "Gonzalo Haro"
          ],
          [
           "Victoria Zamora"
          ],
          [
           "Cristian Castro"
          ]
         ],
         "hovertemplate": "Carrera=Ingeniería Industrial<br>Edad=%{x}<br>Promedio Académico=%{y}<br>Nombre=%{customdata[0]}<extra></extra>",
         "legendgroup": "Ingeniería Industrial",
         "marker": {
          "color": "#009739",
          "line": {
           "color": "#005B7F",
           "width": 2
          },
          "opacity": 0.75,
          "size": 13,
          "symbol": "circle"
         },
         "mode": "markers",
         "name": "Ingeniería Industrial",
         "orientation": "v",
         "showlegend": true,
         "type": "scatter",
         "x": {
          "bdata": "GhwSFBUUHRMb",
          "dtype": "i1"
         },
         "xaxis": "x",
         "y": {
          "bdata": "j8L1KFyPEkDXo3A9CtcPQMP1KFyPwhJA16NwPQrXEkA9CtejcD0GQHsUrkfhegRAzczMzMzMEEBSuB6F61ESQI/C9ShcjwxA",
          "dtype": "f8"
         },
         "yaxis": "y"
        },
        {
         "customdata": [
          [
           "Concepción Miranda"
          ],
          [
           "Joaquín Alicia"
          ],
          [
           "Lucía Cortes"
          ],
          [
           "Aldonza Timoteo"
          ],
          [
           "Luz Ortiz"
          ]
         ],
         "hovertemplate": "Carrera=Licenciatura en Matemáticas<br>Edad=%{x}<br>Promedio Académico=%{y}<br>Nombre=%{customdata[0]}<extra></extra>",
         "legendgroup": "Licenciatura en Matemáticas",
         "marker": {
          "color": "#005B7F",
          "line": {
           "color": "#005B7F",
           "width": 2
          },
          "opacity": 0.75,
          "size": 13,
          "symbol": "circle"
         },
         "mode": "markers",
         "name": "Licenciatura en Matemáticas",
         "orientation": "v",
         "showlegend": true,
         "type": "scatter",
         "x": {
          "bdata": "FhUZGhI=",
          "dtype": "i1"
         },
         "xaxis": "x",
         "y": {
          "bdata": "UrgehetREEAK16NwPQoHQFyPwvUoXBBApHA9CtejCEAK16NwPQoNQA==",
          "dtype": "f8"
         },
         "yaxis": "y"
        },
        {
         "customdata": [
          [
           "Luisa Mota"
          ],
          [
           "Verónica Palomo"
          ]
         ],
         "hovertemplate": "Carrera=Contaduría<br>Edad=%{x}<br>Promedio Académico=%{y}<br>Nombre=%{customdata[0]}<extra></extra>",
         "legendgroup": "Contaduría",
         "marker": {
          "color": "#009739",
          "line": {
           "color": "#005B7F",
           "width": 2
          },
          "opacity": 0.75,
          "size": 13,
          "symbol": "circle"
         },
         "mode": "markers",
         "name": "Contaduría",
         "orientation": "v",
         "showlegend": true,
         "type": "scatter",
         "x": {
          "bdata": "Hhw=",
          "dtype": "i1"
         },
         "xaxis": "x",
         "y": {
          "bdata": "MzMzMzMzE0BmZmZmZmYTQA==",
          "dtype": "f8"
         },
         "yaxis": "y"
        }
       ],
       "layout": {
        "annotations": [
         {
          "bgcolor": "rgba(0,0,0,0.08)",
          "borderpad": 20,
          "opacity": 0.3,
          "showarrow": false,
          "text": "",
          "x": 0.5,
          "xref": "paper",
          "y": 0.5,
          "yref": "paper"
         }
        ],
        "height": 400,
        "images": [
         {
          "layer": "above",
          "opacity": 0.98,
          "sizex": 0.13,
          "sizey": 0.13,
          "source": "data:image/png;base64,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",
          "x": 1,
          "xanchor": "right",
          "xref": "paper",
          "y": 1,
          "yanchor": "top",
          "yref": "paper"
         }
        ],
        "legend": {
         "title": {
          "text": "Carrera"
         },
         "tracegroupgap": 0
        },
        "shapes": [
         {
          "editable": false,
          "fillcolor": "rgba(255,255,255,0.55)",
          "layer": "below",
          "line": {
           "color": "#009739",
           "width": 4
          },
          "opacity": 0.7,
          "type": "rect",
          "x0": 0,
          "x1": 1,
          "xref": "paper",
          "y0": 0,
          "y1": 1,
          "yref": "paper"
         }
        ],
        "template": {
         "layout": {
          "font": {
           "color": "#222",
           "family": "Arial",
           "size": 8
          },
          "legend": {
           "bgcolor": "#FFFFFF",
           "bordercolor": "#005B7F",
           "borderwidth": 2,
           "font": {
            "size": 8
           }
          },
          "margin": {
           "b": 45,
           "l": 65,
           "r": 65,
           "t": 55
          },
          "paper_bgcolor": "#F0F0F0",
          "plot_bgcolor": "#F8FAFB",
          "shapes": [
           {
            "fillcolor": "rgba(0,151,57,0.04)",
            "layer": "below",
            "line": {
             "color": "#009739",
             "width": 4
            },
            "type": "rect",
            "x0": 0,
            "x1": 1,
            "xref": "paper",
            "y0": 0,
            "y1": 1,
            "yref": "paper"
           }
          ],
          "title": {
           "font": {
            "color": "#005B7F",
            "family": "Arial Black",
            "size": 9
           }
          },
          "xaxis": {
           "gridcolor": "#E0E0E0",
           "linecolor": "#005B7F",
           "linewidth": 2,
           "showgrid": true,
           "tickfont": {
            "color": "#005B7F",
            "size": 8
           },
           "ticks": "outside",
           "title": {
            "font": {
             "color": "#005B7F",
             "size": 8
            }
           }
          },
          "yaxis": {
           "gridcolor": "#E0E0E0",
           "linecolor": "#005B7F",
           "linewidth": 2,
           "showgrid": true,
           "tickfont": {
            "color": "#005B7F",
            "size": 8
           },
           "ticks": "outside",
           "title": {
            "font": {
             "color": "#005B7F",
             "size": 8
            }
           }
          }
         }
        },
        "title": {
         "text": "Relación entre edad y promedio académico"
        },
        "width": 700,
        "xaxis": {
         "anchor": "y",
         "domain": [
          0,
          1
         ],
         "title": {
          "text": "Edad"
         }
        },
        "yaxis": {
         "anchor": "x",
         "domain": [
          0,
          1
         ],
         "title": {
          "text": "Promedio Académico"
         }
        }
       }
      }
     },
     "metadata": {},
     "output_type": "display_data"
    }
   ],
   "source": [
    "# Gráfico de dispersión: Edad vs. Promedio académico (colores institucionales y logo, mejorado)\n",
    "fig = px.scatter(\n",
    "    df,\n",
    "    x='Edad',\n",
    "    y='Promedio_Academico',\n",
    "    color='Carrera',\n",
    "    title='Relación entre edad y promedio académico',\n",
    "    labels={'Edad': 'Edad', 'Promedio_Academico': 'Promedio Académico'},\n",
    "    hover_data=['Nombre'],\n",
    "    color_discrete_sequence=[COLORES_CORHUILA['verde'], COLORES_CORHUILA['azul']]\n",
    ")\n",
    "fig.update_traces(marker=dict(size=13, opacity=0.75, line=dict(width=2, color=COLORES_CORHUILA['azul']), symbol='circle'))\n",
    "fig = corhuila_layout(fig)\n",
    "fig.show()"
   ]
  },
  {
   "cell_type": "markdown",
   "id": "649f67fa",
   "metadata": {},
   "source": [
    "Este gráfico permite observar si existen diferencias de rendimiento académico según la edad de los estudiantes. Puede ser útil para identificar necesidades de apoyo en ciertos grupos etarios."
   ]
  },
  {
   "cell_type": "markdown",
   "id": "604cbfff",
   "metadata": {},
   "source": [
    "Para agregar el logo de CORHUILA a los gráficos, puedes usar la opción `add_layout_image` de Plotly. Descarga el logo institucional en formato PNG y colócalo en la carpeta del notebook. Ejemplo:"
   ]
  },
  {
   "cell_type": "markdown",
   "id": "5454949b",
   "metadata": {},
   "source": [
    "Con esto, tus visualizaciones tendrán identidad institucional. Puedes aplicar la paleta y el logo a los gráficos principales del tablero para cumplir con los criterios de presentación de la actividad."
   ]
  },
  {
   "cell_type": "markdown",
   "id": "8c265ad0",
   "metadata": {},
   "source": [
    "# Conclusiones y Recomendaciones Finales\n",
    "\n",
    "El tablero interactivo desarrollado cumple con los lineamientos de identidad visual institucional de CORHUILA, utilizando exclusivamente la paleta de colores oficial y el logo institucional en todas las visualizaciones principales y secundarias. Esto garantiza coherencia, profesionalismo y refuerza la imagen de la universidad en la presentación de resultados.\n",
    "\n",
    "**Conclusiones:**\n",
    "- La aplicación de la paleta institucional y el logo en los gráficos facilita la identificación de la información como parte de CORHUILA y mejora la percepción de calidad.\n",
    "- Las visualizaciones permiten analizar de manera clara y efectiva los principales indicadores académicos y demográficos de la matrícula universitaria.\n",
    "- El tablero es fácilmente actualizable y escalable para futuras cohortes o variables adicionales.\n",
    "\n",
    "**Recomendaciones:**\n",
    "- Mantener la identidad visual en cualquier visualización futura, utilizando los bloques de código institucional proporcionados.\n",
    "- Actualizar el logo institucional si la universidad realiza cambios en su imagen corporativa.\n",
    "- Considerar la exportación del tablero a PDF institucional, incluyendo capturas de las visualizaciones, para su difusión en informes oficiales.\n",
    "- Fomentar el uso de este tablero como herramienta de análisis y toma de decisiones en áreas académicas y administrativas.\n",
    "\n",
    "---\n",
    "\n",
    "*Este informe fue generado siguiendo los lineamientos de presentación institucional de la Universidad CORHUILA.*"
   ]
  },
  {
   "cell_type": "markdown",
   "id": "e02f3276",
   "metadata": {},
   "source": [
    "# Referencias\n",
    "\n",
    "Few, S. (2012). *Show me the numbers: Designing tables and graphs to enlighten* (2nd ed.). Analytics Press.\n",
    "\n",
    "Gartner. (2023). *Magic quadrant for analytics and business intelligence platforms*. https://www.gartner.com/en/documents/4000175-magic-quadrant-for-analytics-and-business-intelligence-platforms\n",
    "\n",
    "Knaflic, C. N. (2015). *Storytelling with data: A data visualization guide for business professionals*. Wiley.\n",
    "\n",
    "McKinney, W. (2022). *Python for data analysis: Data wrangling with pandas, NumPy, and Jupyter* (3rd ed.). O’Reilly Media.\n",
    "\n",
    "Microsoft. (n.d.). *Power BI*. https://powerbi.microsoft.com/\n",
    "\n",
    "Microsoft. (n.d.). *Power BI customer stories*. https://powerbi.microsoft.com/en-us/customer-stories/\n",
    "\n",
    "Murray, D. (2016). *Power BI: A comprehensive beginner’s guide to learn the basics and effective methods of Power BI*. CreateSpace Independent Publishing Platform.\n",
    "\n",
    "Wexler, S., Shaffer, J., & Cotgreave, A. (2017). *The big book of dashboards: Visualizing your data using real-world business scenarios*. Wiley."
   ]
  }
 ],
 "metadata": {
  "kernelspec": {
   "display_name": "Python 3",
   "language": "python",
   "name": "python3"
  },
  "language_info": {
   "codemirror_mode": {
    "name": "ipython",
    "version": 3
   },
   "file_extension": ".py",
   "mimetype": "text/x-python",
   "name": "python",
   "nbconvert_exporter": "python",
   "pygments_lexer": "ipython3",
   "version": "3.12.6"
  }
 },
 "nbformat": 4,
 "nbformat_minor": 5
}
