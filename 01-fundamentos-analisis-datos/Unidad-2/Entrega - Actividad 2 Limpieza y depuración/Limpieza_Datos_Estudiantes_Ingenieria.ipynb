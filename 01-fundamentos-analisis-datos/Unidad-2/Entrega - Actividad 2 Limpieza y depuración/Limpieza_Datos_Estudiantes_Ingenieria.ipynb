{
  "cells": [
    {
      "cell_type": "code",
      "execution_count": null,
      "metadata": {
        "colab": {
          "base_uri": "https://localhost:8080/",
          "height": 73
        },
        "id": "3N1n4cxXXBui",
        "outputId": "e70e7247-451f-4af0-f430-0d34ac8e3eb7"
      },
      "outputs": [
        {
          "output_type": "display_data",
          "data": {
            "text/plain": [
              "<IPython.core.display.HTML object>"
            ],
            "text/html": [
              "\n",
              "     <input type=\"file\" id=\"files-f71046a7-3511-4984-8082-a31bd64fcb64\" name=\"files[]\" multiple disabled\n",
              "        style=\"border:none\" />\n",
              "     <output id=\"result-f71046a7-3511-4984-8082-a31bd64fcb64\">\n",
              "      Upload widget is only available when the cell has been executed in the\n",
              "      current browser session. Please rerun this cell to enable.\n",
              "      </output>\n",
              "      <script>// Copyright 2017 Google LLC\n",
              "//\n",
              "// Licensed under the Apache License, Version 2.0 (the \"License\");\n",
              "// you may not use this file except in compliance with the License.\n",
              "// You may obtain a copy of the License at\n",
              "//\n",
              "//      http://www.apache.org/licenses/LICENSE-2.0\n",
              "//\n",
              "// Unless required by applicable law or agreed to in writing, software\n",
              "// distributed under the License is distributed on an \"AS IS\" BASIS,\n",
              "// WITHOUT WARRANTIES OR CONDITIONS OF ANY KIND, either express or implied.\n",
              "// See the License for the specific language governing permissions and\n",
              "// limitations under the License.\n",
              "\n",
              "/**\n",
              " * @fileoverview Helpers for google.colab Python module.\n",
              " */\n",
              "(function(scope) {\n",
              "function span(text, styleAttributes = {}) {\n",
              "  const element = document.createElement('span');\n",
              "  element.textContent = text;\n",
              "  for (const key of Object.keys(styleAttributes)) {\n",
              "    element.style[key] = styleAttributes[key];\n",
              "  }\n",
              "  return element;\n",
              "}\n",
              "\n",
              "// Max number of bytes which will be uploaded at a time.\n",
              "const MAX_PAYLOAD_SIZE = 100 * 1024;\n",
              "\n",
              "function _uploadFiles(inputId, outputId) {\n",
              "  const steps = uploadFilesStep(inputId, outputId);\n",
              "  const outputElement = document.getElementById(outputId);\n",
              "  // Cache steps on the outputElement to make it available for the next call\n",
              "  // to uploadFilesContinue from Python.\n",
              "  outputElement.steps = steps;\n",
              "\n",
              "  return _uploadFilesContinue(outputId);\n",
              "}\n",
              "\n",
              "// This is roughly an async generator (not supported in the browser yet),\n",
              "// where there are multiple asynchronous steps and the Python side is going\n",
              "// to poll for completion of each step.\n",
              "// This uses a Promise to block the python side on completion of each step,\n",
              "// then passes the result of the previous step as the input to the next step.\n",
              "function _uploadFilesContinue(outputId) {\n",
              "  const outputElement = document.getElementById(outputId);\n",
              "  const steps = outputElement.steps;\n",
              "\n",
              "  const next = steps.next(outputElement.lastPromiseValue);\n",
              "  return Promise.resolve(next.value.promise).then((value) => {\n",
              "    // Cache the last promise value to make it available to the next\n",
              "    // step of the generator.\n",
              "    outputElement.lastPromiseValue = value;\n",
              "    return next.value.response;\n",
              "  });\n",
              "}\n",
              "\n",
              "/**\n",
              " * Generator function which is called between each async step of the upload\n",
              " * process.\n",
              " * @param {string} inputId Element ID of the input file picker element.\n",
              " * @param {string} outputId Element ID of the output display.\n",
              " * @return {!Iterable<!Object>} Iterable of next steps.\n",
              " */\n",
              "function* uploadFilesStep(inputId, outputId) {\n",
              "  const inputElement = document.getElementById(inputId);\n",
              "  inputElement.disabled = false;\n",
              "\n",
              "  const outputElement = document.getElementById(outputId);\n",
              "  outputElement.innerHTML = '';\n",
              "\n",
              "  const pickedPromise = new Promise((resolve) => {\n",
              "    inputElement.addEventListener('change', (e) => {\n",
              "      resolve(e.target.files);\n",
              "    });\n",
              "  });\n",
              "\n",
              "  const cancel = document.createElement('button');\n",
              "  inputElement.parentElement.appendChild(cancel);\n",
              "  cancel.textContent = 'Cancel upload';\n",
              "  const cancelPromise = new Promise((resolve) => {\n",
              "    cancel.onclick = () => {\n",
              "      resolve(null);\n",
              "    };\n",
              "  });\n",
              "\n",
              "  // Wait for the user to pick the files.\n",
              "  const files = yield {\n",
              "    promise: Promise.race([pickedPromise, cancelPromise]),\n",
              "    response: {\n",
              "      action: 'starting',\n",
              "    }\n",
              "  };\n",
              "\n",
              "  cancel.remove();\n",
              "\n",
              "  // Disable the input element since further picks are not allowed.\n",
              "  inputElement.disabled = true;\n",
              "\n",
              "  if (!files) {\n",
              "    return {\n",
              "      response: {\n",
              "        action: 'complete',\n",
              "      }\n",
              "    };\n",
              "  }\n",
              "\n",
              "  for (const file of files) {\n",
              "    const li = document.createElement('li');\n",
              "    li.append(span(file.name, {fontWeight: 'bold'}));\n",
              "    li.append(span(\n",
              "        `(${file.type || 'n/a'}) - ${file.size} bytes, ` +\n",
              "        `last modified: ${\n",
              "            file.lastModifiedDate ? file.lastModifiedDate.toLocaleDateString() :\n",
              "                                    'n/a'} - `));\n",
              "    const percent = span('0% done');\n",
              "    li.appendChild(percent);\n",
              "\n",
              "    outputElement.appendChild(li);\n",
              "\n",
              "    const fileDataPromise = new Promise((resolve) => {\n",
              "      const reader = new FileReader();\n",
              "      reader.onload = (e) => {\n",
              "        resolve(e.target.result);\n",
              "      };\n",
              "      reader.readAsArrayBuffer(file);\n",
              "    });\n",
              "    // Wait for the data to be ready.\n",
              "    let fileData = yield {\n",
              "      promise: fileDataPromise,\n",
              "      response: {\n",
              "        action: 'continue',\n",
              "      }\n",
              "    };\n",
              "\n",
              "    // Use a chunked sending to avoid message size limits. See b/62115660.\n",
              "    let position = 0;\n",
              "    do {\n",
              "      const length = Math.min(fileData.byteLength - position, MAX_PAYLOAD_SIZE);\n",
              "      const chunk = new Uint8Array(fileData, position, length);\n",
              "      position += length;\n",
              "\n",
              "      const base64 = btoa(String.fromCharCode.apply(null, chunk));\n",
              "      yield {\n",
              "        response: {\n",
              "          action: 'append',\n",
              "          file: file.name,\n",
              "          data: base64,\n",
              "        },\n",
              "      };\n",
              "\n",
              "      let percentDone = fileData.byteLength === 0 ?\n",
              "          100 :\n",
              "          Math.round((position / fileData.byteLength) * 100);\n",
              "      percent.textContent = `${percentDone}% done`;\n",
              "\n",
              "    } while (position < fileData.byteLength);\n",
              "  }\n",
              "\n",
              "  // All done.\n",
              "  yield {\n",
              "    response: {\n",
              "      action: 'complete',\n",
              "    }\n",
              "  };\n",
              "}\n",
              "\n",
              "scope.google = scope.google || {};\n",
              "scope.google.colab = scope.google.colab || {};\n",
              "scope.google.colab._files = {\n",
              "  _uploadFiles,\n",
              "  _uploadFilesContinue,\n",
              "};\n",
              "})(self);\n",
              "</script> "
            ]
          },
          "metadata": {}
        },
        {
          "output_type": "stream",
          "name": "stdout",
          "text": [
            "Saving estudiantes_ingenieria_con_errores.xlsx to estudiantes_ingenieria_con_errores.xlsx\n"
          ]
        }
      ],
      "source": [
        "from google.colab import files\n",
        "uploaded = files.upload()"
      ]
    },
    {
      "cell_type": "code",
      "execution_count": null,
      "metadata": {
        "id": "UsQqKU4dlPH5"
      },
      "outputs": [],
      "source": [
        "import pandas as pd\n",
        "import numpy as np\n",
        "import unicodedata\n",
        "import re"
      ]
    },
    {
      "cell_type": "code",
      "execution_count": null,
      "metadata": {
        "colab": {
          "base_uri": "https://localhost:8080/"
        },
        "id": "h9hWKvh6mAJd",
        "outputId": "eda76dbc-5076-48d7-da38-2957d730447c"
      },
      "outputs": [
        {
          "output_type": "stream",
          "name": "stdout",
          "text": [
            "Ocurrió un error al cargar el archivo: name 'pd' is not defined\n"
          ]
        }
      ],
      "source": [
        "nombre_archivo = 'estudiantes_ingenieria_con_errores.xlsx'\n",
        "try:\n",
        "    df = pd.read_excel(nombre_archivo)\n",
        "    print(\"Archivo cargado exitosamente.\")\n",
        "except FileNotFoundError:\n",
        "    print(f\"Error: El archivo '{nombre_archivo}' no fue encontrado. Asegúrate de haberlo subido y que el nombre sea correcto.\")\n",
        "except Exception as e:\n",
        "    print(f\"Ocurrió un error al cargar el archivo: {e}\")"
      ]
    },
    {
      "cell_type": "code",
      "execution_count": null,
      "metadata": {
        "colab": {
          "base_uri": "https://localhost:8080/"
        },
        "id": "7x4kX0w7m8YI",
        "outputId": "d77bf8ca-eabc-421a-db77-ac2867f407fd"
      },
      "outputs": [
        {
          "name": "stdout",
          "output_type": "stream",
          "text": [
            "Primeras 5 filas del DataFrame original:\n",
            "  Nombre del Estudiante Edad Fecha de Nacimiento Género  \\\n",
            "0                   NaN  NaN                 NaN    NaN   \n",
            "1             abad vega   23          04/09/2002      f   \n",
            "2       abaneth lizcano   22          30/11/1988      M   \n",
            "3   abderraman martinez   18          02/11/2003      M   \n",
            "4     abdruval collazos   22          21/08/1969      F   \n",
            "\n",
            "                                  Email Ciudad de Nacimiento  \\\n",
            "0                                   NaN                  NaN   \n",
            "1                  abadvega@miemail.com            MonterÃ­a   \n",
            "2      abanethlizcano@miuniversidad.com                Yumbo   \n",
            "3  abderramanmartinez@miuniversidad.com             Rionegro   \n",
            "4            abdruvalcollazos@mihot.com             Girardot   \n",
            "\n",
            "  Deporte que Practica  Semestre Cursos Matriculados Créditos Aprobados  \\\n",
            "0                  NaN       NaN                 NaN                NaN   \n",
            "1            Bádminton       1.0                   6                 65   \n",
            "2           Baloncesto       3.0                 NaN                 45   \n",
            "3             Ciclismo       3.0                   5                 64   \n",
            "4   Patinaje velocidad       2.0                   6                 80   \n",
            "\n",
            "  Proyectos de Investigación Costo Matrícula Promedio Actual Tipo de empleo  \\\n",
            "0                        NaN             NaN             NaN            NaN   \n",
            "1                         SI         2450000             4.9      conductor   \n",
            "2                         sÍ         2300000             3.3         Mesero   \n",
            "3                         no         2500000             3.2        bombero   \n",
            "4                         SI       2.400.000             3.5        artista   \n",
            "\n",
            "  Jornada Estudio Interés estudiar posgrado  \n",
            "0             NaN                       NaN  \n",
            "1             DÍA                        SI  \n",
            "2        Nocturna                        sÍ  \n",
            "3        Nocturna                        no  \n",
            "4             DIA                        SI  \n",
            "\n",
            "Información general del DataFrame original:\n",
            "<class 'pandas.core.frame.DataFrame'>\n",
            "RangeIndex: 3804 entries, 0 to 3803\n",
            "Data columns (total 16 columns):\n",
            " #   Column                      Non-Null Count  Dtype  \n",
            "---  ------                      --------------  -----  \n",
            " 0   Nombre del Estudiante       3803 non-null   object \n",
            " 1   Edad                        3800 non-null   object \n",
            " 2   Fecha de Nacimiento         3803 non-null   object \n",
            " 3   Género                      3707 non-null   object \n",
            " 4   Email                       3803 non-null   object \n",
            " 5   Ciudad de Nacimiento        3803 non-null   object \n",
            " 6   Deporte que Practica        3803 non-null   object \n",
            " 7   Semestre                    3803 non-null   float64\n",
            " 8   Cursos Matriculados         3676 non-null   object \n",
            " 9   Créditos Aprobados          3777 non-null   object \n",
            " 10  Proyectos de Investigación  3803 non-null   object \n",
            " 11  Costo Matrícula             3803 non-null   object \n",
            " 12  Promedio Actual             3803 non-null   object \n",
            " 13  Tipo de empleo              3586 non-null   object \n",
            " 14  Jornada Estudio             3803 non-null   object \n",
            " 15  Interés estudiar posgrado   3803 non-null   object \n",
            "dtypes: float64(1), object(15)\n",
            "memory usage: 475.6+ KB\n",
            "\n",
            "Resumen estadístico original:\n",
            "       Nombre del Estudiante    Edad Fecha de Nacimiento Género  \\\n",
            "count                   3803  3800.0                3803   3707   \n",
            "unique                  3435    25.0                2942      4   \n",
            "top           maria gonzalez    20.0          01/01/1981      M   \n",
            "freq                       7   473.0                  26   1482   \n",
            "mean                     NaN     NaN                 NaN    NaN   \n",
            "std                      NaN     NaN                 NaN    NaN   \n",
            "min                      NaN     NaN                 NaN    NaN   \n",
            "25%                      NaN     NaN                 NaN    NaN   \n",
            "50%                      NaN     NaN                 NaN    NaN   \n",
            "75%                      NaN     NaN                 NaN    NaN   \n",
            "max                      NaN     NaN                 NaN    NaN   \n",
            "\n",
            "                          Email Ciudad de Nacimiento Deporte que Practica  \\\n",
            "count                      3803                 3803                 3803   \n",
            "unique                     3676                   79                   54   \n",
            "top     mariagonzalez@mihot.com                Mocoa               Fútbol   \n",
            "freq                          4                  106                  376   \n",
            "mean                        NaN                  NaN                  NaN   \n",
            "std                         NaN                  NaN                  NaN   \n",
            "min                         NaN                  NaN                  NaN   \n",
            "25%                         NaN                  NaN                  NaN   \n",
            "50%                         NaN                  NaN                  NaN   \n",
            "75%                         NaN                  NaN                  NaN   \n",
            "max                         NaN                  NaN                  NaN   \n",
            "\n",
            "           Semestre Cursos Matriculados Créditos Aprobados  \\\n",
            "count   3803.000000                3676               3777   \n",
            "unique          NaN                  11                 28   \n",
            "top             NaN                   6                 65   \n",
            "freq            NaN                1331                252   \n",
            "mean       4.878254                 NaN                NaN   \n",
            "std        2.799857                 NaN                NaN   \n",
            "min        1.000000                 NaN                NaN   \n",
            "25%        3.000000                 NaN                NaN   \n",
            "50%        5.000000                 NaN                NaN   \n",
            "75%        7.000000                 NaN                NaN   \n",
            "max       20.000000                 NaN                NaN   \n",
            "\n",
            "       Proyectos de Investigación Costo Matrícula Promedio Actual  \\\n",
            "count                        3803            3803            3803   \n",
            "unique                          8              18              27   \n",
            "top                            NO         2400000             3.1   \n",
            "freq                         1076             511             266   \n",
            "mean                          NaN             NaN             NaN   \n",
            "std                           NaN             NaN             NaN   \n",
            "min                           NaN             NaN             NaN   \n",
            "25%                           NaN             NaN             NaN   \n",
            "50%                           NaN             NaN             NaN   \n",
            "75%                           NaN             NaN             NaN   \n",
            "max                           NaN             NaN             NaN   \n",
            "\n",
            "       Tipo de empleo Jornada Estudio Interés estudiar posgrado  \n",
            "count            3586            3803                      3803  \n",
            "unique             35               9                         8  \n",
            "top         peluquero             DIA                        NO  \n",
            "freq              322            1167                      1076  \n",
            "mean              NaN             NaN                       NaN  \n",
            "std               NaN             NaN                       NaN  \n",
            "min               NaN             NaN                       NaN  \n",
            "25%               NaN             NaN                       NaN  \n",
            "50%               NaN             NaN                       NaN  \n",
            "75%               NaN             NaN                       NaN  \n",
            "max               NaN             NaN                       NaN  \n"
          ]
        }
      ],
      "source": [
        "print(\"Primeras 5 filas del DataFrame original:\")\n",
        "print(df.head())\n",
        "\n",
        "print(\"\\nInformación general del DataFrame original:\")\n",
        "df.info()\n",
        "\n",
        "print(\"\\nResumen estadístico original:\")\n",
        "print(df.describe(include='all'))"
      ]
    },
    {
      "cell_type": "markdown",
      "metadata": {
        "id": "YZTrAs3dnvkH"
      },
      "source": [
        "**Analisis de los resultado del DataFrame**\n",
        "\n",
        "*   El archivo se cargó correctamente.\n",
        "*   Se observa una fila inicial completamente vacía (llena de NaN).\n",
        "*   Los nombres de las columnas tienen mayúsculas, espacios y tildes (ej. \"Nombre del Estudiante\", \"Costo Matrícula\").\n",
        "*   La columna \"Ciudad de Nacimiento\" muestra caracteres extraños (ej. \"MonterÃ­a\"), lo que sugiere un problema de codificación o tipeo.\n",
        "*   La columna \"Edad\" está como float64, probablemente por los NaN. Debería ser un entero.\n",
        "*   Las columnas \"Proyectos de Investigación\" e \"Interés estudiar posgrado\" tienen valores como \"SI\" y \"sÍ\", necesitan estandarizarse.\n",
        "*   \"Costo Matrícula\" y \"Promedio Actual\" parecen numéricos pero podrían tener formatos inconsistentes no visibles en las primeras 5 filas.\n"
      ]
    },
    {
      "cell_type": "code",
      "execution_count": null,
      "metadata": {
        "colab": {
          "base_uri": "https://localhost:8080/"
        },
        "id": "YQMBXjaxoz3q",
        "outputId": "6cdf0b1f-0387-4e68-af28-bed78bc25ead"
      },
      "outputs": [
        {
          "name": "stdout",
          "output_type": "stream",
          "text": [
            "Filas antes de eliminar vacías: 3804\n",
            "Filas después de eliminar vacías: 3803\n"
          ]
        }
      ],
      "source": [
        "print(f\"Filas antes de eliminar vacías: {len(df)}\")\n",
        "df.dropna(how='all', inplace=True)\n",
        "print(f\"Filas después de eliminar vacías: {len(df)}\")"
      ]
    },
    {
      "cell_type": "code",
      "execution_count": null,
      "metadata": {
        "colab": {
          "base_uri": "https://localhost:8080/"
        },
        "id": "ye4XypMtp0jQ",
        "outputId": "7758724a-ea66-4b43-97a0-3ba4d07bd3b4"
      },
      "outputs": [
        {
          "name": "stdout",
          "output_type": "stream",
          "text": [
            "Placeholders comunes como '*', 'N/D', cadenas vacías y 'nan' (texto) reemplazados por np.nan.\n"
          ]
        }
      ],
      "source": [
        "df.replace(['*', '#N/A', 'N/D', 'nan', ''], np.nan, inplace=True)\n",
        "print(\"Placeholders comunes como '*', 'N/D', cadenas vacías y 'nan' (texto) reemplazados por np.nan.\")"
      ]
    },
    {
      "cell_type": "code",
      "execution_count": null,
      "metadata": {
        "colab": {
          "base_uri": "https://localhost:8080/"
        },
        "id": "K7GFosVKqFpY",
        "outputId": "a486b4a7-c3a1-4a47-a152-e691da131bb2"
      },
      "outputs": [
        {
          "name": "stdout",
          "output_type": "stream",
          "text": [
            "Puntos eliminados de 'Costo Matrícula' (si existían). La conversión a numérico se hará en el Paso 4.\n",
            "Comas reemplazadas por puntos en 'Promedio Actual' (si existían). La conversión a numérico se hará en el Paso 4.\n"
          ]
        }
      ],
      "source": [
        "\n",
        "if 'Costo Matrícula' in df.columns:\n",
        "    df['Costo Matrícula'] = df['Costo Matrícula'].astype(str)\n",
        "    # Eliminar puntos (que podrían ser separadores de miles)\n",
        "    df['Costo Matrícula'] = df['Costo Matrícula'].str.replace('.', '', regex=False)\n",
        "    print(\"Puntos eliminados de 'Costo Matrícula' (si existían). La conversión a numérico se hará en el Paso 4.\")\n",
        "else:\n",
        "    print(\"Columna 'Costo Matrícula' no encontrada con ese nombre exacto.\")\n",
        "\n",
        "if 'Promedio Actual' in df.columns: # Uso el nombre original\n",
        "    df['Promedio Actual'] = df['Promedio Actual'].astype(str)\n",
        "    df['Promedio Actual'] = df['Promedio Actual'].str.replace(',', '.', regex=False)\n",
        "    print(\"Comas reemplazadas por puntos en 'Promedio Actual' (si existían). La conversión a numérico se hará en el Paso 4.\")\n",
        "else:\n",
        "    print(\"Columna 'Promedio Actual' no encontrada con ese nombre exacto.\")"
      ]
    },
    {
      "cell_type": "markdown",
      "metadata": {
        "id": "D9sFt3tiq8h0"
      },
      "source": [
        "**Eliminación de Registros No Válidos y Correcciones Iniciales**\n",
        "\n",
        "*   Se eliminaron las filas completamente vacías.\n",
        "*   Se reemplazaron placeholders comunes ('*', 'N/D', 'nan' como texto, cadenas vacías) por `np.nan`.\n",
        "*   Se preparó el código para eliminar puntos de 'Costo Matrícula' y estandarizar decimales en 'Promedio Actual', aunque en la muestra inicial estos problemas no eran evidentes, se sigue la guía del ejercicio."
      ]
    },
    {
      "cell_type": "code",
      "execution_count": null,
      "metadata": {
        "colab": {
          "base_uri": "https://localhost:8080/"
        },
        "id": "827_6A2s_kJT",
        "outputId": "23d06bf4-84a3-4f9b-c423-dd4aac0bbd3e"
      },
      "outputs": [
        {
          "name": "stdout",
          "output_type": "stream",
          "text": [
            "Nombres de columnas originales: ['Nombre del Estudiante', 'Edad', 'Fecha de Nacimiento', 'Género', 'Email', 'Ciudad de Nacimiento', 'Deporte que Practica', 'Semestre', 'Cursos Matriculados', 'Créditos Aprobados', 'Proyectos de Investigación', 'Costo Matrícula', 'Promedio Actual', 'Tipo de empleo', 'Jornada Estudio', 'Interés estudiar posgrado']\n",
            "Nombres de columnas estandarizados: ['nombre_del_estudiante', 'edad', 'fecha_de_nacimiento', 'genero', 'email', 'ciudad_de_nacimiento', 'deporte_que_practica', 'semestre', 'cursos_matriculados', 'creditos_aprobados', 'proyectos_de_investigacion', 'costo_matricula', 'promedio_actual', 'tipo_de_empleo', 'jornada_estudio', 'interes_estudiar_posgrado']\n"
          ]
        }
      ],
      "source": [
        "print(\"Nombres de columnas originales:\", df.columns.tolist())\n",
        "\n",
        "def limpiar_nombre_columna(col_name):\n",
        "    col_name = str(col_name).lower() #Convertir a minúsculas\n",
        "#Quitar tildes y caracteres diacríticos\n",
        "    col_name = unicodedata.normalize('NFKD', col_name).encode('ascii', 'ignore').decode('utf-8')\n",
        "#Reemplazar espacios con guion bajo\n",
        "    col_name = col_name.replace(' ', '_')\n",
        "#Eliminar cualquier caracter que no sea letra minúscula, número o guion bajo\n",
        "    col_name = re.sub(r'[^a-z0-9_]', '', col_name)\n",
        "    return col_name\n",
        "\n",
        "df.columns = [limpiar_nombre_columna(col) for col in df.columns]\n",
        "print(\"Nombres de columnas estandarizados:\", df.columns.tolist())"
      ]
    },
    {
      "cell_type": "code",
      "execution_count": null,
      "metadata": {
        "colab": {
          "base_uri": "https://localhost:8080/"
        },
        "id": "JjH6-vzNBGFS",
        "outputId": "0bbbd2ff-1e15-434b-a42f-183fa7f46927"
      },
      "outputs": [
        {
          "name": "stdout",
          "output_type": "stream",
          "text": [
            "Columna 'nombre_del_estudiante' separada en 'nombres' y 'apellidos'.\n",
            "Primeras filas de las nuevas columnas 'nombres' y 'apellidos':\n",
            "      nombres apellidos\n",
            "1        abad      vega\n",
            "2     abaneth   lizcano\n",
            "3  abderraman  martinez\n",
            "4    abdruval  collazos\n",
            "5        abel   sanchez\n"
          ]
        }
      ],
      "source": [
        "if 'nombre_del_estudiante' in df.columns:\n",
        "    df['nombre_del_estudiante'] = df['nombre_del_estudiante'].astype(str) # Asegurar que sea texto\n",
        "\n",
        "    split_names = df['nombre_del_estudiante'].str.split(' ', n=1, expand=True)\n",
        "\n",
        "    df['nombres'] = split_names[0] # La primera parte es el nombre\n",
        "    df['apellidos'] = split_names[1] # La segunda parte (el resto) son los apellidos\n",
        "\n",
        "    # Limpiar posibles 'nan' de texto que resultaron de la conversión a string\n",
        "    df.loc[df['nombres'] == 'nan', 'nombres'] = np.nan\n",
        "    df.loc[df['apellidos'] == 'nan', 'apellidos'] = np.nan\n",
        "    df.loc[df['apellidos'].isnull(), 'apellidos'] = np.nan # Si no hubo segundo nombre/apellido, asegurar que sea NaN\n",
        "\n",
        "    print(\"Columna 'nombre_del_estudiante' separada en 'nombres' y 'apellidos'.\")\n",
        "    print(\"Primeras filas de las nuevas columnas 'nombres' y 'apellidos':\")\n",
        "    print(df[['nombres', 'apellidos']].head())\n",
        "\n",
        "else:\n",
        "    print(\"Columna 'nombre_del_estudiante' no encontrada para separación.\")"
      ]
    },
    {
      "cell_type": "code",
      "execution_count": null,
      "metadata": {
        "colab": {
          "base_uri": "https://localhost:8080/"
        },
        "id": "Kjdeon0jCHSf",
        "outputId": "29308f9d-c348-4668-bd6d-ae1cf43bb623"
      },
      "outputs": [
        {
          "name": "stdout",
          "output_type": "stream",
          "text": [
            "\n",
            "Tipos de datos después de estandarizar nombres y separar (antes de limpieza específica por columna):\n",
            "<class 'pandas.core.frame.DataFrame'>\n",
            "Index: 3803 entries, 1 to 3803\n",
            "Data columns (total 18 columns):\n",
            " #   Column                      Non-Null Count  Dtype  \n",
            "---  ------                      --------------  -----  \n",
            " 0   nombre_del_estudiante       3803 non-null   object \n",
            " 1   edad                        3800 non-null   object \n",
            " 2   fecha_de_nacimiento         3803 non-null   object \n",
            " 3   genero                      3707 non-null   object \n",
            " 4   email                       3803 non-null   object \n",
            " 5   ciudad_de_nacimiento        3803 non-null   object \n",
            " 6   deporte_que_practica        3803 non-null   object \n",
            " 7   semestre                    3803 non-null   float64\n",
            " 8   cursos_matriculados         3676 non-null   object \n",
            " 9   creditos_aprobados          3777 non-null   object \n",
            " 10  proyectos_de_investigacion  3803 non-null   object \n",
            " 11  costo_matricula             3803 non-null   object \n",
            " 12  promedio_actual             3803 non-null   object \n",
            " 13  tipo_de_empleo              3586 non-null   object \n",
            " 14  jornada_estudio             3803 non-null   object \n",
            " 15  interes_estudiar_posgrado   3803 non-null   object \n",
            " 16  nombres                     3803 non-null   object \n",
            " 17  apellidos                   3803 non-null   object \n",
            "dtypes: float64(1), object(17)\n",
            "memory usage: 564.5+ KB\n"
          ]
        }
      ],
      "source": [
        "print(\"\\nTipos de datos después de estandarizar nombres y separar (antes de limpieza específica por columna):\")\n",
        "df.info()"
      ]
    },
    {
      "cell_type": "markdown",
      "metadata": {
        "id": "floklifuCRaM"
      },
      "source": [
        "Paso 3: Estandarización de Columnas\n",
        "\n",
        "*   Los nombres de las columnas se convirtieron a minúsculas, se quitaron tildes y caracteres especiales, y los espacios se reemplazaron por guiones bajos.\n",
        "*   La columna `nombre_del_estudiante` se separó en `nombres` y `apellidos`.\n",
        "*   Se revisaron los tipos de datos preliminarmente. La corrección final de tipos se hará en el siguiente paso."
      ]
    },
    {
      "cell_type": "code",
      "execution_count": null,
      "metadata": {
        "colab": {
          "base_uri": "https://localhost:8080/"
        },
        "id": "FywFfqPxClGS",
        "outputId": "126eb4f9-cd48-428b-e4b8-75b69b9ba671"
      },
      "outputs": [
        {
          "name": "stdout",
          "output_type": "stream",
          "text": [
            "Columna 'edad' limpiada.\n",
            "Valores únicos en 'edad' (muestra): <IntegerArray>\n",
            "[23, 22, 18, 19, 17, 20, 27, 26, 24, 30, 21, 25, 28, 31, <NA>, 29, 16]\n",
            "Length: 17, dtype: Int64\n",
            "Descripción de 'edad':\n",
            "count       3795.0\n",
            "mean     21.198419\n",
            "std       3.171582\n",
            "min           16.0\n",
            "25%           19.0\n",
            "50%           21.0\n",
            "75%           23.0\n",
            "max           31.0\n",
            "Name: edad, dtype: Float64\n"
          ]
        }
      ],
      "source": [
        "if 'edad' in df.columns:\n",
        "\n",
        "    df['edad'] = pd.to_numeric(df['edad'], errors='coerce')\n",
        "\n",
        "    df.loc[(df['edad'] <= 10) | (df['edad'] > 80), 'edad'] = np.nan\n",
        "    df['edad'] = df['edad'].astype('Int64')\n",
        "\n",
        "    print(\"Columna 'edad' limpiada.\")\n",
        "    print(\"Valores únicos en 'edad' (muestra):\", df['edad'].unique()[:20]) # Muestra los primeros 20 valores únicos\n",
        "    print(\"Descripción de 'edad':\")\n",
        "    print(df['edad'].describe())\n",
        "else:\n",
        "    print(\"Columna 'edad' no encontrada.\")"
      ]
    },
    {
      "cell_type": "code",
      "execution_count": null,
      "metadata": {
        "colab": {
          "base_uri": "https://localhost:8080/"
        },
        "id": "oocloyOMDDfw",
        "outputId": "a739b1bd-7850-4d97-b59c-d7db5aaf818e"
      },
      "outputs": [
        {
          "name": "stdout",
          "output_type": "stream",
          "text": [
            "Columna 'genero' limpiada.\n",
            "Valores únicos en 'genero': ['F' 'M' nan]\n",
            "Conteo de valores en 'genero':\n",
            "genero\n",
            "F      1603\n",
            "M      1482\n",
            "NaN     718\n",
            "Name: count, dtype: int64\n"
          ]
        }
      ],
      "source": [
        "if 'genero' in df.columns:\n",
        "\n",
        "    df['genero'] = df['genero'].astype(str).str.strip().str.upper()\n",
        "\n",
        "    genero_map = {\n",
        "        'F': 'F', 'FEMENINO': 'F', 'MUJER': 'F', # Valores para Femenino\n",
        "        'M': 'M', 'MASCULINO': 'M', 'HOMBRE': 'M', # Valores para Masculino\n",
        "        'NAN': np.nan # Si 'nan' (texto) quedó de la conversión a str\n",
        "    }\n",
        "    df['genero'] = df['genero'].replace(genero_map)\n",
        "\n",
        "\n",
        "    df.loc[~df['genero'].isin(['M', 'F']), 'genero'] = np.nan\n",
        "\n",
        "    print(\"Columna 'genero' limpiada.\")\n",
        "    print(\"Valores únicos en 'genero':\", df['genero'].unique())\n",
        "    print(\"Conteo de valores en 'genero':\")\n",
        "    print(df['genero'].value_counts(dropna=False)) # dropna=False para incluir conteo de NaN\n",
        "else:\n",
        "    print(\"Columna 'genero' no encontrada.\")"
      ]
    },
    {
      "cell_type": "code",
      "execution_count": null,
      "metadata": {
        "colab": {
          "base_uri": "https://localhost:8080/"
        },
        "id": "hF4vPaeVDca2",
        "outputId": "353b9913-957c-45fc-c64d-c1d8d3ecaa5d"
      },
      "outputs": [
        {
          "name": "stdout",
          "output_type": "stream",
          "text": [
            "Columna 'ciudad_de_nacimiento' limpiada.\n",
            "Valores únicos en 'ciudad_de_nacimiento' (muestra de los más frecuentes):\n",
            "ciudad_de_nacimiento\n",
            "Mocoa           106\n",
            "Quibdó           99\n",
            "Palmira          99\n",
            "Yopal            97\n",
            "Ibagué           94\n",
            "Barranquilla     93\n",
            "Santa Marta      91\n",
            "Florencia        91\n",
            "Apartadó         90\n",
            "Cúcuta           90\n",
            "Name: count, dtype: int64\n"
          ]
        }
      ],
      "source": [
        "if 'ciudad_de_nacimiento' in df.columns:\n",
        "    df['ciudad_de_nacimiento'] = df['ciudad_de_nacimiento'].astype(str).str.strip()\n",
        "\n",
        "    def corregir_ciudad(ciudad_str):\n",
        "        if pd.isna(ciudad_str) or ciudad_str.lower() == 'nan':\n",
        "            return np.nan\n",
        "\n",
        "        ciudad_str = ciudad_str.replace('Ã\\xada', 'ía').replace('Ã©', 'é')\n",
        "        ciudad_str = ciudad_str.replace('Ã¡', 'á').replace('Ã³', 'ó')\n",
        "        ciudad_str = ciudad_str.replace('Ãº', 'ú').replace('Ã±', 'ñ')\n",
        "        ciudad_str = ciudad_str.replace('MonterÃ­a', 'Montería')\n",
        "        ciudad_str = ciudad_str.replace('BogotÃ¡', 'Bogotá')\n",
        "\n",
        "        correcciones_ciudad_map = {\n",
        "            'bogota d.c.': 'Bogotá', # Estandarizar a Bogotá con tilde\n",
        "            'sta marta': 'Santa Marta',\n",
        "            'monteria': 'Montería', # Si después de la corrección de arriba queda sin tilde\n",
        "            'yumbo': 'Yumbo'\n",
        "        }\n",
        "        ciudad_lower_temp = ciudad_str.lower() # Convertir a minúscula para buscar en el mapa\n",
        "        if ciudad_lower_temp in correcciones_ciudad_map:\n",
        "            ciudad_str = correcciones_ciudad_map[ciudad_lower_temp]\n",
        "\n",
        "        ciudad_str = re.sub(r'[^a-zA-ZáéíóúÁÉÍÓÚñÑ\\s]', '', ciudad_str).strip()\n",
        "\n",
        "        # Capitalizar la primera letra de cada palabra (ej. \"santa marta\" -> \"Santa Marta\")\n",
        "        return ciudad_str.title() if ciudad_str else np.nan\n",
        "\n",
        "    df['ciudad_de_nacimiento'] = df['ciudad_de_nacimiento'].apply(corregir_ciudad)\n",
        "    df.loc[df['ciudad_de_nacimiento'] == '', 'ciudad_de_nacimiento'] = np.nan\n",
        "\n",
        "    print(\"Columna 'ciudad_de_nacimiento' limpiada.\")\n",
        "    print(\"Valores únicos en 'ciudad_de_nacimiento' (muestra de los más frecuentes):\")\n",
        "    print(df['ciudad_de_nacimiento'].value_counts().head(10)) # Muestra los 10 más frecuentes\n",
        "else:\n",
        "    print(\"Columna 'ciudad_de_nacimiento' no encontrada.\")"
      ]
    },
    {
      "cell_type": "code",
      "execution_count": null,
      "metadata": {
        "colab": {
          "base_uri": "https://localhost:8080/"
        },
        "id": "fnTc8MjgD8Cz",
        "outputId": "608c908c-4925-4785-b8a9-ba7b4880326e"
      },
      "outputs": [
        {
          "name": "stdout",
          "output_type": "stream",
          "text": [
            "Columna 'semestre' limpiada.\n",
            "Valores únicos en 'semestre': <IntegerArray>\n",
            "[1, 3, 2, 8, 7, 6, 5, 4, 9, <NA>]\n",
            "Length: 10, dtype: Int64\n",
            "Descripción de 'semestre':\n",
            "count      3749.0\n",
            "mean     4.728194\n",
            "std      2.494927\n",
            "min           1.0\n",
            "25%           3.0\n",
            "50%           5.0\n",
            "75%           7.0\n",
            "max           9.0\n",
            "Name: semestre, dtype: Float64\n"
          ]
        }
      ],
      "source": [
        "if 'semestre' in df.columns:\n",
        "    df['semestre'] = pd.to_numeric(df['semestre'], errors='coerce')\n",
        "    # Validar que esté entre 1 y 10 (o el máximo del plan de estudios)\n",
        "    df.loc[(df['semestre'] < 1) | (df['semestre'] > 10), 'semestre'] = np.nan # Se toma como referencias que 10 semestre es lo maximo.\n",
        "    df['semestre'] = df['semestre'].astype('Int64')\n",
        "\n",
        "    print(\"Columna 'semestre' limpiada.\")\n",
        "    print(\"Valores únicos en 'semestre':\", df['semestre'].unique())\n",
        "    print(\"Descripción de 'semestre':\")\n",
        "    print(df['semestre'].describe())\n",
        "else:\n",
        "    print(\"Columna 'semestre' no encontrada.\")"
      ]
    },
    {
      "cell_type": "code",
      "execution_count": null,
      "metadata": {
        "colab": {
          "base_uri": "https://localhost:8080/"
        },
        "id": "Y7_F5iaoELWz",
        "outputId": "ee99d10a-fd9e-4f3c-8f8f-55adba252e01"
      },
      "outputs": [
        {
          "name": "stdout",
          "output_type": "stream",
          "text": [
            "Columna 'promedio_actual' limpiada.\n",
            "Descripción de 'promedio_actual':\n",
            "count    3792.000000\n",
            "mean        3.652294\n",
            "std         0.570611\n",
            "min         2.800000\n",
            "25%         3.200000\n",
            "50%         3.600000\n",
            "75%         4.000000\n",
            "max         5.000000\n",
            "Name: promedio_actual, dtype: float64\n"
          ]
        }
      ],
      "source": [
        "if 'promedio_actual' in df.columns:\n",
        "\n",
        "    df['promedio_actual'] = df['promedio_actual'].astype(str)\n",
        "    df['promedio_actual'] = df['promedio_actual'].str.replace(',', '.', regex=False)\n",
        "    df['promedio_actual'] = pd.to_numeric(df['promedio_actual'], errors='coerce')\n",
        "    df.loc[(df['promedio_actual'] < 0) | (df['promedio_actual'] > 5), 'promedio_actual'] = np.nan\n",
        "\n",
        "    print(\"Columna 'promedio_actual' limpiada.\")\n",
        "    print(\"Descripción de 'promedio_actual':\")\n",
        "    print(df['promedio_actual'].describe())\n",
        "else:\n",
        "    print(\"Columna 'promedio_actual' no encontrada.\")"
      ]
    },
    {
      "cell_type": "code",
      "execution_count": null,
      "metadata": {
        "colab": {
          "base_uri": "https://localhost:8080/"
        },
        "id": "5a9evyyEEZLL",
        "outputId": "0eb3f6cb-b18f-470a-821b-ebb52cece116"
      },
      "outputs": [
        {
          "name": "stdout",
          "output_type": "stream",
          "text": [
            "Columna 'costo_matricula' limpiada.\n",
            "Descripción de 'costo_matricula':\n",
            "count            3675.0\n",
            "mean     2491183.673469\n",
            "std       184253.079589\n",
            "min           2100000.0\n",
            "25%           2400000.0\n",
            "50%           2500000.0\n",
            "75%           2650000.0\n",
            "max           2800000.0\n",
            "Name: costo_matricula, dtype: Float64\n"
          ]
        }
      ],
      "source": [
        "if 'costo_matricula' in df.columns:\n",
        "\n",
        "    df['costo_matricula'] = df['costo_matricula'].astype(str)\n",
        "    df['costo_matricula'] = df['costo_matricula'].str.replace('.', '', regex=False) # Para separadores de miles\n",
        "    df['costo_matricula'] = df['costo_matricula'].str.replace('$', '', regex=False) # Símbolo de peso\n",
        "    df['costo_matricula'] = df['costo_matricula'].str.replace(r'[^\\d]', '', regex=True)\n",
        "    df['costo_matricula'] = pd.to_numeric(df['costo_matricula'], errors='coerce')\n",
        "\n",
        "    df['costo_matricula'] = df['costo_matricula'].astype('Int64')\n",
        "\n",
        "    print(\"Columna 'costo_matricula' limpiada.\")\n",
        "    print(\"Descripción de 'costo_matricula':\")\n",
        "    print(df['costo_matricula'].describe())\n",
        "else:\n",
        "    print(\"Columna 'costo_matricula' no encontrada.\")"
      ]
    },
    {
      "cell_type": "markdown",
      "metadata": {
        "id": "k1KBBDX5FIyP"
      },
      "source": [
        "Limpieza Específica por Columna\n",
        "\n",
        "*   **edad:** Convertida a numérico Int64, valores fuera de rango (<=10 o >80) a NaN.\n",
        "*   **genero:** Estandarizado a 'M', 'F', o NaN.\n",
        "*   **ciudad_de_nacimiento:** Se corrigieron caracteres especiales (ej. 'MonterÃ­a' a 'Montería'), se eliminaron caracteres no alfabéticos y se capitalizó.\n",
        "*   **semestre:** Convertido a numérico Int64, valores fuera de rango (1-10) a NaN.\n",
        "*   **promedio_actual:** Convertido a numérico float, comas reemplazadas por puntos, valores fuera de rango (0-5) a NaN.\n",
        "*   **costo_matricula:** Convertido a numérico Int64, eliminados puntos y símbolos de moneda."
      ]
    },
    {
      "cell_type": "code",
      "execution_count": null,
      "metadata": {
        "colab": {
          "base_uri": "https://localhost:8080/"
        },
        "id": "2RHFuOMZFZvC",
        "outputId": "82e837b0-2cba-4113-868d-8bc14938dae8"
      },
      "outputs": [
        {
          "name": "stdout",
          "output_type": "stream",
          "text": [
            "\n",
            "DataFrame final (primeras 5 filas):\n",
            "  nombre_del_estudiante  edad fecha_de_nacimiento genero  \\\n",
            "1             abad vega    23          04/09/2002      F   \n",
            "2       abaneth lizcano    22          30/11/1988      M   \n",
            "3   abderraman martinez    18          02/11/2003      M   \n",
            "4     abdruval collazos    22          21/08/1969      F   \n",
            "5          abel sanchez    19          11/01/2006      M   \n",
            "\n",
            "                                  email ciudad_de_nacimiento  \\\n",
            "1                  abadvega@miemail.com             Montería   \n",
            "2      abanethlizcano@miuniversidad.com                Yumbo   \n",
            "3  abderramanmartinez@miuniversidad.com             Rionegro   \n",
            "4            abdruvalcollazos@mihot.com             Girardot   \n",
            "5                 abelsanchez@mihot.com                Pasto   \n",
            "\n",
            "  deporte_que_practica  semestre cursos_matriculados creditos_aprobados  \\\n",
            "1            Bádminton         1                   6                 65   \n",
            "2           Baloncesto         3                 NaN                 45   \n",
            "3             Ciclismo         3                   5                 64   \n",
            "4   Patinaje velocidad         2                   6                 80   \n",
            "5                 Tejo         8                   6                 39   \n",
            "\n",
            "  proyectos_de_investigacion  costo_matricula  promedio_actual tipo_de_empleo  \\\n",
            "1                         SI          2450000              4.9      conductor   \n",
            "2                         sÍ          2300000              3.3         Mesero   \n",
            "3                         no          2500000              3.2        bombero   \n",
            "4                         SI          2400000              3.5        artista   \n",
            "5                         NO          2650000              3.2      peluquero   \n",
            "\n",
            "  jornada_estudio interes_estudiar_posgrado     nombres apellidos  \n",
            "1             DÍA                        SI        abad      vega  \n",
            "2        Nocturna                        sÍ     abaneth   lizcano  \n",
            "3        Nocturna                        no  abderraman  martinez  \n",
            "4             DIA                        SI    abdruval  collazos  \n",
            "5        Nocturna                        NO        abel   sanchez  \n",
            "\n",
            "Información del DataFrame final:\n",
            "<class 'pandas.core.frame.DataFrame'>\n",
            "Index: 3803 entries, 1 to 3803\n",
            "Data columns (total 18 columns):\n",
            " #   Column                      Non-Null Count  Dtype  \n",
            "---  ------                      --------------  -----  \n",
            " 0   nombre_del_estudiante       3803 non-null   object \n",
            " 1   edad                        3795 non-null   Int64  \n",
            " 2   fecha_de_nacimiento         3803 non-null   object \n",
            " 3   genero                      3085 non-null   object \n",
            " 4   email                       3803 non-null   object \n",
            " 5   ciudad_de_nacimiento        3803 non-null   object \n",
            " 6   deporte_que_practica        3803 non-null   object \n",
            " 7   semestre                    3749 non-null   Int64  \n",
            " 8   cursos_matriculados         3676 non-null   object \n",
            " 9   creditos_aprobados          3777 non-null   object \n",
            " 10  proyectos_de_investigacion  3803 non-null   object \n",
            " 11  costo_matricula             3675 non-null   Int64  \n",
            " 12  promedio_actual             3792 non-null   float64\n",
            " 13  tipo_de_empleo              3586 non-null   object \n",
            " 14  jornada_estudio             3803 non-null   object \n",
            " 15  interes_estudiar_posgrado   3803 non-null   object \n",
            " 16  nombres                     3803 non-null   object \n",
            " 17  apellidos                   3803 non-null   object \n",
            "dtypes: Int64(3), float64(1), object(14)\n",
            "memory usage: 575.6+ KB\n",
            "\n",
            "Resumen estadístico del DataFrame final:\n",
            "       nombre_del_estudiante       edad fecha_de_nacimiento genero  \\\n",
            "count                   3803     3795.0                3803   3085   \n",
            "unique                  3435       <NA>                2942      2   \n",
            "top           maria gonzalez       <NA>          01/01/1981      F   \n",
            "freq                       7       <NA>                  26   1603   \n",
            "mean                     NaN  21.198419                 NaN    NaN   \n",
            "std                      NaN   3.171582                 NaN    NaN   \n",
            "min                      NaN       16.0                 NaN    NaN   \n",
            "25%                      NaN       19.0                 NaN    NaN   \n",
            "50%                      NaN       21.0                 NaN    NaN   \n",
            "75%                      NaN       23.0                 NaN    NaN   \n",
            "max                      NaN       31.0                 NaN    NaN   \n",
            "\n",
            "                          email ciudad_de_nacimiento deporte_que_practica  \\\n",
            "count                      3803                 3803                 3803   \n",
            "unique                     3676                   74                   54   \n",
            "top     mariagonzalez@mihot.com                Mocoa               Fútbol   \n",
            "freq                          4                  106                  376   \n",
            "mean                        NaN                  NaN                  NaN   \n",
            "std                         NaN                  NaN                  NaN   \n",
            "min                         NaN                  NaN                  NaN   \n",
            "25%                         NaN                  NaN                  NaN   \n",
            "50%                         NaN                  NaN                  NaN   \n",
            "75%                         NaN                  NaN                  NaN   \n",
            "max                         NaN                  NaN                  NaN   \n",
            "\n",
            "        semestre cursos_matriculados creditos_aprobados  \\\n",
            "count     3749.0                3676               3777   \n",
            "unique      <NA>                  11                 28   \n",
            "top         <NA>                   6                 65   \n",
            "freq        <NA>                1331                252   \n",
            "mean    4.728194                 NaN                NaN   \n",
            "std     2.494927                 NaN                NaN   \n",
            "min          1.0                 NaN                NaN   \n",
            "25%          3.0                 NaN                NaN   \n",
            "50%          5.0                 NaN                NaN   \n",
            "75%          7.0                 NaN                NaN   \n",
            "max          9.0                 NaN                NaN   \n",
            "\n",
            "       proyectos_de_investigacion  costo_matricula  promedio_actual  \\\n",
            "count                        3803           3675.0      3792.000000   \n",
            "unique                          8             <NA>              NaN   \n",
            "top                            NO             <NA>              NaN   \n",
            "freq                         1076             <NA>              NaN   \n",
            "mean                          NaN   2491183.673469         3.652294   \n",
            "std                           NaN    184253.079589         0.570611   \n",
            "min                           NaN        2100000.0         2.800000   \n",
            "25%                           NaN        2400000.0         3.200000   \n",
            "50%                           NaN        2500000.0         3.600000   \n",
            "75%                           NaN        2650000.0         4.000000   \n",
            "max                           NaN        2800000.0         5.000000   \n",
            "\n",
            "       tipo_de_empleo jornada_estudio interes_estudiar_posgrado nombres  \\\n",
            "count            3586            3803                      3803    3803   \n",
            "unique             35               9                         8     917   \n",
            "top         peluquero             DIA                        NO   maria   \n",
            "freq              322            1167                      1076     176   \n",
            "mean              NaN             NaN                       NaN     NaN   \n",
            "std               NaN             NaN                       NaN     NaN   \n",
            "min               NaN             NaN                       NaN     NaN   \n",
            "25%               NaN             NaN                       NaN     NaN   \n",
            "50%               NaN             NaN                       NaN     NaN   \n",
            "75%               NaN             NaN                       NaN     NaN   \n",
            "max               NaN             NaN                       NaN     NaN   \n",
            "\n",
            "       apellidos  \n",
            "count       3803  \n",
            "unique       801  \n",
            "top      sanchez  \n",
            "freq          79  \n",
            "mean         NaN  \n",
            "std          NaN  \n",
            "min          NaN  \n",
            "25%          NaN  \n",
            "50%          NaN  \n",
            "75%          NaN  \n",
            "max          NaN  \n",
            "\n",
            "Conteo de valores NaN por columna en el DataFrame final:\n",
            "nombre_del_estudiante           0\n",
            "edad                            8\n",
            "fecha_de_nacimiento             0\n",
            "genero                        718\n",
            "email                           0\n",
            "ciudad_de_nacimiento            0\n",
            "deporte_que_practica            0\n",
            "semestre                       54\n",
            "cursos_matriculados           127\n",
            "creditos_aprobados             26\n",
            "proyectos_de_investigacion      0\n",
            "costo_matricula               128\n",
            "promedio_actual                11\n",
            "tipo_de_empleo                217\n",
            "jornada_estudio                 0\n",
            "interes_estudiar_posgrado       0\n",
            "nombres                         0\n",
            "apellidos                       0\n",
            "dtype: int64\n"
          ]
        }
      ],
      "source": [
        "print(\"\\nDataFrame final (primeras 5 filas):\")\n",
        "print(df.head())\n",
        "\n",
        "print(\"\\nInformación del DataFrame final:\")\n",
        "df.info()\n",
        "\n",
        "print(\"\\nResumen estadístico del DataFrame final:\")\n",
        "print(df.describe(include='all'))\n",
        "\n",
        "print(\"\\nConteo de valores NaN por columna en el DataFrame final:\")\n",
        "print(df.isnull().sum())"
      ]
    },
    {
      "cell_type": "code",
      "execution_count": null,
      "metadata": {
        "colab": {
          "base_uri": "https://localhost:8080/"
        },
        "id": "LfAWfgBRGSQ_",
        "outputId": "7493c21e-9e00-47f3-e4b0-d602ddbfa224"
      },
      "outputs": [
        {
          "name": "stdout",
          "output_type": "stream",
          "text": [
            "\n",
            "Archivo limpio guardado en el entorno de Colab como 'estudiantes_ingenieria_limpios.xlsx'\n"
          ]
        }
      ],
      "source": [
        "nombre_archivo_limpio = 'estudiantes_ingenieria_limpios.xlsx'\n",
        "df_para_guardar = df.copy()\n",
        "df_para_guardar.to_excel(nombre_archivo_limpio, index=False)\n",
        "print(f\"\\nArchivo limpio guardado en el entorno de Colab como '{nombre_archivo_limpio}'\")"
      ]
    },
    {
      "cell_type": "code",
      "execution_count": null,
      "metadata": {
        "colab": {
          "base_uri": "https://localhost:8080/",
          "height": 17
        },
        "id": "bf1fUU-iGnHQ",
        "outputId": "9ee39217-0ee3-4bab-f1c7-6d6a43af1a81"
      },
      "outputs": [
        {
          "data": {
            "application/javascript": [
              "\n",
              "    async function download(id, filename, size) {\n",
              "      if (!google.colab.kernel.accessAllowed) {\n",
              "        return;\n",
              "      }\n",
              "      const div = document.createElement('div');\n",
              "      const label = document.createElement('label');\n",
              "      label.textContent = `Downloading \"${filename}\": `;\n",
              "      div.appendChild(label);\n",
              "      const progress = document.createElement('progress');\n",
              "      progress.max = size;\n",
              "      div.appendChild(progress);\n",
              "      document.body.appendChild(div);\n",
              "\n",
              "      const buffers = [];\n",
              "      let downloaded = 0;\n",
              "\n",
              "      const channel = await google.colab.kernel.comms.open(id);\n",
              "      // Send a message to notify the kernel that we're ready.\n",
              "      channel.send({})\n",
              "\n",
              "      for await (const message of channel.messages) {\n",
              "        // Send a message to notify the kernel that we're ready.\n",
              "        channel.send({})\n",
              "        if (message.buffers) {\n",
              "          for (const buffer of message.buffers) {\n",
              "            buffers.push(buffer);\n",
              "            downloaded += buffer.byteLength;\n",
              "            progress.value = downloaded;\n",
              "          }\n",
              "        }\n",
              "      }\n",
              "      const blob = new Blob(buffers, {type: 'application/binary'});\n",
              "      const a = document.createElement('a');\n",
              "      a.href = window.URL.createObjectURL(blob);\n",
              "      a.download = filename;\n",
              "      div.appendChild(a);\n",
              "      a.click();\n",
              "      div.remove();\n",
              "    }\n",
              "  "
            ],
            "text/plain": [
              "<IPython.core.display.Javascript object>"
            ]
          },
          "metadata": {},
          "output_type": "display_data"
        },
        {
          "data": {
            "application/javascript": [
              "download(\"download_68106b97-ab33-4d8b-bd2b-359f66f6b525\", \"estudiantes_ingenieria_limpios.xlsx\", 388302)"
            ],
            "text/plain": [
              "<IPython.core.display.Javascript object>"
            ]
          },
          "metadata": {},
          "output_type": "display_data"
        }
      ],
      "source": [
        "from google.colab import files\n",
        "files.download(nombre_archivo_limpio)"
      ]
    },
    {
      "cell_type": "markdown",
      "metadata": {
        "id": "gP0CnF5SG7hj"
      },
      "source": [
        "**Paso 5: Generación del Archivo Limpio**\n",
        "\n",
        "*   Se revisó el DataFrame final (primeras filas, información general, estadísticas y conteo de NaNs).\n",
        "*   El DataFrame limpio se guardó en el archivo `estudiantes_ingenieria_limpios.xlsx`.\n",
        "*   El archivo `estudiantes_ingenieria_limpios.xlsx` fue descargado a la computadora local.\n",
        "\n"
      ]
    }
  ],
  "metadata": {
    "colab": {
      "provenance": []
    },
    "kernelspec": {
      "display_name": "Python 3",
      "name": "python3"
    },
    "language_info": {
      "name": "python"
    }
  },
  "nbformat": 4,
  "nbformat_minor": 0
}